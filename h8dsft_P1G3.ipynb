{
 "cells": [
  {
   "cell_type": "markdown",
   "metadata": {},
   "source": [
    "# **1. PERKENALAN**"
   ]
  },
  {
   "cell_type": "markdown",
   "metadata": {},
   "source": [
    "Nama    : Al Izhar Iqrami\n",
    "\n",
    "Batch   : 011\n",
    "\n",
    "GC      : 3"
   ]
  },
  {
   "cell_type": "markdown",
   "metadata": {},
   "source": [
    "**QUERY MEMPEROLEH DATASET**"
   ]
  },
  {
   "cell_type": "markdown",
   "metadata": {},
   "source": [
    "----"
   ]
  },
  {
   "cell_type": "markdown",
   "metadata": {},
   "source": [
    "select *\n",
    "\n",
    "from `ftds-hacktiv8-project.phase1_assignments.heart-failure`"
   ]
  },
  {
   "cell_type": "markdown",
   "metadata": {},
   "source": [
    "**GAMBARAN DATASET**"
   ]
  },
  {
   "cell_type": "markdown",
   "metadata": {},
   "source": [
    "----"
   ]
  },
  {
   "cell_type": "markdown",
   "metadata": {},
   "source": [
    "Data yang diolah ialah data terkait penyakit agagal jantung. Adapaun faktor-faktor yang diberikan ialah sebagai berikut\n",
    "\n",
    "`Age` : Usian\n",
    "\n",
    "`Anaemia` : Penurunan sel darah merah atau hemoglobin (1 : ya, 0 : tidak)\n",
    "\n",
    "`Creatinie phosphokinase` : Tingkat enzim CPK dalam darah (mcg/L)\n",
    "\n",
    "`Diabetes` : Pasien penderita diabetes (1 : ya, 0 : tidak)\n",
    "\n",
    "`Ejaction fraction` : Persentase darah yang meninggalkan jantung pada setiap kontraksi (persentase)\n",
    "\n",
    "`High blood pressure` : Pasien Hipertensi (1 : ya, 0 : tidak )\n",
    "\n",
    "`Platelets` : Trombosit dalam darah (kiloplatele/mL)\n",
    "\n",
    "`Serum creatinine` : Kadar kreatinin serum dalam darah (mg/dl)\n",
    "\n",
    "`Serum sodium` : Kadar natrium serum dalam darah (mEq/L)\n",
    "\n",
    "`Sex` : Pria atau wanita (1 : pria, 0 : wanita)\n",
    "\n",
    "`Smoking` : Pasien merokok atau tidak (1 : ya, 0 : tidak)\n",
    "\n",
    "`Time` : Periodik tindak lanjut (hari)\n",
    "\n",
    "`Death Even` : Pasien gagal jantung meninggal selama masa tindak lanjut (1 : ya, 0 : tidak)"
   ]
  },
  {
   "cell_type": "markdown",
   "metadata": {},
   "source": [
    "**PROBLEM**"
   ]
  },
  {
   "cell_type": "markdown",
   "metadata": {},
   "source": [
    "----"
   ]
  },
  {
   "cell_type": "markdown",
   "metadata": {},
   "source": [
    "Buatlah model Classification menggunakan `Random Forest` dan salah satu `algoritma boosting` untuk `memprediksi apakah seorang pasien akan meninggal atau tidak` menggunakan dataset yang sudah Anda dapatkan."
   ]
  },
  {
   "cell_type": "markdown",
   "metadata": {},
   "source": [
    "# **2. IMPORT LIBRARY**"
   ]
  },
  {
   "cell_type": "code",
   "execution_count": 1,
   "metadata": {},
   "outputs": [],
   "source": [
    "import numpy as np\n",
    "import matplotlib.pyplot as plt\n",
    "import pandas as pd\n",
    "import seaborn as sns\n",
    "import pickle \n",
    "import ast\n",
    "\n",
    "from sklearn.pipeline import Pipeline\n",
    "from sklearn.ensemble import RandomForestClassifier, GradientBoostingClassifier, ExtraTreesClassifier\n",
    "from sklearn.model_selection import GridSearchCV\n",
    "from sklearn.compose import ColumnTransformer\n",
    "\n",
    "\n",
    "from sklearn.model_selection import train_test_split\n",
    "from feature_engine.outliers import Winsorizer\n",
    "from sklearn.preprocessing import StandardScaler, MinMaxScaler, StandardScaler\n",
    "from sklearn.metrics import classification_report, confusion_matrix"
   ]
  },
  {
   "cell_type": "markdown",
   "metadata": {},
   "source": [
    "Melakuakn import library yang berguna untuk membatu memecahkan permasalahan yang diperolah pada saat melakuakan analisis data"
   ]
  },
  {
   "cell_type": "markdown",
   "metadata": {},
   "source": [
    "# **3. DATA LOADING**"
   ]
  },
  {
   "cell_type": "code",
   "execution_count": 2,
   "metadata": {},
   "outputs": [
    {
     "data": {
      "text/html": [
       "<div>\n",
       "<style scoped>\n",
       "    .dataframe tbody tr th:only-of-type {\n",
       "        vertical-align: middle;\n",
       "    }\n",
       "\n",
       "    .dataframe tbody tr th {\n",
       "        vertical-align: top;\n",
       "    }\n",
       "\n",
       "    .dataframe thead th {\n",
       "        text-align: right;\n",
       "    }\n",
       "</style>\n",
       "<table border=\"1\" class=\"dataframe\">\n",
       "  <thead>\n",
       "    <tr style=\"text-align: right;\">\n",
       "      <th></th>\n",
       "      <th>age</th>\n",
       "      <th>anaemia</th>\n",
       "      <th>creatinine_phosphokinase</th>\n",
       "      <th>diabetes</th>\n",
       "      <th>ejection_fraction</th>\n",
       "      <th>high_blood_pressure</th>\n",
       "      <th>platelets</th>\n",
       "      <th>serum_creatinine</th>\n",
       "      <th>serum_sodium</th>\n",
       "      <th>sex</th>\n",
       "      <th>smoking</th>\n",
       "      <th>time</th>\n",
       "      <th>DEATH_EVENT</th>\n",
       "    </tr>\n",
       "  </thead>\n",
       "  <tbody>\n",
       "    <tr>\n",
       "      <th>0</th>\n",
       "      <td>42.0</td>\n",
       "      <td>1</td>\n",
       "      <td>250</td>\n",
       "      <td>1</td>\n",
       "      <td>15</td>\n",
       "      <td>0</td>\n",
       "      <td>213000.0</td>\n",
       "      <td>1.3</td>\n",
       "      <td>136</td>\n",
       "      <td>0</td>\n",
       "      <td>0</td>\n",
       "      <td>65</td>\n",
       "      <td>1</td>\n",
       "    </tr>\n",
       "    <tr>\n",
       "      <th>1</th>\n",
       "      <td>46.0</td>\n",
       "      <td>0</td>\n",
       "      <td>168</td>\n",
       "      <td>1</td>\n",
       "      <td>17</td>\n",
       "      <td>1</td>\n",
       "      <td>271000.0</td>\n",
       "      <td>2.1</td>\n",
       "      <td>124</td>\n",
       "      <td>0</td>\n",
       "      <td>0</td>\n",
       "      <td>100</td>\n",
       "      <td>1</td>\n",
       "    </tr>\n",
       "    <tr>\n",
       "      <th>2</th>\n",
       "      <td>65.0</td>\n",
       "      <td>1</td>\n",
       "      <td>160</td>\n",
       "      <td>1</td>\n",
       "      <td>20</td>\n",
       "      <td>0</td>\n",
       "      <td>327000.0</td>\n",
       "      <td>2.7</td>\n",
       "      <td>116</td>\n",
       "      <td>0</td>\n",
       "      <td>0</td>\n",
       "      <td>8</td>\n",
       "      <td>1</td>\n",
       "    </tr>\n",
       "    <tr>\n",
       "      <th>3</th>\n",
       "      <td>53.0</td>\n",
       "      <td>1</td>\n",
       "      <td>91</td>\n",
       "      <td>0</td>\n",
       "      <td>20</td>\n",
       "      <td>1</td>\n",
       "      <td>418000.0</td>\n",
       "      <td>1.4</td>\n",
       "      <td>139</td>\n",
       "      <td>0</td>\n",
       "      <td>0</td>\n",
       "      <td>43</td>\n",
       "      <td>1</td>\n",
       "    </tr>\n",
       "    <tr>\n",
       "      <th>4</th>\n",
       "      <td>50.0</td>\n",
       "      <td>1</td>\n",
       "      <td>582</td>\n",
       "      <td>1</td>\n",
       "      <td>20</td>\n",
       "      <td>1</td>\n",
       "      <td>279000.0</td>\n",
       "      <td>1.0</td>\n",
       "      <td>134</td>\n",
       "      <td>0</td>\n",
       "      <td>0</td>\n",
       "      <td>186</td>\n",
       "      <td>0</td>\n",
       "    </tr>\n",
       "  </tbody>\n",
       "</table>\n",
       "</div>"
      ],
      "text/plain": [
       "    age  anaemia  creatinine_phosphokinase  diabetes  ejection_fraction  \\\n",
       "0  42.0        1                       250         1                 15   \n",
       "1  46.0        0                       168         1                 17   \n",
       "2  65.0        1                       160         1                 20   \n",
       "3  53.0        1                        91         0                 20   \n",
       "4  50.0        1                       582         1                 20   \n",
       "\n",
       "   high_blood_pressure  platelets  serum_creatinine  serum_sodium  sex  \\\n",
       "0                    0   213000.0               1.3           136    0   \n",
       "1                    1   271000.0               2.1           124    0   \n",
       "2                    0   327000.0               2.7           116    0   \n",
       "3                    1   418000.0               1.4           139    0   \n",
       "4                    1   279000.0               1.0           134    0   \n",
       "\n",
       "   smoking  time  DEATH_EVENT  \n",
       "0        0    65            1  \n",
       "1        0   100            1  \n",
       "2        0     8            1  \n",
       "3        0    43            1  \n",
       "4        0   186            0  "
      ]
     },
     "execution_count": 2,
     "metadata": {},
     "output_type": "execute_result"
    }
   ],
   "source": [
    "df = pd.read_csv('heart-failure.csv')\n",
    "df.head()"
   ]
  },
  {
   "cell_type": "code",
   "execution_count": 3,
   "metadata": {},
   "outputs": [
    {
     "data": {
      "text/html": [
       "<div>\n",
       "<style scoped>\n",
       "    .dataframe tbody tr th:only-of-type {\n",
       "        vertical-align: middle;\n",
       "    }\n",
       "\n",
       "    .dataframe tbody tr th {\n",
       "        vertical-align: top;\n",
       "    }\n",
       "\n",
       "    .dataframe thead th {\n",
       "        text-align: right;\n",
       "    }\n",
       "</style>\n",
       "<table border=\"1\" class=\"dataframe\">\n",
       "  <thead>\n",
       "    <tr style=\"text-align: right;\">\n",
       "      <th></th>\n",
       "      <th>age</th>\n",
       "      <th>anaemia</th>\n",
       "      <th>creatinine_phosphokinase</th>\n",
       "      <th>diabetes</th>\n",
       "      <th>ejection_fraction</th>\n",
       "      <th>high_blood_pressure</th>\n",
       "      <th>platelets</th>\n",
       "      <th>serum_creatinine</th>\n",
       "      <th>serum_sodium</th>\n",
       "      <th>sex</th>\n",
       "      <th>smoking</th>\n",
       "      <th>time</th>\n",
       "      <th>DEATH_EVENT</th>\n",
       "    </tr>\n",
       "  </thead>\n",
       "  <tbody>\n",
       "    <tr>\n",
       "      <th>294</th>\n",
       "      <td>63.0</td>\n",
       "      <td>1</td>\n",
       "      <td>122</td>\n",
       "      <td>1</td>\n",
       "      <td>60</td>\n",
       "      <td>0</td>\n",
       "      <td>267000.00</td>\n",
       "      <td>1.2</td>\n",
       "      <td>145</td>\n",
       "      <td>1</td>\n",
       "      <td>0</td>\n",
       "      <td>147</td>\n",
       "      <td>0</td>\n",
       "    </tr>\n",
       "    <tr>\n",
       "      <th>295</th>\n",
       "      <td>45.0</td>\n",
       "      <td>0</td>\n",
       "      <td>308</td>\n",
       "      <td>1</td>\n",
       "      <td>60</td>\n",
       "      <td>1</td>\n",
       "      <td>377000.00</td>\n",
       "      <td>1.0</td>\n",
       "      <td>136</td>\n",
       "      <td>1</td>\n",
       "      <td>0</td>\n",
       "      <td>186</td>\n",
       "      <td>0</td>\n",
       "    </tr>\n",
       "    <tr>\n",
       "      <th>296</th>\n",
       "      <td>70.0</td>\n",
       "      <td>0</td>\n",
       "      <td>97</td>\n",
       "      <td>0</td>\n",
       "      <td>60</td>\n",
       "      <td>1</td>\n",
       "      <td>220000.00</td>\n",
       "      <td>0.9</td>\n",
       "      <td>138</td>\n",
       "      <td>1</td>\n",
       "      <td>0</td>\n",
       "      <td>186</td>\n",
       "      <td>0</td>\n",
       "    </tr>\n",
       "    <tr>\n",
       "      <th>297</th>\n",
       "      <td>53.0</td>\n",
       "      <td>1</td>\n",
       "      <td>446</td>\n",
       "      <td>0</td>\n",
       "      <td>60</td>\n",
       "      <td>1</td>\n",
       "      <td>263358.03</td>\n",
       "      <td>1.0</td>\n",
       "      <td>139</td>\n",
       "      <td>1</td>\n",
       "      <td>0</td>\n",
       "      <td>215</td>\n",
       "      <td>0</td>\n",
       "    </tr>\n",
       "    <tr>\n",
       "      <th>298</th>\n",
       "      <td>50.0</td>\n",
       "      <td>0</td>\n",
       "      <td>582</td>\n",
       "      <td>0</td>\n",
       "      <td>62</td>\n",
       "      <td>1</td>\n",
       "      <td>147000.00</td>\n",
       "      <td>0.8</td>\n",
       "      <td>140</td>\n",
       "      <td>1</td>\n",
       "      <td>1</td>\n",
       "      <td>192</td>\n",
       "      <td>0</td>\n",
       "    </tr>\n",
       "  </tbody>\n",
       "</table>\n",
       "</div>"
      ],
      "text/plain": [
       "      age  anaemia  creatinine_phosphokinase  diabetes  ejection_fraction  \\\n",
       "294  63.0        1                       122         1                 60   \n",
       "295  45.0        0                       308         1                 60   \n",
       "296  70.0        0                        97         0                 60   \n",
       "297  53.0        1                       446         0                 60   \n",
       "298  50.0        0                       582         0                 62   \n",
       "\n",
       "     high_blood_pressure  platelets  serum_creatinine  serum_sodium  sex  \\\n",
       "294                    0  267000.00               1.2           145    1   \n",
       "295                    1  377000.00               1.0           136    1   \n",
       "296                    1  220000.00               0.9           138    1   \n",
       "297                    1  263358.03               1.0           139    1   \n",
       "298                    1  147000.00               0.8           140    1   \n",
       "\n",
       "     smoking  time  DEATH_EVENT  \n",
       "294        0   147            0  \n",
       "295        0   186            0  \n",
       "296        0   186            0  \n",
       "297        0   215            0  \n",
       "298        1   192            0  "
      ]
     },
     "execution_count": 3,
     "metadata": {},
     "output_type": "execute_result"
    }
   ],
   "source": [
    "df.tail()"
   ]
  },
  {
   "cell_type": "markdown",
   "metadata": {},
   "source": [
    "## Check Dataset"
   ]
  },
  {
   "cell_type": "code",
   "execution_count": 4,
   "metadata": {},
   "outputs": [
    {
     "name": "stdout",
     "output_type": "stream",
     "text": [
      "<class 'pandas.core.frame.DataFrame'>\n",
      "RangeIndex: 299 entries, 0 to 298\n",
      "Data columns (total 13 columns):\n",
      " #   Column                    Non-Null Count  Dtype  \n",
      "---  ------                    --------------  -----  \n",
      " 0   age                       299 non-null    float64\n",
      " 1   anaemia                   299 non-null    int64  \n",
      " 2   creatinine_phosphokinase  299 non-null    int64  \n",
      " 3   diabetes                  299 non-null    int64  \n",
      " 4   ejection_fraction         299 non-null    int64  \n",
      " 5   high_blood_pressure       299 non-null    int64  \n",
      " 6   platelets                 299 non-null    float64\n",
      " 7   serum_creatinine          299 non-null    float64\n",
      " 8   serum_sodium              299 non-null    int64  \n",
      " 9   sex                       299 non-null    int64  \n",
      " 10  smoking                   299 non-null    int64  \n",
      " 11  time                      299 non-null    int64  \n",
      " 12  DEATH_EVENT               299 non-null    int64  \n",
      "dtypes: float64(3), int64(10)\n",
      "memory usage: 30.5 KB\n"
     ]
    }
   ],
   "source": [
    "df.info()"
   ]
  },
  {
   "cell_type": "markdown",
   "metadata": {},
   "source": [
    "Terlihat bahwa data yang kita miliki berjumlah 299 baris dan 13 kolom, serta tidak terdapat data yang null"
   ]
  },
  {
   "cell_type": "markdown",
   "metadata": {},
   "source": [
    "## Copy Dataset"
   ]
  },
  {
   "cell_type": "code",
   "execution_count": 5,
   "metadata": {},
   "outputs": [],
   "source": [
    "data = df.copy()"
   ]
  },
  {
   "cell_type": "markdown",
   "metadata": {},
   "source": [
    "Menduplicate data original agar supaya jika terdapat kesalahan pada proses pengolahan data kami dapat dengan mudah memperoleh data original kembali."
   ]
  },
  {
   "cell_type": "markdown",
   "metadata": {},
   "source": [
    "## Check Data Duplicate"
   ]
  },
  {
   "cell_type": "code",
   "execution_count": 6,
   "metadata": {},
   "outputs": [
    {
     "data": {
      "text/plain": [
       "0"
      ]
     },
     "execution_count": 6,
     "metadata": {},
     "output_type": "execute_result"
    }
   ],
   "source": [
    "data.duplicated().sum()"
   ]
  },
  {
   "cell_type": "markdown",
   "metadata": {},
   "source": [
    "Tidak terdapat data yang duplikat pada dataset"
   ]
  },
  {
   "cell_type": "markdown",
   "metadata": {},
   "source": [
    "## Check Missing Value"
   ]
  },
  {
   "cell_type": "code",
   "execution_count": 7,
   "metadata": {},
   "outputs": [
    {
     "data": {
      "text/html": [
       "<div>\n",
       "<style scoped>\n",
       "    .dataframe tbody tr th:only-of-type {\n",
       "        vertical-align: middle;\n",
       "    }\n",
       "\n",
       "    .dataframe tbody tr th {\n",
       "        vertical-align: top;\n",
       "    }\n",
       "\n",
       "    .dataframe thead th {\n",
       "        text-align: right;\n",
       "    }\n",
       "</style>\n",
       "<table border=\"1\" class=\"dataframe\">\n",
       "  <thead>\n",
       "    <tr style=\"text-align: right;\">\n",
       "      <th></th>\n",
       "      <th>No. of missing values</th>\n",
       "      <th>% missing_values</th>\n",
       "    </tr>\n",
       "  </thead>\n",
       "  <tbody>\n",
       "    <tr>\n",
       "      <th>age</th>\n",
       "      <td>0</td>\n",
       "      <td>0.0</td>\n",
       "    </tr>\n",
       "    <tr>\n",
       "      <th>anaemia</th>\n",
       "      <td>0</td>\n",
       "      <td>0.0</td>\n",
       "    </tr>\n",
       "    <tr>\n",
       "      <th>creatinine_phosphokinase</th>\n",
       "      <td>0</td>\n",
       "      <td>0.0</td>\n",
       "    </tr>\n",
       "    <tr>\n",
       "      <th>diabetes</th>\n",
       "      <td>0</td>\n",
       "      <td>0.0</td>\n",
       "    </tr>\n",
       "    <tr>\n",
       "      <th>ejection_fraction</th>\n",
       "      <td>0</td>\n",
       "      <td>0.0</td>\n",
       "    </tr>\n",
       "    <tr>\n",
       "      <th>high_blood_pressure</th>\n",
       "      <td>0</td>\n",
       "      <td>0.0</td>\n",
       "    </tr>\n",
       "    <tr>\n",
       "      <th>platelets</th>\n",
       "      <td>0</td>\n",
       "      <td>0.0</td>\n",
       "    </tr>\n",
       "    <tr>\n",
       "      <th>serum_creatinine</th>\n",
       "      <td>0</td>\n",
       "      <td>0.0</td>\n",
       "    </tr>\n",
       "    <tr>\n",
       "      <th>serum_sodium</th>\n",
       "      <td>0</td>\n",
       "      <td>0.0</td>\n",
       "    </tr>\n",
       "    <tr>\n",
       "      <th>sex</th>\n",
       "      <td>0</td>\n",
       "      <td>0.0</td>\n",
       "    </tr>\n",
       "    <tr>\n",
       "      <th>smoking</th>\n",
       "      <td>0</td>\n",
       "      <td>0.0</td>\n",
       "    </tr>\n",
       "    <tr>\n",
       "      <th>time</th>\n",
       "      <td>0</td>\n",
       "      <td>0.0</td>\n",
       "    </tr>\n",
       "    <tr>\n",
       "      <th>DEATH_EVENT</th>\n",
       "      <td>0</td>\n",
       "      <td>0.0</td>\n",
       "    </tr>\n",
       "  </tbody>\n",
       "</table>\n",
       "</div>"
      ],
      "text/plain": [
       "                          No. of missing values  % missing_values\n",
       "age                                           0               0.0\n",
       "anaemia                                       0               0.0\n",
       "creatinine_phosphokinase                      0               0.0\n",
       "diabetes                                      0               0.0\n",
       "ejection_fraction                             0               0.0\n",
       "high_blood_pressure                           0               0.0\n",
       "platelets                                     0               0.0\n",
       "serum_creatinine                              0               0.0\n",
       "serum_sodium                                  0               0.0\n",
       "sex                                           0               0.0\n",
       "smoking                                       0               0.0\n",
       "time                                          0               0.0\n",
       "DEATH_EVENT                                   0               0.0"
      ]
     },
     "execution_count": 7,
     "metadata": {},
     "output_type": "execute_result"
    }
   ],
   "source": [
    "cek = pd.DataFrame(data.isnull().sum(), columns=['No. of missing values'])\n",
    "cek['% missing_values'] = (cek/len(df)).round(2)*100\n",
    "cek"
   ]
  },
  {
   "cell_type": "markdown",
   "metadata": {},
   "source": [
    "Terlihat bahwa data yang dimiliki telah bersih dari adanya missing value"
   ]
  },
  {
   "cell_type": "markdown",
   "metadata": {},
   "source": [
    "## Check Korelasi "
   ]
  },
  {
   "cell_type": "code",
   "execution_count": 8,
   "metadata": {},
   "outputs": [
    {
     "name": "stdout",
     "output_type": "stream",
     "text": [
      "DEATH_EVENT                 1.000000\n",
      "serum_creatinine            0.294278\n",
      "age                         0.253729\n",
      "high_blood_pressure         0.079351\n",
      "anaemia                     0.066270\n",
      "creatinine_phosphokinase    0.062728\n",
      "diabetes                   -0.001943\n",
      "sex                        -0.004316\n",
      "smoking                    -0.012623\n",
      "platelets                  -0.049139\n",
      "serum_sodium               -0.195204\n",
      "ejection_fraction          -0.268603\n",
      "time                       -0.526964\n",
      "Name: DEATH_EVENT, dtype: float64 \n",
      "\n"
     ]
    }
   ],
   "source": [
    "korelasi = data.corr()\n",
    "print(korelasi['DEATH_EVENT'].sort_values(ascending=False), '\\n')"
   ]
  },
  {
   "cell_type": "markdown",
   "metadata": {},
   "source": [
    "Terdapat beberapa kolom yang memiliki korelasi baik terhadap target yaitu `serum_creatinine`, dan `age`"
   ]
  },
  {
   "cell_type": "markdown",
   "metadata": {},
   "source": [
    "# **4. Exploratory Data Analysis (EDA)**"
   ]
  },
  {
   "cell_type": "markdown",
   "metadata": {},
   "source": [
    "## Visualisasi Death Event (Target)"
   ]
  },
  {
   "cell_type": "code",
   "execution_count": 9,
   "metadata": {},
   "outputs": [
    {
     "data": {
      "text/plain": [
       "Text(0.5, 1.0, 'DEATH EVENT')"
      ]
     },
     "execution_count": 9,
     "metadata": {},
     "output_type": "execute_result"
    },
    {
     "data": {
      "image/png": "[encoded data removed]",
      "text/plain": [
       "<Figure size 864x360 with 2 Axes>"
      ]
     },
     "metadata": {
      "needs_background": "light"
     },
     "output_type": "display_data"
    }
   ],
   "source": [
    "fig, axs = plt.subplots(ncols=2, figsize=(12,5))\n",
    "data['DEATH_EVENT'].value_counts().plot.pie(autopct='%1.1f%%', startangle = 90, ax=axs[0])\n",
    "data['DEATH_EVENT'].value_counts().plot(kind='bar', ax=axs[1])\n",
    "plt.title('DEATH EVENT')"
   ]
  },
  {
   "cell_type": "markdown",
   "metadata": {},
   "source": [
    "Terlihat bahwa data pada kolom Death Event didomonasi oleh label 0 (hidup) dengan persentase 67.9% daripada label 1 (Meninggal) dengan persentase 32.1%"
   ]
  },
  {
   "cell_type": "markdown",
   "metadata": {},
   "source": [
    "## Death Event vs Age"
   ]
  },
  {
   "cell_type": "code",
   "execution_count": 10,
   "metadata": {},
   "outputs": [
    {
     "data": {
      "image/png": "[encoded data removed]",
      "text/plain": [
       "<Figure size 1296x432 with 1 Axes>"
      ]
     },
     "metadata": {
      "needs_background": "light"
     },
     "output_type": "display_data"
    }
   ],
   "source": [
    "bins = [30, 40, 50, 60, 70, 80, 90, 100]\n",
    "plt.figure(figsize=(18, 6))\n",
    "sns.histplot(data=data, x=\"age\", bins=bins, hue=\"DEATH_EVENT\")\n",
    "sns.despine(top=True, right=True)"
   ]
  },
  {
   "cell_type": "markdown",
   "metadata": {},
   "source": [
    "- Terlihat bahwa age lumayan berpengaruh terhadap paseian yang meninggal dengan penyakit jantung. Hal ini dapat dilihat dari rentang usia 80 - 90 tahuan yang memiliki peluang meninggal lebih besar dibandingkan dengan rentang usia yang 70 tahun kebawah.\n",
    "\n",
    "- Pasien dengan penyakit jantung yang meninggal tertinggi berada pada usia 60 - 70 tahun. Hal ini tentunya memberi informasi kepada kita bahwa sangat sedikit jumlah pasien yang melewati usia 70 tahun keatas. Sehingga kasus kematian terbanyak berada pada rentang usia tersebut."
   ]
  },
  {
   "cell_type": "markdown",
   "metadata": {},
   "source": [
    "## Death Event vs Anaemia"
   ]
  },
  {
   "cell_type": "code",
   "execution_count": 11,
   "metadata": {},
   "outputs": [
    {
     "data": {
      "image/png": "[encoded data removed]",
      "text/plain": [
       "<Figure size 864x360 with 1 Axes>"
      ]
     },
     "metadata": {
      "needs_background": "light"
     },
     "output_type": "display_data"
    }
   ],
   "source": [
    "pd.crosstab(data.anaemia, data.DEATH_EVENT).plot(kind=\"bar\",figsize=(12,5),color=[\"#F3AB60\",'#AA1190'])\n",
    "plt.title('Perbandingan Death Event dan Age')\n",
    "plt.xlabel('Anaemia')\n",
    "plt.xticks(rotation = 0)\n",
    "plt.ylabel('Frequency Death')\n",
    "plt.show()"
   ]
  },
  {
   "cell_type": "markdown",
   "metadata": {},
   "source": [
    "Pasien tanpa gejala anemia lebih banyak yang mengalami kematian dengan penyakit jantung dibandingkan yang memiliki gejala anemia. Sehingga berdasarkan pengamatan ini dapat dikatakan bahwa anemia tidaklah berpengaruh terhadap penyakit jantung"
   ]
  },
  {
   "cell_type": "markdown",
   "metadata": {},
   "source": [
    "## Death Event vs Diabetets"
   ]
  },
  {
   "cell_type": "code",
   "execution_count": 12,
   "metadata": {},
   "outputs": [
    {
     "data": {
      "image/png": "[encoded data removed]",
      "text/plain": [
       "<Figure size 864x360 with 1 Axes>"
      ]
     },
     "metadata": {
      "needs_background": "light"
     },
     "output_type": "display_data"
    }
   ],
   "source": [
    "pd.crosstab(data.diabetes, data.DEATH_EVENT).plot(kind=\"bar\",figsize=(12,5),color=[\"#F3AB60\",'#AA1190'])\n",
    "plt.title('Perbandingan Death Event dan Diabetes')\n",
    "plt.xlabel('Diabetes')\n",
    "plt.xticks(rotation = 0)\n",
    "plt.ylabel('Frequency Diabetes')\n",
    "plt.show()"
   ]
  },
  {
   "cell_type": "markdown",
   "metadata": {},
   "source": [
    "Berdasarkan visualisasi diatas, terlihat bahwa seseorang yang tidak mengalami gejala diabetes lebih banyak yang terserang penyakit jantung dibandingkan dengan yang memiliki gejala diabetes. Sehingga dapat dikatakan bahwa penyakit diabetes tidaklah berpengaruh terhadap penyakit jantung."
   ]
  },
  {
   "cell_type": "markdown",
   "metadata": {},
   "source": [
    "## Death Even vs High Blood Pressure"
   ]
  },
  {
   "cell_type": "code",
   "execution_count": 13,
   "metadata": {},
   "outputs": [
    {
     "data": {
      "image/png": "[encoded data removed]",
      "text/plain": [
       "<Figure size 864x360 with 1 Axes>"
      ]
     },
     "metadata": {
      "needs_background": "light"
     },
     "output_type": "display_data"
    }
   ],
   "source": [
    "pd.crosstab(data.high_blood_pressure, data.DEATH_EVENT).plot(kind=\"bar\",figsize=(12,5),color=[\"#F3AB60\",'#AA1190'])\n",
    "plt.title('Perbandingan High Blood Pressure vs Death Even')\n",
    "plt.xlabel('High Blood Preasure')\n",
    "plt.xticks(rotation = 0)\n",
    "plt.ylabel('Frequency Blood Pressure')\n",
    "plt.show()"
   ]
  },
  {
   "cell_type": "markdown",
   "metadata": {},
   "source": [
    "Pasien yang tidak memiliki tekanan darah lebih banyak mengalami penyakit jantung dibandingkan dengan yang mengalami tekanan darah. Dengan demikian dapat dikatakan bahwa tekanan darah tidaklah memiliki pengaruh terhadap penyakit jantung."
   ]
  },
  {
   "cell_type": "markdown",
   "metadata": {},
   "source": [
    "## Death Even vs Sex (Gender)"
   ]
  },
  {
   "cell_type": "code",
   "execution_count": 14,
   "metadata": {},
   "outputs": [
    {
     "data": {
      "image/png": "[encoded data removed]",
      "text/plain": [
       "<Figure size 864x360 with 1 Axes>"
      ]
     },
     "metadata": {
      "needs_background": "light"
     },
     "output_type": "display_data"
    }
   ],
   "source": [
    "pd.crosstab(data.sex, data.DEATH_EVENT).plot(kind=\"bar\",figsize=(12,5),color=[\"#F3AB60\",'#AA1190'])\n",
    "plt.title('Perbandingan Death Even vs Sex')\n",
    "plt.xlabel('Sex/Gender')\n",
    "plt.xticks(rotation = 0)\n",
    "plt.ylabel('Frequency Sex/Gender')\n",
    "plt.show()"
   ]
  },
  {
   "cell_type": "markdown",
   "metadata": {},
   "source": [
    "Terlihat bahwa kebanyakan pasien penderita penyakit jantung ialah pria dibandingkan dengan wanita. Tentunya berdasarkan informasi ini saya sebagai analis memiliki pertanyaan mengapa demikian? dugaan saya sementara saat ini ialah mungkin disebabkan kebanyakan pria adalah perokok dibanding dengan wanita. Tentu ini hanya sebatas dugaan belaka, perlu dilakukan penelitian lebih lanjut lagi.\n",
    "\n",
    "Berdasarkan fenomena ini, maka saya memiliki asusmi bahwa jender mempengaruhi penyakit jantung."
   ]
  },
  {
   "cell_type": "markdown",
   "metadata": {},
   "source": [
    "## Death Event vs Smoking"
   ]
  },
  {
   "cell_type": "code",
   "execution_count": 15,
   "metadata": {},
   "outputs": [
    {
     "data": {
      "image/png": "[encoded data removed]",
      "text/plain": [
       "<Figure size 864x360 with 1 Axes>"
      ]
     },
     "metadata": {
      "needs_background": "light"
     },
     "output_type": "display_data"
    }
   ],
   "source": [
    "pd.crosstab(data.smoking, data.DEATH_EVENT).plot(kind=\"bar\",figsize=(12,5),color=[\"#F3AB60\",'#AA1190'])\n",
    "plt.title('Perbandingan Death Even vs Smoking')\n",
    "plt.xlabel('Smoking')\n",
    "plt.xticks(rotation = 0)\n",
    "plt.ylabel('Frequency Smoking')\n",
    "plt.show()"
   ]
  },
  {
   "cell_type": "markdown",
   "metadata": {},
   "source": [
    "Terlihat bahwa penyakit jantung di dominasi oleh yang bukan perokok. Fenomena ini tentunya membantah asumsi kita sebelumnya, bahwa pria perokok adalah penyebab penyakit jantung. Namun grafik ini meberikan asumsi tersebut. Tentunya ini perlu analisa lebih lanjut untuk mengetahui mengapa pria lebih banyak terkena penyakit jantung dibandingkan wanita. "
   ]
  },
  {
   "cell_type": "markdown",
   "metadata": {},
   "source": [
    "## Death Event vs Cretinie Phospokinase"
   ]
  },
  {
   "cell_type": "code",
   "execution_count": 16,
   "metadata": {},
   "outputs": [
    {
     "data": {
      "image/png": "[encoded data removed]",
      "text/plain": [
       "<Figure size 1296x432 with 1 Axes>"
      ]
     },
     "metadata": {
      "needs_background": "light"
     },
     "output_type": "display_data"
    }
   ],
   "source": [
    "bins = [20,40,60,80,100,120,140,160,180,200,220,240,260,280,300,320,340,360,380,400]\n",
    "plt.figure(figsize=(18, 6))\n",
    "sns.histplot(data=data, x=\"creatinine_phosphokinase\", bins=bins, hue=\"DEATH_EVENT\")\n",
    "sns.despine(top=True, right=True)"
   ]
  },
  {
   "cell_type": "markdown",
   "metadata": {},
   "source": [
    "Visualisasi diatas memperlikatkan informasi yang cukup menarik. Jika diperharikan creatinie phospokinase dengan nilai lebih kurang 200 serta lebih kurang 350, tidak terdapat pasien dengan penyakit jantung. Sehingga dapat dikatakan bahwa creatinie mempengaruhi penyakit jantung. "
   ]
  },
  {
   "cell_type": "markdown",
   "metadata": {},
   "source": [
    "# **5. DATA PREPROCESSING**"
   ]
  },
  {
   "cell_type": "markdown",
   "metadata": {},
   "source": [
    "## Data Inference"
   ]
  },
  {
   "cell_type": "code",
   "execution_count": 17,
   "metadata": {},
   "outputs": [],
   "source": [
    "data_inf = data.sample(10, random_state=12)"
   ]
  },
  {
   "cell_type": "markdown",
   "metadata": {},
   "source": [
    "## Pisahkan Data Inference dari Dataset"
   ]
  },
  {
   "cell_type": "code",
   "execution_count": 18,
   "metadata": {},
   "outputs": [],
   "source": [
    "data_train_test = data.drop(data_inf.index)"
   ]
  },
  {
   "cell_type": "markdown",
   "metadata": {},
   "source": [
    "## Reset Index (Optional)"
   ]
  },
  {
   "cell_type": "code",
   "execution_count": 19,
   "metadata": {},
   "outputs": [],
   "source": [
    "data_inf.reset_index(drop=True, inplace=True)\n",
    "data_train_test.reset_index(drop=True, inplace=True)"
   ]
  },
  {
   "cell_type": "markdown",
   "metadata": {},
   "source": [
    "## Split Dataset"
   ]
  },
  {
   "cell_type": "markdown",
   "metadata": {},
   "source": [
    "> Split `X` (features) dan `y` (target)"
   ]
  },
  {
   "cell_type": "code",
   "execution_count": 20,
   "metadata": {},
   "outputs": [],
   "source": [
    "X = data.drop('DEATH_EVENT', axis=1)\n",
    "y = data.DEATH_EVENT"
   ]
  },
  {
   "cell_type": "markdown",
   "metadata": {},
   "source": [
    "> Split `traon_set` dan `test-set`"
   ]
  },
  {
   "cell_type": "code",
   "execution_count": 21,
   "metadata": {},
   "outputs": [
    {
     "name": "stdout",
     "output_type": "stream",
     "text": [
      "X_train shape: (239, 12)\n",
      "X_test shape : (60, 12)\n"
     ]
    }
   ],
   "source": [
    "X_train, X_test, y_train, y_test = train_test_split(X, y, stratify = y,test_size=0.2, random_state=17)   # (nilai random_state ini tidak memiliki hubungan dengan random_state di awal)\n",
    "\n",
    "print(\"X_train shape:\",X_train.shape)\n",
    "print(\"X_test shape :\",X_test.shape)"
   ]
  },
  {
   "cell_type": "markdown",
   "metadata": {},
   "source": [
    "## Handling Outlier"
   ]
  },
  {
   "cell_type": "markdown",
   "metadata": {},
   "source": [
    "X_train"
   ]
  },
  {
   "cell_type": "code",
   "execution_count": 22,
   "metadata": {},
   "outputs": [
    {
     "name": "stdout",
     "output_type": "stream",
     "text": [
      "Column age outliers = 0.00%\n",
      "Column anaemia outliers = 0.00%\n",
      "Column creatinine_phosphokinase outliers = 8.79%\n",
      "Column diabetes outliers = 0.00%\n",
      "Column ejection_fraction outliers = 1.67%\n",
      "Column high_blood_pressure outliers = 0.00%\n",
      "Column platelets outliers = 5.86%\n",
      "Column serum_creatinine outliers = 9.21%\n",
      "Column serum_sodium outliers = 2.93%\n",
      "Column sex outliers = 0.00%\n",
      "Column smoking outliers = 0.00%\n",
      "Column time outliers = 0.00%\n"
     ]
    }
   ],
   "source": [
    "num_train = X_train._get_numeric_data() \n",
    "for k, v in num_train.items():\n",
    "  q1 = v.quantile(0.25)\n",
    "  q3 = v.quantile(0.75)\n",
    "  irq = q3 - q1\n",
    "  v_col = v[(v <= q1 - 1.5 * irq) | (v >= q3 + 1.5 * irq)]\n",
    "  perc = np.shape(v_col)[0] * 100.0 / np.shape(num_train)[0]\n",
    "  print(\"Column %s outliers = %.2f%%\" % (k, perc))"
   ]
  },
  {
   "cell_type": "markdown",
   "metadata": {},
   "source": [
    "Capping"
   ]
  },
  {
   "cell_type": "code",
   "execution_count": 23,
   "metadata": {},
   "outputs": [],
   "source": [
    "windsoriser = Winsorizer(capping_method='iqr', # choose iqr for IQR rule boundaries or gaussian for mean and std\n",
    "                          tail='both', # cap left, right or both tails \n",
    "                          fold=1.5,\n",
    "                          variables=['creatinine_phosphokinase','ejection_fraction','platelets','serum_creatinine','serum_sodium'])\n",
    "\n",
    "windsoriser.fit(X_test)\n",
    "\n",
    "X_test_t = windsoriser.transform(X_test)"
   ]
  },
  {
   "cell_type": "markdown",
   "metadata": {},
   "source": [
    "## Handling Missing Value"
   ]
  },
  {
   "cell_type": "code",
   "execution_count": 24,
   "metadata": {},
   "outputs": [
    {
     "data": {
      "text/html": [
       "<div>\n",
       "<style scoped>\n",
       "    .dataframe tbody tr th:only-of-type {\n",
       "        vertical-align: middle;\n",
       "    }\n",
       "\n",
       "    .dataframe tbody tr th {\n",
       "        vertical-align: top;\n",
       "    }\n",
       "\n",
       "    .dataframe thead th {\n",
       "        text-align: right;\n",
       "    }\n",
       "</style>\n",
       "<table border=\"1\" class=\"dataframe\">\n",
       "  <thead>\n",
       "    <tr style=\"text-align: right;\">\n",
       "      <th></th>\n",
       "      <th>No. of missing values</th>\n",
       "      <th>% missing_values</th>\n",
       "    </tr>\n",
       "  </thead>\n",
       "  <tbody>\n",
       "    <tr>\n",
       "      <th>age</th>\n",
       "      <td>0</td>\n",
       "      <td>0.0</td>\n",
       "    </tr>\n",
       "    <tr>\n",
       "      <th>anaemia</th>\n",
       "      <td>0</td>\n",
       "      <td>0.0</td>\n",
       "    </tr>\n",
       "    <tr>\n",
       "      <th>creatinine_phosphokinase</th>\n",
       "      <td>0</td>\n",
       "      <td>0.0</td>\n",
       "    </tr>\n",
       "    <tr>\n",
       "      <th>diabetes</th>\n",
       "      <td>0</td>\n",
       "      <td>0.0</td>\n",
       "    </tr>\n",
       "    <tr>\n",
       "      <th>ejection_fraction</th>\n",
       "      <td>0</td>\n",
       "      <td>0.0</td>\n",
       "    </tr>\n",
       "    <tr>\n",
       "      <th>high_blood_pressure</th>\n",
       "      <td>0</td>\n",
       "      <td>0.0</td>\n",
       "    </tr>\n",
       "    <tr>\n",
       "      <th>platelets</th>\n",
       "      <td>0</td>\n",
       "      <td>0.0</td>\n",
       "    </tr>\n",
       "    <tr>\n",
       "      <th>serum_creatinine</th>\n",
       "      <td>0</td>\n",
       "      <td>0.0</td>\n",
       "    </tr>\n",
       "    <tr>\n",
       "      <th>serum_sodium</th>\n",
       "      <td>0</td>\n",
       "      <td>0.0</td>\n",
       "    </tr>\n",
       "    <tr>\n",
       "      <th>sex</th>\n",
       "      <td>0</td>\n",
       "      <td>0.0</td>\n",
       "    </tr>\n",
       "    <tr>\n",
       "      <th>smoking</th>\n",
       "      <td>0</td>\n",
       "      <td>0.0</td>\n",
       "    </tr>\n",
       "    <tr>\n",
       "      <th>time</th>\n",
       "      <td>0</td>\n",
       "      <td>0.0</td>\n",
       "    </tr>\n",
       "  </tbody>\n",
       "</table>\n",
       "</div>"
      ],
      "text/plain": [
       "                          No. of missing values  % missing_values\n",
       "age                                           0               0.0\n",
       "anaemia                                       0               0.0\n",
       "creatinine_phosphokinase                      0               0.0\n",
       "diabetes                                      0               0.0\n",
       "ejection_fraction                             0               0.0\n",
       "high_blood_pressure                           0               0.0\n",
       "platelets                                     0               0.0\n",
       "serum_creatinine                              0               0.0\n",
       "serum_sodium                                  0               0.0\n",
       "sex                                           0               0.0\n",
       "smoking                                       0               0.0\n",
       "time                                          0               0.0"
      ]
     },
     "execution_count": 24,
     "metadata": {},
     "output_type": "execute_result"
    }
   ],
   "source": [
    "mv_xtrain = pd.DataFrame(X_train.isnull().sum(), columns=['No. of missing values'])\n",
    "mv_xtrain['% missing_values'] = (mv_xtrain/len(X_train)).round(2)*100\n",
    "mv_xtrain"
   ]
  },
  {
   "cell_type": "markdown",
   "metadata": {},
   "source": [
    "Terlihat bahwa data telah bersih dari adanya missing value"
   ]
  },
  {
   "cell_type": "markdown",
   "metadata": {},
   "source": [
    "## Feature Selection"
   ]
  },
  {
   "cell_type": "markdown",
   "metadata": {},
   "source": [
    "Cek Korelasi Columns"
   ]
  },
  {
   "cell_type": "code",
   "execution_count": 25,
   "metadata": {},
   "outputs": [
    {
     "name": "stdout",
     "output_type": "stream",
     "text": [
      "DEATH_EVENT                 1.000000\n",
      "serum_creatinine            0.294278\n",
      "age                         0.253729\n",
      "high_blood_pressure         0.079351\n",
      "anaemia                     0.066270\n",
      "creatinine_phosphokinase    0.062728\n",
      "diabetes                   -0.001943\n",
      "sex                        -0.004316\n",
      "smoking                    -0.012623\n",
      "platelets                  -0.049139\n",
      "serum_sodium               -0.195204\n",
      "ejection_fraction          -0.268603\n",
      "time                       -0.526964\n",
      "Name: DEATH_EVENT, dtype: float64 \n",
      "\n"
     ]
    }
   ],
   "source": [
    "korelasi = data.corr()\n",
    "print(korelasi['DEATH_EVENT'].sort_values(ascending=False), '\\n')"
   ]
  },
  {
   "cell_type": "code",
   "execution_count": 26,
   "metadata": {},
   "outputs": [
    {
     "data": {
      "image/png": "[encoded data removed]",
      "text/plain": [
       "<Figure size 720x360 with 1 Axes>"
      ]
     },
     "metadata": {
      "needs_background": "light"
     },
     "output_type": "display_data"
    }
   ],
   "source": [
    "# feature extraction\n",
    "model = ExtraTreesClassifier(n_estimators=400)\n",
    "model.fit(X, y)\n",
    "\n",
    "# feature_importances_ dari highest ke lowest\n",
    "sorted_idx = np.argsort(model.feature_importances_)\n",
    "sorted_idx = sorted_idx[::-1]\n",
    "\n",
    "# plot feature importances\n",
    "plt.figure(figsize=(10,5))\n",
    "plt.title(\"Pengaruh Terhadap Fitur Target\")\n",
    "plt.bar(range(X.shape[1]), model.feature_importances_[sorted_idx],\n",
    "        color=\"b\", align=\"center\")\n",
    "plt.xticks(range(X.shape[1]), X.columns[sorted_idx], rotation=90)\n",
    "plt.xlim([-1, X.shape[1]])\n",
    "plt.show()"
   ]
  },
  {
   "cell_type": "markdown",
   "metadata": {},
   "source": [
    "Berdasarkan proses EDA, analisis Heatmap, dan melihat fitur terpenting, kami memutuskan untuk memilik kolom beriku :\n",
    "- age\n",
    "- creatine phospokinase\n",
    "- ejection fraction\n",
    "- platelets\n",
    "- serum_creatinine\n",
    "- serum_sodium"
   ]
  },
  {
   "cell_type": "code",
   "execution_count": 27,
   "metadata": {},
   "outputs": [],
   "source": [
    "X_train = X_train.loc[:, ['age','creatinine_phosphokinase','ejection_fraction','platelets','serum_creatinine','serum_sodium']]\n",
    "X_test = X_test.loc[:, ['age','creatinine_phosphokinase','ejection_fraction','platelets','serum_creatinine','serum_sodium']]"
   ]
  },
  {
   "cell_type": "markdown",
   "metadata": {},
   "source": [
    "## Feature Scaling"
   ]
  },
  {
   "cell_type": "markdown",
   "metadata": {},
   "source": [
    "Saya hanya menggunakan feature scaling karena data yang saya pilih berpengaruh terhadap target hanyalah data yang numeric"
   ]
  },
  {
   "cell_type": "code",
   "execution_count": 28,
   "metadata": {},
   "outputs": [
    {
     "data": {
      "text/plain": [
       "age                         0.461221\n",
       "creatinine_phosphokinase    4.572673\n",
       "ejection_fraction           0.647752\n",
       "platelets                   1.770096\n",
       "serum_creatinine            4.461320\n",
       "serum_sodium               -1.148646\n",
       "dtype: float64"
      ]
     },
     "execution_count": 28,
     "metadata": {},
     "output_type": "execute_result"
    }
   ],
   "source": [
    "X_train.skew()"
   ]
  },
  {
   "cell_type": "code",
   "execution_count": 29,
   "metadata": {},
   "outputs": [],
   "source": [
    "scaler1_std = ['age']       # data normal\n",
    "scaler2_minmax = ['creatinine_phosphokinase','ejection_fraction','platelets','serum_creatinine','serum_sodium'] # data skew"
   ]
  },
  {
   "cell_type": "code",
   "execution_count": 30,
   "metadata": {},
   "outputs": [
    {
     "data": {
      "text/plain": [
       "['age',\n",
       " 'creatinine_phosphokinase',\n",
       " 'ejection_fraction',\n",
       " 'platelets',\n",
       " 'serum_creatinine',\n",
       " 'serum_sodium']"
      ]
     },
     "execution_count": 30,
     "metadata": {},
     "output_type": "execute_result"
    }
   ],
   "source": [
    "# Menggabungkan kembali data yang telah dipisahkan\n",
    "marge = scaler1_std + scaler2_minmax\n",
    "marge"
   ]
  },
  {
   "cell_type": "code",
   "execution_count": 31,
   "metadata": {},
   "outputs": [],
   "source": [
    "# Normalaize\n",
    "ft = ColumnTransformer([\n",
    "    ('std',StandardScaler(), scaler1_std),              # untuk data normal\n",
    "    ('minmax',MinMaxScaler(), scaler2_minmax)])         # untuk data skew"
   ]
  },
  {
   "cell_type": "code",
   "execution_count": 32,
   "metadata": {},
   "outputs": [],
   "source": [
    "# Membungkus kebali datanya kedalam X_train dan X_test\n",
    "X_train = X_train[marge]\n",
    "X_test = X_test[marge]"
   ]
  },
  {
   "cell_type": "markdown",
   "metadata": {},
   "source": [
    "# **7. PIPELINE & HYPERPARAMETER TUNING**"
   ]
  },
  {
   "cell_type": "code",
   "execution_count": 33,
   "metadata": {},
   "outputs": [],
   "source": [
    "# PIPELINE\n",
    "pipeline_rf = Pipeline([\n",
    "    ('prep',ft),\n",
    "    ('classifier', RandomForestClassifier())])\n",
    "\n",
    "Pipeline_gbc = Pipeline([\n",
    "    ('prep',ft),\n",
    "    ('classifier', GradientBoostingClassifier())])\n",
    "\n",
    "# HYPERPARAMETER TUNING\n",
    "\n",
    "param_rf = {'classifier__max_depth': [10, 50, 100],\n",
    "            'classifier__max_features': [2, 3],\n",
    "            'classifier__min_samples_leaf': [3, 4, 5],\n",
    "            'classifier__min_samples_split': [8, 10, 12],\n",
    "            'classifier__n_estimators': [100, 200, 300]\n",
    "            }\n",
    "\n",
    "param_gbC = {'classifier__learning_rate':[0.1,0.01,0.001],\n",
    "            'classifier__min_samples_split': [50, 100, 200],\n",
    "            'classifier__min_samples_leaf': [3, 4, 5],\n",
    "            'classifier__max_depth': [8, 10, 12],\n",
    "            'classifier__max_features': [2, 3],\n",
    "            'classifier__n_estimators':np.arange(100, 501, 100)\n",
    "            }"
   ]
  },
  {
   "cell_type": "markdown",
   "metadata": {},
   "source": [
    "# **8. MODEL TRAINIANG**"
   ]
  },
  {
   "cell_type": "markdown",
   "metadata": {},
   "source": [
    "## Random Forest"
   ]
  },
  {
   "cell_type": "code",
   "execution_count": 34,
   "metadata": {},
   "outputs": [],
   "source": [
    "model_rf = pipeline_rf.fit(X_train, y_train)       # Model Training"
   ]
  },
  {
   "cell_type": "markdown",
   "metadata": {},
   "source": [
    "## XGboost"
   ]
  },
  {
   "cell_type": "code",
   "execution_count": 35,
   "metadata": {},
   "outputs": [],
   "source": [
    "model_xgb = Pipeline_gbc.fit(X_train, y_train)"
   ]
  },
  {
   "cell_type": "markdown",
   "metadata": {},
   "source": [
    "# **9. MODEL EVALUATION**"
   ]
  },
  {
   "cell_type": "markdown",
   "metadata": {},
   "source": [
    "## SEBELUM PROSES TUNING"
   ]
  },
  {
   "cell_type": "markdown",
   "metadata": {},
   "source": [
    "## Random Forest"
   ]
  },
  {
   "cell_type": "code",
   "execution_count": 36,
   "metadata": {},
   "outputs": [],
   "source": [
    "y_pred_train_rf = model_rf.predict(X_train)\n",
    "y_pred_test_rf = model_rf.predict(X_test)"
   ]
  },
  {
   "cell_type": "code",
   "execution_count": 37,
   "metadata": {},
   "outputs": [
    {
     "name": "stdout",
     "output_type": "stream",
     "text": [
      "Clasification Report Train\n",
      "              precision    recall  f1-score   support\n",
      "\n",
      "           0       1.00      1.00      1.00       162\n",
      "           1       1.00      1.00      1.00        77\n",
      "\n",
      "    accuracy                           1.00       239\n",
      "   macro avg       1.00      1.00      1.00       239\n",
      "weighted avg       1.00      1.00      1.00       239\n",
      "\n",
      "Clasification Report Test\n",
      "              precision    recall  f1-score   support\n",
      "\n",
      "           0       0.77      0.90      0.83        41\n",
      "           1       0.67      0.42      0.52        19\n",
      "\n",
      "    accuracy                           0.75        60\n",
      "   macro avg       0.72      0.66      0.67        60\n",
      "weighted avg       0.74      0.75      0.73        60\n",
      "\n"
     ]
    }
   ],
   "source": [
    "print('Clasification Report Train')\n",
    "print(classification_report(y_train, y_pred_train_rf))\n",
    "\n",
    "print('Clasification Report Test')\n",
    "print(classification_report(y_test, y_pred_test_rf))\n"
   ]
  },
  {
   "cell_type": "code",
   "execution_count": 38,
   "metadata": {},
   "outputs": [
    {
     "name": "stdout",
     "output_type": "stream",
     "text": [
      "Confusion Matrix Train\n"
     ]
    },
    {
     "data": {
      "text/plain": [
       "<AxesSubplot:>"
      ]
     },
     "execution_count": 38,
     "metadata": {},
     "output_type": "execute_result"
    },
    {
     "data": {
      "image/png": "[encoded data removed]",
      "text/plain": [
       "<Figure size 432x288 with 2 Axes>"
      ]
     },
     "metadata": {
      "needs_background": "light"
     },
     "output_type": "display_data"
    }
   ],
   "source": [
    "print('Confusion Matrix Train')\n",
    "matrix_train_rf = confusion_matrix(y_train, y_pred_train_rf)\n",
    "sns.heatmap(matrix_train_rf, annot=True, cmap='Blues', fmt='g')"
   ]
  },
  {
   "cell_type": "code",
   "execution_count": 39,
   "metadata": {},
   "outputs": [
    {
     "name": "stdout",
     "output_type": "stream",
     "text": [
      "Confusion Matrix Test\n"
     ]
    },
    {
     "data": {
      "text/plain": [
       "<AxesSubplot:>"
      ]
     },
     "execution_count": 39,
     "metadata": {},
     "output_type": "execute_result"
    },
    {
     "data": {
      "image/png": "[encoded data removed]",
      "text/plain": [
       "<Figure size 432x288 with 2 Axes>"
      ]
     },
     "metadata": {
      "needs_background": "light"
     },
     "output_type": "display_data"
    }
   ],
   "source": [
    "print('Confusion Matrix Test')\n",
    "matrix_test_rf = confusion_matrix(y_test, y_pred_test_rf)\n",
    "sns.heatmap(matrix_test_rf, annot=True, cmap='Blues', fmt='g')"
   ]
  },
  {
   "cell_type": "markdown",
   "metadata": {},
   "source": [
    "Terlihat bahwa pada model Random Forest terjadi overfitting, dimana pada saat train model berhasil memprediksi dengan sempurna, namun pada saat diberikan data test model kurang berhasil memprediksi dengan benar"
   ]
  },
  {
   "cell_type": "markdown",
   "metadata": {},
   "source": [
    "> ## XGboost"
   ]
  },
  {
   "cell_type": "code",
   "execution_count": 40,
   "metadata": {},
   "outputs": [],
   "source": [
    "y_pred_train_xgb = model_xgb.predict(X_train)\n",
    "y_pred_test_xgb = model_xgb.predict(X_test)"
   ]
  },
  {
   "cell_type": "code",
   "execution_count": 41,
   "metadata": {},
   "outputs": [
    {
     "name": "stdout",
     "output_type": "stream",
     "text": [
      "Clasification Report Train\n",
      "              precision    recall  f1-score   support\n",
      "\n",
      "           0       0.96      0.99      0.98       162\n",
      "           1       0.99      0.92      0.95        77\n",
      "\n",
      "    accuracy                           0.97       239\n",
      "   macro avg       0.98      0.96      0.97       239\n",
      "weighted avg       0.97      0.97      0.97       239\n",
      "\n",
      "Clasification Report Test\n",
      "              precision    recall  f1-score   support\n",
      "\n",
      "           0       0.74      0.83      0.78        41\n",
      "           1       0.50      0.37      0.42        19\n",
      "\n",
      "    accuracy                           0.68        60\n",
      "   macro avg       0.62      0.60      0.60        60\n",
      "weighted avg       0.66      0.68      0.67        60\n",
      "\n"
     ]
    }
   ],
   "source": [
    "print('Clasification Report Train')\n",
    "print(classification_report(y_train, y_pred_train_xgb))\n",
    "\n",
    "print('Clasification Report Test')\n",
    "print(classification_report(y_test, y_pred_test_xgb))\n"
   ]
  },
  {
   "cell_type": "code",
   "execution_count": 42,
   "metadata": {},
   "outputs": [
    {
     "name": "stdout",
     "output_type": "stream",
     "text": [
      "Confusion Matrix Train\n"
     ]
    },
    {
     "data": {
      "text/plain": [
       "<AxesSubplot:>"
      ]
     },
     "execution_count": 42,
     "metadata": {},
     "output_type": "execute_result"
    },
    {
     "data": {
      "image/png": "[encoded data removed]",
      "text/plain": [
       "<Figure size 432x288 with 2 Axes>"
      ]
     },
     "metadata": {
      "needs_background": "light"
     },
     "output_type": "display_data"
    }
   ],
   "source": [
    "print('Confusion Matrix Train')\n",
    "matrix_train_xgb = confusion_matrix(y_train, y_pred_train_xgb)\n",
    "sns.heatmap(matrix_train_xgb, annot=True, cmap='Blues', fmt='g')"
   ]
  },
  {
   "cell_type": "code",
   "execution_count": 43,
   "metadata": {},
   "outputs": [
    {
     "name": "stdout",
     "output_type": "stream",
     "text": [
      "Confusion Matrix Test\n"
     ]
    },
    {
     "data": {
      "text/plain": [
       "<AxesSubplot:>"
      ]
     },
     "execution_count": 43,
     "metadata": {},
     "output_type": "execute_result"
    },
    {
     "data": {
      "image/png": "[encoded data removed]",
      "text/plain": [
       "<Figure size 432x288 with 2 Axes>"
      ]
     },
     "metadata": {
      "needs_background": "light"
     },
     "output_type": "display_data"
    }
   ],
   "source": [
    "print('Confusion Matrix Test')\n",
    "matrix_test_xgb = confusion_matrix(y_test, y_pred_test_xgb)\n",
    "sns.heatmap(matrix_test_xgb, annot=True, cmap='Blues', fmt='g')"
   ]
  },
  {
   "cell_type": "markdown",
   "metadata": {},
   "source": [
    "## SETELAH PROSES TUNING"
   ]
  },
  {
   "cell_type": "markdown",
   "metadata": {},
   "source": [
    "## Random Forest"
   ]
  },
  {
   "cell_type": "code",
   "execution_count": 44,
   "metadata": {},
   "outputs": [],
   "source": [
    "from sklearn.model_selection import GridSearchCV\n",
    "grid_rf = GridSearchCV(pipeline_rf, param_rf, cv=5)\n",
    "\n",
    "model_terbaik_grid_rf = grid_rf.fit(X_train,y_train)\n",
    "estimator_terbaik_grid_rf = grid_rf.best_estimator_"
   ]
  },
  {
   "cell_type": "code",
   "execution_count": 45,
   "metadata": {},
   "outputs": [
    {
     "name": "stdout",
     "output_type": "stream",
     "text": [
      "Parameter terbaik {'classifier__max_depth': 10, 'classifier__max_features': 2, 'classifier__min_samples_leaf': 3, 'classifier__min_samples_split': 10, 'classifier__n_estimators': 200}\n"
     ]
    }
   ],
   "source": [
    "print('Parameter terbaik', grid_rf.best_params_)"
   ]
  },
  {
   "cell_type": "code",
   "execution_count": 46,
   "metadata": {},
   "outputs": [
    {
     "name": "stdout",
     "output_type": "stream",
     "text": [
      "Classification Report Train\n",
      "              precision    recall  f1-score   support\n",
      "\n",
      "           0       0.88      0.98      0.93       162\n",
      "           1       0.93      0.73      0.82        77\n",
      "\n",
      "    accuracy                           0.90       239\n",
      "   macro avg       0.91      0.85      0.87       239\n",
      "weighted avg       0.90      0.90      0.89       239\n",
      "\n",
      "Classification Report Test\n",
      "              precision    recall  f1-score   support\n",
      "\n",
      "           0       0.78      0.93      0.84        41\n",
      "           1       0.73      0.42      0.53        19\n",
      "\n",
      "    accuracy                           0.77        60\n",
      "   macro avg       0.75      0.67      0.69        60\n",
      "weighted avg       0.76      0.77      0.75        60\n",
      "\n"
     ]
    }
   ],
   "source": [
    "y_pred_train_tuning = estimator_terbaik_grid_rf.predict(X_train)\n",
    "y_pred_test_tuning = estimator_terbaik_grid_rf.predict(X_test)\n",
    "\n",
    "print('Classification Report Train')\n",
    "print(classification_report(y_train, y_pred_train_tuning))\n",
    "\n",
    "print('Classification Report Test')\n",
    "print(classification_report(y_test, y_pred_test_tuning))"
   ]
  },
  {
   "cell_type": "code",
   "execution_count": 47,
   "metadata": {},
   "outputs": [
    {
     "name": "stdout",
     "output_type": "stream",
     "text": [
      "Confusion Matrix Train\n"
     ]
    },
    {
     "data": {
      "text/plain": [
       "<AxesSubplot:>"
      ]
     },
     "execution_count": 47,
     "metadata": {},
     "output_type": "execute_result"
    },
    {
     "data": {
      "image/png": "[encoded data removed]",
      "text/plain": [
       "<Figure size 432x288 with 2 Axes>"
      ]
     },
     "metadata": {
      "needs_background": "light"
     },
     "output_type": "display_data"
    }
   ],
   "source": [
    "print('Confusion Matrix Train')\n",
    "matrix_train_rf_tunning = confusion_matrix(y_train, y_pred_train_tuning)\n",
    "sns.heatmap(matrix_train_rf_tunning, annot=True, cmap='YlGn', fmt='g')"
   ]
  },
  {
   "cell_type": "code",
   "execution_count": 48,
   "metadata": {},
   "outputs": [
    {
     "name": "stdout",
     "output_type": "stream",
     "text": [
      "Confusion Matrix Test\n"
     ]
    },
    {
     "data": {
      "text/plain": [
       "<AxesSubplot:>"
      ]
     },
     "execution_count": 48,
     "metadata": {},
     "output_type": "execute_result"
    },
    {
     "data": {
      "image/png": "[encoded data removed]",
      "text/plain": [
       "<Figure size 432x288 with 2 Axes>"
      ]
     },
     "metadata": {
      "needs_background": "light"
     },
     "output_type": "display_data"
    }
   ],
   "source": [
    "print('Confusion Matrix Test')\n",
    "matrix_test_rf_tuning = confusion_matrix(y_test, y_pred_test_tuning)\n",
    "sns.heatmap(matrix_test_rf_tuning, annot=True, cmap='YlGn', fmt='g')"
   ]
  },
  {
   "cell_type": "markdown",
   "metadata": {},
   "source": [
    "## XGboost"
   ]
  },
  {
   "cell_type": "code",
   "execution_count": 49,
   "metadata": {},
   "outputs": [],
   "source": [
    "grid_xgb = GridSearchCV(Pipeline_gbc, param_gbC, cv=5)\n",
    "\n",
    "model_terbaik_grid_xgb = grid_xgb.fit(X_train,y_train)\n",
    "estimator_terbaik_grid_xgb = grid_xgb.best_estimator_"
   ]
  },
  {
   "cell_type": "code",
   "execution_count": 50,
   "metadata": {},
   "outputs": [
    {
     "name": "stdout",
     "output_type": "stream",
     "text": [
      "Parameter terbaik {'classifier__learning_rate': 0.01, 'classifier__max_depth': 10, 'classifier__max_features': 3, 'classifier__min_samples_leaf': 5, 'classifier__min_samples_split': 50, 'classifier__n_estimators': 300}\n"
     ]
    }
   ],
   "source": [
    "print('Parameter terbaik', grid_xgb.best_params_)"
   ]
  },
  {
   "cell_type": "code",
   "execution_count": 51,
   "metadata": {},
   "outputs": [
    {
     "name": "stdout",
     "output_type": "stream",
     "text": [
      "Classification Report Train\n",
      "              precision    recall  f1-score   support\n",
      "\n",
      "           0       0.91      0.96      0.94       162\n",
      "           1       0.91      0.81      0.86        77\n",
      "\n",
      "    accuracy                           0.91       239\n",
      "   macro avg       0.91      0.88      0.90       239\n",
      "weighted avg       0.91      0.91      0.91       239\n",
      "\n",
      "Classification Report Test\n",
      "              precision    recall  f1-score   support\n",
      "\n",
      "           0       0.82      0.88      0.85        41\n",
      "           1       0.69      0.58      0.63        19\n",
      "\n",
      "    accuracy                           0.78        60\n",
      "   macro avg       0.75      0.73      0.74        60\n",
      "weighted avg       0.78      0.78      0.78        60\n",
      "\n"
     ]
    }
   ],
   "source": [
    "y_pred_train_tuning_xgb = estimator_terbaik_grid_xgb.predict(X_train)\n",
    "y_pred_test_tuning_xgb = estimator_terbaik_grid_xgb.predict(X_test)\n",
    "\n",
    "print('Classification Report Train')\n",
    "print(classification_report(y_train, y_pred_train_tuning_xgb))\n",
    "\n",
    "print('Classification Report Test')\n",
    "print(classification_report(y_test, y_pred_test_tuning_xgb))"
   ]
  },
  {
   "cell_type": "code",
   "execution_count": 52,
   "metadata": {},
   "outputs": [
    {
     "name": "stdout",
     "output_type": "stream",
     "text": [
      "Confusion Matrix Train\n"
     ]
    },
    {
     "data": {
      "text/plain": [
       "<AxesSubplot:>"
      ]
     },
     "execution_count": 52,
     "metadata": {},
     "output_type": "execute_result"
    },
    {
     "data": {
      "image/png": "[encoded data removed]",
      "text/plain": [
       "<Figure size 432x288 with 2 Axes>"
      ]
     },
     "metadata": {
      "needs_background": "light"
     },
     "output_type": "display_data"
    }
   ],
   "source": [
    "print('Confusion Matrix Train')\n",
    "matrix_train_xgb_tuning = confusion_matrix(y_train, y_pred_train_tuning_xgb)\n",
    "sns.heatmap(matrix_train_xgb_tuning, annot=True, cmap='YlGn', fmt='g')"
   ]
  },
  {
   "cell_type": "code",
   "execution_count": 53,
   "metadata": {},
   "outputs": [
    {
     "name": "stdout",
     "output_type": "stream",
     "text": [
      "Confusion Matrix Train\n"
     ]
    },
    {
     "data": {
      "text/plain": [
       "<AxesSubplot:>"
      ]
     },
     "execution_count": 53,
     "metadata": {},
     "output_type": "execute_result"
    },
    {
     "data": {
      "image/png": "[encoded data removed]",
      "text/plain": [
       "<Figure size 432x288 with 2 Axes>"
      ]
     },
     "metadata": {
      "needs_background": "light"
     },
     "output_type": "display_data"
    }
   ],
   "source": [
    "print('Confusion Matrix Train')\n",
    "matrix_test_xgb_tuning = confusion_matrix(y_test, y_pred_test_tuning_xgb)\n",
    "sns.heatmap(matrix_test_xgb_tuning, annot=True, cmap='YlGn', fmt='g')"
   ]
  },
  {
   "cell_type": "markdown",
   "metadata": {},
   "source": [
    "# Pemilihan Model Terbaik"
   ]
  },
  {
   "cell_type": "markdown",
   "metadata": {},
   "source": [
    "**SEBELUM PROSES TUNING**\n",
    "\n",
    "Random Forest \n",
    "- label 0 : 37 terprediksi benar, 4 salah\n",
    "- label 1 : 8 terprediksi benar, 11 salah\n",
    "\n",
    "XG Boost \n",
    "- label 0 : 34 terprediksi benar, 7 salah\n",
    "- label 1 : 12 terprediksi benar, 7 salah\n",
    "\n",
    "**SETELAH PROSES TUNING**\n",
    "\n",
    "Random Forest  \n",
    "- label 0 : 39 terprediksi benar, 2 salah\n",
    "- label 1 : 8 terprediksi benar, 11 salah\n",
    "\n",
    "XG Boost \n",
    "- label 0 : 37 terprediksi benar, 4 salah\n",
    "- label 1 : 12 terprediksi benar, 8 salah"
   ]
  },
  {
   "cell_type": "markdown",
   "metadata": {},
   "source": [
    "Berdasarkan analisis yang dilakuakan terhadap test model berdasarkan matrix confussion, saya memilih untuk menggunakan model XGboost yang telah di tunning karena menghasilkan nilai prediksi yang lebih baik dibandingkan model yang lain."
   ]
  },
  {
   "cell_type": "markdown",
   "metadata": {},
   "source": [
    "# **10. SAVING MODEL**"
   ]
  },
  {
   "cell_type": "code",
   "execution_count": 54,
   "metadata": {},
   "outputs": [],
   "source": [
    "with open('default_rf', 'wb') as file_1:\n",
    "    pickle.dump(model_rf, file_1)\n",
    "\n",
    "with open('default_XGboost', 'wb') as file_2:\n",
    "    pickle.dump(model_xgb, file_2)\n",
    "\n",
    "with open('rf_tuning.pkl', 'wb') as file_3:\n",
    "    pickle.dump(model_terbaik_grid_rf, file_3)\n",
    "\n",
    "with open('XGboost_tuning.pkl', 'wb') as file_4:\n",
    "    pickle.dump(model_terbaik_grid_xgb, file_4)\n",
    "\n",
    "with open('all_feature.txt','w') as file_5 :\n",
    "    file_5.write(str(marge))"
   ]
  },
  {
   "cell_type": "markdown",
   "metadata": {},
   "source": [
    "# **11. MODEL INFERENCE**"
   ]
  },
  {
   "cell_type": "markdown",
   "metadata": {},
   "source": [
    "## Load Model"
   ]
  },
  {
   "cell_type": "code",
   "execution_count": 55,
   "metadata": {},
   "outputs": [],
   "source": [
    "with open('XGboost_tuning.pkl', 'rb') as file_4:\n",
    "    XGboost_tuning = pickle.load(file_4)\n",
    "\n",
    "with open('all_feature.txt', 'r') as file_5:\n",
    "    all_columns_feature = file_5.read()"
   ]
  },
  {
   "cell_type": "code",
   "execution_count": 56,
   "metadata": {},
   "outputs": [
    {
     "data": {
      "text/html": [
       "<div>\n",
       "<style scoped>\n",
       "    .dataframe tbody tr th:only-of-type {\n",
       "        vertical-align: middle;\n",
       "    }\n",
       "\n",
       "    .dataframe tbody tr th {\n",
       "        vertical-align: top;\n",
       "    }\n",
       "\n",
       "    .dataframe thead th {\n",
       "        text-align: right;\n",
       "    }\n",
       "</style>\n",
       "<table border=\"1\" class=\"dataframe\">\n",
       "  <thead>\n",
       "    <tr style=\"text-align: right;\">\n",
       "      <th></th>\n",
       "      <th>age</th>\n",
       "      <th>anaemia</th>\n",
       "      <th>creatinine_phosphokinase</th>\n",
       "      <th>diabetes</th>\n",
       "      <th>ejection_fraction</th>\n",
       "      <th>high_blood_pressure</th>\n",
       "      <th>platelets</th>\n",
       "      <th>serum_creatinine</th>\n",
       "      <th>serum_sodium</th>\n",
       "      <th>sex</th>\n",
       "      <th>smoking</th>\n",
       "      <th>time</th>\n",
       "      <th>DEATH_EVENT</th>\n",
       "    </tr>\n",
       "  </thead>\n",
       "  <tbody>\n",
       "    <tr>\n",
       "      <th>0</th>\n",
       "      <td>58.0</td>\n",
       "      <td>0</td>\n",
       "      <td>132</td>\n",
       "      <td>1</td>\n",
       "      <td>38</td>\n",
       "      <td>1</td>\n",
       "      <td>253000.00</td>\n",
       "      <td>1.00</td>\n",
       "      <td>139</td>\n",
       "      <td>1</td>\n",
       "      <td>0</td>\n",
       "      <td>230</td>\n",
       "      <td>0</td>\n",
       "    </tr>\n",
       "    <tr>\n",
       "      <th>1</th>\n",
       "      <td>68.0</td>\n",
       "      <td>1</td>\n",
       "      <td>646</td>\n",
       "      <td>0</td>\n",
       "      <td>25</td>\n",
       "      <td>0</td>\n",
       "      <td>305000.00</td>\n",
       "      <td>2.10</td>\n",
       "      <td>130</td>\n",
       "      <td>1</td>\n",
       "      <td>0</td>\n",
       "      <td>108</td>\n",
       "      <td>0</td>\n",
       "    </tr>\n",
       "    <tr>\n",
       "      <th>2</th>\n",
       "      <td>60.0</td>\n",
       "      <td>1</td>\n",
       "      <td>2281</td>\n",
       "      <td>1</td>\n",
       "      <td>40</td>\n",
       "      <td>0</td>\n",
       "      <td>283000.00</td>\n",
       "      <td>1.00</td>\n",
       "      <td>141</td>\n",
       "      <td>0</td>\n",
       "      <td>0</td>\n",
       "      <td>187</td>\n",
       "      <td>0</td>\n",
       "    </tr>\n",
       "    <tr>\n",
       "      <th>3</th>\n",
       "      <td>75.0</td>\n",
       "      <td>1</td>\n",
       "      <td>582</td>\n",
       "      <td>0</td>\n",
       "      <td>30</td>\n",
       "      <td>0</td>\n",
       "      <td>225000.00</td>\n",
       "      <td>1.83</td>\n",
       "      <td>134</td>\n",
       "      <td>1</td>\n",
       "      <td>0</td>\n",
       "      <td>113</td>\n",
       "      <td>1</td>\n",
       "    </tr>\n",
       "    <tr>\n",
       "      <th>4</th>\n",
       "      <td>94.0</td>\n",
       "      <td>0</td>\n",
       "      <td>582</td>\n",
       "      <td>1</td>\n",
       "      <td>38</td>\n",
       "      <td>1</td>\n",
       "      <td>263358.03</td>\n",
       "      <td>1.83</td>\n",
       "      <td>134</td>\n",
       "      <td>1</td>\n",
       "      <td>0</td>\n",
       "      <td>27</td>\n",
       "      <td>1</td>\n",
       "    </tr>\n",
       "    <tr>\n",
       "      <th>5</th>\n",
       "      <td>82.0</td>\n",
       "      <td>1</td>\n",
       "      <td>855</td>\n",
       "      <td>1</td>\n",
       "      <td>50</td>\n",
       "      <td>1</td>\n",
       "      <td>321000.00</td>\n",
       "      <td>1.00</td>\n",
       "      <td>145</td>\n",
       "      <td>0</td>\n",
       "      <td>0</td>\n",
       "      <td>30</td>\n",
       "      <td>1</td>\n",
       "    </tr>\n",
       "    <tr>\n",
       "      <th>6</th>\n",
       "      <td>46.0</td>\n",
       "      <td>0</td>\n",
       "      <td>168</td>\n",
       "      <td>1</td>\n",
       "      <td>17</td>\n",
       "      <td>1</td>\n",
       "      <td>271000.00</td>\n",
       "      <td>2.10</td>\n",
       "      <td>124</td>\n",
       "      <td>0</td>\n",
       "      <td>0</td>\n",
       "      <td>100</td>\n",
       "      <td>1</td>\n",
       "    </tr>\n",
       "    <tr>\n",
       "      <th>7</th>\n",
       "      <td>58.0</td>\n",
       "      <td>1</td>\n",
       "      <td>57</td>\n",
       "      <td>0</td>\n",
       "      <td>25</td>\n",
       "      <td>0</td>\n",
       "      <td>189000.00</td>\n",
       "      <td>1.30</td>\n",
       "      <td>132</td>\n",
       "      <td>1</td>\n",
       "      <td>1</td>\n",
       "      <td>205</td>\n",
       "      <td>0</td>\n",
       "    </tr>\n",
       "    <tr>\n",
       "      <th>8</th>\n",
       "      <td>80.0</td>\n",
       "      <td>0</td>\n",
       "      <td>582</td>\n",
       "      <td>1</td>\n",
       "      <td>35</td>\n",
       "      <td>0</td>\n",
       "      <td>350000.00</td>\n",
       "      <td>2.10</td>\n",
       "      <td>134</td>\n",
       "      <td>1</td>\n",
       "      <td>0</td>\n",
       "      <td>174</td>\n",
       "      <td>0</td>\n",
       "    </tr>\n",
       "    <tr>\n",
       "      <th>9</th>\n",
       "      <td>42.0</td>\n",
       "      <td>0</td>\n",
       "      <td>64</td>\n",
       "      <td>0</td>\n",
       "      <td>30</td>\n",
       "      <td>0</td>\n",
       "      <td>215000.00</td>\n",
       "      <td>3.80</td>\n",
       "      <td>128</td>\n",
       "      <td>1</td>\n",
       "      <td>1</td>\n",
       "      <td>250</td>\n",
       "      <td>0</td>\n",
       "    </tr>\n",
       "  </tbody>\n",
       "</table>\n",
       "</div>"
      ],
      "text/plain": [
       "    age  anaemia  creatinine_phosphokinase  diabetes  ejection_fraction  \\\n",
       "0  58.0        0                       132         1                 38   \n",
       "1  68.0        1                       646         0                 25   \n",
       "2  60.0        1                      2281         1                 40   \n",
       "3  75.0        1                       582         0                 30   \n",
       "4  94.0        0                       582         1                 38   \n",
       "5  82.0        1                       855         1                 50   \n",
       "6  46.0        0                       168         1                 17   \n",
       "7  58.0        1                        57         0                 25   \n",
       "8  80.0        0                       582         1                 35   \n",
       "9  42.0        0                        64         0                 30   \n",
       "\n",
       "   high_blood_pressure  platelets  serum_creatinine  serum_sodium  sex  \\\n",
       "0                    1  253000.00              1.00           139    1   \n",
       "1                    0  305000.00              2.10           130    1   \n",
       "2                    0  283000.00              1.00           141    0   \n",
       "3                    0  225000.00              1.83           134    1   \n",
       "4                    1  263358.03              1.83           134    1   \n",
       "5                    1  321000.00              1.00           145    0   \n",
       "6                    1  271000.00              2.10           124    0   \n",
       "7                    0  189000.00              1.30           132    1   \n",
       "8                    0  350000.00              2.10           134    1   \n",
       "9                    0  215000.00              3.80           128    1   \n",
       "\n",
       "   smoking  time  DEATH_EVENT  \n",
       "0        0   230            0  \n",
       "1        0   108            0  \n",
       "2        0   187            0  \n",
       "3        0   113            1  \n",
       "4        0    27            1  \n",
       "5        0    30            1  \n",
       "6        0   100            1  \n",
       "7        1   205            0  \n",
       "8        0   174            0  \n",
       "9        1   250            0  "
      ]
     },
     "execution_count": 56,
     "metadata": {},
     "output_type": "execute_result"
    }
   ],
   "source": [
    "data_inf"
   ]
  },
  {
   "cell_type": "markdown",
   "metadata": {},
   "source": [
    "## Convert Column"
   ]
  },
  {
   "cell_type": "code",
   "execution_count": 57,
   "metadata": {},
   "outputs": [],
   "source": [
    "all_columns_feature = ast.literal_eval(all_columns_feature)\n",
    "data_inf_fix = data_inf[all_columns_feature]"
   ]
  },
  {
   "cell_type": "markdown",
   "metadata": {},
   "source": [
    "## Predict"
   ]
  },
  {
   "cell_type": "code",
   "execution_count": 58,
   "metadata": {},
   "outputs": [
    {
     "data": {
      "text/plain": [
       "array([0, 0, 0, 1, 1, 1, 1, 0, 1, 0], dtype=int64)"
      ]
     },
     "execution_count": 58,
     "metadata": {},
     "output_type": "execute_result"
    }
   ],
   "source": [
    "y_inf_pred_xgb = XGboost_tuning.predict(data_inf_fix)\n",
    "y_inf_pred_xgb"
   ]
  },
  {
   "cell_type": "code",
   "execution_count": 59,
   "metadata": {},
   "outputs": [
    {
     "data": {
      "text/html": [
       "<div>\n",
       "<style scoped>\n",
       "    .dataframe tbody tr th:only-of-type {\n",
       "        vertical-align: middle;\n",
       "    }\n",
       "\n",
       "    .dataframe tbody tr th {\n",
       "        vertical-align: top;\n",
       "    }\n",
       "\n",
       "    .dataframe thead th {\n",
       "        text-align: right;\n",
       "    }\n",
       "</style>\n",
       "<table border=\"1\" class=\"dataframe\">\n",
       "  <thead>\n",
       "    <tr style=\"text-align: right;\">\n",
       "      <th></th>\n",
       "      <th>age</th>\n",
       "      <th>anaemia</th>\n",
       "      <th>creatinine_phosphokinase</th>\n",
       "      <th>diabetes</th>\n",
       "      <th>ejection_fraction</th>\n",
       "      <th>high_blood_pressure</th>\n",
       "      <th>platelets</th>\n",
       "      <th>serum_creatinine</th>\n",
       "      <th>serum_sodium</th>\n",
       "      <th>sex</th>\n",
       "      <th>smoking</th>\n",
       "      <th>time</th>\n",
       "      <th>DEATH_EVENT</th>\n",
       "      <th>Predict Best XGBoost Tuning</th>\n",
       "    </tr>\n",
       "  </thead>\n",
       "  <tbody>\n",
       "    <tr>\n",
       "      <th>0</th>\n",
       "      <td>58.0</td>\n",
       "      <td>0</td>\n",
       "      <td>132</td>\n",
       "      <td>1</td>\n",
       "      <td>38</td>\n",
       "      <td>1</td>\n",
       "      <td>253000.00</td>\n",
       "      <td>1.00</td>\n",
       "      <td>139</td>\n",
       "      <td>1</td>\n",
       "      <td>0</td>\n",
       "      <td>230</td>\n",
       "      <td>0</td>\n",
       "      <td>0</td>\n",
       "    </tr>\n",
       "    <tr>\n",
       "      <th>1</th>\n",
       "      <td>68.0</td>\n",
       "      <td>1</td>\n",
       "      <td>646</td>\n",
       "      <td>0</td>\n",
       "      <td>25</td>\n",
       "      <td>0</td>\n",
       "      <td>305000.00</td>\n",
       "      <td>2.10</td>\n",
       "      <td>130</td>\n",
       "      <td>1</td>\n",
       "      <td>0</td>\n",
       "      <td>108</td>\n",
       "      <td>0</td>\n",
       "      <td>0</td>\n",
       "    </tr>\n",
       "    <tr>\n",
       "      <th>2</th>\n",
       "      <td>60.0</td>\n",
       "      <td>1</td>\n",
       "      <td>2281</td>\n",
       "      <td>1</td>\n",
       "      <td>40</td>\n",
       "      <td>0</td>\n",
       "      <td>283000.00</td>\n",
       "      <td>1.00</td>\n",
       "      <td>141</td>\n",
       "      <td>0</td>\n",
       "      <td>0</td>\n",
       "      <td>187</td>\n",
       "      <td>0</td>\n",
       "      <td>0</td>\n",
       "    </tr>\n",
       "    <tr>\n",
       "      <th>3</th>\n",
       "      <td>75.0</td>\n",
       "      <td>1</td>\n",
       "      <td>582</td>\n",
       "      <td>0</td>\n",
       "      <td>30</td>\n",
       "      <td>0</td>\n",
       "      <td>225000.00</td>\n",
       "      <td>1.83</td>\n",
       "      <td>134</td>\n",
       "      <td>1</td>\n",
       "      <td>0</td>\n",
       "      <td>113</td>\n",
       "      <td>1</td>\n",
       "      <td>1</td>\n",
       "    </tr>\n",
       "    <tr>\n",
       "      <th>4</th>\n",
       "      <td>94.0</td>\n",
       "      <td>0</td>\n",
       "      <td>582</td>\n",
       "      <td>1</td>\n",
       "      <td>38</td>\n",
       "      <td>1</td>\n",
       "      <td>263358.03</td>\n",
       "      <td>1.83</td>\n",
       "      <td>134</td>\n",
       "      <td>1</td>\n",
       "      <td>0</td>\n",
       "      <td>27</td>\n",
       "      <td>1</td>\n",
       "      <td>1</td>\n",
       "    </tr>\n",
       "    <tr>\n",
       "      <th>5</th>\n",
       "      <td>82.0</td>\n",
       "      <td>1</td>\n",
       "      <td>855</td>\n",
       "      <td>1</td>\n",
       "      <td>50</td>\n",
       "      <td>1</td>\n",
       "      <td>321000.00</td>\n",
       "      <td>1.00</td>\n",
       "      <td>145</td>\n",
       "      <td>0</td>\n",
       "      <td>0</td>\n",
       "      <td>30</td>\n",
       "      <td>1</td>\n",
       "      <td>1</td>\n",
       "    </tr>\n",
       "    <tr>\n",
       "      <th>6</th>\n",
       "      <td>46.0</td>\n",
       "      <td>0</td>\n",
       "      <td>168</td>\n",
       "      <td>1</td>\n",
       "      <td>17</td>\n",
       "      <td>1</td>\n",
       "      <td>271000.00</td>\n",
       "      <td>2.10</td>\n",
       "      <td>124</td>\n",
       "      <td>0</td>\n",
       "      <td>0</td>\n",
       "      <td>100</td>\n",
       "      <td>1</td>\n",
       "      <td>1</td>\n",
       "    </tr>\n",
       "    <tr>\n",
       "      <th>7</th>\n",
       "      <td>58.0</td>\n",
       "      <td>1</td>\n",
       "      <td>57</td>\n",
       "      <td>0</td>\n",
       "      <td>25</td>\n",
       "      <td>0</td>\n",
       "      <td>189000.00</td>\n",
       "      <td>1.30</td>\n",
       "      <td>132</td>\n",
       "      <td>1</td>\n",
       "      <td>1</td>\n",
       "      <td>205</td>\n",
       "      <td>0</td>\n",
       "      <td>0</td>\n",
       "    </tr>\n",
       "    <tr>\n",
       "      <th>8</th>\n",
       "      <td>80.0</td>\n",
       "      <td>0</td>\n",
       "      <td>582</td>\n",
       "      <td>1</td>\n",
       "      <td>35</td>\n",
       "      <td>0</td>\n",
       "      <td>350000.00</td>\n",
       "      <td>2.10</td>\n",
       "      <td>134</td>\n",
       "      <td>1</td>\n",
       "      <td>0</td>\n",
       "      <td>174</td>\n",
       "      <td>0</td>\n",
       "      <td>1</td>\n",
       "    </tr>\n",
       "    <tr>\n",
       "      <th>9</th>\n",
       "      <td>42.0</td>\n",
       "      <td>0</td>\n",
       "      <td>64</td>\n",
       "      <td>0</td>\n",
       "      <td>30</td>\n",
       "      <td>0</td>\n",
       "      <td>215000.00</td>\n",
       "      <td>3.80</td>\n",
       "      <td>128</td>\n",
       "      <td>1</td>\n",
       "      <td>1</td>\n",
       "      <td>250</td>\n",
       "      <td>0</td>\n",
       "      <td>0</td>\n",
       "    </tr>\n",
       "  </tbody>\n",
       "</table>\n",
       "</div>"
      ],
      "text/plain": [
       "    age  anaemia  creatinine_phosphokinase  diabetes  ejection_fraction  \\\n",
       "0  58.0        0                       132         1                 38   \n",
       "1  68.0        1                       646         0                 25   \n",
       "2  60.0        1                      2281         1                 40   \n",
       "3  75.0        1                       582         0                 30   \n",
       "4  94.0        0                       582         1                 38   \n",
       "5  82.0        1                       855         1                 50   \n",
       "6  46.0        0                       168         1                 17   \n",
       "7  58.0        1                        57         0                 25   \n",
       "8  80.0        0                       582         1                 35   \n",
       "9  42.0        0                        64         0                 30   \n",
       "\n",
       "   high_blood_pressure  platelets  serum_creatinine  serum_sodium  sex  \\\n",
       "0                    1  253000.00              1.00           139    1   \n",
       "1                    0  305000.00              2.10           130    1   \n",
       "2                    0  283000.00              1.00           141    0   \n",
       "3                    0  225000.00              1.83           134    1   \n",
       "4                    1  263358.03              1.83           134    1   \n",
       "5                    1  321000.00              1.00           145    0   \n",
       "6                    1  271000.00              2.10           124    0   \n",
       "7                    0  189000.00              1.30           132    1   \n",
       "8                    0  350000.00              2.10           134    1   \n",
       "9                    0  215000.00              3.80           128    1   \n",
       "\n",
       "   smoking  time  DEATH_EVENT  Predict Best XGBoost Tuning  \n",
       "0        0   230            0                            0  \n",
       "1        0   108            0                            0  \n",
       "2        0   187            0                            0  \n",
       "3        0   113            1                            1  \n",
       "4        0    27            1                            1  \n",
       "5        0    30            1                            1  \n",
       "6        0   100            1                            1  \n",
       "7        1   205            0                            0  \n",
       "8        0   174            0                            1  \n",
       "9        1   250            0                            0  "
      ]
     },
     "execution_count": 59,
     "metadata": {},
     "output_type": "execute_result"
    }
   ],
   "source": [
    "y_inf_pred_xgb1 = pd.DataFrame(y_inf_pred_xgb, columns=['Predict Best XGBoost Tuning'])\n",
    "hasil_prediksi =pd.concat([data_inf, y_inf_pred_xgb1],axis=1)\n",
    "hasil_prediksi"
   ]
  },
  {
   "cell_type": "markdown",
   "metadata": {},
   "source": [
    "# **12. KESIMPULAN**"
   ]
  },
  {
   "cell_type": "markdown",
   "metadata": {},
   "source": [
    "----"
   ]
  },
  {
   "cell_type": "markdown",
   "metadata": {},
   "source": [
    "## EDA"
   ]
  },
  {
   "cell_type": "markdown",
   "metadata": {},
   "source": [
    "- Death Event didomonasi oleh label 0 (hidup) dengan persentase 67.9% daripada label 1 (Meninggal) dengan persentase 32.1%\n",
    "\n",
    "- Age lumayan berpengaruh terhadap paseian yang meninggal dengan penyakit jantung. Hal ini dapat dilihat dari rentang usia 80 - 90 tahuan yang memiliki peluang meninggal lebih besar dibandingkan dengan rentang usia yang 70 tahun kebawah.\n",
    "\n",
    "- Pasien dengan penyakit jantung yang meninggal tertinggi berada pada usia 60 - 70 tahun. Hal ini tentunya memberi informasi kepada kita bahwa sangat sedikit jumlah pasien yang melewati usia 70 tahun keatas. Sehingga kasus kematian terbanyak berada pada rentang usia tersebut.\n",
    "\n",
    "- Pasien tanpa gejala anemia lebih banyak yang mengalami kematian dengan penyakit jantung dibandingkan yang memiliki gejala anemia. Sehingga berdasarkan pengamatan ini dapat dikatakan bahwa anemia tidaklah berpengaruh terhadap penyakit jantung\n",
    "\n",
    "- seseorang yang tidak mengalami gejala diabetes lebih banyak yang terserang penyakit jantung dibandingkan dengan yang memiliki gejala diabetes. Sehingga dapat dikatakan bahwa penyakit diabetes tidaklah berpengaruh terhadap penyakit jantung.\n",
    "\n",
    "- asien yang tidak memiliki tekanan darah lebih banyak mengalami penyakit jantung dibandingkan dengan yang mengalami tekanan darah. Dengan demikian dapat dikatakan bahwa tekanan darah tidaklah memiliki pengaruh terhadap penyakit jantung.\n",
    "\n",
    "- Terlihat bahwa kebanyakan pasien penderita penyakit jantung ialah pria dibandingkan dengan wanita. Tentunya berdasarkan informasi ini saya sebagai analis memiliki pertanyaan mengapa demikian? dugaan saya sementara saat ini ialah mungkin disebabkan kebanyakan pria adalah perokok dibanding dengan wanita. Tentu ini hanya sebatas dugaan belaka, perlu dilakukan penelitian lebih lanjut lagi. Berdasarkan fenomena ini, maka saya memiliki asusmi bahwa jender mempengaruhi penyakit jantung.\n",
    "\n",
    "- penyakit jantung di dominasi oleh yang bukan perokok. Fenomena ini tentunya membantah asumsi kita sebelumnya, bahwa pria perokok adalah penyebab penyakit jantung. Namun grafik ini meberikan asumsi tersebut. Tentunya ini perlu analisa lebih lanjut untuk mengetahui mengapa pria lebih banyak terkena penyakit jantung dibandingkan wanita\n",
    "\n",
    "-  creatinie phospokinase dengan nilai lebih kurang 200 serta lebih kurang 350, tidak terdapat pasien dengan penyakit jantung. Sehingga dapat dikatakan bahwa creatinie mempengaruhi penyakit jantung. "
   ]
  },
  {
   "cell_type": "markdown",
   "metadata": {},
   "source": [
    "## Fitur Yang Berkorelasi Terhadap Target"
   ]
  },
  {
   "cell_type": "markdown",
   "metadata": {},
   "source": [
    "Berdasarkan hasil analisis menggunakan EDA, Heatmap dan Feature Tepenting maka saya mendapatkan informasi yang mempengaruhi penyakit jantung ialah : age, creatinine_phosphokinase, ejection_fraction, platelets, serum_creatinine dan serum_sodium."
   ]
  },
  {
   "cell_type": "markdown",
   "metadata": {},
   "source": [
    "## Model"
   ]
  },
  {
   "cell_type": "markdown",
   "metadata": {},
   "source": [
    "**SEBELUM PROSES TUNING**\n",
    "\n",
    "Random Forest \n",
    "- label 0 : 37 terprediksi benar, 4 salah\n",
    "- label 1 : 8 terprediksi benar, 11 salah\n",
    "\n",
    "XG Boost \n",
    "- label 0 : 34 terprediksi benar, 7 salah\n",
    "- label 1 : 12 terprediksi benar, 7 salah\n",
    "\n",
    "**SETELAH PROSES TUNING**\n",
    "\n",
    "Random Forest  \n",
    "- label 0 : 39 terprediksi benar, 2 salah\n",
    "- label 1 : 8 terprediksi benar, 11 salah\n",
    "\n",
    "XG Boost \n",
    "- label 0 : 37 terprediksi benar, 4 salah\n",
    "- label 1 : 12 terprediksi benar, 8 salah\n",
    "\n",
    "Berdasarkan analisis yang dilakuakan terhadap test model berdasarkan matrix confussion, saya memilih untuk menggunakan model XGboost yang telah di tunning karena menghasilkan nilai prediksi yang lebih baik dibandingkan model yang lain."
   ]
  },
  {
   "cell_type": "markdown",
   "metadata": {},
   "source": [
    "## Conceptual Problems"
   ]
  },
  {
   "cell_type": "markdown",
   "metadata": {},
   "source": [
    "----"
   ]
  },
  {
   "cell_type": "markdown",
   "metadata": {},
   "source": [
    "Jawab pertanyaan berikut:\n",
    "\n",
    "1. Apakah yang dimaksud dengan Bagging?\n",
    "\n",
    "2. Jelaskan perbedaan algoritma Random Forest dengan algoritma boosting yang Anda pilih?"
   ]
  },
  {
   "cell_type": "markdown",
   "metadata": {},
   "source": [
    "Answere"
   ]
  },
  {
   "cell_type": "markdown",
   "metadata": {},
   "source": [
    "1. Bagging adalah salah bagian satu dari ensemble learning. Bagging juga dikenal dengan bootstrap aggregating dimana prosesnya menggunakan beberapa model dari algoritma yang sama, dan melatih model pada sample berbeda dari dataset yang sama. Prediksi yang dibuat oleh setiap model kemudian digabungkan menggunakan statistik seperti voting atau rata-rata\n",
    "\n",
    "2. Perbedaan dasar antara random forest dan algoritma boosting ialah :\n",
    "- Random forest bekerja pada bagging, aggregation setra memiliki prosenya lebih cepat secara komputasi\n",
    "- XGBoost bekerja pada boosting dan merupakan pelajar yang lemah, namun boosting cukup baik digunakan dalam masalah klasifikasi "
   ]
  },
  {
   "cell_type": "markdown",
   "metadata": {},
   "source": []
  }
 ],
 "metadata": {
  "interpreter": {
   "hash": "a90aeebcf29d64a654773811cc170cb25061cb2498f10ac689db374c7bf325de"
  },
  "kernelspec": {
   "display_name": "Python 3.9.7 ('base')",
   "language": "python",
   "name": "python3"
  },
  "language_info": {
   "codemirror_mode": {
    "name": "ipython",
    "version": 3
   },
   "file_extension": ".py",
   "mimetype": "text/x-python",
   "name": "python",
   "nbconvert_exporter": "python",
   "pygments_lexer": "ipython3",
   "version": "3.9.7"
  },
  "orig_nbformat": 4
 },
 "nbformat": 4,
 "nbformat_minor": 2
}
