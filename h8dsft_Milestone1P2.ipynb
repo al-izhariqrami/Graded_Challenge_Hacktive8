{
 "cells": [
  {
   "cell_type": "markdown",
   "metadata": {},
   "source": [
    "# **1. PERKENALAN**"
   ]
  },
  {
   "cell_type": "markdown",
   "metadata": {},
   "source": [
    "Nama        : Al Izhar Iqrami\n",
    "\n",
    "Batch       : 011\n",
    "\n",
    "Phase       : 2\n",
    "\n",
    "ML          : 1"
   ]
  },
  {
   "cell_type": "markdown",
   "metadata": {},
   "source": [
    "**ABOUT DATASET**"
   ]
  },
  {
   "cell_type": "markdown",
   "metadata": {},
   "source": [
    "----"
   ]
  },
  {
   "cell_type": "markdown",
   "metadata": {},
   "source": [
    "\"Predict behavior to retain customers. You can analyze all relevant customer data and develop focused customer retention programs.\" [IBM Sample Data Sets]"
   ]
  },
  {
   "cell_type": "markdown",
   "metadata": {},
   "source": [
    "Each row represents a customer, each column contains customer’s attributes described on the column Metadata.\n",
    "\n",
    "The data set includes information about:\n",
    "\n",
    "Customers who left within the last month – the column is called Churn\n",
    "Services that each customer has signed up for – phone, multiple lines, internet, online security, online backup, device protection, tech support, and streaming TV and movies\n",
    "Customer account information – how long they’ve been a customer, contract, payment method, paperless billing, monthly charges, and total charges\n",
    "Demographic info about customers – gender, age range, and if they have partners and dependents"
   ]
  },
  {
   "cell_type": "markdown",
   "metadata": {},
   "source": [
    "# **2. IMPORT LIBRARY**"
   ]
  },
  {
   "cell_type": "code",
   "execution_count": 1,
   "metadata": {},
   "outputs": [],
   "source": [
    "import numpy as np\n",
    "import pandas as pd\n",
    "import seaborn as sns\n",
    "import matplotlib.pyplot as plt\n",
    "import tensorflow as tf\n",
    "import math\n",
    "import scipy.stats as ss\n",
    "import warnings\n",
    "warnings.filterwarnings('ignore')\n",
    "\n",
    "from feature_engine.outliers import Winsorizer\n",
    "from collections import Counter\n",
    "from imblearn.over_sampling import SMOTE\n",
    "from sklearn.model_selection import train_test_split\n",
    "from sklearn.ensemble import ExtraTreesClassifier\n",
    "\n",
    "from tensorflow import keras\n",
    "from tensorflow.keras.layers import Dense, Dropout, BatchNormalization, Input\n",
    "from tensorflow.keras import Sequential, Model\n",
    "from sklearn.metrics import precision_score, recall_score, confusion_matrix, classification_report, accuracy_score, f1_score, roc_auc_score\n"
   ]
  },
  {
   "cell_type": "markdown",
   "metadata": {},
   "source": [
    "Melakuakn import library yang berguna untuk membatu memecahkan permasalahan yang diperolah pada saat melakuakan analisis data"
   ]
  },
  {
   "cell_type": "markdown",
   "metadata": {},
   "source": [
    "# **3. DATA LOADING**"
   ]
  },
  {
   "cell_type": "code",
   "execution_count": 2,
   "metadata": {},
   "outputs": [
    {
     "data": {
      "text/html": [
       "<div>\n",
       "<style scoped>\n",
       "    .dataframe tbody tr th:only-of-type {\n",
       "        vertical-align: middle;\n",
       "    }\n",
       "\n",
       "    .dataframe tbody tr th {\n",
       "        vertical-align: top;\n",
       "    }\n",
       "\n",
       "    .dataframe thead th {\n",
       "        text-align: right;\n",
       "    }\n",
       "</style>\n",
       "<table border=\"1\" class=\"dataframe\">\n",
       "  <thead>\n",
       "    <tr style=\"text-align: right;\">\n",
       "      <th></th>\n",
       "      <th>customerID</th>\n",
       "      <th>gender</th>\n",
       "      <th>SeniorCitizen</th>\n",
       "      <th>Partner</th>\n",
       "      <th>Dependents</th>\n",
       "      <th>tenure</th>\n",
       "      <th>PhoneService</th>\n",
       "      <th>MultipleLines</th>\n",
       "      <th>InternetService</th>\n",
       "      <th>OnlineSecurity</th>\n",
       "      <th>OnlineBackup</th>\n",
       "      <th>DeviceProtection</th>\n",
       "      <th>TechSupport</th>\n",
       "      <th>StreamingTV</th>\n",
       "      <th>StreamingMovies</th>\n",
       "      <th>Contract</th>\n",
       "      <th>PaperlessBilling</th>\n",
       "      <th>PaymentMethod</th>\n",
       "      <th>MonthlyCharges</th>\n",
       "      <th>TotalCharges</th>\n",
       "      <th>Churn</th>\n",
       "    </tr>\n",
       "  </thead>\n",
       "  <tbody>\n",
       "    <tr>\n",
       "      <th>0</th>\n",
       "      <td>7590-VHVEG</td>\n",
       "      <td>Female</td>\n",
       "      <td>0</td>\n",
       "      <td>Yes</td>\n",
       "      <td>No</td>\n",
       "      <td>1</td>\n",
       "      <td>No</td>\n",
       "      <td>No phone service</td>\n",
       "      <td>DSL</td>\n",
       "      <td>No</td>\n",
       "      <td>Yes</td>\n",
       "      <td>No</td>\n",
       "      <td>No</td>\n",
       "      <td>No</td>\n",
       "      <td>No</td>\n",
       "      <td>Month-to-month</td>\n",
       "      <td>Yes</td>\n",
       "      <td>Electronic check</td>\n",
       "      <td>29.85</td>\n",
       "      <td>29.85</td>\n",
       "      <td>No</td>\n",
       "    </tr>\n",
       "    <tr>\n",
       "      <th>1</th>\n",
       "      <td>5575-GNVDE</td>\n",
       "      <td>Male</td>\n",
       "      <td>0</td>\n",
       "      <td>No</td>\n",
       "      <td>No</td>\n",
       "      <td>34</td>\n",
       "      <td>Yes</td>\n",
       "      <td>No</td>\n",
       "      <td>DSL</td>\n",
       "      <td>Yes</td>\n",
       "      <td>No</td>\n",
       "      <td>Yes</td>\n",
       "      <td>No</td>\n",
       "      <td>No</td>\n",
       "      <td>No</td>\n",
       "      <td>One year</td>\n",
       "      <td>No</td>\n",
       "      <td>Mailed check</td>\n",
       "      <td>56.95</td>\n",
       "      <td>1889.5</td>\n",
       "      <td>No</td>\n",
       "    </tr>\n",
       "    <tr>\n",
       "      <th>2</th>\n",
       "      <td>3668-QPYBK</td>\n",
       "      <td>Male</td>\n",
       "      <td>0</td>\n",
       "      <td>No</td>\n",
       "      <td>No</td>\n",
       "      <td>2</td>\n",
       "      <td>Yes</td>\n",
       "      <td>No</td>\n",
       "      <td>DSL</td>\n",
       "      <td>Yes</td>\n",
       "      <td>Yes</td>\n",
       "      <td>No</td>\n",
       "      <td>No</td>\n",
       "      <td>No</td>\n",
       "      <td>No</td>\n",
       "      <td>Month-to-month</td>\n",
       "      <td>Yes</td>\n",
       "      <td>Mailed check</td>\n",
       "      <td>53.85</td>\n",
       "      <td>108.15</td>\n",
       "      <td>Yes</td>\n",
       "    </tr>\n",
       "    <tr>\n",
       "      <th>3</th>\n",
       "      <td>7795-CFOCW</td>\n",
       "      <td>Male</td>\n",
       "      <td>0</td>\n",
       "      <td>No</td>\n",
       "      <td>No</td>\n",
       "      <td>45</td>\n",
       "      <td>No</td>\n",
       "      <td>No phone service</td>\n",
       "      <td>DSL</td>\n",
       "      <td>Yes</td>\n",
       "      <td>No</td>\n",
       "      <td>Yes</td>\n",
       "      <td>Yes</td>\n",
       "      <td>No</td>\n",
       "      <td>No</td>\n",
       "      <td>One year</td>\n",
       "      <td>No</td>\n",
       "      <td>Bank transfer (automatic)</td>\n",
       "      <td>42.30</td>\n",
       "      <td>1840.75</td>\n",
       "      <td>No</td>\n",
       "    </tr>\n",
       "    <tr>\n",
       "      <th>4</th>\n",
       "      <td>9237-HQITU</td>\n",
       "      <td>Female</td>\n",
       "      <td>0</td>\n",
       "      <td>No</td>\n",
       "      <td>No</td>\n",
       "      <td>2</td>\n",
       "      <td>Yes</td>\n",
       "      <td>No</td>\n",
       "      <td>Fiber optic</td>\n",
       "      <td>No</td>\n",
       "      <td>No</td>\n",
       "      <td>No</td>\n",
       "      <td>No</td>\n",
       "      <td>No</td>\n",
       "      <td>No</td>\n",
       "      <td>Month-to-month</td>\n",
       "      <td>Yes</td>\n",
       "      <td>Electronic check</td>\n",
       "      <td>70.70</td>\n",
       "      <td>151.65</td>\n",
       "      <td>Yes</td>\n",
       "    </tr>\n",
       "  </tbody>\n",
       "</table>\n",
       "</div>"
      ],
      "text/plain": [
       "   customerID  gender  SeniorCitizen Partner Dependents  tenure PhoneService  \\\n",
       "0  7590-VHVEG  Female              0     Yes         No       1           No   \n",
       "1  5575-GNVDE    Male              0      No         No      34          Yes   \n",
       "2  3668-QPYBK    Male              0      No         No       2          Yes   \n",
       "3  7795-CFOCW    Male              0      No         No      45           No   \n",
       "4  9237-HQITU  Female              0      No         No       2          Yes   \n",
       "\n",
       "      MultipleLines InternetService OnlineSecurity OnlineBackup  \\\n",
       "0  No phone service             DSL             No          Yes   \n",
       "1                No             DSL            Yes           No   \n",
       "2                No             DSL            Yes          Yes   \n",
       "3  No phone service             DSL            Yes           No   \n",
       "4                No     Fiber optic             No           No   \n",
       "\n",
       "  DeviceProtection TechSupport StreamingTV StreamingMovies        Contract  \\\n",
       "0               No          No          No              No  Month-to-month   \n",
       "1              Yes          No          No              No        One year   \n",
       "2               No          No          No              No  Month-to-month   \n",
       "3              Yes         Yes          No              No        One year   \n",
       "4               No          No          No              No  Month-to-month   \n",
       "\n",
       "  PaperlessBilling              PaymentMethod  MonthlyCharges TotalCharges  \\\n",
       "0              Yes           Electronic check           29.85        29.85   \n",
       "1               No               Mailed check           56.95       1889.5   \n",
       "2              Yes               Mailed check           53.85       108.15   \n",
       "3               No  Bank transfer (automatic)           42.30      1840.75   \n",
       "4              Yes           Electronic check           70.70       151.65   \n",
       "\n",
       "  Churn  \n",
       "0    No  \n",
       "1    No  \n",
       "2   Yes  \n",
       "3    No  \n",
       "4   Yes  "
      ]
     },
     "execution_count": 2,
     "metadata": {},
     "output_type": "execute_result"
    }
   ],
   "source": [
    "pd.options.display.max_columns = None\n",
    "df = pd.read_csv('Telco-Customer-Churn.csv')\n",
    "df.head()"
   ]
  },
  {
   "cell_type": "markdown",
   "metadata": {},
   "source": [
    "## Copy Dataset"
   ]
  },
  {
   "cell_type": "code",
   "execution_count": 3,
   "metadata": {},
   "outputs": [],
   "source": [
    "data = df.copy()"
   ]
  },
  {
   "cell_type": "markdown",
   "metadata": {},
   "source": [
    "## Check Dataset"
   ]
  },
  {
   "cell_type": "code",
   "execution_count": 4,
   "metadata": {},
   "outputs": [
    {
     "name": "stdout",
     "output_type": "stream",
     "text": [
      "<class 'pandas.core.frame.DataFrame'>\n",
      "RangeIndex: 7043 entries, 0 to 7042\n",
      "Data columns (total 21 columns):\n",
      " #   Column            Non-Null Count  Dtype  \n",
      "---  ------            --------------  -----  \n",
      " 0   customerID        7043 non-null   object \n",
      " 1   gender            7043 non-null   object \n",
      " 2   SeniorCitizen     7043 non-null   int64  \n",
      " 3   Partner           7043 non-null   object \n",
      " 4   Dependents        7043 non-null   object \n",
      " 5   tenure            7043 non-null   int64  \n",
      " 6   PhoneService      7043 non-null   object \n",
      " 7   MultipleLines     7043 non-null   object \n",
      " 8   InternetService   7043 non-null   object \n",
      " 9   OnlineSecurity    7043 non-null   object \n",
      " 10  OnlineBackup      7043 non-null   object \n",
      " 11  DeviceProtection  7043 non-null   object \n",
      " 12  TechSupport       7043 non-null   object \n",
      " 13  StreamingTV       7043 non-null   object \n",
      " 14  StreamingMovies   7043 non-null   object \n",
      " 15  Contract          7043 non-null   object \n",
      " 16  PaperlessBilling  7043 non-null   object \n",
      " 17  PaymentMethod     7043 non-null   object \n",
      " 18  MonthlyCharges    7043 non-null   float64\n",
      " 19  TotalCharges      7043 non-null   object \n",
      " 20  Churn             7043 non-null   object \n",
      "dtypes: float64(1), int64(2), object(18)\n",
      "memory usage: 1.1+ MB\n"
     ]
    }
   ],
   "source": [
    "data.info()"
   ]
  },
  {
   "cell_type": "markdown",
   "metadata": {},
   "source": [
    "## Ubah Tipe Data"
   ]
  },
  {
   "cell_type": "code",
   "execution_count": 5,
   "metadata": {},
   "outputs": [],
   "source": [
    "# Megubah tipe data kolom total charger dari object menjadi float\n",
    "data['TotalCharges'] = data['TotalCharges'].replace(' ',0).astype('float64')\n",
    "\n",
    "# Mengubah tipe data kolom SeniorCityzen dari integer menjadi object\n",
    "data['SeniorCitizen'] = data['SeniorCitizen'].astype('object')"
   ]
  },
  {
   "cell_type": "markdown",
   "metadata": {},
   "source": [
    "Mengubah tipe data yang dianggap tidak sesuai"
   ]
  },
  {
   "cell_type": "markdown",
   "metadata": {},
   "source": [
    "## Check Data Duplicate"
   ]
  },
  {
   "cell_type": "code",
   "execution_count": 6,
   "metadata": {},
   "outputs": [
    {
     "data": {
      "text/plain": [
       "0"
      ]
     },
     "execution_count": 6,
     "metadata": {},
     "output_type": "execute_result"
    }
   ],
   "source": [
    "data.duplicated().sum()"
   ]
  },
  {
   "cell_type": "markdown",
   "metadata": {},
   "source": [
    "Terlihat bahwa tidak terdapat data duplikat"
   ]
  },
  {
   "cell_type": "markdown",
   "metadata": {},
   "source": [
    "## Check Missing Value"
   ]
  },
  {
   "cell_type": "code",
   "execution_count": 7,
   "metadata": {},
   "outputs": [
    {
     "data": {
      "text/html": [
       "<div>\n",
       "<style scoped>\n",
       "    .dataframe tbody tr th:only-of-type {\n",
       "        vertical-align: middle;\n",
       "    }\n",
       "\n",
       "    .dataframe tbody tr th {\n",
       "        vertical-align: top;\n",
       "    }\n",
       "\n",
       "    .dataframe thead th {\n",
       "        text-align: right;\n",
       "    }\n",
       "</style>\n",
       "<table border=\"1\" class=\"dataframe\">\n",
       "  <thead>\n",
       "    <tr style=\"text-align: right;\">\n",
       "      <th></th>\n",
       "      <th>No. of missing values</th>\n",
       "      <th>% missing_values</th>\n",
       "    </tr>\n",
       "  </thead>\n",
       "  <tbody>\n",
       "    <tr>\n",
       "      <th>customerID</th>\n",
       "      <td>0</td>\n",
       "      <td>0.0</td>\n",
       "    </tr>\n",
       "    <tr>\n",
       "      <th>gender</th>\n",
       "      <td>0</td>\n",
       "      <td>0.0</td>\n",
       "    </tr>\n",
       "    <tr>\n",
       "      <th>SeniorCitizen</th>\n",
       "      <td>0</td>\n",
       "      <td>0.0</td>\n",
       "    </tr>\n",
       "    <tr>\n",
       "      <th>Partner</th>\n",
       "      <td>0</td>\n",
       "      <td>0.0</td>\n",
       "    </tr>\n",
       "    <tr>\n",
       "      <th>Dependents</th>\n",
       "      <td>0</td>\n",
       "      <td>0.0</td>\n",
       "    </tr>\n",
       "    <tr>\n",
       "      <th>tenure</th>\n",
       "      <td>0</td>\n",
       "      <td>0.0</td>\n",
       "    </tr>\n",
       "    <tr>\n",
       "      <th>PhoneService</th>\n",
       "      <td>0</td>\n",
       "      <td>0.0</td>\n",
       "    </tr>\n",
       "    <tr>\n",
       "      <th>MultipleLines</th>\n",
       "      <td>0</td>\n",
       "      <td>0.0</td>\n",
       "    </tr>\n",
       "    <tr>\n",
       "      <th>InternetService</th>\n",
       "      <td>0</td>\n",
       "      <td>0.0</td>\n",
       "    </tr>\n",
       "    <tr>\n",
       "      <th>OnlineSecurity</th>\n",
       "      <td>0</td>\n",
       "      <td>0.0</td>\n",
       "    </tr>\n",
       "    <tr>\n",
       "      <th>OnlineBackup</th>\n",
       "      <td>0</td>\n",
       "      <td>0.0</td>\n",
       "    </tr>\n",
       "    <tr>\n",
       "      <th>DeviceProtection</th>\n",
       "      <td>0</td>\n",
       "      <td>0.0</td>\n",
       "    </tr>\n",
       "    <tr>\n",
       "      <th>TechSupport</th>\n",
       "      <td>0</td>\n",
       "      <td>0.0</td>\n",
       "    </tr>\n",
       "    <tr>\n",
       "      <th>StreamingTV</th>\n",
       "      <td>0</td>\n",
       "      <td>0.0</td>\n",
       "    </tr>\n",
       "    <tr>\n",
       "      <th>StreamingMovies</th>\n",
       "      <td>0</td>\n",
       "      <td>0.0</td>\n",
       "    </tr>\n",
       "    <tr>\n",
       "      <th>Contract</th>\n",
       "      <td>0</td>\n",
       "      <td>0.0</td>\n",
       "    </tr>\n",
       "    <tr>\n",
       "      <th>PaperlessBilling</th>\n",
       "      <td>0</td>\n",
       "      <td>0.0</td>\n",
       "    </tr>\n",
       "    <tr>\n",
       "      <th>PaymentMethod</th>\n",
       "      <td>0</td>\n",
       "      <td>0.0</td>\n",
       "    </tr>\n",
       "    <tr>\n",
       "      <th>MonthlyCharges</th>\n",
       "      <td>0</td>\n",
       "      <td>0.0</td>\n",
       "    </tr>\n",
       "    <tr>\n",
       "      <th>TotalCharges</th>\n",
       "      <td>0</td>\n",
       "      <td>0.0</td>\n",
       "    </tr>\n",
       "    <tr>\n",
       "      <th>Churn</th>\n",
       "      <td>0</td>\n",
       "      <td>0.0</td>\n",
       "    </tr>\n",
       "  </tbody>\n",
       "</table>\n",
       "</div>"
      ],
      "text/plain": [
       "                  No. of missing values  % missing_values\n",
       "customerID                            0               0.0\n",
       "gender                                0               0.0\n",
       "SeniorCitizen                         0               0.0\n",
       "Partner                               0               0.0\n",
       "Dependents                            0               0.0\n",
       "tenure                                0               0.0\n",
       "PhoneService                          0               0.0\n",
       "MultipleLines                         0               0.0\n",
       "InternetService                       0               0.0\n",
       "OnlineSecurity                        0               0.0\n",
       "OnlineBackup                          0               0.0\n",
       "DeviceProtection                      0               0.0\n",
       "TechSupport                           0               0.0\n",
       "StreamingTV                           0               0.0\n",
       "StreamingMovies                       0               0.0\n",
       "Contract                              0               0.0\n",
       "PaperlessBilling                      0               0.0\n",
       "PaymentMethod                         0               0.0\n",
       "MonthlyCharges                        0               0.0\n",
       "TotalCharges                          0               0.0\n",
       "Churn                                 0               0.0"
      ]
     },
     "execution_count": 7,
     "metadata": {},
     "output_type": "execute_result"
    }
   ],
   "source": [
    "cek = pd.DataFrame(data.isnull().sum(), columns=['No. of missing values'])\n",
    "cek['% missing_values'] = (cek/len(df)).round(2)*100\n",
    "cek"
   ]
  },
  {
   "cell_type": "markdown",
   "metadata": {},
   "source": [
    "Tidak terdapat missing value pada data yang akan diolah"
   ]
  },
  {
   "cell_type": "markdown",
   "metadata": {},
   "source": [
    "## Drop Kolom "
   ]
  },
  {
   "cell_type": "code",
   "execution_count": 8,
   "metadata": {},
   "outputs": [
    {
     "data": {
      "text/html": [
       "<div>\n",
       "<style scoped>\n",
       "    .dataframe tbody tr th:only-of-type {\n",
       "        vertical-align: middle;\n",
       "    }\n",
       "\n",
       "    .dataframe tbody tr th {\n",
       "        vertical-align: top;\n",
       "    }\n",
       "\n",
       "    .dataframe thead th {\n",
       "        text-align: right;\n",
       "    }\n",
       "</style>\n",
       "<table border=\"1\" class=\"dataframe\">\n",
       "  <thead>\n",
       "    <tr style=\"text-align: right;\">\n",
       "      <th></th>\n",
       "      <th>gender</th>\n",
       "      <th>SeniorCitizen</th>\n",
       "      <th>Partner</th>\n",
       "      <th>Dependents</th>\n",
       "      <th>tenure</th>\n",
       "      <th>PhoneService</th>\n",
       "      <th>MultipleLines</th>\n",
       "      <th>InternetService</th>\n",
       "      <th>OnlineSecurity</th>\n",
       "      <th>OnlineBackup</th>\n",
       "      <th>DeviceProtection</th>\n",
       "      <th>TechSupport</th>\n",
       "      <th>StreamingTV</th>\n",
       "      <th>StreamingMovies</th>\n",
       "      <th>Contract</th>\n",
       "      <th>PaperlessBilling</th>\n",
       "      <th>PaymentMethod</th>\n",
       "      <th>MonthlyCharges</th>\n",
       "      <th>TotalCharges</th>\n",
       "      <th>Churn</th>\n",
       "    </tr>\n",
       "  </thead>\n",
       "  <tbody>\n",
       "    <tr>\n",
       "      <th>0</th>\n",
       "      <td>Female</td>\n",
       "      <td>0</td>\n",
       "      <td>Yes</td>\n",
       "      <td>No</td>\n",
       "      <td>1</td>\n",
       "      <td>No</td>\n",
       "      <td>No phone service</td>\n",
       "      <td>DSL</td>\n",
       "      <td>No</td>\n",
       "      <td>Yes</td>\n",
       "      <td>No</td>\n",
       "      <td>No</td>\n",
       "      <td>No</td>\n",
       "      <td>No</td>\n",
       "      <td>Month-to-month</td>\n",
       "      <td>Yes</td>\n",
       "      <td>Electronic check</td>\n",
       "      <td>29.85</td>\n",
       "      <td>29.85</td>\n",
       "      <td>No</td>\n",
       "    </tr>\n",
       "    <tr>\n",
       "      <th>1</th>\n",
       "      <td>Male</td>\n",
       "      <td>0</td>\n",
       "      <td>No</td>\n",
       "      <td>No</td>\n",
       "      <td>34</td>\n",
       "      <td>Yes</td>\n",
       "      <td>No</td>\n",
       "      <td>DSL</td>\n",
       "      <td>Yes</td>\n",
       "      <td>No</td>\n",
       "      <td>Yes</td>\n",
       "      <td>No</td>\n",
       "      <td>No</td>\n",
       "      <td>No</td>\n",
       "      <td>One year</td>\n",
       "      <td>No</td>\n",
       "      <td>Mailed check</td>\n",
       "      <td>56.95</td>\n",
       "      <td>1889.50</td>\n",
       "      <td>No</td>\n",
       "    </tr>\n",
       "  </tbody>\n",
       "</table>\n",
       "</div>"
      ],
      "text/plain": [
       "   gender SeniorCitizen Partner Dependents  tenure PhoneService  \\\n",
       "0  Female             0     Yes         No       1           No   \n",
       "1    Male             0      No         No      34          Yes   \n",
       "\n",
       "      MultipleLines InternetService OnlineSecurity OnlineBackup  \\\n",
       "0  No phone service             DSL             No          Yes   \n",
       "1                No             DSL            Yes           No   \n",
       "\n",
       "  DeviceProtection TechSupport StreamingTV StreamingMovies        Contract  \\\n",
       "0               No          No          No              No  Month-to-month   \n",
       "1              Yes          No          No              No        One year   \n",
       "\n",
       "  PaperlessBilling     PaymentMethod  MonthlyCharges  TotalCharges Churn  \n",
       "0              Yes  Electronic check           29.85         29.85    No  \n",
       "1               No      Mailed check           56.95       1889.50    No  "
      ]
     },
     "execution_count": 8,
     "metadata": {},
     "output_type": "execute_result"
    }
   ],
   "source": [
    "data.drop(columns=[\"customerID\"],axis=1,inplace=True)\n",
    "data.head(2)"
   ]
  },
  {
   "cell_type": "markdown",
   "metadata": {},
   "source": [
    "Setelah melihat data secara menyeluruh, saya memutuskan untuk melakukan drop column customerID karena informasi yang disajikan tidak memberikan informasi yang penting."
   ]
  },
  {
   "cell_type": "markdown",
   "metadata": {},
   "source": [
    "# **4. Exploratory Data Analysis (EDA)**"
   ]
  },
  {
   "cell_type": "markdown",
   "metadata": {},
   "source": [
    "## Visualisasi Churn"
   ]
  },
  {
   "cell_type": "code",
   "execution_count": 9,
   "metadata": {},
   "outputs": [
    {
     "data": {
      "image/png": "[encoded data removed]",
      "text/plain": [
       "<Figure size 864x360 with 2 Axes>"
      ]
     },
     "metadata": {
      "needs_background": "light"
     },
     "output_type": "display_data"
    }
   ],
   "source": [
    "fig, axs = plt.subplots(ncols=2, figsize=(12,5))\n",
    "data['Churn'].value_counts().plot.pie(autopct='%1.1f%%', startangle = 90, ax=axs[0])\n",
    "data['Churn'].value_counts().plot(kind='bar', ax=axs[1])\n",
    "plt.title('Churn')\n",
    "plt.xticks(rotation = 0)\n",
    "plt.show()"
   ]
  },
  {
   "cell_type": "markdown",
   "metadata": {},
   "source": [
    "- Terlihat bahwa pada kolom churn memiliki 2 value yaitu Yes dan No. Yes mengindikasikan bahwa pelanggang yang berhenti berlangganan, sedangakan No mengindikasikan bahwa pelanggan yang tidak berhenti berlangganan.\n",
    "- Persentase Churn dengan label `Yes` sebesar `26.5%` dan untuk label `No` sebesar `73.5%`. Hal ini mengartikan bahwa masih banyak pelanggan yang setia dibandingkan yang berhenti berlangganan."
   ]
  },
  {
   "cell_type": "markdown",
   "metadata": {},
   "source": [
    "Terlihat bahwa pada kolom churn untuk label No sebanyak 73.5% dan label Yes 26.5%. Terhitah bahwa data yang dimiliki tidaklah balance, sehingga perlu dilakukan handling imbalance"
   ]
  },
  {
   "cell_type": "markdown",
   "metadata": {},
   "source": [
    "## Churn vs Gender"
   ]
  },
  {
   "cell_type": "code",
   "execution_count": 10,
   "metadata": {},
   "outputs": [
    {
     "data": {
      "image/png": "[encoded data removed]",
      "text/plain": [
       "<Figure size 864x360 with 1 Axes>"
      ]
     },
     "metadata": {
      "needs_background": "light"
     },
     "output_type": "display_data"
    }
   ],
   "source": [
    "pd.crosstab(data.gender, data.Churn).plot(kind=\"bar\",figsize=(12,5),color=[\"#8ad767\",'#f5d77a'])\n",
    "plt.title('Perbandingan Churn vs Gender')\n",
    "plt.xlabel('Gender')\n",
    "plt.ylabel('Frequency Gender')\n",
    "plt.xticks(rotation = 0)\n",
    "plt.show()"
   ]
  },
  {
   "cell_type": "markdown",
   "metadata": {},
   "source": [
    "Berdasarkan visualisasi diatas terlihat bahwa perbedaan gender tidaklah berpengaruh terhadap churn pelanggan."
   ]
  },
  {
   "cell_type": "markdown",
   "metadata": {},
   "source": [
    "## Churn vs Senior Citizen"
   ]
  },
  {
   "cell_type": "code",
   "execution_count": 11,
   "metadata": {},
   "outputs": [
    {
     "data": {
      "image/png": "[encoded data removed]",
      "text/plain": [
       "<Figure size 864x360 with 1 Axes>"
      ]
     },
     "metadata": {
      "needs_background": "light"
     },
     "output_type": "display_data"
    }
   ],
   "source": [
    "pd.crosstab(data.SeniorCitizen, data.Churn).plot(kind=\"bar\",figsize=(12,5),color=[\"#f44336\",'#4336f4'])\n",
    "plt.title('Perbandingan Churn vs Senior Citizen')\n",
    "plt.xlabel('Senior Citizen')\n",
    "plt.ylabel('Frequency Senior Citizen')\n",
    "plt.xticks(rotation = 0)\n",
    "plt.show()"
   ]
  },
  {
   "cell_type": "markdown",
   "metadata": {},
   "source": [
    "Terjadinya churn pelanggan berdasarkan kolom SeniorCitizen di dominasil oleh label 0. Hal ini mengindikasikan bahwa kebanyakan pelanggan yang melakukan churn bukan merupakan warga senior."
   ]
  },
  {
   "cell_type": "markdown",
   "metadata": {},
   "source": [
    "## Churn vs Partner"
   ]
  },
  {
   "cell_type": "code",
   "execution_count": 12,
   "metadata": {},
   "outputs": [
    {
     "data": {
      "image/png": "[encoded data removed]",
      "text/plain": [
       "<Figure size 864x360 with 1 Axes>"
      ]
     },
     "metadata": {
      "needs_background": "light"
     },
     "output_type": "display_data"
    }
   ],
   "source": [
    "pd.crosstab(data.Partner, data.Churn).plot(kind=\"bar\",figsize=(12,5),color=['#03a9f4','#f43688'])\n",
    "plt.title('Perbandingan Churn vs Partner')\n",
    "plt.xlabel('Partner')\n",
    "plt.ylabel('Frequency Partner')\n",
    "plt.xticks(rotation = 0)\n",
    "plt.show()"
   ]
  },
  {
   "cell_type": "markdown",
   "metadata": {},
   "source": [
    "Berdasarkan visualisasi terlihat bahwa yang bukan partner lebih banyak melakukan churn dibandikang yang merupaka partner. Sehingga dapat dikatakan bahwa Partner mempenagruhi Churn pelanggan"
   ]
  },
  {
   "cell_type": "markdown",
   "metadata": {},
   "source": [
    "## Churn vs Dependents"
   ]
  },
  {
   "cell_type": "code",
   "execution_count": 13,
   "metadata": {},
   "outputs": [
    {
     "data": {
      "image/png": "[encoded data removed]",
      "text/plain": [
       "<Figure size 864x360 with 1 Axes>"
      ]
     },
     "metadata": {
      "needs_background": "light"
     },
     "output_type": "display_data"
    }
   ],
   "source": [
    "pd.crosstab(data.Dependents, data.Churn).plot(kind=\"bar\",figsize=(12,5),color=['#e91e63','#bf7f2f'])\n",
    "plt.title('Perbandingan Churn vs Dependents')\n",
    "plt.xlabel('Dependents')\n",
    "plt.ylabel('Frequency Dependents')\n",
    "plt.xticks(rotation = 0)\n",
    "plt.show()"
   ]
  },
  {
   "cell_type": "markdown",
   "metadata": {},
   "source": [
    "Terlihat bahwa yang tidak memiliki tanggungan lebih dominan melakukan churn pelanggan dibandingkan dengan yang memiliki tanggungan"
   ]
  },
  {
   "cell_type": "markdown",
   "metadata": {},
   "source": [
    "## Churn vs Phone Service"
   ]
  },
  {
   "cell_type": "code",
   "execution_count": 14,
   "metadata": {},
   "outputs": [
    {
     "data": {
      "image/png": "[encoded data removed]",
      "text/plain": [
       "<Figure size 864x360 with 1 Axes>"
      ]
     },
     "metadata": {
      "needs_background": "light"
     },
     "output_type": "display_data"
    }
   ],
   "source": [
    "pd.crosstab(data.PhoneService, data.Churn).plot(kind=\"bar\",figsize=(12,5),color=['#ecd07c','#4caf50'])\n",
    "plt.title('Perbandingan Churn vs PhoneService')\n",
    "plt.xlabel('Phone Service')\n",
    "plt.ylabel('Frequency PhoneService')\n",
    "plt.xticks(rotation = 0)\n",
    "plt.show()"
   ]
  },
  {
   "cell_type": "markdown",
   "metadata": {},
   "source": [
    "Phone service dengan label yes lebih cenderung melakukan churn dibandingkan label no"
   ]
  },
  {
   "cell_type": "markdown",
   "metadata": {},
   "source": [
    "## Churn vs Multiple Lines"
   ]
  },
  {
   "cell_type": "code",
   "execution_count": 15,
   "metadata": {},
   "outputs": [
    {
     "data": {
      "image/png": "[encoded data removed]",
      "text/plain": [
       "<Figure size 864x360 with 1 Axes>"
      ]
     },
     "metadata": {
      "needs_background": "light"
     },
     "output_type": "display_data"
    }
   ],
   "source": [
    "pd.crosstab(data.MultipleLines, data.Churn).plot(kind=\"bar\",figsize=(12,5),color=['#d2e275','#6ce7e2'])\n",
    "plt.title('Perbandingan Churn vs MultipleLines')\n",
    "plt.xlabel('MultipleLines')\n",
    "plt.ylabel('Frequency MultipleLines')\n",
    "plt.xticks(rotation = 0)\n",
    "plt.show()"
   ]
  },
  {
   "cell_type": "markdown",
   "metadata": {},
   "source": [
    "Multiplines dengan label No dan Yes cenderung melakukan churn dibandingkan dengan label lainnya"
   ]
  },
  {
   "cell_type": "markdown",
   "metadata": {},
   "source": [
    "## Churn vs Internet Service"
   ]
  },
  {
   "cell_type": "code",
   "execution_count": 16,
   "metadata": {},
   "outputs": [
    {
     "data": {
      "image/png": "[encoded data removed]",
      "text/plain": [
       "<Figure size 864x360 with 1 Axes>"
      ]
     },
     "metadata": {
      "needs_background": "light"
     },
     "output_type": "display_data"
    }
   ],
   "source": [
    "pd.crosstab(data.InternetService, data.Churn).plot(kind=\"bar\",figsize=(12,5),color=['#c3c0f0','#8a6c89'])\n",
    "plt.title('Perbandingan Churn vs Internet Service')\n",
    "plt.xlabel('Internet Service')\n",
    "plt.ylabel('Frequency Internet Service')\n",
    "plt.xticks(rotation = 0)\n",
    "plt.show()"
   ]
  },
  {
   "cell_type": "markdown",
   "metadata": {},
   "source": [
    "Internet sevice dengan label Fiber optic lebih cenderung melakukan churn dibandingkan dengan label lainnya"
   ]
  },
  {
   "cell_type": "markdown",
   "metadata": {},
   "source": [
    "## Churn vs Online Security"
   ]
  },
  {
   "cell_type": "code",
   "execution_count": 17,
   "metadata": {},
   "outputs": [
    {
     "data": {
      "image/png": "[encoded data removed]",
      "text/plain": [
       "<Figure size 864x360 with 1 Axes>"
      ]
     },
     "metadata": {
      "needs_background": "light"
     },
     "output_type": "display_data"
    }
   ],
   "source": [
    "pd.crosstab(data.OnlineSecurity, data.Churn).plot(kind=\"bar\",figsize=(12,5),color=['#4a9f60','#3f51b5'])\n",
    "plt.title('Perbandingan Churn vs Online Security')\n",
    "plt.xlabel('Online Security')\n",
    "plt.ylabel('Frequency Online Security')\n",
    "plt.xticks(rotation = 0)\n",
    "plt.show()"
   ]
  },
  {
   "cell_type": "markdown",
   "metadata": {},
   "source": [
    "Online security dengan lavel No lebih cenderung melakukan churn dibandingkan dengan label lainnya"
   ]
  },
  {
   "cell_type": "markdown",
   "metadata": {},
   "source": [
    "## Churn vs Online Backup"
   ]
  },
  {
   "cell_type": "code",
   "execution_count": 18,
   "metadata": {},
   "outputs": [
    {
     "data": {
      "image/png": "[encoded data removed]",
      "text/plain": [
       "<Figure size 864x360 with 1 Axes>"
      ]
     },
     "metadata": {
      "needs_background": "light"
     },
     "output_type": "display_data"
    }
   ],
   "source": [
    "pd.crosstab(data.OnlineBackup, data.Churn).plot(kind=\"bar\",figsize=(12,5),color=[\"#f44336\",'#ece03e'])\n",
    "plt.title('Perbandingan Churn vs Online Backup')\n",
    "plt.xlabel('Online Backup')\n",
    "plt.ylabel('Frequency Online Backup')\n",
    "plt.xticks(rotation = 0)\n",
    "plt.show()"
   ]
  },
  {
   "cell_type": "markdown",
   "metadata": {},
   "source": [
    "Online backup dengan label No lebih cenderung melakukan churn dibandingkan labebl lainnya"
   ]
  },
  {
   "cell_type": "markdown",
   "metadata": {},
   "source": [
    "## Churn vs Device Protection"
   ]
  },
  {
   "cell_type": "code",
   "execution_count": 19,
   "metadata": {},
   "outputs": [
    {
     "data": {
      "image/png": "[encoded data removed]",
      "text/plain": [
       "<Figure size 864x360 with 1 Axes>"
      ]
     },
     "metadata": {
      "needs_background": "light"
     },
     "output_type": "display_data"
    }
   ],
   "source": [
    "pd.crosstab(data.DeviceProtection, data.Churn).plot(kind=\"bar\",figsize=(12,5),color=['#656e65','#40ec3e'])\n",
    "plt.title('Perbandingan Churn vs Device Protection')\n",
    "plt.xlabel('Device Protection')\n",
    "plt.ylabel('Frequency Device Protection')\n",
    "plt.xticks(rotation = 0)\n",
    "plt.show()"
   ]
  },
  {
   "cell_type": "markdown",
   "metadata": {},
   "source": [
    "Device protection dengan label no lebih cenderung melakukan churn dibandingkan label lainnya"
   ]
  },
  {
   "cell_type": "markdown",
   "metadata": {},
   "source": [
    "## Churn vs Tech Support"
   ]
  },
  {
   "cell_type": "code",
   "execution_count": 20,
   "metadata": {},
   "outputs": [
    {
     "data": {
      "image/png": "[encoded data removed]",
      "text/plain": [
       "<Figure size 864x360 with 1 Axes>"
      ]
     },
     "metadata": {
      "needs_background": "light"
     },
     "output_type": "display_data"
    }
   ],
   "source": [
    "pd.crosstab(data.TechSupport, data.Churn).plot(kind=\"bar\",figsize=(12,5),color=['#a64d79','#9ee489'])\n",
    "plt.title('Perbandingan Churn vs Tech Support')\n",
    "plt.xlabel('Tech Support')\n",
    "plt.ylabel('Frequency Tech Support')\n",
    "plt.xticks(rotation = 0)\n",
    "plt.show()"
   ]
  },
  {
   "cell_type": "markdown",
   "metadata": {},
   "source": [
    "Tech support dengan label No lebih cenderung melakukan churn dibandingkan dengan label lainnya."
   ]
  },
  {
   "cell_type": "markdown",
   "metadata": {},
   "source": [
    "## Churn vs Streaming TV"
   ]
  },
  {
   "cell_type": "code",
   "execution_count": 21,
   "metadata": {},
   "outputs": [
    {
     "data": {
      "image/png": "[encoded data removed]",
      "text/plain": [
       "<Figure size 864x360 with 1 Axes>"
      ]
     },
     "metadata": {
      "needs_background": "light"
     },
     "output_type": "display_data"
    }
   ],
   "source": [
    "pd.crosstab(data.StreamingTV, data.Churn).plot(kind=\"bar\",figsize=(12,5),color=['#8673b6','#03a9f4'])\n",
    "plt.title('Perbandingan Churn vs Streaming TV')\n",
    "plt.xlabel('Streaming TV')\n",
    "plt.ylabel('Frequency Streaming TV')\n",
    "plt.xticks(rotation = 0)\n",
    "plt.show()"
   ]
  },
  {
   "cell_type": "markdown",
   "metadata": {},
   "source": [
    "Streaming TV dengan label no lebih cenderung melakukan churn pelanggan dibandingkan dengan label lainnya"
   ]
  },
  {
   "cell_type": "markdown",
   "metadata": {},
   "source": [
    "## Churn vs Streaming Movies"
   ]
  },
  {
   "cell_type": "code",
   "execution_count": 22,
   "metadata": {},
   "outputs": [
    {
     "data": {
      "image/png": "[encoded data removed]",
      "text/plain": [
       "<Figure size 864x360 with 1 Axes>"
      ]
     },
     "metadata": {
      "needs_background": "light"
     },
     "output_type": "display_data"
    }
   ],
   "source": [
    "pd.crosstab(data.StreamingMovies, data.Churn).plot(kind=\"bar\",figsize=(12,5),color=[\"#f44336\",'#673ab7'])\n",
    "plt.title('Perbandingan Churn vs Streaming Movies')\n",
    "plt.xlabel('Streaming Movies')\n",
    "plt.ylabel('Frequency Streaming Movies')\n",
    "plt.xticks(rotation = 0)\n",
    "plt.show()"
   ]
  },
  {
   "cell_type": "markdown",
   "metadata": {},
   "source": [
    "Streaming movies dengan label no lebih cenderung melakukan churn dibandingkan dengan label lainnya."
   ]
  },
  {
   "cell_type": "markdown",
   "metadata": {},
   "source": [
    "## Churn vs Contract"
   ]
  },
  {
   "cell_type": "code",
   "execution_count": 23,
   "metadata": {},
   "outputs": [
    {
     "data": {
      "image/png": "[encoded data removed]",
      "text/plain": [
       "<Figure size 864x360 with 1 Axes>"
      ]
     },
     "metadata": {
      "needs_background": "light"
     },
     "output_type": "display_data"
    }
   ],
   "source": [
    "pd.crosstab(data.Contract, data.Churn).plot(kind=\"bar\",figsize=(12,5),color=['#dde936','#3fa147'])\n",
    "plt.title('Perbandingan Churn vs Contract')\n",
    "plt.xlabel('Contract')\n",
    "plt.ylabel('Frequency Contract')\n",
    "plt.xticks(rotation = 0)\n",
    "plt.show()"
   ]
  },
  {
   "cell_type": "markdown",
   "metadata": {},
   "source": [
    "Terjadinya churn pelanggan dengan status kontrak month to month cenderung melakukan churn"
   ]
  },
  {
   "cell_type": "markdown",
   "metadata": {},
   "source": [
    "## Churn vs Paperless Billling"
   ]
  },
  {
   "cell_type": "code",
   "execution_count": 24,
   "metadata": {},
   "outputs": [
    {
     "data": {
      "image/png": "[encoded data removed]",
      "text/plain": [
       "<Figure size 864x360 with 1 Axes>"
      ]
     },
     "metadata": {
      "needs_background": "light"
     },
     "output_type": "display_data"
    }
   ],
   "source": [
    "pd.crosstab(data.PaperlessBilling, data.Churn).plot(kind=\"bar\",figsize=(12,5),color=['#c56ccf','#ef99b3'])\n",
    "plt.title('Perbandingan Churn vs Paperless Billing')\n",
    "plt.xlabel('Paperless Billing')\n",
    "plt.ylabel('Frequency Paperless Billing')\n",
    "plt.xticks(rotation = 0)\n",
    "plt.show()"
   ]
  },
  {
   "cell_type": "markdown",
   "metadata": {},
   "source": [
    "Churn pelaggan dengan label yes cenderung dilakukan oleh tipe pelanggan yang melakukan penagihan dengan kertas."
   ]
  },
  {
   "cell_type": "markdown",
   "metadata": {},
   "source": [
    "## Churn vs Payment Method"
   ]
  },
  {
   "cell_type": "code",
   "execution_count": 25,
   "metadata": {},
   "outputs": [
    {
     "data": {
      "image/png": "[encoded data removed]",
      "text/plain": [
       "<Figure size 864x360 with 1 Axes>"
      ]
     },
     "metadata": {
      "needs_background": "light"
     },
     "output_type": "display_data"
    }
   ],
   "source": [
    "pd.crosstab(data.PaymentMethod, data.Churn).plot(kind=\"bar\",figsize=(12,5),color=['#e7c661','#4336f4'])\n",
    "plt.title('Perbandingan Churn vs Payment Method')\n",
    "plt.xlabel('Payment Method')\n",
    "plt.ylabel('Frequency PaymentMethod')\n",
    "plt.xticks(rotation = 0)\n",
    "plt.show()"
   ]
  },
  {
   "cell_type": "markdown",
   "metadata": {},
   "source": [
    "Churn pelanggang dengan label yes dominan dilakukan oleh tipe pelanggan dengan metode pembayaran menggunakan electronic check"
   ]
  },
  {
   "cell_type": "markdown",
   "metadata": {},
   "source": [
    "# **5. DATA PREPROCESSING**"
   ]
  },
  {
   "cell_type": "markdown",
   "metadata": {},
   "source": [
    "## Data Inference"
   ]
  },
  {
   "cell_type": "code",
   "execution_count": 26,
   "metadata": {},
   "outputs": [],
   "source": [
    "data_inf = data.sample(10, random_state=12)"
   ]
  },
  {
   "cell_type": "markdown",
   "metadata": {},
   "source": [
    "## Pisahkan Data Inference Dari Dataset"
   ]
  },
  {
   "cell_type": "code",
   "execution_count": 27,
   "metadata": {},
   "outputs": [],
   "source": [
    "data_train_test = data.drop(data_inf.index)"
   ]
  },
  {
   "cell_type": "markdown",
   "metadata": {},
   "source": [
    "## Reset Index (Optional)"
   ]
  },
  {
   "cell_type": "code",
   "execution_count": 28,
   "metadata": {},
   "outputs": [],
   "source": [
    "data_inf.reset_index(drop=True, inplace=True)\n",
    "data_train_test.reset_index(drop=True, inplace=True)"
   ]
  },
  {
   "cell_type": "markdown",
   "metadata": {},
   "source": [
    "## Split Dataset"
   ]
  },
  {
   "cell_type": "markdown",
   "metadata": {},
   "source": [
    "**Split Between `Numerical Columns` and `Categorical Columns`**"
   ]
  },
  {
   "cell_type": "code",
   "execution_count": 29,
   "metadata": {},
   "outputs": [],
   "source": [
    "num = ['tenure','MonthlyCharges','TotalCharges']\n",
    "\n",
    "cat = ['gender', 'SeniorCitizen', 'Partner', 'Dependents','PhoneService', \n",
    "        'MultipleLines', 'InternetService', 'OnlineSecurity',\n",
    "       'OnlineBackup', 'DeviceProtection', 'TechSupport', 'StreamingTV',\n",
    "       'StreamingMovies', 'Contract', 'PaperlessBilling', 'PaymentMethod', 'Churn']"
   ]
  },
  {
   "cell_type": "markdown",
   "metadata": {},
   "source": [
    "**Split `X(features)` and `y(target)`**"
   ]
  },
  {
   "cell_type": "code",
   "execution_count": 30,
   "metadata": {},
   "outputs": [],
   "source": [
    "X = data.drop(['Churn'], axis=1)\n",
    "y = data['Churn']"
   ]
  },
  {
   "cell_type": "markdown",
   "metadata": {},
   "source": [
    "**Split `Tain`, `Test` and `Validation`**"
   ]
  },
  {
   "cell_type": "code",
   "execution_count": 31,
   "metadata": {},
   "outputs": [],
   "source": [
    "X_train_full, X_test, y_train_full, y_test = train_test_split(X,y, test_size=0.2, stratify=y, random_state=30)\n",
    "X_train, X_valid, y_train, y_valid = train_test_split(X_train_full, y_train_full, random_state=30)"
   ]
  },
  {
   "cell_type": "markdown",
   "metadata": {},
   "source": [
    "## Handling Outlier"
   ]
  },
  {
   "cell_type": "markdown",
   "metadata": {},
   "source": [
    "X_train"
   ]
  },
  {
   "cell_type": "code",
   "execution_count": 32,
   "metadata": {},
   "outputs": [
    {
     "name": "stdout",
     "output_type": "stream",
     "text": [
      "Column tenure outliers = 0.00%\n",
      "Column MonthlyCharges outliers = 0.00%\n",
      "Column TotalCharges outliers = 0.00%\n"
     ]
    }
   ],
   "source": [
    "# Check persentase outlier X_train\n",
    "num_train = X_train._get_numeric_data() \n",
    "for k, v in num_train.items():\n",
    "  q1 = v.quantile(0.25)\n",
    "  q3 = v.quantile(0.75)\n",
    "  irq = q3 - q1\n",
    "  v_col = v[(v <= q1 - 1.5 * irq) | (v >= q3 + 1.5 * irq)]\n",
    "  perc = np.shape(v_col)[0] * 100.0 / np.shape(num_train)[0]\n",
    "  print(\"Column %s outliers = %.2f%%\" % (k, perc))"
   ]
  },
  {
   "cell_type": "markdown",
   "metadata": {},
   "source": [
    "Setelah melakukan pengecekan data, terllihat bahwa outlier pada columns Senior Cityzen merupakan hal wajar karen anilainya adalah 0 dan 1 yang sesungguhnya merupakan categorik."
   ]
  },
  {
   "cell_type": "markdown",
   "metadata": {},
   "source": [
    "X_test"
   ]
  },
  {
   "cell_type": "code",
   "execution_count": 33,
   "metadata": {},
   "outputs": [
    {
     "name": "stdout",
     "output_type": "stream",
     "text": [
      "Column tenure outliers = 0.00%\n",
      "Column MonthlyCharges outliers = 0.00%\n",
      "Column TotalCharges outliers = 0.28%\n"
     ]
    }
   ],
   "source": [
    "# Check persentase outlier X_test\n",
    "num_test = X_test._get_numeric_data() \n",
    "for k, v in num_test.items():\n",
    "  q1 = v.quantile(0.25)\n",
    "  q3 = v.quantile(0.75)\n",
    "  irq = q3 - q1\n",
    "  v_col = v[(v <= q1 - 1.5 * irq) | (v >= q3 + 1.5 * irq)]\n",
    "  perc = np.shape(v_col)[0] * 100.0 / np.shape(num_test)[0]\n",
    "  print(\"Column %s outliers = %.2f%%\" % (k, perc))"
   ]
  },
  {
   "cell_type": "markdown",
   "metadata": {},
   "source": [
    "Terlihat bahwa terdapat outliers pada kolom TotalCharger sebesar 0.28%, sehingga kita perlu melakukan handling outlier"
   ]
  },
  {
   "cell_type": "code",
   "execution_count": 34,
   "metadata": {},
   "outputs": [],
   "source": [
    "# Handling outlier X_test\n",
    "def find_skewed_boundaries(data, variable, distance):\n",
    "    IQR = data[variable].quantile(0.75) - data[variable].quantile(0.25)\n",
    "\n",
    "    lower_boundary = data[variable].quantile(0.25) - (IQR * distance)\n",
    "    upper_boundary = data[variable].quantile(0.75) + (IQR * distance)\n",
    "\n",
    "    return upper_boundary, lower_boundary"
   ]
  },
  {
   "cell_type": "code",
   "execution_count": 35,
   "metadata": {},
   "outputs": [
    {
     "name": "stdout",
     "output_type": "stream",
     "text": [
      "Total Chargers upper limit :  8415.175\n",
      "Total Chargers lower limit :  -4411.424999999999 \n",
      "\n"
     ]
    }
   ],
   "source": [
    "# Limits for `TotalChargers`\n",
    "TotalCharges_upper_limit, TotalCharges_lower_limit = find_skewed_boundaries(X_test, 'TotalCharges', 1.5)\n",
    "TotalCharges_upper_limit, TotalCharges_lower_limit\n",
    "\n",
    "print('Total Chargers upper limit : ', TotalCharges_upper_limit)\n",
    "print('Total Chargers lower limit : ', TotalCharges_lower_limit, '\\n')"
   ]
  },
  {
   "cell_type": "code",
   "execution_count": 36,
   "metadata": {},
   "outputs": [
    {
     "data": {
      "text/plain": [
       "4"
      ]
     },
     "execution_count": 36,
     "metadata": {},
     "output_type": "execute_result"
    }
   ],
   "source": [
    "index_drop_test = X_test.index[X_test['TotalCharges'] > TotalCharges_upper_limit]\n",
    "index_drop_test.nunique()"
   ]
  },
  {
   "cell_type": "code",
   "execution_count": 37,
   "metadata": {},
   "outputs": [
    {
     "name": "stdout",
     "output_type": "stream",
     "text": [
      "(1405, 19)\n",
      "(1405,)\n"
     ]
    }
   ],
   "source": [
    "X_test = X_test.drop(index_drop_test.tolist())\n",
    "y_test = y_test.drop(index_drop_test.tolist())\n",
    "print(X_test.shape)\n",
    "print(y_test.shape)"
   ]
  },
  {
   "cell_type": "markdown",
   "metadata": {},
   "source": [
    "Outlier terlah berhasil di handling pada data X_test"
   ]
  },
  {
   "cell_type": "markdown",
   "metadata": {},
   "source": [
    "X_valid"
   ]
  },
  {
   "cell_type": "code",
   "execution_count": 38,
   "metadata": {},
   "outputs": [
    {
     "name": "stdout",
     "output_type": "stream",
     "text": [
      "Column tenure outliers = 0.00%\n",
      "Column MonthlyCharges outliers = 0.00%\n",
      "Column TotalCharges outliers = 0.00%\n"
     ]
    }
   ],
   "source": [
    "# Check presentasi outlier\n",
    "num_val = X_valid._get_numeric_data() \n",
    "for k, v in num_val.items():\n",
    "  q1 = v.quantile(0.25)\n",
    "  q3 = v.quantile(0.75)\n",
    "  irq = q3 - q1\n",
    "  v_col = v[(v <= q1 - 1.5 * irq) | (v >= q3 + 1.5 * irq)]\n",
    "  perc = np.shape(v_col)[0] * 100.0 / np.shape(num_val)[0]\n",
    "  print(\"Column %s outliers = %.2f%%\" % (k, perc))"
   ]
  },
  {
   "cell_type": "markdown",
   "metadata": {},
   "source": [
    "Terlihat bahwa tidak terdapat outlier pada data X_valid"
   ]
  },
  {
   "cell_type": "markdown",
   "metadata": {},
   "source": [
    "## Handling Missing Value"
   ]
  },
  {
   "cell_type": "code",
   "execution_count": 39,
   "metadata": {},
   "outputs": [
    {
     "data": {
      "text/html": [
       "<div>\n",
       "<style scoped>\n",
       "    .dataframe tbody tr th:only-of-type {\n",
       "        vertical-align: middle;\n",
       "    }\n",
       "\n",
       "    .dataframe tbody tr th {\n",
       "        vertical-align: top;\n",
       "    }\n",
       "\n",
       "    .dataframe thead th {\n",
       "        text-align: right;\n",
       "    }\n",
       "</style>\n",
       "<table border=\"1\" class=\"dataframe\">\n",
       "  <thead>\n",
       "    <tr style=\"text-align: right;\">\n",
       "      <th></th>\n",
       "      <th>Column Missing Value</th>\n",
       "      <th>Percentage of Missing Values</th>\n",
       "    </tr>\n",
       "  </thead>\n",
       "  <tbody>\n",
       "    <tr>\n",
       "      <th>gender</th>\n",
       "      <td>0</td>\n",
       "      <td>0.0</td>\n",
       "    </tr>\n",
       "    <tr>\n",
       "      <th>SeniorCitizen</th>\n",
       "      <td>0</td>\n",
       "      <td>0.0</td>\n",
       "    </tr>\n",
       "    <tr>\n",
       "      <th>Partner</th>\n",
       "      <td>0</td>\n",
       "      <td>0.0</td>\n",
       "    </tr>\n",
       "    <tr>\n",
       "      <th>Dependents</th>\n",
       "      <td>0</td>\n",
       "      <td>0.0</td>\n",
       "    </tr>\n",
       "    <tr>\n",
       "      <th>tenure</th>\n",
       "      <td>0</td>\n",
       "      <td>0.0</td>\n",
       "    </tr>\n",
       "    <tr>\n",
       "      <th>PhoneService</th>\n",
       "      <td>0</td>\n",
       "      <td>0.0</td>\n",
       "    </tr>\n",
       "    <tr>\n",
       "      <th>MultipleLines</th>\n",
       "      <td>0</td>\n",
       "      <td>0.0</td>\n",
       "    </tr>\n",
       "    <tr>\n",
       "      <th>InternetService</th>\n",
       "      <td>0</td>\n",
       "      <td>0.0</td>\n",
       "    </tr>\n",
       "    <tr>\n",
       "      <th>OnlineSecurity</th>\n",
       "      <td>0</td>\n",
       "      <td>0.0</td>\n",
       "    </tr>\n",
       "    <tr>\n",
       "      <th>OnlineBackup</th>\n",
       "      <td>0</td>\n",
       "      <td>0.0</td>\n",
       "    </tr>\n",
       "    <tr>\n",
       "      <th>DeviceProtection</th>\n",
       "      <td>0</td>\n",
       "      <td>0.0</td>\n",
       "    </tr>\n",
       "    <tr>\n",
       "      <th>TechSupport</th>\n",
       "      <td>0</td>\n",
       "      <td>0.0</td>\n",
       "    </tr>\n",
       "    <tr>\n",
       "      <th>StreamingTV</th>\n",
       "      <td>0</td>\n",
       "      <td>0.0</td>\n",
       "    </tr>\n",
       "    <tr>\n",
       "      <th>StreamingMovies</th>\n",
       "      <td>0</td>\n",
       "      <td>0.0</td>\n",
       "    </tr>\n",
       "    <tr>\n",
       "      <th>Contract</th>\n",
       "      <td>0</td>\n",
       "      <td>0.0</td>\n",
       "    </tr>\n",
       "    <tr>\n",
       "      <th>PaperlessBilling</th>\n",
       "      <td>0</td>\n",
       "      <td>0.0</td>\n",
       "    </tr>\n",
       "    <tr>\n",
       "      <th>PaymentMethod</th>\n",
       "      <td>0</td>\n",
       "      <td>0.0</td>\n",
       "    </tr>\n",
       "    <tr>\n",
       "      <th>MonthlyCharges</th>\n",
       "      <td>0</td>\n",
       "      <td>0.0</td>\n",
       "    </tr>\n",
       "    <tr>\n",
       "      <th>TotalCharges</th>\n",
       "      <td>0</td>\n",
       "      <td>0.0</td>\n",
       "    </tr>\n",
       "  </tbody>\n",
       "</table>\n",
       "</div>"
      ],
      "text/plain": [
       "                  Column Missing Value  Percentage of Missing Values \n",
       "gender                               0                            0.0\n",
       "SeniorCitizen                        0                            0.0\n",
       "Partner                              0                            0.0\n",
       "Dependents                           0                            0.0\n",
       "tenure                               0                            0.0\n",
       "PhoneService                         0                            0.0\n",
       "MultipleLines                        0                            0.0\n",
       "InternetService                      0                            0.0\n",
       "OnlineSecurity                       0                            0.0\n",
       "OnlineBackup                         0                            0.0\n",
       "DeviceProtection                     0                            0.0\n",
       "TechSupport                          0                            0.0\n",
       "StreamingTV                          0                            0.0\n",
       "StreamingMovies                      0                            0.0\n",
       "Contract                             0                            0.0\n",
       "PaperlessBilling                     0                            0.0\n",
       "PaymentMethod                        0                            0.0\n",
       "MonthlyCharges                       0                            0.0\n",
       "TotalCharges                         0                            0.0"
      ]
     },
     "execution_count": 39,
     "metadata": {},
     "output_type": "execute_result"
    }
   ],
   "source": [
    "# Check Missing Valeu\n",
    "cek = pd.DataFrame(X_train.isnull().sum(), columns=['Column Missing Value'])\n",
    "cek['Percentage of Missing Values '] = (cek/len(X_train)).round(2)*100\n",
    "cek"
   ]
  },
  {
   "cell_type": "markdown",
   "metadata": {},
   "source": [
    "Terlihat bahwa data telah bersih dari adanya missing value, sehingga tidak perlu dilakukan handling"
   ]
  },
  {
   "cell_type": "markdown",
   "metadata": {},
   "source": [
    "## Feature Enginereing"
   ]
  },
  {
   "cell_type": "code",
   "execution_count": 40,
   "metadata": {},
   "outputs": [],
   "source": [
    "def conditional_entropy(x,y):\n",
    "    # entropy of x given y\n",
    "    y_counter = Counter(y)\n",
    "    xy_counter = Counter(list(zip(x,y)))\n",
    "    total_occurrences = sum(y_counter.values())\n",
    "    entropy = 0\n",
    "    for xy in xy_counter.keys():\n",
    "        p_xy = xy_counter[xy] / total_occurrences\n",
    "        p_y = y_counter[xy[1]] / total_occurrences\n",
    "        entropy += p_xy * math.log(p_y/p_xy)\n",
    "    return entropy\n",
    "\n",
    "def theil_u(x,y):\n",
    "    s_xy = conditional_entropy(x,y)\n",
    "    x_counter = Counter(x)\n",
    "    total_occurrences = sum(x_counter.values())\n",
    "    p_x = list(map(lambda n: n/total_occurrences, x_counter.values()))\n",
    "    s_x = ss.entropy(p_x)\n",
    "    if s_x == 0:\n",
    "        return 1\n",
    "    else:\n",
    "        return (s_x - s_xy) / s_x"
   ]
  },
  {
   "cell_type": "code",
   "execution_count": 41,
   "metadata": {},
   "outputs": [
    {
     "data": {
      "image/png": "[encoded data removed]",
      "text/plain": [
       "<Figure size 648x360 with 1 Axes>"
      ]
     },
     "metadata": {
      "needs_background": "light"
     },
     "output_type": "display_data"
    }
   ],
   "source": [
    "# feature extraction\n",
    "model_selec = ExtraTreesClassifier(n_estimators=400)\n",
    "model_selec.fit(X_train[num], y_train)\n",
    "\n",
    "# feature_importances_ from highest to lowest\n",
    "sorted_idx = np.argsort(model_selec.feature_importances_)\n",
    "sorted_idx = sorted_idx[::-1]\n",
    "\n",
    "# plot fitur penting\n",
    "plt.figure(figsize=(9,5))\n",
    "plt.title(\"Feature Importances\")\n",
    "plt.bar(range(X_train[num].shape[1]), model_selec.feature_importances_[sorted_idx], color=\"#9ee489\")\n",
    "plt.xticks(range(X_train[num].shape[1]), X_train[num].columns[sorted_idx], rotation=0)\n",
    "plt.xlim([-1, X_train[num].shape[1]])\n",
    "plt.show()"
   ]
  },
  {
   "cell_type": "code",
   "execution_count": 42,
   "metadata": {},
   "outputs": [
    {
     "data": {
      "image/png": "[encoded data removed]",
      "text/plain": [
       "<Figure size 1440x216 with 2 Axes>"
      ]
     },
     "metadata": {
      "needs_background": "light"
     },
     "output_type": "display_data"
    }
   ],
   "source": [
    "# Melihat korelasi terhadap kolom Churn\n",
    "target = pd.DataFrame(index=['Churn'],columns=data[cat].columns)\n",
    "columns = data[cat].columns\n",
    "for j in range(0,len(columns)):\n",
    "    u = theil_u(data['Churn'].tolist(),data[columns[j]].tolist())\n",
    "    target.loc[:,columns[j]] = u\n",
    "target.fillna(value=np.nan,inplace=True)\n",
    "plt.rcParams['font.size'] = '12'\n",
    "plt.figure(figsize=(20,3))\n",
    "sns.heatmap(target,annot=True,fmt='.2f', cmap = 'YlGnBu')\n",
    "plt.xticks(rotation=45)\n",
    "plt.title('Korelasi Terhadap Kolom Churn')\n",
    "plt.show()"
   ]
  },
  {
   "cell_type": "markdown",
   "metadata": {},
   "source": [
    "Berdasarkan hasil EDA dan feature importent, maka saya memutuskan untuk memilih kolom berikut sebagai proses analisis lebih lanjut.\n",
    "- OnlineSecurity\n",
    "- TechSupport\n",
    "- Contract\n",
    "- MonthlyCharges\n",
    "- TotalCharges"
   ]
  },
  {
   "cell_type": "code",
   "execution_count": 43,
   "metadata": {},
   "outputs": [],
   "source": [
    "X_train = X_train.loc[:,['tenure','OnlineSecurity','TechSupport','Contract','MonthlyCharges','TotalCharges']]\n",
    "X_test = X_test.loc[:,['tenure','OnlineSecurity','TechSupport','Contract','MonthlyCharges','TotalCharges']]\n",
    "X_valid = X_valid.loc[:,['tenure','OnlineSecurity','TechSupport','Contract','MonthlyCharges','TotalCharges']]"
   ]
  },
  {
   "cell_type": "code",
   "execution_count": 44,
   "metadata": {},
   "outputs": [],
   "source": [
    "np.random.seed(50)\n",
    "tf.random.set_seed(50)"
   ]
  },
  {
   "cell_type": "markdown",
   "metadata": {},
   "source": [
    "Setting random seed agar nilai yang diperoleh nanti tidak berubah-ubah"
   ]
  },
  {
   "cell_type": "markdown",
   "metadata": {},
   "source": [
    "## Feature Encoding"
   ]
  },
  {
   "cell_type": "code",
   "execution_count": 45,
   "metadata": {},
   "outputs": [
    {
     "data": {
      "text/html": [
       "<div>\n",
       "<style scoped>\n",
       "    .dataframe tbody tr th:only-of-type {\n",
       "        vertical-align: middle;\n",
       "    }\n",
       "\n",
       "    .dataframe tbody tr th {\n",
       "        vertical-align: top;\n",
       "    }\n",
       "\n",
       "    .dataframe thead th {\n",
       "        text-align: right;\n",
       "    }\n",
       "</style>\n",
       "<table border=\"1\" class=\"dataframe\">\n",
       "  <thead>\n",
       "    <tr style=\"text-align: right;\">\n",
       "      <th></th>\n",
       "      <th>tenure</th>\n",
       "      <th>OnlineSecurity</th>\n",
       "      <th>TechSupport</th>\n",
       "      <th>Contract</th>\n",
       "      <th>MonthlyCharges</th>\n",
       "      <th>TotalCharges</th>\n",
       "    </tr>\n",
       "  </thead>\n",
       "  <tbody>\n",
       "    <tr>\n",
       "      <th>5838</th>\n",
       "      <td>53</td>\n",
       "      <td>Yes</td>\n",
       "      <td>Yes</td>\n",
       "      <td>Month-to-month</td>\n",
       "      <td>71.85</td>\n",
       "      <td>3827.90</td>\n",
       "    </tr>\n",
       "    <tr>\n",
       "      <th>3840</th>\n",
       "      <td>64</td>\n",
       "      <td>No internet service</td>\n",
       "      <td>No internet service</td>\n",
       "      <td>Two year</td>\n",
       "      <td>25.65</td>\n",
       "      <td>1740.80</td>\n",
       "    </tr>\n",
       "    <tr>\n",
       "      <th>3802</th>\n",
       "      <td>1</td>\n",
       "      <td>No internet service</td>\n",
       "      <td>No internet service</td>\n",
       "      <td>Month-to-month</td>\n",
       "      <td>20.00</td>\n",
       "      <td>20.00</td>\n",
       "    </tr>\n",
       "    <tr>\n",
       "      <th>1208</th>\n",
       "      <td>1</td>\n",
       "      <td>No</td>\n",
       "      <td>No</td>\n",
       "      <td>Month-to-month</td>\n",
       "      <td>80.25</td>\n",
       "      <td>80.25</td>\n",
       "    </tr>\n",
       "    <tr>\n",
       "      <th>4875</th>\n",
       "      <td>48</td>\n",
       "      <td>Yes</td>\n",
       "      <td>Yes</td>\n",
       "      <td>Month-to-month</td>\n",
       "      <td>117.45</td>\n",
       "      <td>5438.90</td>\n",
       "    </tr>\n",
       "  </tbody>\n",
       "</table>\n",
       "</div>"
      ],
      "text/plain": [
       "      tenure       OnlineSecurity          TechSupport        Contract  \\\n",
       "5838      53                  Yes                  Yes  Month-to-month   \n",
       "3840      64  No internet service  No internet service        Two year   \n",
       "3802       1  No internet service  No internet service  Month-to-month   \n",
       "1208       1                   No                   No  Month-to-month   \n",
       "4875      48                  Yes                  Yes  Month-to-month   \n",
       "\n",
       "      MonthlyCharges  TotalCharges  \n",
       "5838           71.85       3827.90  \n",
       "3840           25.65       1740.80  \n",
       "3802           20.00         20.00  \n",
       "1208           80.25         80.25  \n",
       "4875          117.45       5438.90  "
      ]
     },
     "execution_count": 45,
     "metadata": {},
     "output_type": "execute_result"
    }
   ],
   "source": [
    "X_train.head()"
   ]
  },
  {
   "cell_type": "code",
   "execution_count": 46,
   "metadata": {},
   "outputs": [],
   "source": [
    "#Encoding target\n",
    "y_train = y_train.map({'Yes' : 1, 'No' : 0})\n",
    "y_test = y_test.map({'Yes' : 1, 'No' : 0})\n",
    "y_valid = y_valid.map({'Yes' : 1, 'No' : 0})"
   ]
  },
  {
   "cell_type": "code",
   "execution_count": 47,
   "metadata": {},
   "outputs": [],
   "source": [
    "# Encoding input\n",
    "\n",
    "X_train['OnlineSecurity'] = X_train['OnlineSecurity'].map({'No': 0, 'No internet service': 1, 'Yes': 2})\n",
    "X_train['TechSupport'] = X_train['TechSupport'].map({'No': 0, 'No internet service': 1, 'Yes': 2})\n",
    "X_train['Contract'] = X_train['Contract'].map({'Month-to-month': 0, 'One year': 1, 'Two year': 2})\n",
    "\n",
    "X_test['OnlineSecurity'] = X_test['OnlineSecurity'].map({'No': 0, 'No internet service': 1, 'Yes': 2})\n",
    "X_test['TechSupport'] = X_test['TechSupport'].map({'No': 0, 'No internet service': 1, 'Yes': 2})\n",
    "X_test['Contract'] = X_test['Contract'].map({'Month-to-month': 0, 'One year': 1, 'Two year': 2})\n",
    "\n",
    "X_valid['OnlineSecurity'] = X_valid['OnlineSecurity'].map({'No': 0, 'No internet service': 1, 'Yes': 2})\n",
    "X_valid['TechSupport'] = X_valid['TechSupport'].map({'No': 0, 'No internet service': 1, 'Yes': 2})\n",
    "X_valid['Contract'] = X_valid['Contract'].map({'Month-to-month': 0, 'One year': 1, 'Two year': 2})"
   ]
  },
  {
   "cell_type": "code",
   "execution_count": 48,
   "metadata": {},
   "outputs": [
    {
     "data": {
      "text/html": [
       "<div>\n",
       "<style scoped>\n",
       "    .dataframe tbody tr th:only-of-type {\n",
       "        vertical-align: middle;\n",
       "    }\n",
       "\n",
       "    .dataframe tbody tr th {\n",
       "        vertical-align: top;\n",
       "    }\n",
       "\n",
       "    .dataframe thead th {\n",
       "        text-align: right;\n",
       "    }\n",
       "</style>\n",
       "<table border=\"1\" class=\"dataframe\">\n",
       "  <thead>\n",
       "    <tr style=\"text-align: right;\">\n",
       "      <th></th>\n",
       "      <th>tenure</th>\n",
       "      <th>OnlineSecurity</th>\n",
       "      <th>TechSupport</th>\n",
       "      <th>Contract</th>\n",
       "      <th>MonthlyCharges</th>\n",
       "      <th>TotalCharges</th>\n",
       "    </tr>\n",
       "  </thead>\n",
       "  <tbody>\n",
       "    <tr>\n",
       "      <th>5838</th>\n",
       "      <td>53</td>\n",
       "      <td>2</td>\n",
       "      <td>2</td>\n",
       "      <td>0</td>\n",
       "      <td>71.85</td>\n",
       "      <td>3827.90</td>\n",
       "    </tr>\n",
       "    <tr>\n",
       "      <th>3840</th>\n",
       "      <td>64</td>\n",
       "      <td>1</td>\n",
       "      <td>1</td>\n",
       "      <td>2</td>\n",
       "      <td>25.65</td>\n",
       "      <td>1740.80</td>\n",
       "    </tr>\n",
       "    <tr>\n",
       "      <th>3802</th>\n",
       "      <td>1</td>\n",
       "      <td>1</td>\n",
       "      <td>1</td>\n",
       "      <td>0</td>\n",
       "      <td>20.00</td>\n",
       "      <td>20.00</td>\n",
       "    </tr>\n",
       "    <tr>\n",
       "      <th>1208</th>\n",
       "      <td>1</td>\n",
       "      <td>0</td>\n",
       "      <td>0</td>\n",
       "      <td>0</td>\n",
       "      <td>80.25</td>\n",
       "      <td>80.25</td>\n",
       "    </tr>\n",
       "    <tr>\n",
       "      <th>4875</th>\n",
       "      <td>48</td>\n",
       "      <td>2</td>\n",
       "      <td>2</td>\n",
       "      <td>0</td>\n",
       "      <td>117.45</td>\n",
       "      <td>5438.90</td>\n",
       "    </tr>\n",
       "  </tbody>\n",
       "</table>\n",
       "</div>"
      ],
      "text/plain": [
       "      tenure  OnlineSecurity  TechSupport  Contract  MonthlyCharges  \\\n",
       "5838      53               2            2         0           71.85   \n",
       "3840      64               1            1         2           25.65   \n",
       "3802       1               1            1         0           20.00   \n",
       "1208       1               0            0         0           80.25   \n",
       "4875      48               2            2         0          117.45   \n",
       "\n",
       "      TotalCharges  \n",
       "5838       3827.90  \n",
       "3840       1740.80  \n",
       "3802         20.00  \n",
       "1208         80.25  \n",
       "4875       5438.90  "
      ]
     },
     "execution_count": 48,
     "metadata": {},
     "output_type": "execute_result"
    }
   ],
   "source": [
    "X_train.head()"
   ]
  },
  {
   "cell_type": "markdown",
   "metadata": {},
   "source": [
    "Saya memilih untuk melakukan encoding secara manual agar menghindari ketidak sesuaian nilai imput sehingga dapat mempengaruhi hasil yang ingin dicapai. Saya memilih menghindari menggunakan encoding secara instan karena bisa saja data yang terinput tidak sesuai harapan, misalnya Month-to-month yang seharusnya bernilai 0 tapi terisi 1 atau 2."
   ]
  },
  {
   "cell_type": "markdown",
   "metadata": {},
   "source": [
    "## Pipeline Normalizer"
   ]
  },
  {
   "cell_type": "code",
   "execution_count": 49,
   "metadata": {},
   "outputs": [],
   "source": [
    "X_train = tf.convert_to_tensor(X_train)"
   ]
  },
  {
   "cell_type": "code",
   "execution_count": 50,
   "metadata": {},
   "outputs": [
    {
     "data": {
      "text/plain": [
       "<tf.Tensor: shape=(4225, 6), dtype=float64, numpy=\n",
       "array([[5.30000e+01, 2.00000e+00, 2.00000e+00, 0.00000e+00, 7.18500e+01,\n",
       "        3.82790e+03],\n",
       "       [6.40000e+01, 1.00000e+00, 1.00000e+00, 2.00000e+00, 2.56500e+01,\n",
       "        1.74080e+03],\n",
       "       [1.00000e+00, 1.00000e+00, 1.00000e+00, 0.00000e+00, 2.00000e+01,\n",
       "        2.00000e+01],\n",
       "       ...,\n",
       "       [1.40000e+01, 0.00000e+00, 0.00000e+00, 0.00000e+00, 9.29000e+01,\n",
       "        1.33745e+03],\n",
       "       [3.00000e+00, 1.00000e+00, 1.00000e+00, 0.00000e+00, 2.05500e+01,\n",
       "        5.11500e+01],\n",
       "       [6.70000e+01, 2.00000e+00, 2.00000e+00, 2.00000e+00, 1.04600e+02,\n",
       "        6.88575e+03]])>"
      ]
     },
     "execution_count": 50,
     "metadata": {},
     "output_type": "execute_result"
    }
   ],
   "source": [
    "X_train"
   ]
  },
  {
   "cell_type": "code",
   "execution_count": 51,
   "metadata": {},
   "outputs": [],
   "source": [
    "normalisasi = tf.keras.layers.Normalization(axis=-1)\n",
    "normalisasi.adapt(X_train)"
   ]
  },
  {
   "cell_type": "markdown",
   "metadata": {},
   "source": [
    "## Handling Imbalance"
   ]
  },
  {
   "cell_type": "code",
   "execution_count": 52,
   "metadata": {},
   "outputs": [],
   "source": [
    "X_train = X_train.numpy()"
   ]
  },
  {
   "cell_type": "code",
   "execution_count": 53,
   "metadata": {},
   "outputs": [],
   "source": [
    "smotec = SMOTE(random_state=30)\n",
    "X_train, y_train = smotec.fit_resample(X_train, y_train.ravel())"
   ]
  },
  {
   "cell_type": "code",
   "execution_count": 54,
   "metadata": {},
   "outputs": [
    {
     "name": "stdout",
     "output_type": "stream",
     "text": [
      "y_train setelah handling imbalance : 3099\n",
      "X_train setelah handling imbalance : 3099\n"
     ]
    }
   ],
   "source": [
    "print(f'y_train setelah handling imbalance : {sum(y_train==1)}')\n",
    "print(f'X_train setelah handling imbalance : {sum(y_train==0)}')"
   ]
  },
  {
   "cell_type": "markdown",
   "metadata": {},
   "source": [
    "Terlihat bahwa vitur telah balance"
   ]
  },
  {
   "cell_type": "markdown",
   "metadata": {},
   "source": [
    "## Pipeline"
   ]
  },
  {
   "cell_type": "code",
   "execution_count": 55,
   "metadata": {},
   "outputs": [
    {
     "ename": "SyntaxError",
     "evalue": "invalid syntax (Temp/ipykernel_10988/338344401.py, line 2)",
     "output_type": "error",
     "traceback": [
      "\u001b[1;36m  File \u001b[1;32m\"C:\\Users\\ASUS\\AppData\\Local\\Temp/ipykernel_10988/338344401.py\"\u001b[1;36m, line \u001b[1;32m2\u001b[0m\n\u001b[1;33m    train_dataset = tf.data.Dataset.from_tensor_slices((X_train,y_train))fdf\u001b[0m\n\u001b[1;37m                                                                         ^\u001b[0m\n\u001b[1;31mSyntaxError\u001b[0m\u001b[1;31m:\u001b[0m invalid syntax\n"
     ]
    }
   ],
   "source": [
    "# Input pipeline\n",
    "train_dataset = tf.data.Dataset.from_tensor_slices((X_train,y_train))\n",
    "test_dataset = tf.data.Dataset.from_tensor_slices((X_test,y_test))\n",
    "valid_dataset = tf.data.Dataset.from_tensor_slices((X_valid,y_valid))"
   ]
  },
  {
   "cell_type": "code",
   "execution_count": null,
   "metadata": {},
   "outputs": [],
   "source": [
    "train_dataset = train_dataset.prefetch(buffer_size=6198).batch(64)      # buffer_size --> penyimpanan memori ; Prefetch --> merekan informasi \n",
    "test_dataset = test_dataset.prefetch(buffer_size=6198).batch(64)        \n",
    "valid_dataset = valid_dataset.prefetch(buffer_size=6198).batch(64)"
   ]
  },
  {
   "cell_type": "markdown",
   "metadata": {},
   "source": [
    "# **6. MODEL DEFINITION**"
   ]
  },
  {
   "cell_type": "markdown",
   "metadata": {},
   "source": [
    "Sebelum melakukan model definition, saya telah melakukan pengecekan terhadap jumlah hidden layer berapa yang baik untuk digunakan. Adapun hasil yang diperoleh ialah berjumlah 4 hidden layer. Dengan demikian untuk pendefinisian model Sequential dan Functional saya menggunakan 4 hidden layer"
   ]
  },
  {
   "cell_type": "markdown",
   "metadata": {},
   "source": [
    "## Sequential API"
   ]
  },
  {
   "cell_type": "code",
   "execution_count": null,
   "metadata": {},
   "outputs": [],
   "source": [
    "model_seq = tf.keras.Sequential([Input(shape=(6,)),normalisasi,\n",
    "          Dense(17, activation='relu'),\n",
    "          Dense(13, activation='relu'),\n",
    "          Dense(9, activation='relu'),                 \n",
    "          Dense(5, activation='relu'),\n",
    "          Dense(1, activation='sigmoid')])"
   ]
  },
  {
   "cell_type": "markdown",
   "metadata": {},
   "source": [
    "## Functional API"
   ]
  },
  {
   "cell_type": "code",
   "execution_count": null,
   "metadata": {},
   "outputs": [],
   "source": [
    "layer1 = Input(shape=(6,))\n",
    "layer2 = Dense(17, activation='relu')(layer1)\n",
    "layer3 = Dense(13, activation='relu')(layer2)\n",
    "layer4 = Dense(9, activation='relu')(layer3)                \n",
    "layer5 = Dense(5, activation='relu')(layer4)\n",
    "output = Dense(1, activation='sigmoid')(layer5)\n",
    "func_model = Model(inputs = layer1, outputs = output)"
   ]
  },
  {
   "cell_type": "markdown",
   "metadata": {},
   "source": [
    "# **7. MODEL TRAINING**"
   ]
  },
  {
   "cell_type": "markdown",
   "metadata": {},
   "source": [
    "## Sequential API"
   ]
  },
  {
   "cell_type": "code",
   "execution_count": null,
   "metadata": {},
   "outputs": [
    {
     "name": "stdout",
     "output_type": "stream",
     "text": [
      "Epoch 1/50\n",
      "97/97 [==============================] - 1s 2ms/step - loss: 0.6483 - accuracy: 0.7102 - val_loss: 0.7647 - val_accuracy: 0.4173\n",
      "Epoch 2/50\n",
      "97/97 [==============================] - 0s 1ms/step - loss: 0.6329 - accuracy: 0.6778 - val_loss: 0.7370 - val_accuracy: 0.6253\n",
      "Epoch 3/50\n",
      "97/97 [==============================] - 0s 1ms/step - loss: 0.6162 - accuracy: 0.7230 - val_loss: 0.7367 - val_accuracy: 0.6749\n",
      "Epoch 4/50\n",
      "97/97 [==============================] - 0s 1ms/step - loss: 0.6116 - accuracy: 0.7367 - val_loss: 0.7270 - val_accuracy: 0.7019\n",
      "Epoch 5/50\n",
      "97/97 [==============================] - 0s 1ms/step - loss: 0.6028 - accuracy: 0.7480 - val_loss: 0.7203 - val_accuracy: 0.7140\n",
      "Epoch 6/50\n",
      "97/97 [==============================] - 0s 1ms/step - loss: 0.5967 - accuracy: 0.7512 - val_loss: 0.7182 - val_accuracy: 0.7317\n",
      "Epoch 7/50\n",
      "97/97 [==============================] - 0s 2ms/step - loss: 0.5932 - accuracy: 0.7590 - val_loss: 0.7088 - val_accuracy: 0.7417\n",
      "Epoch 8/50\n",
      "97/97 [==============================] - 0s 1ms/step - loss: 0.5891 - accuracy: 0.7623 - val_loss: 0.7008 - val_accuracy: 0.7523\n",
      "Epoch 9/50\n",
      "97/97 [==============================] - 0s 1ms/step - loss: 0.5843 - accuracy: 0.7659 - val_loss: 0.6972 - val_accuracy: 0.7488\n",
      "Epoch 10/50\n",
      "97/97 [==============================] - 0s 2ms/step - loss: 0.5816 - accuracy: 0.7672 - val_loss: 0.6918 - val_accuracy: 0.7516\n",
      "Epoch 11/50\n",
      "97/97 [==============================] - 0s 1ms/step - loss: 0.5786 - accuracy: 0.7673 - val_loss: 0.6874 - val_accuracy: 0.7459\n",
      "Epoch 12/50\n",
      "97/97 [==============================] - 0s 2ms/step - loss: 0.5755 - accuracy: 0.7670 - val_loss: 0.6835 - val_accuracy: 0.7452\n",
      "Epoch 13/50\n",
      "97/97 [==============================] - 0s 1ms/step - loss: 0.5731 - accuracy: 0.7685 - val_loss: 0.6791 - val_accuracy: 0.7466\n",
      "Epoch 14/50\n",
      "97/97 [==============================] - 0s 1ms/step - loss: 0.5704 - accuracy: 0.7698 - val_loss: 0.6757 - val_accuracy: 0.7452\n",
      "Epoch 15/50\n",
      "97/97 [==============================] - 0s 1ms/step - loss: 0.5680 - accuracy: 0.7704 - val_loss: 0.6715 - val_accuracy: 0.7466\n",
      "Epoch 16/50\n",
      "97/97 [==============================] - 0s 1ms/step - loss: 0.5657 - accuracy: 0.7704 - val_loss: 0.6681 - val_accuracy: 0.7480\n",
      "Epoch 17/50\n",
      "97/97 [==============================] - 0s 1ms/step - loss: 0.5637 - accuracy: 0.7698 - val_loss: 0.6647 - val_accuracy: 0.7488\n",
      "Epoch 18/50\n",
      "97/97 [==============================] - 0s 1ms/step - loss: 0.5617 - accuracy: 0.7701 - val_loss: 0.6612 - val_accuracy: 0.7495\n",
      "Epoch 19/50\n",
      "97/97 [==============================] - 0s 1ms/step - loss: 0.5595 - accuracy: 0.7704 - val_loss: 0.6588 - val_accuracy: 0.7495\n",
      "Epoch 20/50\n",
      "97/97 [==============================] - 0s 1ms/step - loss: 0.5577 - accuracy: 0.7701 - val_loss: 0.6558 - val_accuracy: 0.7495\n",
      "Epoch 21/50\n",
      "97/97 [==============================] - 0s 1ms/step - loss: 0.5558 - accuracy: 0.7702 - val_loss: 0.6532 - val_accuracy: 0.7495\n",
      "Epoch 22/50\n",
      "97/97 [==============================] - 0s 1ms/step - loss: 0.5539 - accuracy: 0.7702 - val_loss: 0.6509 - val_accuracy: 0.7480\n",
      "Epoch 23/50\n",
      "97/97 [==============================] - 0s 1ms/step - loss: 0.5521 - accuracy: 0.7717 - val_loss: 0.6490 - val_accuracy: 0.7466\n",
      "Epoch 24/50\n",
      "97/97 [==============================] - 0s 1ms/step - loss: 0.5504 - accuracy: 0.7725 - val_loss: 0.6474 - val_accuracy: 0.7459\n",
      "Epoch 25/50\n",
      "97/97 [==============================] - 0s 1ms/step - loss: 0.5491 - accuracy: 0.7723 - val_loss: 0.6449 - val_accuracy: 0.7459\n",
      "Epoch 26/50\n",
      "97/97 [==============================] - 0s 2ms/step - loss: 0.5474 - accuracy: 0.7732 - val_loss: 0.6432 - val_accuracy: 0.7452\n",
      "Epoch 27/50\n",
      "97/97 [==============================] - 0s 2ms/step - loss: 0.5461 - accuracy: 0.7722 - val_loss: 0.6412 - val_accuracy: 0.7438\n",
      "Epoch 28/50\n",
      "97/97 [==============================] - 0s 1ms/step - loss: 0.5448 - accuracy: 0.7725 - val_loss: 0.6387 - val_accuracy: 0.7424\n",
      "Epoch 29/50\n",
      "97/97 [==============================] - 0s 1ms/step - loss: 0.5432 - accuracy: 0.7723 - val_loss: 0.6377 - val_accuracy: 0.7402\n",
      "Epoch 30/50\n",
      "97/97 [==============================] - 0s 1ms/step - loss: 0.5422 - accuracy: 0.7722 - val_loss: 0.6355 - val_accuracy: 0.7388\n",
      "Epoch 31/50\n",
      "97/97 [==============================] - 0s 1ms/step - loss: 0.5406 - accuracy: 0.7727 - val_loss: 0.6340 - val_accuracy: 0.7381\n",
      "Epoch 32/50\n",
      "97/97 [==============================] - 0s 1ms/step - loss: 0.5394 - accuracy: 0.7723 - val_loss: 0.6320 - val_accuracy: 0.7381\n",
      "Epoch 33/50\n",
      "97/97 [==============================] - 0s 1ms/step - loss: 0.5380 - accuracy: 0.7727 - val_loss: 0.6305 - val_accuracy: 0.7374\n",
      "Epoch 34/50\n",
      "97/97 [==============================] - 0s 1ms/step - loss: 0.5390 - accuracy: 0.7720 - val_loss: 0.6374 - val_accuracy: 0.7374\n",
      "Epoch 35/50\n",
      "97/97 [==============================] - 0s 1ms/step - loss: 0.5375 - accuracy: 0.7717 - val_loss: 0.6278 - val_accuracy: 0.7388\n",
      "Epoch 36/50\n",
      "97/97 [==============================] - 0s 1ms/step - loss: 0.5346 - accuracy: 0.7746 - val_loss: 0.6254 - val_accuracy: 0.7410\n",
      "Epoch 37/50\n",
      "97/97 [==============================] - 0s 1ms/step - loss: 0.5330 - accuracy: 0.7756 - val_loss: 0.6240 - val_accuracy: 0.7402\n",
      "Epoch 38/50\n",
      "97/97 [==============================] - 0s 1ms/step - loss: 0.5318 - accuracy: 0.7756 - val_loss: 0.6233 - val_accuracy: 0.7402\n",
      "Epoch 39/50\n",
      "97/97 [==============================] - 0s 1ms/step - loss: 0.5306 - accuracy: 0.7761 - val_loss: 0.6227 - val_accuracy: 0.7410\n",
      "Epoch 40/50\n",
      "97/97 [==============================] - 0s 1ms/step - loss: 0.5300 - accuracy: 0.7753 - val_loss: 0.6209 - val_accuracy: 0.7417\n",
      "Epoch 41/50\n",
      "97/97 [==============================] - 0s 1ms/step - loss: 0.5290 - accuracy: 0.7749 - val_loss: 0.6192 - val_accuracy: 0.7402\n",
      "Epoch 42/50\n",
      "97/97 [==============================] - 0s 1ms/step - loss: 0.5279 - accuracy: 0.7756 - val_loss: 0.6184 - val_accuracy: 0.7402\n",
      "Epoch 43/50\n",
      "97/97 [==============================] - 0s 1ms/step - loss: 0.5273 - accuracy: 0.7753 - val_loss: 0.6161 - val_accuracy: 0.7417\n",
      "Epoch 44/50\n",
      "97/97 [==============================] - 0s 1ms/step - loss: 0.5262 - accuracy: 0.7756 - val_loss: 0.6155 - val_accuracy: 0.7402\n",
      "Epoch 45/50\n",
      "97/97 [==============================] - 0s 1ms/step - loss: 0.5253 - accuracy: 0.7757 - val_loss: 0.6142 - val_accuracy: 0.7395\n",
      "Epoch 46/50\n",
      "97/97 [==============================] - 0s 1ms/step - loss: 0.5244 - accuracy: 0.7769 - val_loss: 0.6135 - val_accuracy: 0.7402\n",
      "Epoch 47/50\n",
      "97/97 [==============================] - 0s 2ms/step - loss: 0.5238 - accuracy: 0.7764 - val_loss: 0.6122 - val_accuracy: 0.7395\n",
      "Epoch 48/50\n",
      "97/97 [==============================] - 0s 1ms/step - loss: 0.5227 - accuracy: 0.7765 - val_loss: 0.6124 - val_accuracy: 0.7388\n",
      "Epoch 49/50\n",
      "97/97 [==============================] - 0s 2ms/step - loss: 0.5219 - accuracy: 0.7772 - val_loss: 0.6125 - val_accuracy: 0.7381\n",
      "Epoch 50/50\n",
      "97/97 [==============================] - 0s 2ms/step - loss: 0.5217 - accuracy: 0.7765 - val_loss: 0.6101 - val_accuracy: 0.7424\n"
     ]
    },
    {
     "data": {
      "image/png": "[encoded data removed]",
      "text/plain": [
       "<Figure size 864x432 with 1 Axes>"
      ]
     },
     "metadata": {
      "needs_background": "light"
     },
     "output_type": "display_data"
    }
   ],
   "source": [
    "model_seq.compile(loss='binary_crossentropy', optimizer='adam', metrics=['accuracy'])\n",
    "\n",
    "history_model_seq = model_seq.fit(train_dataset, epochs=50, validation_data=valid_dataset)\n",
    "\n",
    "pd.DataFrame(history_model_seq.history).plot(figsize=(12, 6))\n",
    "plt.gca().set_ylim(0, 1)\n",
    "plt.title('4 Hidden Layer')\n",
    "plt.grid(True)\n",
    "plt.show()"
   ]
  },
  {
   "cell_type": "markdown",
   "metadata": {},
   "source": [
    "## Functional API"
   ]
  },
  {
   "cell_type": "code",
   "execution_count": null,
   "metadata": {},
   "outputs": [
    {
     "name": "stdout",
     "output_type": "stream",
     "text": [
      "Epoch 1/50\n",
      "97/97 [==============================] - 1s 3ms/step - loss: 3.7379 - accuracy: 0.5507 - val_loss: 14.7251 - val_accuracy: 0.2619\n",
      "Epoch 2/50\n",
      "97/97 [==============================] - 0s 1ms/step - loss: 1.1016 - accuracy: 0.5499 - val_loss: 0.6737 - val_accuracy: 0.7587\n",
      "Epoch 3/50\n",
      "97/97 [==============================] - 0s 1ms/step - loss: 0.6675 - accuracy: 0.5794 - val_loss: 0.6732 - val_accuracy: 0.7615\n",
      "Epoch 4/50\n",
      "97/97 [==============================] - 0s 1ms/step - loss: 0.6591 - accuracy: 0.5944 - val_loss: 0.6749 - val_accuracy: 0.7615\n",
      "Epoch 5/50\n",
      "97/97 [==============================] - 0s 2ms/step - loss: 0.6553 - accuracy: 0.5965 - val_loss: 0.6765 - val_accuracy: 0.7622\n",
      "Epoch 6/50\n",
      "97/97 [==============================] - 0s 2ms/step - loss: 0.6548 - accuracy: 0.5973 - val_loss: 0.6769 - val_accuracy: 0.7637\n",
      "Epoch 7/50\n",
      "97/97 [==============================] - 0s 2ms/step - loss: 0.6543 - accuracy: 0.6004 - val_loss: 0.6769 - val_accuracy: 0.7637\n",
      "Epoch 8/50\n",
      "97/97 [==============================] - 0s 2ms/step - loss: 0.6535 - accuracy: 0.6039 - val_loss: 0.6765 - val_accuracy: 0.7637\n",
      "Epoch 9/50\n",
      "97/97 [==============================] - 0s 3ms/step - loss: 0.6531 - accuracy: 0.6055 - val_loss: 0.6756 - val_accuracy: 0.7622\n",
      "Epoch 10/50\n",
      "97/97 [==============================] - 0s 3ms/step - loss: 0.6530 - accuracy: 0.6065 - val_loss: 0.6734 - val_accuracy: 0.7644\n",
      "Epoch 11/50\n",
      "97/97 [==============================] - 0s 2ms/step - loss: 0.6525 - accuracy: 0.6083 - val_loss: 0.6722 - val_accuracy: 0.7594\n",
      "Epoch 12/50\n",
      "97/97 [==============================] - 0s 2ms/step - loss: 0.6519 - accuracy: 0.6092 - val_loss: 0.6700 - val_accuracy: 0.7622\n",
      "Epoch 13/50\n",
      "97/97 [==============================] - 0s 2ms/step - loss: 0.6506 - accuracy: 0.6128 - val_loss: 0.6706 - val_accuracy: 0.7630\n",
      "Epoch 14/50\n",
      "97/97 [==============================] - 0s 3ms/step - loss: 0.6454 - accuracy: 0.6197 - val_loss: 0.6830 - val_accuracy: 0.7658\n",
      "Epoch 15/50\n",
      "97/97 [==============================] - 0s 3ms/step - loss: 0.6504 - accuracy: 0.6210 - val_loss: 0.6752 - val_accuracy: 0.7658\n",
      "Epoch 16/50\n",
      "97/97 [==============================] - 0s 2ms/step - loss: 0.6449 - accuracy: 0.6278 - val_loss: 0.6798 - val_accuracy: 0.7672\n",
      "Epoch 17/50\n",
      "97/97 [==============================] - 0s 2ms/step - loss: 0.6451 - accuracy: 0.6321 - val_loss: 0.6770 - val_accuracy: 0.7658\n",
      "Epoch 18/50\n",
      "97/97 [==============================] - 0s 2ms/step - loss: 0.6418 - accuracy: 0.6378 - val_loss: 0.6877 - val_accuracy: 0.7495\n",
      "Epoch 19/50\n",
      "97/97 [==============================] - 0s 1ms/step - loss: 0.6430 - accuracy: 0.6394 - val_loss: 0.6889 - val_accuracy: 0.7473\n",
      "Epoch 20/50\n",
      "97/97 [==============================] - 0s 2ms/step - loss: 0.6367 - accuracy: 0.6483 - val_loss: 0.7342 - val_accuracy: 0.7218\n",
      "Epoch 21/50\n",
      "97/97 [==============================] - 0s 3ms/step - loss: 0.6384 - accuracy: 0.6475 - val_loss: 0.7226 - val_accuracy: 0.7225\n",
      "Epoch 22/50\n",
      "97/97 [==============================] - 0s 2ms/step - loss: 0.6374 - accuracy: 0.6483 - val_loss: 0.7141 - val_accuracy: 0.7275\n",
      "Epoch 23/50\n",
      "97/97 [==============================] - 0s 2ms/step - loss: 0.6337 - accuracy: 0.6525 - val_loss: 0.7460 - val_accuracy: 0.7090\n",
      "Epoch 24/50\n",
      "97/97 [==============================] - 0s 2ms/step - loss: 0.6348 - accuracy: 0.6499 - val_loss: 0.7203 - val_accuracy: 0.7211\n",
      "Epoch 25/50\n",
      "97/97 [==============================] - 0s 2ms/step - loss: 0.6359 - accuracy: 0.6484 - val_loss: 0.7145 - val_accuracy: 0.7253\n",
      "Epoch 26/50\n",
      "97/97 [==============================] - 0s 2ms/step - loss: 0.6349 - accuracy: 0.6507 - val_loss: 0.7170 - val_accuracy: 0.7218\n",
      "Epoch 27/50\n",
      "97/97 [==============================] - 0s 3ms/step - loss: 0.6314 - accuracy: 0.6541 - val_loss: 0.7624 - val_accuracy: 0.7126\n",
      "Epoch 28/50\n",
      "97/97 [==============================] - 0s 2ms/step - loss: 0.6357 - accuracy: 0.6475 - val_loss: 0.7033 - val_accuracy: 0.7324\n",
      "Epoch 29/50\n",
      "97/97 [==============================] - 0s 2ms/step - loss: 0.6291 - accuracy: 0.6575 - val_loss: 0.7911 - val_accuracy: 0.7069\n",
      "Epoch 30/50\n",
      "97/97 [==============================] - 0s 2ms/step - loss: 0.6360 - accuracy: 0.6488 - val_loss: 0.7037 - val_accuracy: 0.7339\n",
      "Epoch 31/50\n",
      "97/97 [==============================] - 0s 2ms/step - loss: 0.6249 - accuracy: 0.6630 - val_loss: 0.8600 - val_accuracy: 0.6842\n",
      "Epoch 32/50\n",
      "97/97 [==============================] - 0s 2ms/step - loss: 0.6443 - accuracy: 0.6359 - val_loss: 0.6504 - val_accuracy: 0.7608\n",
      "Epoch 33/50\n",
      "97/97 [==============================] - 0s 2ms/step - loss: 0.6208 - accuracy: 0.6630 - val_loss: 0.8667 - val_accuracy: 0.6906\n",
      "Epoch 34/50\n",
      "97/97 [==============================] - 0s 2ms/step - loss: 0.6471 - accuracy: 0.6363 - val_loss: 0.6490 - val_accuracy: 0.7622\n",
      "Epoch 35/50\n",
      "97/97 [==============================] - 0s 2ms/step - loss: 0.6197 - accuracy: 0.6633 - val_loss: 0.8811 - val_accuracy: 0.6906\n",
      "Epoch 36/50\n",
      "97/97 [==============================] - 0s 3ms/step - loss: 0.6478 - accuracy: 0.6349 - val_loss: 0.6475 - val_accuracy: 0.7630\n",
      "Epoch 37/50\n",
      "97/97 [==============================] - 0s 2ms/step - loss: 0.6205 - accuracy: 0.6623 - val_loss: 0.8523 - val_accuracy: 0.7033\n",
      "Epoch 38/50\n",
      "97/97 [==============================] - 0s 2ms/step - loss: 0.6433 - accuracy: 0.6410 - val_loss: 0.6695 - val_accuracy: 0.7509\n",
      "Epoch 39/50\n",
      "97/97 [==============================] - 0s 2ms/step - loss: 0.6116 - accuracy: 0.6772 - val_loss: 3.0308 - val_accuracy: 0.3612\n",
      "Epoch 40/50\n",
      "97/97 [==============================] - 0s 2ms/step - loss: 0.6555 - accuracy: 0.6100 - val_loss: 0.6222 - val_accuracy: 0.7708\n",
      "Epoch 41/50\n",
      "97/97 [==============================] - 0s 2ms/step - loss: 0.6390 - accuracy: 0.6265 - val_loss: 0.6368 - val_accuracy: 0.7679\n",
      "Epoch 42/50\n",
      "97/97 [==============================] - 0s 2ms/step - loss: 0.6381 - accuracy: 0.6328 - val_loss: 0.6492 - val_accuracy: 0.7672\n",
      "Epoch 43/50\n",
      "97/97 [==============================] - 0s 3ms/step - loss: 0.6373 - accuracy: 0.6404 - val_loss: 0.6597 - val_accuracy: 0.7658\n",
      "Epoch 44/50\n",
      "97/97 [==============================] - 0s 3ms/step - loss: 0.6051 - accuracy: 0.6868 - val_loss: 3.3486 - val_accuracy: 0.3584\n",
      "Epoch 45/50\n",
      "97/97 [==============================] - 0s 3ms/step - loss: 0.6794 - accuracy: 0.6099 - val_loss: 0.6200 - val_accuracy: 0.7715\n",
      "Epoch 46/50\n",
      "97/97 [==============================] - 0s 2ms/step - loss: 0.6399 - accuracy: 0.6254 - val_loss: 0.6342 - val_accuracy: 0.7715\n",
      "Epoch 47/50\n",
      "97/97 [==============================] - 0s 2ms/step - loss: 0.6396 - accuracy: 0.6299 - val_loss: 0.6438 - val_accuracy: 0.7700\n",
      "Epoch 48/50\n",
      "97/97 [==============================] - 0s 3ms/step - loss: 0.6388 - accuracy: 0.6375 - val_loss: 0.6538 - val_accuracy: 0.7679\n",
      "Epoch 49/50\n",
      "97/97 [==============================] - 0s 3ms/step - loss: 0.6380 - accuracy: 0.6404 - val_loss: 0.6615 - val_accuracy: 0.7672\n",
      "Epoch 50/50\n",
      "97/97 [==============================] - 0s 3ms/step - loss: 0.6324 - accuracy: 0.6505 - val_loss: 0.6932 - val_accuracy: 0.7495\n"
     ]
    },
    {
     "data": {
      "image/png": "[encoded data removed]",
      "text/plain": [
       "<Figure size 864x432 with 1 Axes>"
      ]
     },
     "metadata": {
      "needs_background": "light"
     },
     "output_type": "display_data"
    }
   ],
   "source": [
    "func_model.compile(loss='binary_crossentropy', optimizer='adam', metrics=['accuracy'])\n",
    "\n",
    "history_model_func = func_model.fit(train_dataset, epochs=50, validation_data=valid_dataset)\n",
    "\n",
    "pd.DataFrame(history_model_func.history).plot(figsize=(12, 6))\n",
    "plt.gca().set_ylim(0, 1)\n",
    "plt.title('4 Hidden Layer')\n",
    "plt.grid(True)\n",
    "plt.show()"
   ]
  },
  {
   "cell_type": "markdown",
   "metadata": {},
   "source": [
    "## Analisis Model"
   ]
  },
  {
   "cell_type": "markdown",
   "metadata": {},
   "source": [
    "Berdasarkan grafik yang diberikan, dapat dilihat bahwa model terbaik dalam kasus ini ialah Sequential API. Adapaun untuk model improvemet maka saya akan menggunakan functional API"
   ]
  },
  {
   "cell_type": "markdown",
   "metadata": {},
   "source": [
    "# **7. MODEL IMPROVEMENT**"
   ]
  },
  {
   "cell_type": "markdown",
   "metadata": {},
   "source": [
    "Saya tertarik ingin melakukan improvement model dengan membandingkan tiap fungsi aktivasi. Namun dalam project ini saya akan berfokus pada model `Relu`, `Elu` dan `Leaky Relu` serta melakukan perbandingan antara kernel initializer menggunakan  `glorot uniform` dan `glorot normal` dari masing-masing model. Kemudian melakukan evaluasi model mana yang dianggap paling terbaik. Adapun optimizer yang saya gunakan ialah `Adam`"
   ]
  },
  {
   "cell_type": "markdown",
   "metadata": {},
   "source": [
    "## **Kernel Glorot Uniform**"
   ]
  },
  {
   "cell_type": "markdown",
   "metadata": {},
   "source": [
    "----"
   ]
  },
  {
   "cell_type": "markdown",
   "metadata": {},
   "source": [
    "## Relu"
   ]
  },
  {
   "cell_type": "code",
   "execution_count": null,
   "metadata": {},
   "outputs": [],
   "source": [
    "model_relu_uniform = keras.models.Sequential()\n",
    "model_relu_uniform.add(Input(shape=(6,)))\n",
    "model_relu_uniform.add(normalisasi)\n",
    "model_relu_uniform.add(Dense(17, activation='relu', kernel_initializer= 'glorot_uniform', use_bias=False))\n",
    "model_relu_uniform.add(Dropout(rate=0.2))\n",
    "\n",
    "model_relu_uniform.add(Dense(13, activation='relu', kernel_initializer= 'glorot_uniform', use_bias=False))\n",
    "model_relu_uniform.add(Dropout(rate=0.2))\n",
    "\n",
    "model_relu_uniform.add(Dense(9, activation='relu', kernel_initializer= 'glorot_uniform', use_bias=False))\n",
    "model_relu_uniform.add(Dropout(rate=0.2))\n",
    "\n",
    "model_relu_uniform.add(Dense(5, activation='relu', kernel_initializer= 'glorot_uniform', use_bias=False))\n",
    "model_relu_uniform.add(Dropout(rate=0.2))\n",
    "model_relu_uniform.add(Dense(1, activation='sigmoid'))"
   ]
  },
  {
   "cell_type": "code",
   "execution_count": null,
   "metadata": {},
   "outputs": [
    {
     "name": "stdout",
     "output_type": "stream",
     "text": [
      "Epoch 1/50\n",
      "97/97 [==============================] - 1s 3ms/step - loss: 0.6781 - accuracy: 0.5247 - val_loss: 0.5899 - val_accuracy: 0.7388\n",
      "Epoch 2/50\n",
      "97/97 [==============================] - 0s 3ms/step - loss: 0.6274 - accuracy: 0.6186 - val_loss: 0.5495 - val_accuracy: 0.7218\n",
      "Epoch 3/50\n",
      "97/97 [==============================] - 0s 3ms/step - loss: 0.5906 - accuracy: 0.6646 - val_loss: 0.5278 - val_accuracy: 0.6984\n",
      "Epoch 4/50\n",
      "97/97 [==============================] - 0s 2ms/step - loss: 0.5855 - accuracy: 0.6555 - val_loss: 0.5288 - val_accuracy: 0.7005\n",
      "Epoch 5/50\n",
      "97/97 [==============================] - 0s 3ms/step - loss: 0.5663 - accuracy: 0.6786 - val_loss: 0.5212 - val_accuracy: 0.7161\n",
      "Epoch 6/50\n",
      "97/97 [==============================] - 0s 3ms/step - loss: 0.5707 - accuracy: 0.6704 - val_loss: 0.5160 - val_accuracy: 0.7246\n",
      "Epoch 7/50\n",
      "97/97 [==============================] - 0s 2ms/step - loss: 0.5574 - accuracy: 0.6862 - val_loss: 0.5192 - val_accuracy: 0.7268\n",
      "Epoch 8/50\n",
      "97/97 [==============================] - 0s 2ms/step - loss: 0.5658 - accuracy: 0.6975 - val_loss: 0.5154 - val_accuracy: 0.7346\n",
      "Epoch 9/50\n",
      "97/97 [==============================] - 0s 3ms/step - loss: 0.5632 - accuracy: 0.6902 - val_loss: 0.5173 - val_accuracy: 0.7331\n",
      "Epoch 10/50\n",
      "97/97 [==============================] - 0s 3ms/step - loss: 0.5528 - accuracy: 0.6994 - val_loss: 0.5098 - val_accuracy: 0.7353\n",
      "Epoch 11/50\n",
      "97/97 [==============================] - 0s 2ms/step - loss: 0.5539 - accuracy: 0.6970 - val_loss: 0.5133 - val_accuracy: 0.7367\n",
      "Epoch 12/50\n",
      "97/97 [==============================] - 0s 2ms/step - loss: 0.5534 - accuracy: 0.7026 - val_loss: 0.5158 - val_accuracy: 0.7360\n",
      "Epoch 13/50\n",
      "97/97 [==============================] - 0s 2ms/step - loss: 0.5490 - accuracy: 0.7028 - val_loss: 0.5114 - val_accuracy: 0.7381\n",
      "Epoch 14/50\n",
      "97/97 [==============================] - 0s 2ms/step - loss: 0.5515 - accuracy: 0.7115 - val_loss: 0.5166 - val_accuracy: 0.7374\n",
      "Epoch 15/50\n",
      "97/97 [==============================] - 0s 2ms/step - loss: 0.5531 - accuracy: 0.7020 - val_loss: 0.5155 - val_accuracy: 0.7402\n",
      "Epoch 16/50\n",
      "97/97 [==============================] - 0s 3ms/step - loss: 0.5525 - accuracy: 0.7177 - val_loss: 0.5135 - val_accuracy: 0.7402\n",
      "Epoch 17/50\n",
      "97/97 [==============================] - 0s 2ms/step - loss: 0.5453 - accuracy: 0.7107 - val_loss: 0.5117 - val_accuracy: 0.7431\n",
      "Epoch 18/50\n",
      "97/97 [==============================] - 0s 2ms/step - loss: 0.5516 - accuracy: 0.7185 - val_loss: 0.5109 - val_accuracy: 0.7417\n",
      "Epoch 19/50\n",
      "97/97 [==============================] - 0s 2ms/step - loss: 0.5379 - accuracy: 0.7188 - val_loss: 0.5164 - val_accuracy: 0.7402\n",
      "Epoch 20/50\n",
      "97/97 [==============================] - 0s 2ms/step - loss: 0.5428 - accuracy: 0.7210 - val_loss: 0.5115 - val_accuracy: 0.7424\n",
      "Epoch 21/50\n",
      "97/97 [==============================] - 0s 2ms/step - loss: 0.5415 - accuracy: 0.7309 - val_loss: 0.5054 - val_accuracy: 0.7410\n",
      "Epoch 22/50\n",
      "97/97 [==============================] - 0s 2ms/step - loss: 0.5334 - accuracy: 0.7365 - val_loss: 0.5092 - val_accuracy: 0.7395\n",
      "Epoch 23/50\n",
      "97/97 [==============================] - 0s 2ms/step - loss: 0.5316 - accuracy: 0.7470 - val_loss: 0.5091 - val_accuracy: 0.7395\n",
      "Epoch 24/50\n",
      "97/97 [==============================] - 0s 2ms/step - loss: 0.5361 - accuracy: 0.7423 - val_loss: 0.5120 - val_accuracy: 0.7360\n",
      "Epoch 25/50\n",
      "97/97 [==============================] - 0s 2ms/step - loss: 0.5245 - accuracy: 0.7490 - val_loss: 0.5058 - val_accuracy: 0.7260\n",
      "Epoch 26/50\n",
      "97/97 [==============================] - 0s 3ms/step - loss: 0.5259 - accuracy: 0.7527 - val_loss: 0.5149 - val_accuracy: 0.7218\n",
      "Epoch 27/50\n",
      "97/97 [==============================] - 0s 2ms/step - loss: 0.5367 - accuracy: 0.7415 - val_loss: 0.5072 - val_accuracy: 0.7346\n",
      "Epoch 28/50\n",
      "97/97 [==============================] - 0s 3ms/step - loss: 0.5384 - accuracy: 0.7443 - val_loss: 0.5059 - val_accuracy: 0.7260\n",
      "Epoch 29/50\n",
      "97/97 [==============================] - 0s 2ms/step - loss: 0.5371 - accuracy: 0.7501 - val_loss: 0.5064 - val_accuracy: 0.7253\n",
      "Epoch 30/50\n",
      "97/97 [==============================] - 0s 2ms/step - loss: 0.5263 - accuracy: 0.7485 - val_loss: 0.5051 - val_accuracy: 0.7289\n",
      "Epoch 31/50\n",
      "97/97 [==============================] - 0s 2ms/step - loss: 0.5352 - accuracy: 0.7501 - val_loss: 0.5046 - val_accuracy: 0.7296\n",
      "Epoch 32/50\n",
      "97/97 [==============================] - 0s 2ms/step - loss: 0.5270 - accuracy: 0.7536 - val_loss: 0.5062 - val_accuracy: 0.7296\n",
      "Epoch 33/50\n",
      "97/97 [==============================] - 0s 2ms/step - loss: 0.5365 - accuracy: 0.7506 - val_loss: 0.5122 - val_accuracy: 0.7324\n",
      "Epoch 34/50\n",
      "97/97 [==============================] - 0s 2ms/step - loss: 0.5318 - accuracy: 0.7541 - val_loss: 0.5047 - val_accuracy: 0.7268\n",
      "Epoch 35/50\n",
      "97/97 [==============================] - 0s 2ms/step - loss: 0.5249 - accuracy: 0.7509 - val_loss: 0.5075 - val_accuracy: 0.7367\n",
      "Epoch 36/50\n",
      "97/97 [==============================] - 0s 2ms/step - loss: 0.5211 - accuracy: 0.7520 - val_loss: 0.5084 - val_accuracy: 0.7395\n",
      "Epoch 37/50\n",
      "97/97 [==============================] - 0s 2ms/step - loss: 0.5275 - accuracy: 0.7593 - val_loss: 0.5046 - val_accuracy: 0.7410\n",
      "Epoch 38/50\n",
      "97/97 [==============================] - 0s 2ms/step - loss: 0.5238 - accuracy: 0.7557 - val_loss: 0.5070 - val_accuracy: 0.7353\n",
      "Epoch 39/50\n",
      "97/97 [==============================] - 0s 2ms/step - loss: 0.5230 - accuracy: 0.7523 - val_loss: 0.5026 - val_accuracy: 0.7346\n",
      "Epoch 40/50\n",
      "97/97 [==============================] - 0s 2ms/step - loss: 0.5176 - accuracy: 0.7530 - val_loss: 0.5052 - val_accuracy: 0.7402\n",
      "Epoch 41/50\n",
      "97/97 [==============================] - 0s 2ms/step - loss: 0.5229 - accuracy: 0.7519 - val_loss: 0.5111 - val_accuracy: 0.7303\n",
      "Epoch 42/50\n",
      "97/97 [==============================] - 0s 2ms/step - loss: 0.5301 - accuracy: 0.7514 - val_loss: 0.5095 - val_accuracy: 0.7260\n",
      "Epoch 43/50\n",
      "97/97 [==============================] - 0s 2ms/step - loss: 0.5280 - accuracy: 0.7543 - val_loss: 0.5116 - val_accuracy: 0.7331\n",
      "Epoch 44/50\n",
      "97/97 [==============================] - 0s 2ms/step - loss: 0.5226 - accuracy: 0.7573 - val_loss: 0.5070 - val_accuracy: 0.7360\n",
      "Epoch 45/50\n",
      "97/97 [==============================] - 0s 3ms/step - loss: 0.5214 - accuracy: 0.7548 - val_loss: 0.5086 - val_accuracy: 0.7275\n",
      "Epoch 46/50\n",
      "97/97 [==============================] - 0s 2ms/step - loss: 0.5249 - accuracy: 0.7533 - val_loss: 0.5099 - val_accuracy: 0.7296\n",
      "Epoch 47/50\n",
      "97/97 [==============================] - 0s 2ms/step - loss: 0.5242 - accuracy: 0.7590 - val_loss: 0.5052 - val_accuracy: 0.7310\n",
      "Epoch 48/50\n",
      "97/97 [==============================] - 0s 2ms/step - loss: 0.5180 - accuracy: 0.7599 - val_loss: 0.5074 - val_accuracy: 0.7360\n",
      "Epoch 49/50\n",
      "97/97 [==============================] - 0s 3ms/step - loss: 0.5247 - accuracy: 0.7494 - val_loss: 0.5043 - val_accuracy: 0.7324\n",
      "Epoch 50/50\n",
      "97/97 [==============================] - 0s 2ms/step - loss: 0.5205 - accuracy: 0.7573 - val_loss: 0.5089 - val_accuracy: 0.7260\n"
     ]
    },
    {
     "data": {
      "image/png": "[encoded data removed]",
      "text/plain": [
       "<Figure size 864x432 with 1 Axes>"
      ]
     },
     "metadata": {
      "needs_background": "light"
     },
     "output_type": "display_data"
    }
   ],
   "source": [
    "model_relu_uniform.compile(loss='binary_crossentropy', optimizer=keras.optimizers.Adam(clipvalue=1.0), metrics=['accuracy'])\n",
    "\n",
    "history_relu_uniform = model_relu_uniform.fit(train_dataset, epochs=50, validation_data=valid_dataset)\n",
    "\n",
    "pd.DataFrame(history_relu_uniform.history).plot(figsize=(12, 6))\n",
    "plt.grid(True)\n",
    "plt.gca().set_ylim(0, 1)\n",
    "plt.show()"
   ]
  },
  {
   "cell_type": "markdown",
   "metadata": {},
   "source": [
    "## Elu"
   ]
  },
  {
   "cell_type": "code",
   "execution_count": null,
   "metadata": {},
   "outputs": [],
   "source": [
    "model_elu_uniform = keras.models.Sequential()\n",
    "model_elu_uniform.add(Input(shape=(6,)))\n",
    "model_elu_uniform.add(normalisasi)\n",
    "model_elu_uniform.add(Dense(17, activation='elu', kernel_initializer= 'glorot_uniform', use_bias=False))\n",
    "model_elu_uniform.add(Dropout(rate=0.2))\n",
    "\n",
    "model_elu_uniform.add(Dense(13, activation='elu', kernel_initializer= 'glorot_uniform', use_bias=False))\n",
    "model_elu_uniform.add(Dropout(rate=0.2))\n",
    "\n",
    "model_elu_uniform.add(Dense(9, activation='elu', kernel_initializer= 'glorot_uniform', use_bias=False))\n",
    "model_elu_uniform.add(Dropout(rate=0.2))\n",
    "\n",
    "model_elu_uniform.add(Dense(5, activation='elu', kernel_initializer= 'glorot_uniform', use_bias=False))\n",
    "model_elu_uniform.add(Dropout(rate=0.2))\n",
    "model_elu_uniform.add(Dense(1, activation='sigmoid'))"
   ]
  },
  {
   "cell_type": "code",
   "execution_count": null,
   "metadata": {},
   "outputs": [
    {
     "name": "stdout",
     "output_type": "stream",
     "text": [
      "Epoch 1/50\n",
      "97/97 [==============================] - 1s 4ms/step - loss: 0.6057 - accuracy: 0.6702 - val_loss: 0.5785 - val_accuracy: 0.6820\n",
      "Epoch 2/50\n",
      "97/97 [==============================] - 0s 2ms/step - loss: 0.5558 - accuracy: 0.7307 - val_loss: 0.5684 - val_accuracy: 0.7055\n",
      "Epoch 3/50\n",
      "97/97 [==============================] - 0s 3ms/step - loss: 0.5427 - accuracy: 0.7380 - val_loss: 0.5588 - val_accuracy: 0.7083\n",
      "Epoch 4/50\n",
      "97/97 [==============================] - 0s 2ms/step - loss: 0.5434 - accuracy: 0.7341 - val_loss: 0.5515 - val_accuracy: 0.7076\n",
      "Epoch 5/50\n",
      "97/97 [==============================] - 0s 3ms/step - loss: 0.5385 - accuracy: 0.7394 - val_loss: 0.5430 - val_accuracy: 0.7076\n",
      "Epoch 6/50\n",
      "97/97 [==============================] - 0s 3ms/step - loss: 0.5300 - accuracy: 0.7451 - val_loss: 0.5426 - val_accuracy: 0.7055\n",
      "Epoch 7/50\n",
      "97/97 [==============================] - 0s 4ms/step - loss: 0.5280 - accuracy: 0.7498 - val_loss: 0.5402 - val_accuracy: 0.7083\n",
      "Epoch 8/50\n",
      "97/97 [==============================] - 0s 3ms/step - loss: 0.5282 - accuracy: 0.7435 - val_loss: 0.5358 - val_accuracy: 0.7104\n",
      "Epoch 9/50\n",
      "97/97 [==============================] - 0s 3ms/step - loss: 0.5202 - accuracy: 0.7483 - val_loss: 0.5366 - val_accuracy: 0.7140\n",
      "Epoch 10/50\n",
      "97/97 [==============================] - 0s 3ms/step - loss: 0.5200 - accuracy: 0.7549 - val_loss: 0.5327 - val_accuracy: 0.7062\n",
      "Epoch 11/50\n",
      "97/97 [==============================] - 0s 3ms/step - loss: 0.5243 - accuracy: 0.7490 - val_loss: 0.5314 - val_accuracy: 0.7133\n",
      "Epoch 12/50\n",
      "97/97 [==============================] - 0s 3ms/step - loss: 0.5258 - accuracy: 0.7454 - val_loss: 0.5294 - val_accuracy: 0.7119\n",
      "Epoch 13/50\n",
      "97/97 [==============================] - 0s 3ms/step - loss: 0.5197 - accuracy: 0.7493 - val_loss: 0.5271 - val_accuracy: 0.7133\n",
      "Epoch 14/50\n",
      "97/97 [==============================] - 0s 3ms/step - loss: 0.5180 - accuracy: 0.7546 - val_loss: 0.5259 - val_accuracy: 0.7147\n",
      "Epoch 15/50\n",
      "97/97 [==============================] - 0s 3ms/step - loss: 0.5160 - accuracy: 0.7478 - val_loss: 0.5255 - val_accuracy: 0.7126\n",
      "Epoch 16/50\n",
      "97/97 [==============================] - 0s 3ms/step - loss: 0.5165 - accuracy: 0.7559 - val_loss: 0.5245 - val_accuracy: 0.7175\n",
      "Epoch 17/50\n",
      "97/97 [==============================] - 0s 3ms/step - loss: 0.5207 - accuracy: 0.7535 - val_loss: 0.5211 - val_accuracy: 0.7182\n",
      "Epoch 18/50\n",
      "97/97 [==============================] - 0s 3ms/step - loss: 0.5161 - accuracy: 0.7522 - val_loss: 0.5231 - val_accuracy: 0.7119\n",
      "Epoch 19/50\n",
      "97/97 [==============================] - 0s 3ms/step - loss: 0.5101 - accuracy: 0.7591 - val_loss: 0.5269 - val_accuracy: 0.7119\n",
      "Epoch 20/50\n",
      "97/97 [==============================] - 0s 3ms/step - loss: 0.5154 - accuracy: 0.7594 - val_loss: 0.5223 - val_accuracy: 0.7147\n",
      "Epoch 21/50\n",
      "97/97 [==============================] - 0s 3ms/step - loss: 0.5159 - accuracy: 0.7544 - val_loss: 0.5218 - val_accuracy: 0.7161\n",
      "Epoch 22/50\n",
      "97/97 [==============================] - 0s 3ms/step - loss: 0.5099 - accuracy: 0.7557 - val_loss: 0.5217 - val_accuracy: 0.7126\n",
      "Epoch 23/50\n",
      "97/97 [==============================] - 0s 3ms/step - loss: 0.5124 - accuracy: 0.7525 - val_loss: 0.5210 - val_accuracy: 0.7161\n",
      "Epoch 24/50\n",
      "97/97 [==============================] - 0s 3ms/step - loss: 0.5148 - accuracy: 0.7556 - val_loss: 0.5205 - val_accuracy: 0.7175\n",
      "Epoch 25/50\n",
      "97/97 [==============================] - 0s 3ms/step - loss: 0.5064 - accuracy: 0.7620 - val_loss: 0.5206 - val_accuracy: 0.7197\n",
      "Epoch 26/50\n",
      "97/97 [==============================] - 0s 3ms/step - loss: 0.5140 - accuracy: 0.7607 - val_loss: 0.5188 - val_accuracy: 0.7175\n",
      "Epoch 27/50\n",
      "97/97 [==============================] - 0s 3ms/step - loss: 0.5079 - accuracy: 0.7627 - val_loss: 0.5179 - val_accuracy: 0.7225\n",
      "Epoch 28/50\n",
      "97/97 [==============================] - 0s 3ms/step - loss: 0.5137 - accuracy: 0.7588 - val_loss: 0.5138 - val_accuracy: 0.7189\n",
      "Epoch 29/50\n",
      "97/97 [==============================] - 0s 3ms/step - loss: 0.5078 - accuracy: 0.7620 - val_loss: 0.5150 - val_accuracy: 0.7168\n",
      "Epoch 30/50\n",
      "97/97 [==============================] - 0s 3ms/step - loss: 0.5092 - accuracy: 0.7607 - val_loss: 0.5167 - val_accuracy: 0.7182\n",
      "Epoch 31/50\n",
      "97/97 [==============================] - 0s 3ms/step - loss: 0.5100 - accuracy: 0.7635 - val_loss: 0.5148 - val_accuracy: 0.7232\n",
      "Epoch 32/50\n",
      "97/97 [==============================] - 0s 3ms/step - loss: 0.5112 - accuracy: 0.7646 - val_loss: 0.5164 - val_accuracy: 0.7147\n",
      "Epoch 33/50\n",
      "97/97 [==============================] - 0s 3ms/step - loss: 0.5075 - accuracy: 0.7619 - val_loss: 0.5173 - val_accuracy: 0.7147\n",
      "Epoch 34/50\n",
      "97/97 [==============================] - 0s 3ms/step - loss: 0.5134 - accuracy: 0.7573 - val_loss: 0.5139 - val_accuracy: 0.7197\n",
      "Epoch 35/50\n",
      "97/97 [==============================] - 0s 2ms/step - loss: 0.5082 - accuracy: 0.7617 - val_loss: 0.5157 - val_accuracy: 0.7189\n",
      "Epoch 36/50\n",
      "97/97 [==============================] - 0s 2ms/step - loss: 0.5040 - accuracy: 0.7638 - val_loss: 0.5182 - val_accuracy: 0.7175\n",
      "Epoch 37/50\n",
      "97/97 [==============================] - 0s 3ms/step - loss: 0.5118 - accuracy: 0.7583 - val_loss: 0.5154 - val_accuracy: 0.7140\n",
      "Epoch 38/50\n",
      "97/97 [==============================] - 0s 2ms/step - loss: 0.5075 - accuracy: 0.7583 - val_loss: 0.5143 - val_accuracy: 0.7182\n",
      "Epoch 39/50\n",
      "97/97 [==============================] - 0s 2ms/step - loss: 0.5007 - accuracy: 0.7690 - val_loss: 0.5194 - val_accuracy: 0.7133\n",
      "Epoch 40/50\n",
      "97/97 [==============================] - 0s 2ms/step - loss: 0.5098 - accuracy: 0.7569 - val_loss: 0.5199 - val_accuracy: 0.7189\n",
      "Epoch 41/50\n",
      "97/97 [==============================] - 0s 2ms/step - loss: 0.5041 - accuracy: 0.7596 - val_loss: 0.5219 - val_accuracy: 0.7147\n",
      "Epoch 42/50\n",
      "97/97 [==============================] - 0s 2ms/step - loss: 0.5090 - accuracy: 0.7630 - val_loss: 0.5184 - val_accuracy: 0.7161\n",
      "Epoch 43/50\n",
      "97/97 [==============================] - 0s 3ms/step - loss: 0.5105 - accuracy: 0.7599 - val_loss: 0.5179 - val_accuracy: 0.7175\n",
      "Epoch 44/50\n",
      "97/97 [==============================] - 0s 2ms/step - loss: 0.5065 - accuracy: 0.7599 - val_loss: 0.5176 - val_accuracy: 0.7168\n",
      "Epoch 45/50\n",
      "97/97 [==============================] - 0s 2ms/step - loss: 0.5055 - accuracy: 0.7620 - val_loss: 0.5183 - val_accuracy: 0.7182\n",
      "Epoch 46/50\n",
      "97/97 [==============================] - 0s 2ms/step - loss: 0.5065 - accuracy: 0.7630 - val_loss: 0.5204 - val_accuracy: 0.7168\n",
      "Epoch 47/50\n",
      "97/97 [==============================] - 0s 2ms/step - loss: 0.5077 - accuracy: 0.7628 - val_loss: 0.5182 - val_accuracy: 0.7154\n",
      "Epoch 48/50\n",
      "97/97 [==============================] - 0s 3ms/step - loss: 0.5059 - accuracy: 0.7628 - val_loss: 0.5154 - val_accuracy: 0.7175\n",
      "Epoch 49/50\n",
      "97/97 [==============================] - 0s 2ms/step - loss: 0.5079 - accuracy: 0.7656 - val_loss: 0.5166 - val_accuracy: 0.7197\n",
      "Epoch 50/50\n",
      "97/97 [==============================] - 0s 2ms/step - loss: 0.5101 - accuracy: 0.7596 - val_loss: 0.5145 - val_accuracy: 0.7197\n"
     ]
    },
    {
     "data": {
      "image/png": "[encoded data removed]",
      "text/plain": [
       "<Figure size 864x432 with 1 Axes>"
      ]
     },
     "metadata": {
      "needs_background": "light"
     },
     "output_type": "display_data"
    }
   ],
   "source": [
    "model_elu_uniform.compile(loss='binary_crossentropy', optimizer=keras.optimizers.Adam(clipvalue=1.0), metrics=['accuracy'])\n",
    "\n",
    "history_elu_uniform = model_elu_uniform.fit(train_dataset, epochs=50, validation_data=valid_dataset)\n",
    "\n",
    "pd.DataFrame(history_elu_uniform.history).plot(figsize=(12, 6))\n",
    "plt.grid(True)\n",
    "plt.gca().set_ylim(0, 1)\n",
    "plt.show()"
   ]
  },
  {
   "cell_type": "markdown",
   "metadata": {},
   "source": [
    "## Leaky Relu"
   ]
  },
  {
   "cell_type": "code",
   "execution_count": null,
   "metadata": {},
   "outputs": [],
   "source": [
    "model_leakrelu_uniform = keras.models.Sequential()\n",
    "model_leakrelu_uniform.add(Input(shape=(6,)))\n",
    "model_leakrelu_uniform.add(normalisasi)\n",
    "model_leakrelu_uniform.add(Dense(17, activation='LeakyReLU', kernel_initializer= 'glorot_uniform', use_bias=False))\n",
    "model_leakrelu_uniform.add(Dropout(rate=0.2))\n",
    "\n",
    "model_leakrelu_uniform.add(Dense(13, activation='LeakyReLU', kernel_initializer= 'glorot_uniform', use_bias=False))\n",
    "model_leakrelu_uniform.add(Dropout(rate=0.2))\n",
    "\n",
    "model_leakrelu_uniform.add(Dense(9, activation='LeakyReLU', kernel_initializer= 'glorot_uniform', use_bias=False))\n",
    "model_leakrelu_uniform.add(Dropout(rate=0.2))\n",
    "\n",
    "model_leakrelu_uniform.add(Dense(5, activation='LeakyReLU', kernel_initializer= 'glorot_uniform', use_bias=False))\n",
    "model_leakrelu_uniform.add(Dropout(rate=0.2))\n",
    "model_leakrelu_uniform.add(Dense(1, activation='sigmoid'))"
   ]
  },
  {
   "cell_type": "code",
   "execution_count": null,
   "metadata": {},
   "outputs": [
    {
     "name": "stdout",
     "output_type": "stream",
     "text": [
      "Epoch 1/50\n",
      "97/97 [==============================] - 1s 4ms/step - loss: 0.6963 - accuracy: 0.5440 - val_loss: 0.6382 - val_accuracy: 0.7424\n",
      "Epoch 2/50\n",
      "97/97 [==============================] - 0s 3ms/step - loss: 0.6020 - accuracy: 0.6905 - val_loss: 0.6036 - val_accuracy: 0.7154\n",
      "Epoch 3/50\n",
      "97/97 [==============================] - 0s 3ms/step - loss: 0.5753 - accuracy: 0.7173 - val_loss: 0.5516 - val_accuracy: 0.7182\n",
      "Epoch 4/50\n",
      "97/97 [==============================] - 0s 3ms/step - loss: 0.5552 - accuracy: 0.7341 - val_loss: 0.5334 - val_accuracy: 0.7168\n",
      "Epoch 5/50\n",
      "97/97 [==============================] - 0s 3ms/step - loss: 0.5439 - accuracy: 0.7444 - val_loss: 0.5273 - val_accuracy: 0.7154\n",
      "Epoch 6/50\n",
      "97/97 [==============================] - 0s 2ms/step - loss: 0.5333 - accuracy: 0.7519 - val_loss: 0.5228 - val_accuracy: 0.7140\n",
      "Epoch 7/50\n",
      "97/97 [==============================] - 0s 3ms/step - loss: 0.5334 - accuracy: 0.7459 - val_loss: 0.5181 - val_accuracy: 0.7111\n",
      "Epoch 8/50\n",
      "97/97 [==============================] - 0s 3ms/step - loss: 0.5329 - accuracy: 0.7485 - val_loss: 0.5106 - val_accuracy: 0.7168\n",
      "Epoch 9/50\n",
      "97/97 [==============================] - 0s 3ms/step - loss: 0.5199 - accuracy: 0.7541 - val_loss: 0.5127 - val_accuracy: 0.7147\n",
      "Epoch 10/50\n",
      "97/97 [==============================] - 0s 3ms/step - loss: 0.5259 - accuracy: 0.7499 - val_loss: 0.5111 - val_accuracy: 0.7161\n",
      "Epoch 11/50\n",
      "97/97 [==============================] - 0s 3ms/step - loss: 0.5167 - accuracy: 0.7551 - val_loss: 0.5099 - val_accuracy: 0.7182\n",
      "Epoch 12/50\n",
      "97/97 [==============================] - 0s 3ms/step - loss: 0.5198 - accuracy: 0.7554 - val_loss: 0.5075 - val_accuracy: 0.7218\n",
      "Epoch 13/50\n",
      "97/97 [==============================] - 0s 3ms/step - loss: 0.5160 - accuracy: 0.7572 - val_loss: 0.5089 - val_accuracy: 0.7232\n",
      "Epoch 14/50\n",
      "97/97 [==============================] - 0s 2ms/step - loss: 0.5135 - accuracy: 0.7588 - val_loss: 0.5119 - val_accuracy: 0.7204\n",
      "Epoch 15/50\n",
      "97/97 [==============================] - 0s 2ms/step - loss: 0.5144 - accuracy: 0.7565 - val_loss: 0.5057 - val_accuracy: 0.7246\n",
      "Epoch 16/50\n",
      "97/97 [==============================] - 0s 2ms/step - loss: 0.5150 - accuracy: 0.7561 - val_loss: 0.5065 - val_accuracy: 0.7253\n",
      "Epoch 17/50\n",
      "97/97 [==============================] - 0s 2ms/step - loss: 0.5123 - accuracy: 0.7612 - val_loss: 0.5046 - val_accuracy: 0.7282\n",
      "Epoch 18/50\n",
      "97/97 [==============================] - 0s 2ms/step - loss: 0.5134 - accuracy: 0.7583 - val_loss: 0.5030 - val_accuracy: 0.7296\n",
      "Epoch 19/50\n",
      "97/97 [==============================] - 0s 2ms/step - loss: 0.5067 - accuracy: 0.7617 - val_loss: 0.5066 - val_accuracy: 0.7303\n",
      "Epoch 20/50\n",
      "97/97 [==============================] - 0s 2ms/step - loss: 0.5077 - accuracy: 0.7590 - val_loss: 0.5062 - val_accuracy: 0.7268\n",
      "Epoch 21/50\n",
      "97/97 [==============================] - 0s 2ms/step - loss: 0.5099 - accuracy: 0.7612 - val_loss: 0.5042 - val_accuracy: 0.7303\n",
      "Epoch 22/50\n",
      "97/97 [==============================] - 0s 2ms/step - loss: 0.5068 - accuracy: 0.7673 - val_loss: 0.5047 - val_accuracy: 0.7296\n",
      "Epoch 23/50\n",
      "97/97 [==============================] - 0s 2ms/step - loss: 0.5078 - accuracy: 0.7607 - val_loss: 0.5033 - val_accuracy: 0.7317\n",
      "Epoch 24/50\n",
      "97/97 [==============================] - 0s 2ms/step - loss: 0.5106 - accuracy: 0.7669 - val_loss: 0.5002 - val_accuracy: 0.7310\n",
      "Epoch 25/50\n",
      "97/97 [==============================] - 0s 2ms/step - loss: 0.5006 - accuracy: 0.7659 - val_loss: 0.5038 - val_accuracy: 0.7310\n",
      "Epoch 26/50\n",
      "97/97 [==============================] - 0s 2ms/step - loss: 0.5090 - accuracy: 0.7662 - val_loss: 0.5001 - val_accuracy: 0.7353\n",
      "Epoch 27/50\n",
      "97/97 [==============================] - 0s 2ms/step - loss: 0.5028 - accuracy: 0.7620 - val_loss: 0.5021 - val_accuracy: 0.7331\n",
      "Epoch 28/50\n",
      "97/97 [==============================] - 0s 2ms/step - loss: 0.5085 - accuracy: 0.7615 - val_loss: 0.5000 - val_accuracy: 0.7346\n",
      "Epoch 29/50\n",
      "97/97 [==============================] - 0s 2ms/step - loss: 0.5010 - accuracy: 0.7646 - val_loss: 0.5012 - val_accuracy: 0.7360\n",
      "Epoch 30/50\n",
      "97/97 [==============================] - 0s 2ms/step - loss: 0.5089 - accuracy: 0.7644 - val_loss: 0.4985 - val_accuracy: 0.7339\n",
      "Epoch 31/50\n",
      "97/97 [==============================] - 0s 2ms/step - loss: 0.5030 - accuracy: 0.7680 - val_loss: 0.4994 - val_accuracy: 0.7360\n",
      "Epoch 32/50\n",
      "97/97 [==============================] - 0s 2ms/step - loss: 0.5084 - accuracy: 0.7646 - val_loss: 0.4971 - val_accuracy: 0.7346\n",
      "Epoch 33/50\n",
      "97/97 [==============================] - 0s 2ms/step - loss: 0.5053 - accuracy: 0.7664 - val_loss: 0.5002 - val_accuracy: 0.7339\n",
      "Epoch 34/50\n",
      "97/97 [==============================] - 0s 2ms/step - loss: 0.5041 - accuracy: 0.7677 - val_loss: 0.5005 - val_accuracy: 0.7353\n",
      "Epoch 35/50\n",
      "97/97 [==============================] - 0s 2ms/step - loss: 0.5003 - accuracy: 0.7664 - val_loss: 0.5025 - val_accuracy: 0.7353\n",
      "Epoch 36/50\n",
      "97/97 [==============================] - 0s 2ms/step - loss: 0.5037 - accuracy: 0.7685 - val_loss: 0.5030 - val_accuracy: 0.7324\n",
      "Epoch 37/50\n",
      "97/97 [==============================] - 0s 2ms/step - loss: 0.5035 - accuracy: 0.7657 - val_loss: 0.5034 - val_accuracy: 0.7339\n",
      "Epoch 38/50\n",
      "97/97 [==============================] - 0s 2ms/step - loss: 0.5017 - accuracy: 0.7656 - val_loss: 0.5045 - val_accuracy: 0.7339\n",
      "Epoch 39/50\n",
      "97/97 [==============================] - 0s 2ms/step - loss: 0.5008 - accuracy: 0.7633 - val_loss: 0.5051 - val_accuracy: 0.7303\n",
      "Epoch 40/50\n",
      "97/97 [==============================] - 0s 2ms/step - loss: 0.5006 - accuracy: 0.7665 - val_loss: 0.5044 - val_accuracy: 0.7360\n",
      "Epoch 41/50\n",
      "97/97 [==============================] - 0s 2ms/step - loss: 0.4985 - accuracy: 0.7651 - val_loss: 0.5042 - val_accuracy: 0.7346\n",
      "Epoch 42/50\n",
      "97/97 [==============================] - 0s 2ms/step - loss: 0.5059 - accuracy: 0.7633 - val_loss: 0.4997 - val_accuracy: 0.7353\n",
      "Epoch 43/50\n",
      "97/97 [==============================] - 0s 2ms/step - loss: 0.5007 - accuracy: 0.7682 - val_loss: 0.4987 - val_accuracy: 0.7346\n",
      "Epoch 44/50\n",
      "97/97 [==============================] - 0s 2ms/step - loss: 0.4987 - accuracy: 0.7711 - val_loss: 0.5010 - val_accuracy: 0.7353\n",
      "Epoch 45/50\n",
      "97/97 [==============================] - 0s 3ms/step - loss: 0.5043 - accuracy: 0.7690 - val_loss: 0.4971 - val_accuracy: 0.7346\n",
      "Epoch 46/50\n",
      "97/97 [==============================] - 0s 3ms/step - loss: 0.4998 - accuracy: 0.7652 - val_loss: 0.5002 - val_accuracy: 0.7367\n",
      "Epoch 47/50\n",
      "97/97 [==============================] - 0s 3ms/step - loss: 0.5031 - accuracy: 0.7656 - val_loss: 0.4992 - val_accuracy: 0.7395\n",
      "Epoch 48/50\n",
      "97/97 [==============================] - 0s 2ms/step - loss: 0.5006 - accuracy: 0.7690 - val_loss: 0.4998 - val_accuracy: 0.7410\n",
      "Epoch 49/50\n",
      "97/97 [==============================] - 0s 2ms/step - loss: 0.5037 - accuracy: 0.7656 - val_loss: 0.4999 - val_accuracy: 0.7353\n",
      "Epoch 50/50\n",
      "97/97 [==============================] - 0s 3ms/step - loss: 0.4978 - accuracy: 0.7648 - val_loss: 0.4985 - val_accuracy: 0.7360\n"
     ]
    },
    {
     "data": {
      "image/png": "[encoded data removed]",
      "text/plain": [
       "<Figure size 864x432 with 1 Axes>"
      ]
     },
     "metadata": {
      "needs_background": "light"
     },
     "output_type": "display_data"
    }
   ],
   "source": [
    "model_leakrelu_uniform.compile(loss='binary_crossentropy', optimizer=keras.optimizers.Adam(clipvalue=1.0), metrics=['accuracy'])\n",
    "\n",
    "history_leakrelu = model_leakrelu_uniform.fit(train_dataset, epochs=50, validation_data=valid_dataset)\n",
    "\n",
    "pd.DataFrame(history_leakrelu.history).plot(figsize=(12, 6))\n",
    "plt.grid(True)\n",
    "plt.gca().set_ylim(0, 1)\n",
    "plt.show()"
   ]
  },
  {
   "cell_type": "markdown",
   "metadata": {},
   "source": [
    "## **Kernel Glorot Normal**"
   ]
  },
  {
   "cell_type": "markdown",
   "metadata": {},
   "source": [
    "----"
   ]
  },
  {
   "cell_type": "markdown",
   "metadata": {},
   "source": [
    "## Relu"
   ]
  },
  {
   "cell_type": "code",
   "execution_count": null,
   "metadata": {},
   "outputs": [],
   "source": [
    "model_relu_normal = keras.models.Sequential()\n",
    "model_relu_normal.add(Input(shape=(6,)))\n",
    "model_relu_normal.add(normalisasi)\n",
    "model_relu_normal.add(Dense(17, activation='relu', kernel_initializer= 'glorot_normal', use_bias=False))\n",
    "model_relu_normal.add(Dropout(rate=0.2))\n",
    "\n",
    "model_relu_normal.add(Dense(13, activation='relu', kernel_initializer= 'glorot_normal', use_bias=False))\n",
    "model_relu_normal.add(Dropout(rate=0.2))\n",
    "\n",
    "model_relu_normal.add(Dense(9, activation='relu', kernel_initializer= 'glorot_normal', use_bias=False))\n",
    "model_relu_normal.add(Dropout(rate=0.2))\n",
    "\n",
    "model_relu_normal.add(Dense(5, activation='relu', kernel_initializer= 'glorot_normal', use_bias=False))\n",
    "model_relu_normal.add(Dropout(rate=0.2))\n",
    "model_relu_normal.add(Dense(1, activation='sigmoid'))"
   ]
  },
  {
   "cell_type": "code",
   "execution_count": null,
   "metadata": {},
   "outputs": [
    {
     "name": "stdout",
     "output_type": "stream",
     "text": [
      "Epoch 1/50\n",
      "97/97 [==============================] - 1s 4ms/step - loss: 0.6740 - accuracy: 0.5494 - val_loss: 0.6148 - val_accuracy: 0.7019\n",
      "Epoch 2/50\n",
      "97/97 [==============================] - 0s 3ms/step - loss: 0.6297 - accuracy: 0.6016 - val_loss: 0.5678 - val_accuracy: 0.7154\n",
      "Epoch 3/50\n",
      "97/97 [==============================] - 0s 2ms/step - loss: 0.6013 - accuracy: 0.6383 - val_loss: 0.5413 - val_accuracy: 0.7218\n",
      "Epoch 4/50\n",
      "97/97 [==============================] - 0s 3ms/step - loss: 0.6038 - accuracy: 0.6551 - val_loss: 0.5372 - val_accuracy: 0.7239\n",
      "Epoch 5/50\n",
      "97/97 [==============================] - 0s 2ms/step - loss: 0.5817 - accuracy: 0.6868 - val_loss: 0.5222 - val_accuracy: 0.7239\n",
      "Epoch 6/50\n",
      "97/97 [==============================] - 0s 2ms/step - loss: 0.5764 - accuracy: 0.6912 - val_loss: 0.5245 - val_accuracy: 0.7189\n",
      "Epoch 7/50\n",
      "97/97 [==============================] - 0s 3ms/step - loss: 0.5713 - accuracy: 0.7022 - val_loss: 0.5244 - val_accuracy: 0.7339\n",
      "Epoch 8/50\n",
      "97/97 [==============================] - 0s 2ms/step - loss: 0.5651 - accuracy: 0.7070 - val_loss: 0.5112 - val_accuracy: 0.7353\n",
      "Epoch 9/50\n",
      "97/97 [==============================] - 0s 2ms/step - loss: 0.5572 - accuracy: 0.7268 - val_loss: 0.5107 - val_accuracy: 0.7310\n",
      "Epoch 10/50\n",
      "97/97 [==============================] - 0s 2ms/step - loss: 0.5487 - accuracy: 0.7262 - val_loss: 0.5024 - val_accuracy: 0.7282\n",
      "Epoch 11/50\n",
      "97/97 [==============================] - 0s 2ms/step - loss: 0.5481 - accuracy: 0.7281 - val_loss: 0.5048 - val_accuracy: 0.7310\n",
      "Epoch 12/50\n",
      "97/97 [==============================] - 0s 2ms/step - loss: 0.5413 - accuracy: 0.7451 - val_loss: 0.5037 - val_accuracy: 0.7331\n",
      "Epoch 13/50\n",
      "97/97 [==============================] - 0s 3ms/step - loss: 0.5402 - accuracy: 0.7404 - val_loss: 0.5018 - val_accuracy: 0.7381\n",
      "Epoch 14/50\n",
      "97/97 [==============================] - 0s 2ms/step - loss: 0.5435 - accuracy: 0.7383 - val_loss: 0.5040 - val_accuracy: 0.7360\n",
      "Epoch 15/50\n",
      "97/97 [==============================] - 0s 3ms/step - loss: 0.5441 - accuracy: 0.7409 - val_loss: 0.5006 - val_accuracy: 0.7310\n",
      "Epoch 16/50\n",
      "97/97 [==============================] - 0s 2ms/step - loss: 0.5338 - accuracy: 0.7493 - val_loss: 0.4985 - val_accuracy: 0.7246\n",
      "Epoch 17/50\n",
      "97/97 [==============================] - 0s 2ms/step - loss: 0.5359 - accuracy: 0.7419 - val_loss: 0.4980 - val_accuracy: 0.7260\n",
      "Epoch 18/50\n",
      "97/97 [==============================] - 0s 3ms/step - loss: 0.5397 - accuracy: 0.7406 - val_loss: 0.4966 - val_accuracy: 0.7275\n",
      "Epoch 19/50\n",
      "97/97 [==============================] - 0s 3ms/step - loss: 0.5251 - accuracy: 0.7510 - val_loss: 0.4980 - val_accuracy: 0.7211\n",
      "Epoch 20/50\n",
      "97/97 [==============================] - 0s 3ms/step - loss: 0.5312 - accuracy: 0.7535 - val_loss: 0.4969 - val_accuracy: 0.7211\n",
      "Epoch 21/50\n",
      "97/97 [==============================] - 0s 3ms/step - loss: 0.5305 - accuracy: 0.7457 - val_loss: 0.4967 - val_accuracy: 0.7161\n",
      "Epoch 22/50\n",
      "97/97 [==============================] - 0s 3ms/step - loss: 0.5269 - accuracy: 0.7499 - val_loss: 0.4999 - val_accuracy: 0.7147\n",
      "Epoch 23/50\n",
      "97/97 [==============================] - 0s 3ms/step - loss: 0.5246 - accuracy: 0.7478 - val_loss: 0.4967 - val_accuracy: 0.7204\n",
      "Epoch 24/50\n",
      "97/97 [==============================] - 0s 3ms/step - loss: 0.5351 - accuracy: 0.7477 - val_loss: 0.5018 - val_accuracy: 0.7133\n",
      "Epoch 25/50\n",
      "97/97 [==============================] - 0s 3ms/step - loss: 0.5218 - accuracy: 0.7528 - val_loss: 0.4952 - val_accuracy: 0.7225\n",
      "Epoch 26/50\n",
      "97/97 [==============================] - 0s 3ms/step - loss: 0.5279 - accuracy: 0.7536 - val_loss: 0.4981 - val_accuracy: 0.7253\n",
      "Epoch 27/50\n",
      "97/97 [==============================] - 0s 3ms/step - loss: 0.5283 - accuracy: 0.7475 - val_loss: 0.4983 - val_accuracy: 0.7225\n",
      "Epoch 28/50\n",
      "97/97 [==============================] - 0s 3ms/step - loss: 0.5266 - accuracy: 0.7588 - val_loss: 0.4925 - val_accuracy: 0.7239\n",
      "Epoch 29/50\n",
      "97/97 [==============================] - 0s 3ms/step - loss: 0.5242 - accuracy: 0.7551 - val_loss: 0.4974 - val_accuracy: 0.7204\n",
      "Epoch 30/50\n",
      "97/97 [==============================] - 0s 3ms/step - loss: 0.5292 - accuracy: 0.7499 - val_loss: 0.4973 - val_accuracy: 0.7253\n",
      "Epoch 31/50\n",
      "97/97 [==============================] - 0s 2ms/step - loss: 0.5228 - accuracy: 0.7517 - val_loss: 0.4973 - val_accuracy: 0.7282\n",
      "Epoch 32/50\n",
      "97/97 [==============================] - 0s 3ms/step - loss: 0.5209 - accuracy: 0.7543 - val_loss: 0.4976 - val_accuracy: 0.7211\n",
      "Epoch 33/50\n",
      "97/97 [==============================] - 0s 3ms/step - loss: 0.5344 - accuracy: 0.7469 - val_loss: 0.4992 - val_accuracy: 0.7175\n",
      "Epoch 34/50\n",
      "97/97 [==============================] - 0s 3ms/step - loss: 0.5246 - accuracy: 0.7552 - val_loss: 0.4951 - val_accuracy: 0.7232\n",
      "Epoch 35/50\n",
      "97/97 [==============================] - 0s 3ms/step - loss: 0.5210 - accuracy: 0.7565 - val_loss: 0.4948 - val_accuracy: 0.7282\n",
      "Epoch 36/50\n",
      "97/97 [==============================] - 0s 3ms/step - loss: 0.5162 - accuracy: 0.7569 - val_loss: 0.4978 - val_accuracy: 0.7260\n",
      "Epoch 37/50\n",
      "97/97 [==============================] - 0s 3ms/step - loss: 0.5182 - accuracy: 0.7570 - val_loss: 0.4965 - val_accuracy: 0.7246\n",
      "Epoch 38/50\n",
      "97/97 [==============================] - 0s 3ms/step - loss: 0.5193 - accuracy: 0.7577 - val_loss: 0.4981 - val_accuracy: 0.7239\n",
      "Epoch 39/50\n",
      "97/97 [==============================] - 0s 3ms/step - loss: 0.5134 - accuracy: 0.7531 - val_loss: 0.4980 - val_accuracy: 0.7211\n",
      "Epoch 40/50\n",
      "97/97 [==============================] - 0s 3ms/step - loss: 0.5157 - accuracy: 0.7554 - val_loss: 0.4971 - val_accuracy: 0.7253\n",
      "Epoch 41/50\n",
      "97/97 [==============================] - 0s 3ms/step - loss: 0.5212 - accuracy: 0.7541 - val_loss: 0.4987 - val_accuracy: 0.7275\n",
      "Epoch 42/50\n",
      "97/97 [==============================] - 0s 3ms/step - loss: 0.5215 - accuracy: 0.7523 - val_loss: 0.4936 - val_accuracy: 0.7218\n",
      "Epoch 43/50\n",
      "97/97 [==============================] - 0s 3ms/step - loss: 0.5267 - accuracy: 0.7483 - val_loss: 0.5017 - val_accuracy: 0.7204\n",
      "Epoch 44/50\n",
      "97/97 [==============================] - 0s 3ms/step - loss: 0.5185 - accuracy: 0.7502 - val_loss: 0.4977 - val_accuracy: 0.7218\n",
      "Epoch 45/50\n",
      "97/97 [==============================] - 0s 3ms/step - loss: 0.5174 - accuracy: 0.7551 - val_loss: 0.4938 - val_accuracy: 0.7239\n",
      "Epoch 46/50\n",
      "97/97 [==============================] - 0s 3ms/step - loss: 0.5204 - accuracy: 0.7567 - val_loss: 0.4948 - val_accuracy: 0.7253\n",
      "Epoch 47/50\n",
      "97/97 [==============================] - 0s 2ms/step - loss: 0.5227 - accuracy: 0.7535 - val_loss: 0.5013 - val_accuracy: 0.7218\n",
      "Epoch 48/50\n",
      "97/97 [==============================] - 0s 3ms/step - loss: 0.5181 - accuracy: 0.7572 - val_loss: 0.4991 - val_accuracy: 0.7232\n",
      "Epoch 49/50\n",
      "97/97 [==============================] - 0s 3ms/step - loss: 0.5222 - accuracy: 0.7549 - val_loss: 0.4988 - val_accuracy: 0.7253\n",
      "Epoch 50/50\n",
      "97/97 [==============================] - 0s 3ms/step - loss: 0.5165 - accuracy: 0.7554 - val_loss: 0.4972 - val_accuracy: 0.7260\n"
     ]
    },
    {
     "data": {
      "image/png": "[encoded data removed]",
      "text/plain": [
       "<Figure size 864x432 with 1 Axes>"
      ]
     },
     "metadata": {
      "needs_background": "light"
     },
     "output_type": "display_data"
    }
   ],
   "source": [
    "model_relu_normal.compile(loss='binary_crossentropy', optimizer=keras.optimizers.Adam(clipvalue=1.0), metrics=['accuracy'])\n",
    "\n",
    "history_relu_normal = model_relu_normal.fit(train_dataset, epochs=50, validation_data=valid_dataset)\n",
    "\n",
    "pd.DataFrame(history_relu_normal.history).plot(figsize=(12, 6))\n",
    "plt.grid(True)\n",
    "plt.gca().set_ylim(0, 1)\n",
    "plt.show()"
   ]
  },
  {
   "cell_type": "markdown",
   "metadata": {},
   "source": [
    "## Elu"
   ]
  },
  {
   "cell_type": "code",
   "execution_count": null,
   "metadata": {},
   "outputs": [],
   "source": [
    "model_elu_normal = keras.models.Sequential()\n",
    "model_elu_normal.add(Input(shape=(6,)))\n",
    "model_elu_normal.add(normalisasi)\n",
    "model_elu_normal.add(Dense(17, activation='elu', kernel_initializer= 'glorot_normal', use_bias=False))\n",
    "model_elu_normal.add(Dropout(rate=0.2))\n",
    "\n",
    "model_elu_normal.add(Dense(13, activation='elu', kernel_initializer= 'glorot_normal', use_bias=False))\n",
    "model_elu_normal.add(Dropout(rate=0.2))\n",
    "\n",
    "model_elu_normal.add(Dense(9, activation='elu', kernel_initializer= 'glorot_normal', use_bias=False))\n",
    "model_elu_normal.add(Dropout(rate=0.2))\n",
    "\n",
    "model_elu_normal.add(Dense(5, activation='elu', kernel_initializer= 'glorot_normal', use_bias=False))\n",
    "model_elu_normal.add(Dropout(rate=0.2))\n",
    "model_elu_normal.add(Dense(1, activation='sigmoid'))"
   ]
  },
  {
   "cell_type": "code",
   "execution_count": null,
   "metadata": {},
   "outputs": [
    {
     "name": "stdout",
     "output_type": "stream",
     "text": [
      "Epoch 1/50\n",
      "97/97 [==============================] - 1s 4ms/step - loss: 0.6076 - accuracy: 0.6765 - val_loss: 0.6101 - val_accuracy: 0.7048\n",
      "Epoch 2/50\n",
      "97/97 [==============================] - 0s 3ms/step - loss: 0.5624 - accuracy: 0.7365 - val_loss: 0.5757 - val_accuracy: 0.7012\n",
      "Epoch 3/50\n",
      "97/97 [==============================] - 0s 3ms/step - loss: 0.5445 - accuracy: 0.7457 - val_loss: 0.5600 - val_accuracy: 0.7069\n",
      "Epoch 4/50\n",
      "97/97 [==============================] - 0s 4ms/step - loss: 0.5383 - accuracy: 0.7443 - val_loss: 0.5533 - val_accuracy: 0.7019\n",
      "Epoch 5/50\n",
      "97/97 [==============================] - 0s 3ms/step - loss: 0.5381 - accuracy: 0.7407 - val_loss: 0.5454 - val_accuracy: 0.7076\n",
      "Epoch 6/50\n",
      "97/97 [==============================] - 0s 3ms/step - loss: 0.5312 - accuracy: 0.7412 - val_loss: 0.5446 - val_accuracy: 0.7055\n",
      "Epoch 7/50\n",
      "97/97 [==============================] - 0s 3ms/step - loss: 0.5259 - accuracy: 0.7519 - val_loss: 0.5409 - val_accuracy: 0.7076\n",
      "Epoch 8/50\n",
      "97/97 [==============================] - 0s 3ms/step - loss: 0.5298 - accuracy: 0.7506 - val_loss: 0.5374 - val_accuracy: 0.7083\n",
      "Epoch 9/50\n",
      "97/97 [==============================] - 0s 3ms/step - loss: 0.5224 - accuracy: 0.7502 - val_loss: 0.5369 - val_accuracy: 0.7104\n",
      "Epoch 10/50\n",
      "97/97 [==============================] - 0s 3ms/step - loss: 0.5202 - accuracy: 0.7559 - val_loss: 0.5339 - val_accuracy: 0.7055\n",
      "Epoch 11/50\n",
      "97/97 [==============================] - 0s 3ms/step - loss: 0.5193 - accuracy: 0.7506 - val_loss: 0.5329 - val_accuracy: 0.7097\n",
      "Epoch 12/50\n",
      "97/97 [==============================] - 0s 3ms/step - loss: 0.5233 - accuracy: 0.7491 - val_loss: 0.5313 - val_accuracy: 0.7126\n",
      "Epoch 13/50\n",
      "97/97 [==============================] - 0s 3ms/step - loss: 0.5210 - accuracy: 0.7533 - val_loss: 0.5311 - val_accuracy: 0.7119\n",
      "Epoch 14/50\n",
      "97/97 [==============================] - 0s 3ms/step - loss: 0.5162 - accuracy: 0.7540 - val_loss: 0.5305 - val_accuracy: 0.7140\n",
      "Epoch 15/50\n",
      "97/97 [==============================] - 0s 3ms/step - loss: 0.5196 - accuracy: 0.7548 - val_loss: 0.5293 - val_accuracy: 0.7104\n",
      "Epoch 16/50\n",
      "97/97 [==============================] - 0s 3ms/step - loss: 0.5177 - accuracy: 0.7551 - val_loss: 0.5282 - val_accuracy: 0.7140\n",
      "Epoch 17/50\n",
      "97/97 [==============================] - 0s 3ms/step - loss: 0.5173 - accuracy: 0.7573 - val_loss: 0.5271 - val_accuracy: 0.7140\n",
      "Epoch 18/50\n",
      "97/97 [==============================] - 0s 3ms/step - loss: 0.5225 - accuracy: 0.7543 - val_loss: 0.5233 - val_accuracy: 0.7140\n",
      "Epoch 19/50\n",
      "97/97 [==============================] - 0s 3ms/step - loss: 0.5099 - accuracy: 0.7552 - val_loss: 0.5286 - val_accuracy: 0.7119\n",
      "Epoch 20/50\n",
      "97/97 [==============================] - 0s 3ms/step - loss: 0.5161 - accuracy: 0.7519 - val_loss: 0.5238 - val_accuracy: 0.7119\n",
      "Epoch 21/50\n",
      "97/97 [==============================] - 0s 3ms/step - loss: 0.5153 - accuracy: 0.7559 - val_loss: 0.5234 - val_accuracy: 0.7119\n",
      "Epoch 22/50\n",
      "97/97 [==============================] - 0s 3ms/step - loss: 0.5160 - accuracy: 0.7523 - val_loss: 0.5231 - val_accuracy: 0.7076\n",
      "Epoch 23/50\n",
      "97/97 [==============================] - 0s 3ms/step - loss: 0.5168 - accuracy: 0.7523 - val_loss: 0.5227 - val_accuracy: 0.7147\n",
      "Epoch 24/50\n",
      "97/97 [==============================] - 0s 3ms/step - loss: 0.5109 - accuracy: 0.7551 - val_loss: 0.5236 - val_accuracy: 0.7197\n",
      "Epoch 25/50\n",
      "97/97 [==============================] - 0s 3ms/step - loss: 0.5085 - accuracy: 0.7557 - val_loss: 0.5270 - val_accuracy: 0.7119\n",
      "Epoch 26/50\n",
      "97/97 [==============================] - 0s 3ms/step - loss: 0.5178 - accuracy: 0.7525 - val_loss: 0.5195 - val_accuracy: 0.7197\n",
      "Epoch 27/50\n",
      "97/97 [==============================] - 0s 3ms/step - loss: 0.5067 - accuracy: 0.7557 - val_loss: 0.5225 - val_accuracy: 0.7168\n",
      "Epoch 28/50\n",
      "97/97 [==============================] - 0s 3ms/step - loss: 0.5115 - accuracy: 0.7602 - val_loss: 0.5180 - val_accuracy: 0.7175\n",
      "Epoch 29/50\n",
      "97/97 [==============================] - 0s 3ms/step - loss: 0.5100 - accuracy: 0.7604 - val_loss: 0.5167 - val_accuracy: 0.7218\n",
      "Epoch 30/50\n",
      "97/97 [==============================] - 0s 3ms/step - loss: 0.5102 - accuracy: 0.7620 - val_loss: 0.5186 - val_accuracy: 0.7182\n",
      "Epoch 31/50\n",
      "97/97 [==============================] - 0s 2ms/step - loss: 0.5109 - accuracy: 0.7577 - val_loss: 0.5195 - val_accuracy: 0.7211\n",
      "Epoch 32/50\n",
      "97/97 [==============================] - 0s 3ms/step - loss: 0.5110 - accuracy: 0.7583 - val_loss: 0.5211 - val_accuracy: 0.7140\n",
      "Epoch 33/50\n",
      "97/97 [==============================] - 0s 2ms/step - loss: 0.5104 - accuracy: 0.7581 - val_loss: 0.5216 - val_accuracy: 0.7147\n",
      "Epoch 34/50\n",
      "97/97 [==============================] - 0s 3ms/step - loss: 0.5099 - accuracy: 0.7633 - val_loss: 0.5199 - val_accuracy: 0.7161\n",
      "Epoch 35/50\n",
      "97/97 [==============================] - 0s 2ms/step - loss: 0.5110 - accuracy: 0.7596 - val_loss: 0.5207 - val_accuracy: 0.7197\n",
      "Epoch 36/50\n",
      "97/97 [==============================] - 0s 3ms/step - loss: 0.5051 - accuracy: 0.7622 - val_loss: 0.5231 - val_accuracy: 0.7161\n",
      "Epoch 37/50\n",
      "97/97 [==============================] - 0s 3ms/step - loss: 0.5097 - accuracy: 0.7625 - val_loss: 0.5220 - val_accuracy: 0.7140\n",
      "Epoch 38/50\n",
      "97/97 [==============================] - 0s 3ms/step - loss: 0.5095 - accuracy: 0.7590 - val_loss: 0.5184 - val_accuracy: 0.7232\n",
      "Epoch 39/50\n",
      "97/97 [==============================] - 0s 3ms/step - loss: 0.5063 - accuracy: 0.7612 - val_loss: 0.5223 - val_accuracy: 0.7175\n",
      "Epoch 40/50\n",
      "97/97 [==============================] - 0s 3ms/step - loss: 0.5055 - accuracy: 0.7625 - val_loss: 0.5224 - val_accuracy: 0.7154\n",
      "Epoch 41/50\n",
      "97/97 [==============================] - 0s 3ms/step - loss: 0.5066 - accuracy: 0.7628 - val_loss: 0.5206 - val_accuracy: 0.7175\n",
      "Epoch 42/50\n",
      "97/97 [==============================] - 0s 3ms/step - loss: 0.5068 - accuracy: 0.7665 - val_loss: 0.5188 - val_accuracy: 0.7204\n",
      "Epoch 43/50\n",
      "97/97 [==============================] - 0s 3ms/step - loss: 0.5071 - accuracy: 0.7669 - val_loss: 0.5175 - val_accuracy: 0.7197\n",
      "Epoch 44/50\n",
      "97/97 [==============================] - 0s 3ms/step - loss: 0.5048 - accuracy: 0.7643 - val_loss: 0.5173 - val_accuracy: 0.7197\n",
      "Epoch 45/50\n",
      "97/97 [==============================] - 0s 2ms/step - loss: 0.5040 - accuracy: 0.7665 - val_loss: 0.5175 - val_accuracy: 0.7189\n",
      "Epoch 46/50\n",
      "97/97 [==============================] - 0s 2ms/step - loss: 0.5080 - accuracy: 0.7591 - val_loss: 0.5167 - val_accuracy: 0.7189\n",
      "Epoch 47/50\n",
      "97/97 [==============================] - 0s 3ms/step - loss: 0.5097 - accuracy: 0.7636 - val_loss: 0.5168 - val_accuracy: 0.7175\n",
      "Epoch 48/50\n",
      "97/97 [==============================] - 0s 3ms/step - loss: 0.5074 - accuracy: 0.7604 - val_loss: 0.5195 - val_accuracy: 0.7168\n",
      "Epoch 49/50\n",
      "97/97 [==============================] - 0s 2ms/step - loss: 0.5060 - accuracy: 0.7622 - val_loss: 0.5226 - val_accuracy: 0.7154\n",
      "Epoch 50/50\n",
      "97/97 [==============================] - 0s 3ms/step - loss: 0.5077 - accuracy: 0.7591 - val_loss: 0.5191 - val_accuracy: 0.7147\n"
     ]
    },
    {
     "data": {
      "image/png": "[encoded data removed]",
      "text/plain": [
       "<Figure size 864x432 with 1 Axes>"
      ]
     },
     "metadata": {
      "needs_background": "light"
     },
     "output_type": "display_data"
    }
   ],
   "source": [
    "model_elu_normal.compile(loss='binary_crossentropy', optimizer=keras.optimizers.Adam(clipvalue=1.0), metrics=['accuracy'])\n",
    "\n",
    "history_elu_normal = model_elu_normal.fit(train_dataset, epochs=50, validation_data=valid_dataset)\n",
    "\n",
    "pd.DataFrame(history_elu_normal.history).plot(figsize=(12, 6))\n",
    "plt.grid(True)\n",
    "plt.gca().set_ylim(0, 1)\n",
    "plt.show()"
   ]
  },
  {
   "cell_type": "markdown",
   "metadata": {},
   "source": [
    "## Leaky Relu"
   ]
  },
  {
   "cell_type": "code",
   "execution_count": null,
   "metadata": {},
   "outputs": [],
   "source": [
    "model_leakyrelu_normal = keras.models.Sequential()\n",
    "model_leakyrelu_normal.add(Input(shape=(6,)))\n",
    "model_leakyrelu_normal.add(normalisasi)\n",
    "model_leakyrelu_normal.add(Dense(17, activation='LeakyReLU', kernel_initializer= 'glorot_normal', use_bias=False))\n",
    "model_leakyrelu_normal.add(Dropout(rate=0.2))\n",
    "\n",
    "model_leakyrelu_normal.add(Dense(13, activation='LeakyReLU', kernel_initializer= 'glorot_normal', use_bias=False))\n",
    "model_leakyrelu_normal.add(Dropout(rate=0.2))\n",
    "\n",
    "model_leakyrelu_normal.add(Dense(9, activation='LeakyReLU', kernel_initializer= 'glorot_normal', use_bias=False))\n",
    "model_leakyrelu_normal.add(Dropout(rate=0.2))\n",
    "\n",
    "model_leakyrelu_normal.add(Dense(5, activation='LeakyReLU', kernel_initializer= 'glorot_normal', use_bias=False))\n",
    "model_leakyrelu_normal.add(Dropout(rate=0.2))\n",
    "model_leakyrelu_normal.add(Dense(1, activation='sigmoid'))"
   ]
  },
  {
   "cell_type": "code",
   "execution_count": null,
   "metadata": {},
   "outputs": [
    {
     "name": "stdout",
     "output_type": "stream",
     "text": [
      "Epoch 1/50\n",
      "97/97 [==============================] - 1s 4ms/step - loss: 0.6985 - accuracy: 0.5042 - val_loss: 0.5807 - val_accuracy: 0.7324\n",
      "Epoch 2/50\n",
      "97/97 [==============================] - 0s 3ms/step - loss: 0.5715 - accuracy: 0.7310 - val_loss: 0.5415 - val_accuracy: 0.6977\n",
      "Epoch 3/50\n",
      "97/97 [==============================] - 0s 3ms/step - loss: 0.5461 - accuracy: 0.7427 - val_loss: 0.5338 - val_accuracy: 0.7147\n",
      "Epoch 4/50\n",
      "97/97 [==============================] - 0s 2ms/step - loss: 0.5504 - accuracy: 0.7446 - val_loss: 0.5175 - val_accuracy: 0.7119\n",
      "Epoch 5/50\n",
      "97/97 [==============================] - 0s 3ms/step - loss: 0.5349 - accuracy: 0.7470 - val_loss: 0.5141 - val_accuracy: 0.7154\n",
      "Epoch 6/50\n",
      "97/97 [==============================] - 0s 2ms/step - loss: 0.5358 - accuracy: 0.7515 - val_loss: 0.5120 - val_accuracy: 0.7197\n",
      "Epoch 7/50\n",
      "97/97 [==============================] - 0s 3ms/step - loss: 0.5309 - accuracy: 0.7531 - val_loss: 0.5118 - val_accuracy: 0.7218\n",
      "Epoch 8/50\n",
      "97/97 [==============================] - 0s 3ms/step - loss: 0.5314 - accuracy: 0.7522 - val_loss: 0.5080 - val_accuracy: 0.7218\n",
      "Epoch 9/50\n",
      "97/97 [==============================] - 0s 3ms/step - loss: 0.5175 - accuracy: 0.7578 - val_loss: 0.5137 - val_accuracy: 0.7197\n",
      "Epoch 10/50\n",
      "97/97 [==============================] - 0s 2ms/step - loss: 0.5176 - accuracy: 0.7588 - val_loss: 0.5099 - val_accuracy: 0.7253\n",
      "Epoch 11/50\n",
      "97/97 [==============================] - 0s 3ms/step - loss: 0.5185 - accuracy: 0.7583 - val_loss: 0.5085 - val_accuracy: 0.7260\n",
      "Epoch 12/50\n",
      "97/97 [==============================] - 0s 3ms/step - loss: 0.5227 - accuracy: 0.7590 - val_loss: 0.5077 - val_accuracy: 0.7296\n",
      "Epoch 13/50\n",
      "97/97 [==============================] - 0s 2ms/step - loss: 0.5171 - accuracy: 0.7599 - val_loss: 0.5068 - val_accuracy: 0.7289\n",
      "Epoch 14/50\n",
      "97/97 [==============================] - 0s 2ms/step - loss: 0.5154 - accuracy: 0.7612 - val_loss: 0.5073 - val_accuracy: 0.7260\n",
      "Epoch 15/50\n",
      "97/97 [==============================] - 0s 3ms/step - loss: 0.5197 - accuracy: 0.7596 - val_loss: 0.5049 - val_accuracy: 0.7275\n",
      "Epoch 16/50\n",
      "97/97 [==============================] - 0s 4ms/step - loss: 0.5124 - accuracy: 0.7615 - val_loss: 0.5056 - val_accuracy: 0.7296\n",
      "Epoch 17/50\n",
      "97/97 [==============================] - 0s 3ms/step - loss: 0.5175 - accuracy: 0.7596 - val_loss: 0.5041 - val_accuracy: 0.7289\n",
      "Epoch 18/50\n",
      "97/97 [==============================] - 0s 3ms/step - loss: 0.5152 - accuracy: 0.7575 - val_loss: 0.5080 - val_accuracy: 0.7296\n",
      "Epoch 19/50\n",
      "97/97 [==============================] - 0s 3ms/step - loss: 0.5074 - accuracy: 0.7633 - val_loss: 0.5083 - val_accuracy: 0.7268\n",
      "Epoch 20/50\n",
      "97/97 [==============================] - 0s 3ms/step - loss: 0.5063 - accuracy: 0.7649 - val_loss: 0.5074 - val_accuracy: 0.7289\n",
      "Epoch 21/50\n",
      "97/97 [==============================] - 0s 3ms/step - loss: 0.5100 - accuracy: 0.7625 - val_loss: 0.5036 - val_accuracy: 0.7310\n",
      "Epoch 22/50\n",
      "97/97 [==============================] - 0s 3ms/step - loss: 0.5070 - accuracy: 0.7643 - val_loss: 0.5042 - val_accuracy: 0.7346\n",
      "Epoch 23/50\n",
      "97/97 [==============================] - 0s 3ms/step - loss: 0.5044 - accuracy: 0.7651 - val_loss: 0.5050 - val_accuracy: 0.7331\n",
      "Epoch 24/50\n",
      "97/97 [==============================] - 0s 3ms/step - loss: 0.5141 - accuracy: 0.7622 - val_loss: 0.5021 - val_accuracy: 0.7331\n",
      "Epoch 25/50\n",
      "97/97 [==============================] - 0s 2ms/step - loss: 0.5008 - accuracy: 0.7649 - val_loss: 0.5028 - val_accuracy: 0.7353\n",
      "Epoch 26/50\n",
      "97/97 [==============================] - 0s 3ms/step - loss: 0.5113 - accuracy: 0.7641 - val_loss: 0.5011 - val_accuracy: 0.7353\n",
      "Epoch 27/50\n",
      "97/97 [==============================] - 0s 2ms/step - loss: 0.5023 - accuracy: 0.7654 - val_loss: 0.5035 - val_accuracy: 0.7353\n",
      "Epoch 28/50\n",
      "97/97 [==============================] - 0s 3ms/step - loss: 0.5108 - accuracy: 0.7623 - val_loss: 0.5002 - val_accuracy: 0.7353\n",
      "Epoch 29/50\n",
      "97/97 [==============================] - 0s 3ms/step - loss: 0.5077 - accuracy: 0.7682 - val_loss: 0.5022 - val_accuracy: 0.7353\n",
      "Epoch 30/50\n",
      "97/97 [==============================] - 0s 3ms/step - loss: 0.5072 - accuracy: 0.7644 - val_loss: 0.5021 - val_accuracy: 0.7367\n",
      "Epoch 31/50\n",
      "97/97 [==============================] - 0s 3ms/step - loss: 0.5116 - accuracy: 0.7649 - val_loss: 0.5003 - val_accuracy: 0.7339\n",
      "Epoch 32/50\n",
      "97/97 [==============================] - 0s 3ms/step - loss: 0.5105 - accuracy: 0.7638 - val_loss: 0.4989 - val_accuracy: 0.7353\n",
      "Epoch 33/50\n",
      "97/97 [==============================] - 0s 3ms/step - loss: 0.5073 - accuracy: 0.7661 - val_loss: 0.5023 - val_accuracy: 0.7360\n",
      "Epoch 34/50\n",
      "97/97 [==============================] - 0s 2ms/step - loss: 0.5071 - accuracy: 0.7680 - val_loss: 0.5016 - val_accuracy: 0.7374\n",
      "Epoch 35/50\n",
      "97/97 [==============================] - 0s 3ms/step - loss: 0.5072 - accuracy: 0.7669 - val_loss: 0.5017 - val_accuracy: 0.7360\n",
      "Epoch 36/50\n",
      "97/97 [==============================] - 0s 3ms/step - loss: 0.5017 - accuracy: 0.7701 - val_loss: 0.5049 - val_accuracy: 0.7346\n",
      "Epoch 37/50\n",
      "97/97 [==============================] - 0s 2ms/step - loss: 0.5028 - accuracy: 0.7680 - val_loss: 0.5029 - val_accuracy: 0.7353\n",
      "Epoch 38/50\n",
      "97/97 [==============================] - 0s 3ms/step - loss: 0.5050 - accuracy: 0.7661 - val_loss: 0.5013 - val_accuracy: 0.7381\n",
      "Epoch 39/50\n",
      "97/97 [==============================] - 0s 3ms/step - loss: 0.4984 - accuracy: 0.7701 - val_loss: 0.5035 - val_accuracy: 0.7339\n",
      "Epoch 40/50\n",
      "97/97 [==============================] - 0s 3ms/step - loss: 0.4990 - accuracy: 0.7675 - val_loss: 0.5025 - val_accuracy: 0.7360\n",
      "Epoch 41/50\n",
      "97/97 [==============================] - 0s 3ms/step - loss: 0.4987 - accuracy: 0.7685 - val_loss: 0.5070 - val_accuracy: 0.7331\n",
      "Epoch 42/50\n",
      "97/97 [==============================] - 0s 3ms/step - loss: 0.5083 - accuracy: 0.7667 - val_loss: 0.5024 - val_accuracy: 0.7353\n",
      "Epoch 43/50\n",
      "97/97 [==============================] - 0s 3ms/step - loss: 0.5047 - accuracy: 0.7661 - val_loss: 0.5044 - val_accuracy: 0.7346\n",
      "Epoch 44/50\n",
      "97/97 [==============================] - 0s 3ms/step - loss: 0.4990 - accuracy: 0.7686 - val_loss: 0.5046 - val_accuracy: 0.7317\n",
      "Epoch 45/50\n",
      "97/97 [==============================] - 0s 3ms/step - loss: 0.5045 - accuracy: 0.7678 - val_loss: 0.5005 - val_accuracy: 0.7346\n",
      "Epoch 46/50\n",
      "97/97 [==============================] - 0s 3ms/step - loss: 0.5001 - accuracy: 0.7688 - val_loss: 0.5029 - val_accuracy: 0.7367\n",
      "Epoch 47/50\n",
      "97/97 [==============================] - 0s 3ms/step - loss: 0.5055 - accuracy: 0.7654 - val_loss: 0.5030 - val_accuracy: 0.7360\n",
      "Epoch 48/50\n",
      "97/97 [==============================] - 0s 3ms/step - loss: 0.5030 - accuracy: 0.7685 - val_loss: 0.5034 - val_accuracy: 0.7367\n",
      "Epoch 49/50\n",
      "97/97 [==============================] - 0s 3ms/step - loss: 0.5059 - accuracy: 0.7649 - val_loss: 0.5024 - val_accuracy: 0.7374\n",
      "Epoch 50/50\n",
      "97/97 [==============================] - 0s 3ms/step - loss: 0.5008 - accuracy: 0.7633 - val_loss: 0.5008 - val_accuracy: 0.7346\n"
     ]
    },
    {
     "data": {
      "image/png": "[encoded data removed]",
      "text/plain": [
       "<Figure size 864x432 with 1 Axes>"
      ]
     },
     "metadata": {
      "needs_background": "light"
     },
     "output_type": "display_data"
    }
   ],
   "source": [
    "model_leakyrelu_normal.compile(loss='binary_crossentropy', optimizer=keras.optimizers.Adam(clipvalue=1.0), metrics=['accuracy'])\n",
    "\n",
    "history_leakyrelu_normal = model_leakyrelu_normal.fit(train_dataset, epochs=50, validation_data=valid_dataset)\n",
    "\n",
    "pd.DataFrame(history_leakyrelu_normal.history).plot(figsize=(12, 6))\n",
    "plt.grid(True)\n",
    "plt.gca().set_ylim(0, 1)\n",
    "plt.show()"
   ]
  },
  {
   "cell_type": "markdown",
   "metadata": {},
   "source": [
    "# **8. MODEL EVALUATION**"
   ]
  },
  {
   "cell_type": "markdown",
   "metadata": {},
   "source": [
    "## **Kernel Glorot Uniform**"
   ]
  },
  {
   "cell_type": "markdown",
   "metadata": {},
   "source": [
    "----"
   ]
  },
  {
   "cell_type": "markdown",
   "metadata": {},
   "source": [
    "## Relu"
   ]
  },
  {
   "cell_type": "code",
   "execution_count": null,
   "metadata": {},
   "outputs": [
    {
     "name": "stdout",
     "output_type": "stream",
     "text": [
      "22/22 [==============================] - 0s 2ms/step - loss: 0.5310 - accuracy: 0.7110\n",
      "44/44 [==============================] - 0s 1ms/step\n"
     ]
    }
   ],
   "source": [
    "model_relu_uniform.evaluate(test_dataset)\n",
    "y1 = model_relu_uniform.predict(X_test)\n",
    "y_predic = []\n",
    "for k in y1:\n",
    "    if k>0.5:\n",
    "        y_predic.append(1)\n",
    "    else:\n",
    "        y_predic.append(0)"
   ]
  },
  {
   "cell_type": "code",
   "execution_count": null,
   "metadata": {},
   "outputs": [
    {
     "name": "stdout",
     "output_type": "stream",
     "text": [
      "              precision    recall  f1-score   support\n",
      "\n",
      "           0       0.91      0.67      0.77      1031\n",
      "           1       0.48      0.82      0.60       374\n",
      "\n",
      "    accuracy                           0.71      1405\n",
      "   macro avg       0.69      0.75      0.69      1405\n",
      "weighted avg       0.80      0.71      0.73      1405\n",
      "\n"
     ]
    }
   ],
   "source": [
    "print(classification_report(y_test, y_predic))"
   ]
  },
  {
   "cell_type": "code",
   "execution_count": null,
   "metadata": {},
   "outputs": [
    {
     "name": "stdout",
     "output_type": "stream",
     "text": [
      "0.7468762480743995\n"
     ]
    }
   ],
   "source": [
    "print(roc_auc_score(y_test, y_predic))"
   ]
  },
  {
   "cell_type": "code",
   "execution_count": null,
   "metadata": {},
   "outputs": [
    {
     "data": {
      "image/png": "[encoded data removed]",
      "text/plain": [
       "<Figure size 576x360 with 2 Axes>"
      ]
     },
     "metadata": {
      "needs_background": "light"
     },
     "output_type": "display_data"
    }
   ],
   "source": [
    "# Confussion Matrix\n",
    "relu_unifrom = confusion_matrix(y_test,y_predic)\n",
    "plt.figure(figsize=(8,5))\n",
    "sns.heatmap(relu_unifrom,annot=True,fmt='d')\n",
    "plt.xlabel('Prediction')\n",
    "plt.ylabel('Truth')\n",
    "plt.title('Relu, Kernel Glorot Unifrom')\n",
    "plt.show()"
   ]
  },
  {
   "cell_type": "markdown",
   "metadata": {},
   "source": [
    "Berdasarakan ilustrasi dari confussion matrix, maka diperoleh informasi berikut :\n",
    "- Label 0 berhasil terprediksi benar sebanyak 691 dan terprediksi salah sebanyak 340\n",
    "- Label 1 berhasil terprediksi benar sebanyak 308 dan terprediksi salah sebanyak 66\n",
    "\n",
    "Dimana 1 adalah Yes dan 0 dalah No"
   ]
  },
  {
   "cell_type": "markdown",
   "metadata": {},
   "source": [
    "## Elu"
   ]
  },
  {
   "cell_type": "code",
   "execution_count": null,
   "metadata": {},
   "outputs": [
    {
     "name": "stdout",
     "output_type": "stream",
     "text": [
      "22/22 [==============================] - 0s 1ms/step - loss: 0.5496 - accuracy: 0.6996\n",
      "44/44 [==============================] - 0s 1ms/step\n"
     ]
    }
   ],
   "source": [
    "model_elu_uniform.evaluate(test_dataset)\n",
    "y1 = model_elu_uniform.predict(X_test)\n",
    "y_predic = []\n",
    "for k in y1:\n",
    "    if k>0.5:\n",
    "        y_predic.append(1)\n",
    "    else:\n",
    "        y_predic.append(0)"
   ]
  },
  {
   "cell_type": "code",
   "execution_count": null,
   "metadata": {},
   "outputs": [
    {
     "name": "stdout",
     "output_type": "stream",
     "text": [
      "              precision    recall  f1-score   support\n",
      "\n",
      "           0       0.92      0.65      0.76      1031\n",
      "           1       0.46      0.84      0.60       374\n",
      "\n",
      "    accuracy                           0.70      1405\n",
      "   macro avg       0.69      0.75      0.68      1405\n",
      "weighted avg       0.80      0.70      0.72      1405\n",
      "\n"
     ]
    }
   ],
   "source": [
    "print(classification_report(y_test, y_predic))"
   ]
  },
  {
   "cell_type": "code",
   "execution_count": null,
   "metadata": {},
   "outputs": [
    {
     "name": "stdout",
     "output_type": "stream",
     "text": [
      "0.7459322499831429\n"
     ]
    }
   ],
   "source": [
    "print(roc_auc_score(y_test, y_predic))"
   ]
  },
  {
   "cell_type": "code",
   "execution_count": null,
   "metadata": {},
   "outputs": [
    {
     "data": {
      "image/png": "[encoded data removed]",
      "text/plain": [
       "<Figure size 576x360 with 2 Axes>"
      ]
     },
     "metadata": {
      "needs_background": "light"
     },
     "output_type": "display_data"
    }
   ],
   "source": [
    "# Confussion Matrix\n",
    "elu_uniform = confusion_matrix(y_test,y_predic)\n",
    "plt.figure(figsize=(8,5))\n",
    "sns.heatmap(elu_uniform,annot=True,fmt='d')\n",
    "plt.xlabel('Prediction')\n",
    "plt.ylabel('Truth')\n",
    "plt.title('Elu, Kernel Glorot Unifrom')\n",
    "plt.show()"
   ]
  },
  {
   "cell_type": "markdown",
   "metadata": {},
   "source": [
    "Berdasarakan ilustrasi dari confussion matrix, maka diperoleh informasi berikut :\n",
    "- Label 0 berhasil terprediksi benar sebanyak 667 dan terprediksi salah sebanyak 364\n",
    "- Label 1 berhasil terprediksi benar sebanyak 316 dan terprediksi salah sebanyak 58\n",
    "\n",
    "Dimana 1 adalah Yes dan 0 dalah No"
   ]
  },
  {
   "cell_type": "markdown",
   "metadata": {},
   "source": [
    "## Leaky Relu"
   ]
  },
  {
   "cell_type": "code",
   "execution_count": null,
   "metadata": {},
   "outputs": [
    {
     "name": "stdout",
     "output_type": "stream",
     "text": [
      "22/22 [==============================] - 0s 2ms/step - loss: 0.5317 - accuracy: 0.7189\n",
      "44/44 [==============================] - 0s 2ms/step\n"
     ]
    }
   ],
   "source": [
    "model_leakrelu_uniform.evaluate(test_dataset)\n",
    "y1 = model_leakrelu_uniform.predict(X_test)\n",
    "y_predic = []\n",
    "for k in y1:\n",
    "    if k>0.5:\n",
    "        y_predic.append(1)\n",
    "    else:\n",
    "        y_predic.append(0)\n"
   ]
  },
  {
   "cell_type": "code",
   "execution_count": null,
   "metadata": {},
   "outputs": [
    {
     "name": "stdout",
     "output_type": "stream",
     "text": [
      "              precision    recall  f1-score   support\n",
      "\n",
      "           0       0.91      0.69      0.78      1031\n",
      "           1       0.48      0.80      0.60       374\n",
      "\n",
      "    accuracy                           0.72      1405\n",
      "   macro avg       0.69      0.75      0.69      1405\n",
      "weighted avg       0.79      0.72      0.73      1405\n",
      "\n"
     ]
    }
   ],
   "source": [
    "print(classification_report(y_test, y_predic))"
   ]
  },
  {
   "cell_type": "code",
   "execution_count": null,
   "metadata": {},
   "outputs": [
    {
     "name": "stdout",
     "output_type": "stream",
     "text": [
      "0.74624734824712\n"
     ]
    }
   ],
   "source": [
    "print(roc_auc_score(y_test, y_predic))"
   ]
  },
  {
   "cell_type": "code",
   "execution_count": null,
   "metadata": {},
   "outputs": [
    {
     "data": {
      "image/png": "[encoded data removed]",
      "text/plain": [
       "<Figure size 576x360 with 2 Axes>"
      ]
     },
     "metadata": {
      "needs_background": "light"
     },
     "output_type": "display_data"
    }
   ],
   "source": [
    "# Confussion Matrix\n",
    "leakyelu_uniform = confusion_matrix(y_test,y_predic)\n",
    "plt.figure(figsize=(8,5))\n",
    "sns.heatmap(leakyelu_uniform,annot=True,fmt='d')\n",
    "plt.xlabel('Prediction')\n",
    "plt.ylabel('Truth')\n",
    "plt.title('Leaky Relu, Kernel Glorot Unifrom')\n",
    "plt.show()"
   ]
  },
  {
   "cell_type": "markdown",
   "metadata": {},
   "source": [
    "Berdasarakan ilustrasi dari confussion matrix, maka diperoleh informasi berikut :\n",
    "- Label 0 berhasil terprediksi benar sebanyak 709 dan terprediksi salah sebanyak 322\n",
    "- Label 1 berhasil terprediksi benar sebanyak 301 dan terprediksi salah sebanyak 73\n",
    "\n",
    "Dimana 1 adalah Yes dan 0 dalah No"
   ]
  },
  {
   "cell_type": "markdown",
   "metadata": {},
   "source": [
    "## **Kernel Glorot Normal**"
   ]
  },
  {
   "cell_type": "markdown",
   "metadata": {},
   "source": [
    "----"
   ]
  },
  {
   "cell_type": "markdown",
   "metadata": {},
   "source": [
    "## Relu"
   ]
  },
  {
   "cell_type": "code",
   "execution_count": null,
   "metadata": {},
   "outputs": [
    {
     "name": "stdout",
     "output_type": "stream",
     "text": [
      "22/22 [==============================] - 0s 2ms/step - loss: 0.5213 - accuracy: 0.7189\n",
      "44/44 [==============================] - 0s 1ms/step\n"
     ]
    }
   ],
   "source": [
    "model_relu_normal.evaluate(test_dataset)\n",
    "y1 = model_relu_normal.predict(X_test)\n",
    "y_predic = []\n",
    "for k in y1:\n",
    "    if k>0.5:\n",
    "        y_predic.append(1)\n",
    "    else:\n",
    "        y_predic.append(0)"
   ]
  },
  {
   "cell_type": "code",
   "execution_count": null,
   "metadata": {},
   "outputs": [
    {
     "name": "stdout",
     "output_type": "stream",
     "text": [
      "              precision    recall  f1-score   support\n",
      "\n",
      "           0       0.90      0.69      0.78      1031\n",
      "           1       0.48      0.80      0.60       374\n",
      "\n",
      "    accuracy                           0.72      1405\n",
      "   macro avg       0.69      0.74      0.69      1405\n",
      "weighted avg       0.79      0.72      0.73      1405\n",
      "\n"
     ]
    }
   ],
   "source": [
    "print(classification_report(y_test, y_predic))"
   ]
  },
  {
   "cell_type": "code",
   "execution_count": null,
   "metadata": {},
   "outputs": [
    {
     "name": "stdout",
     "output_type": "stream",
     "text": [
      "0.7445434835604288\n"
     ]
    }
   ],
   "source": [
    "print(roc_auc_score(y_test, y_predic))"
   ]
  },
  {
   "cell_type": "code",
   "execution_count": null,
   "metadata": {},
   "outputs": [
    {
     "data": {
      "image/png": "[encoded data removed]",
      "text/plain": [
       "<Figure size 576x360 with 2 Axes>"
      ]
     },
     "metadata": {
      "needs_background": "light"
     },
     "output_type": "display_data"
    }
   ],
   "source": [
    "# Confussion Matrix\n",
    "relu_normal = confusion_matrix(y_test,y_predic)\n",
    "plt.figure(figsize=(8,5))\n",
    "sns.heatmap(relu_normal,annot=True,fmt='d')\n",
    "plt.xlabel('Prediction')\n",
    "plt.ylabel('Truth')\n",
    "plt.title('Relu Kernel Glorot Normal')\n",
    "plt.show()"
   ]
  },
  {
   "cell_type": "markdown",
   "metadata": {},
   "source": [
    "Berdasarakan ilustrasi dari confussion matrix, diperoleh informasi berikut :\n",
    "- Label 0 berhasil terprediksi benar sebanyak 711 dan terprediksi salah sebanyak 320\n",
    "- Label 1 berhasil terprediksi benar sebanyak 299 dan terprediksi salah sebanyak 75\n",
    "\n",
    "Dimana 1 adalah Yes dan 0 dalah No"
   ]
  },
  {
   "cell_type": "markdown",
   "metadata": {},
   "source": [
    "## Elu"
   ]
  },
  {
   "cell_type": "code",
   "execution_count": null,
   "metadata": {},
   "outputs": [
    {
     "name": "stdout",
     "output_type": "stream",
     "text": [
      "22/22 [==============================] - 0s 2ms/step - loss: 0.5525 - accuracy: 0.6954\n",
      "44/44 [==============================] - 0s 679us/step\n"
     ]
    }
   ],
   "source": [
    "model_elu_normal.evaluate(test_dataset)\n",
    "y1 = model_elu_normal.predict(X_test)\n",
    "y_predic = []\n",
    "for k in y1:\n",
    "    if k>0.5:\n",
    "        y_predic.append(1)\n",
    "    else:\n",
    "        y_predic.append(0)"
   ]
  },
  {
   "cell_type": "code",
   "execution_count": null,
   "metadata": {},
   "outputs": [
    {
     "name": "stdout",
     "output_type": "stream",
     "text": [
      "              precision    recall  f1-score   support\n",
      "\n",
      "           0       0.92      0.64      0.76      1031\n",
      "           1       0.46      0.84      0.60       374\n",
      "\n",
      "    accuracy                           0.70      1405\n",
      "   macro avg       0.69      0.74      0.68      1405\n",
      "weighted avg       0.80      0.70      0.71      1405\n",
      "\n"
     ]
    }
   ],
   "source": [
    "print(classification_report(y_test, y_predic))"
   ]
  },
  {
   "cell_type": "code",
   "execution_count": null,
   "metadata": {},
   "outputs": [
    {
     "name": "stdout",
     "output_type": "stream",
     "text": [
      "0.7421705213255393\n"
     ]
    }
   ],
   "source": [
    "print(roc_auc_score(y_test, y_predic))"
   ]
  },
  {
   "cell_type": "code",
   "execution_count": null,
   "metadata": {},
   "outputs": [
    {
     "data": {
      "image/png": "[encoded data removed]",
      "text/plain": [
       "<Figure size 576x360 with 2 Axes>"
      ]
     },
     "metadata": {
      "needs_background": "light"
     },
     "output_type": "display_data"
    }
   ],
   "source": [
    "# Confussion Matrix\n",
    "elu_normal = confusion_matrix(y_test,y_predic)\n",
    "plt.figure(figsize=(8,5))\n",
    "sns.heatmap(elu_normal,annot=True,fmt='d')\n",
    "plt.xlabel('Prediction')\n",
    "plt.ylabel('Truth')\n",
    "plt.title('Elu Kernel Glorot Normal')\n",
    "plt.show()"
   ]
  },
  {
   "cell_type": "markdown",
   "metadata": {},
   "source": [
    "Berdasarakan ilustrasi dari confussion matrix, diperoleh informasi berikut :\n",
    "- Label 0 berhasil terprediksi benar sebanyak 662 dan terprediksi salah sebanyak 369\n",
    "- Label 1 berhasil terprediksi benar sebanyak 315 dan terprediksi salah sebanyak 59\n",
    "\n",
    "Dimana 1 adalah Yes dan 0 dalah No"
   ]
  },
  {
   "cell_type": "markdown",
   "metadata": {},
   "source": [
    "## Leaky Relu"
   ]
  },
  {
   "cell_type": "code",
   "execution_count": null,
   "metadata": {},
   "outputs": [
    {
     "name": "stdout",
     "output_type": "stream",
     "text": [
      "22/22 [==============================] - 0s 2ms/step - loss: 0.5344 - accuracy: 0.7181\n",
      "44/44 [==============================] - 0s 2ms/step\n"
     ]
    }
   ],
   "source": [
    "model_leakyrelu_normal.evaluate(test_dataset)\n",
    "y1 = model_leakyrelu_normal.predict(X_test)\n",
    "y_predic = []\n",
    "for k in y1:\n",
    "    if k>0.5:\n",
    "        y_predic.append(1)\n",
    "    else:\n",
    "        y_predic.append(0)"
   ]
  },
  {
   "cell_type": "code",
   "execution_count": null,
   "metadata": {},
   "outputs": [
    {
     "name": "stdout",
     "output_type": "stream",
     "text": [
      "              precision    recall  f1-score   support\n",
      "\n",
      "           0       0.90      0.69      0.78      1031\n",
      "           1       0.48      0.79      0.60       374\n",
      "\n",
      "    accuracy                           0.72      1405\n",
      "   macro avg       0.69      0.74      0.69      1405\n",
      "weighted avg       0.79      0.72      0.73      1405\n",
      "\n"
     ]
    }
   ],
   "source": [
    "print(classification_report(y_test, y_predic))"
   ]
  },
  {
   "cell_type": "code",
   "execution_count": null,
   "metadata": {},
   "outputs": [
    {
     "name": "stdout",
     "output_type": "stream",
     "text": [
      "0.7397988557913244\n"
     ]
    }
   ],
   "source": [
    "print(roc_auc_score(y_test, y_predic))"
   ]
  },
  {
   "cell_type": "code",
   "execution_count": null,
   "metadata": {},
   "outputs": [
    {
     "data": {
      "image/png": "[encoded data removed]",
      "text/plain": [
       "<Figure size 576x360 with 2 Axes>"
      ]
     },
     "metadata": {
      "needs_background": "light"
     },
     "output_type": "display_data"
    }
   ],
   "source": [
    "# Confussion Matrix\n",
    "model_leakyrelu_normal = confusion_matrix(y_test,y_predic)\n",
    "plt.figure(figsize=(8,5))\n",
    "sns.heatmap(model_leakyrelu_normal,annot=True,fmt='d')\n",
    "plt.xlabel('Prediction')\n",
    "plt.ylabel('Truth')\n",
    "plt.title('Leaky Relu Kernel Glorot Normal')\n",
    "plt.show()"
   ]
  },
  {
   "cell_type": "markdown",
   "metadata": {},
   "source": [
    "Berdasarakan ilustrasi dari confussion matrix, diperoleh informasi berikut :\n",
    "- Label 0 berhasil terprediksi benar sebanyak 715 dan terprediksi salah sebanyak 316\n",
    "- Label 1 berhasil terprediksi benar sebanyak 294 dan terprediksi salah sebanyak 80\n",
    "\n",
    "Dimana 1 adalah Yes dan 0 dalah No"
   ]
  },
  {
   "cell_type": "markdown",
   "metadata": {},
   "source": [
    "## Analisis Model Terbaik"
   ]
  },
  {
   "cell_type": "markdown",
   "metadata": {},
   "source": [
    "Berdasarkan informasi diberikan diatas, terlihat hasil prediksi label 0 paling banyak benar ialah `Leaky Relu menggunakan Glorot Normal`, sedangkan yang memprediksi label 1 paling panyak benar ialah `Elu menggunakan Glorot Uniform`. Berdasarkan kasus yang diberikan terkait Churn Pelanggan maka saya memilih model yang paling banyak memprediksi 1 dengan alasan bahwa saya lebih ingin mempertahankan pelanggan dibandingkan memperdulikan pelanggan yang tidak setia. Sehingga saya akan memakai model `Elu menggunakan Glorot Uniform` untuk proses deployment."
   ]
  },
  {
   "cell_type": "markdown",
   "metadata": {},
   "source": [
    "**MODEL SAVING**"
   ]
  },
  {
   "cell_type": "code",
   "execution_count": null,
   "metadata": {},
   "outputs": [],
   "source": [
    "model_elu_uniform.save('Model_Terbaik.h5')"
   ]
  },
  {
   "cell_type": "markdown",
   "metadata": {},
   "source": [
    "# **10. MODEL INFERENCE**"
   ]
  },
  {
   "cell_type": "markdown",
   "metadata": {},
   "source": [
    "**LOAD MODEL**"
   ]
  },
  {
   "cell_type": "code",
   "execution_count": null,
   "metadata": {},
   "outputs": [
    {
     "name": "stdout",
     "output_type": "stream",
     "text": [
      "Model: \"sequential_2\"\n",
      "_________________________________________________________________\n",
      " Layer (type)                Output Shape              Param #   \n",
      "=================================================================\n",
      " normalization (Normalizatio  (None, 6)                13        \n",
      " n)                                                              \n",
      "                                                                 \n",
      " dense_15 (Dense)            (None, 17)                102       \n",
      "                                                                 \n",
      " dropout_4 (Dropout)         (None, 17)                0         \n",
      "                                                                 \n",
      " dense_16 (Dense)            (None, 13)                221       \n",
      "                                                                 \n",
      " dropout_5 (Dropout)         (None, 13)                0         \n",
      "                                                                 \n",
      " dense_17 (Dense)            (None, 9)                 117       \n",
      "                                                                 \n",
      " dropout_6 (Dropout)         (None, 9)                 0         \n",
      "                                                                 \n",
      " dense_18 (Dense)            (None, 5)                 45        \n",
      "                                                                 \n",
      " dropout_7 (Dropout)         (None, 5)                 0         \n",
      "                                                                 \n",
      " dense_19 (Dense)            (None, 1)                 6         \n",
      "                                                                 \n",
      "=================================================================\n",
      "Total params: 504\n",
      "Trainable params: 491\n",
      "Non-trainable params: 13\n",
      "_________________________________________________________________\n"
     ]
    }
   ],
   "source": [
    "model_elu = tf.keras.models.load_model('Model_Terbaik.h5')\n",
    "model_elu.summary()"
   ]
  },
  {
   "cell_type": "code",
   "execution_count": null,
   "metadata": {},
   "outputs": [
    {
     "data": {
      "text/html": [
       "<div>\n",
       "<style scoped>\n",
       "    .dataframe tbody tr th:only-of-type {\n",
       "        vertical-align: middle;\n",
       "    }\n",
       "\n",
       "    .dataframe tbody tr th {\n",
       "        vertical-align: top;\n",
       "    }\n",
       "\n",
       "    .dataframe thead th {\n",
       "        text-align: right;\n",
       "    }\n",
       "</style>\n",
       "<table border=\"1\" class=\"dataframe\">\n",
       "  <thead>\n",
       "    <tr style=\"text-align: right;\">\n",
       "      <th></th>\n",
       "      <th>tenure</th>\n",
       "      <th>OnlineSecurity</th>\n",
       "      <th>TechSupport</th>\n",
       "      <th>Contract</th>\n",
       "      <th>MonthlyCharges</th>\n",
       "      <th>TotalCharges</th>\n",
       "    </tr>\n",
       "  </thead>\n",
       "  <tbody>\n",
       "    <tr>\n",
       "      <th>Pelanggan</th>\n",
       "      <td>53</td>\n",
       "      <td>2</td>\n",
       "      <td>2</td>\n",
       "      <td>0</td>\n",
       "      <td>71.85</td>\n",
       "      <td>3827.9</td>\n",
       "    </tr>\n",
       "  </tbody>\n",
       "</table>\n",
       "</div>"
      ],
      "text/plain": [
       "           tenure  OnlineSecurity  TechSupport  Contract  MonthlyCharges  \\\n",
       "Pelanggan      53               2            2         0           71.85   \n",
       "\n",
       "           TotalCharges  \n",
       "Pelanggan        3827.9  "
      ]
     },
     "execution_count": 99,
     "metadata": {},
     "output_type": "execute_result"
    }
   ],
   "source": [
    "new_data = {'tenure':53, 'OnlineSecurity': 2, 'TechSupport': 2, 'Contract': 0, 'MonthlyCharges' : 71.85, 'TotalCharges':3827.90}\n",
    "\n",
    "data2 = pd.DataFrame(new_data, index = ['Pelanggan'])\n",
    "data2"
   ]
  },
  {
   "cell_type": "code",
   "execution_count": null,
   "metadata": {},
   "outputs": [],
   "source": [
    "prediksi = tf.convert_to_tensor(data2)"
   ]
  },
  {
   "cell_type": "code",
   "execution_count": null,
   "metadata": {},
   "outputs": [
    {
     "data": {
      "text/plain": [
       "<tf.Tensor: shape=(1, 6), dtype=float64, numpy=\n",
       "array([[5.3000e+01, 2.0000e+00, 2.0000e+00, 0.0000e+00, 7.1850e+01,\n",
       "        3.8279e+03]])>"
      ]
     },
     "execution_count": 101,
     "metadata": {},
     "output_type": "execute_result"
    }
   ],
   "source": [
    "prediksi"
   ]
  },
  {
   "cell_type": "code",
   "execution_count": null,
   "metadata": {},
   "outputs": [
    {
     "name": "stdout",
     "output_type": "stream",
     "text": [
      "1/1 [==============================] - 0s 73ms/step\n"
     ]
    }
   ],
   "source": [
    "Hasil_prediksi = model_elu.predict(prediksi)"
   ]
  },
  {
   "cell_type": "code",
   "execution_count": null,
   "metadata": {},
   "outputs": [
    {
     "name": "stdout",
     "output_type": "stream",
     "text": [
      "Pelanggan tidak melakukan churn\n"
     ]
    }
   ],
   "source": [
    "if int(Hasil_prediksi > 0.5) :\n",
    "    print('Pelanggan akan melakukan churn')\n",
    "else :\n",
    "    print('Pelanggan tidak melakukan churn')"
   ]
  },
  {
   "cell_type": "markdown",
   "metadata": {},
   "source": [
    "----"
   ]
  },
  {
   "cell_type": "code",
   "execution_count": null,
   "metadata": {},
   "outputs": [
    {
     "data": {
      "text/html": [
       "<div>\n",
       "<style scoped>\n",
       "    .dataframe tbody tr th:only-of-type {\n",
       "        vertical-align: middle;\n",
       "    }\n",
       "\n",
       "    .dataframe tbody tr th {\n",
       "        vertical-align: top;\n",
       "    }\n",
       "\n",
       "    .dataframe thead th {\n",
       "        text-align: right;\n",
       "    }\n",
       "</style>\n",
       "<table border=\"1\" class=\"dataframe\">\n",
       "  <thead>\n",
       "    <tr style=\"text-align: right;\">\n",
       "      <th></th>\n",
       "      <th>gender</th>\n",
       "      <th>SeniorCitizen</th>\n",
       "      <th>Partner</th>\n",
       "      <th>Dependents</th>\n",
       "      <th>tenure</th>\n",
       "      <th>PhoneService</th>\n",
       "      <th>MultipleLines</th>\n",
       "      <th>InternetService</th>\n",
       "      <th>OnlineSecurity</th>\n",
       "      <th>OnlineBackup</th>\n",
       "      <th>DeviceProtection</th>\n",
       "      <th>TechSupport</th>\n",
       "      <th>StreamingTV</th>\n",
       "      <th>StreamingMovies</th>\n",
       "      <th>Contract</th>\n",
       "      <th>PaperlessBilling</th>\n",
       "      <th>PaymentMethod</th>\n",
       "      <th>MonthlyCharges</th>\n",
       "      <th>TotalCharges</th>\n",
       "      <th>Churn</th>\n",
       "    </tr>\n",
       "  </thead>\n",
       "  <tbody>\n",
       "    <tr>\n",
       "      <th>0</th>\n",
       "      <td>Male</td>\n",
       "      <td>1</td>\n",
       "      <td>Yes</td>\n",
       "      <td>Yes</td>\n",
       "      <td>22</td>\n",
       "      <td>No</td>\n",
       "      <td>No phone service</td>\n",
       "      <td>DSL</td>\n",
       "      <td>Yes</td>\n",
       "      <td>No</td>\n",
       "      <td>No</td>\n",
       "      <td>No</td>\n",
       "      <td>No</td>\n",
       "      <td>Yes</td>\n",
       "      <td>Month-to-month</td>\n",
       "      <td>No</td>\n",
       "      <td>Mailed check</td>\n",
       "      <td>40.05</td>\n",
       "      <td>880.2</td>\n",
       "      <td>Yes</td>\n",
       "    </tr>\n",
       "    <tr>\n",
       "      <th>1</th>\n",
       "      <td>Male</td>\n",
       "      <td>0</td>\n",
       "      <td>No</td>\n",
       "      <td>No</td>\n",
       "      <td>28</td>\n",
       "      <td>Yes</td>\n",
       "      <td>Yes</td>\n",
       "      <td>Fiber optic</td>\n",
       "      <td>No</td>\n",
       "      <td>Yes</td>\n",
       "      <td>Yes</td>\n",
       "      <td>No</td>\n",
       "      <td>Yes</td>\n",
       "      <td>Yes</td>\n",
       "      <td>Month-to-month</td>\n",
       "      <td>Yes</td>\n",
       "      <td>Electronic check</td>\n",
       "      <td>105.70</td>\n",
       "      <td>2979.5</td>\n",
       "      <td>Yes</td>\n",
       "    </tr>\n",
       "    <tr>\n",
       "      <th>2</th>\n",
       "      <td>Male</td>\n",
       "      <td>0</td>\n",
       "      <td>Yes</td>\n",
       "      <td>Yes</td>\n",
       "      <td>31</td>\n",
       "      <td>Yes</td>\n",
       "      <td>No</td>\n",
       "      <td>DSL</td>\n",
       "      <td>No</td>\n",
       "      <td>No</td>\n",
       "      <td>Yes</td>\n",
       "      <td>Yes</td>\n",
       "      <td>No</td>\n",
       "      <td>No</td>\n",
       "      <td>Month-to-month</td>\n",
       "      <td>No</td>\n",
       "      <td>Mailed check</td>\n",
       "      <td>54.35</td>\n",
       "      <td>1647.0</td>\n",
       "      <td>No</td>\n",
       "    </tr>\n",
       "  </tbody>\n",
       "</table>\n",
       "</div>"
      ],
      "text/plain": [
       "  gender SeniorCitizen Partner Dependents  tenure PhoneService  \\\n",
       "0   Male             1     Yes        Yes      22           No   \n",
       "1   Male             0      No         No      28          Yes   \n",
       "2   Male             0     Yes        Yes      31          Yes   \n",
       "\n",
       "      MultipleLines InternetService OnlineSecurity OnlineBackup  \\\n",
       "0  No phone service             DSL            Yes           No   \n",
       "1               Yes     Fiber optic             No          Yes   \n",
       "2                No             DSL             No           No   \n",
       "\n",
       "  DeviceProtection TechSupport StreamingTV StreamingMovies        Contract  \\\n",
       "0               No          No          No             Yes  Month-to-month   \n",
       "1              Yes          No         Yes             Yes  Month-to-month   \n",
       "2              Yes         Yes          No              No  Month-to-month   \n",
       "\n",
       "  PaperlessBilling     PaymentMethod  MonthlyCharges  TotalCharges Churn  \n",
       "0               No      Mailed check           40.05         880.2   Yes  \n",
       "1              Yes  Electronic check          105.70        2979.5   Yes  \n",
       "2               No      Mailed check           54.35        1647.0    No  "
      ]
     },
     "execution_count": 104,
     "metadata": {},
     "output_type": "execute_result"
    }
   ],
   "source": [
    "data_inf.head(3)"
   ]
  },
  {
   "cell_type": "code",
   "execution_count": null,
   "metadata": {},
   "outputs": [],
   "source": [
    "data1 = data_inf.drop(data_inf.columns[[0,1,2,3,5,6,7,9,10,12,13,15,16,19]], axis=1)"
   ]
  },
  {
   "cell_type": "code",
   "execution_count": null,
   "metadata": {},
   "outputs": [
    {
     "data": {
      "text/html": [
       "<div>\n",
       "<style scoped>\n",
       "    .dataframe tbody tr th:only-of-type {\n",
       "        vertical-align: middle;\n",
       "    }\n",
       "\n",
       "    .dataframe tbody tr th {\n",
       "        vertical-align: top;\n",
       "    }\n",
       "\n",
       "    .dataframe thead th {\n",
       "        text-align: right;\n",
       "    }\n",
       "</style>\n",
       "<table border=\"1\" class=\"dataframe\">\n",
       "  <thead>\n",
       "    <tr style=\"text-align: right;\">\n",
       "      <th></th>\n",
       "      <th>tenure</th>\n",
       "      <th>OnlineSecurity</th>\n",
       "      <th>TechSupport</th>\n",
       "      <th>Contract</th>\n",
       "      <th>MonthlyCharges</th>\n",
       "      <th>TotalCharges</th>\n",
       "    </tr>\n",
       "  </thead>\n",
       "  <tbody>\n",
       "    <tr>\n",
       "      <th>0</th>\n",
       "      <td>22</td>\n",
       "      <td>Yes</td>\n",
       "      <td>No</td>\n",
       "      <td>Month-to-month</td>\n",
       "      <td>40.05</td>\n",
       "      <td>880.20</td>\n",
       "    </tr>\n",
       "    <tr>\n",
       "      <th>1</th>\n",
       "      <td>28</td>\n",
       "      <td>No</td>\n",
       "      <td>No</td>\n",
       "      <td>Month-to-month</td>\n",
       "      <td>105.70</td>\n",
       "      <td>2979.50</td>\n",
       "    </tr>\n",
       "    <tr>\n",
       "      <th>2</th>\n",
       "      <td>31</td>\n",
       "      <td>No</td>\n",
       "      <td>Yes</td>\n",
       "      <td>Month-to-month</td>\n",
       "      <td>54.35</td>\n",
       "      <td>1647.00</td>\n",
       "    </tr>\n",
       "    <tr>\n",
       "      <th>3</th>\n",
       "      <td>17</td>\n",
       "      <td>No</td>\n",
       "      <td>No</td>\n",
       "      <td>Month-to-month</td>\n",
       "      <td>94.80</td>\n",
       "      <td>1563.90</td>\n",
       "    </tr>\n",
       "    <tr>\n",
       "      <th>4</th>\n",
       "      <td>55</td>\n",
       "      <td>Yes</td>\n",
       "      <td>Yes</td>\n",
       "      <td>One year</td>\n",
       "      <td>66.05</td>\n",
       "      <td>3462.10</td>\n",
       "    </tr>\n",
       "    <tr>\n",
       "      <th>5</th>\n",
       "      <td>1</td>\n",
       "      <td>Yes</td>\n",
       "      <td>Yes</td>\n",
       "      <td>Month-to-month</td>\n",
       "      <td>70.45</td>\n",
       "      <td>70.45</td>\n",
       "    </tr>\n",
       "    <tr>\n",
       "      <th>6</th>\n",
       "      <td>42</td>\n",
       "      <td>No internet service</td>\n",
       "      <td>No internet service</td>\n",
       "      <td>Two year</td>\n",
       "      <td>22.95</td>\n",
       "      <td>1014.25</td>\n",
       "    </tr>\n",
       "    <tr>\n",
       "      <th>7</th>\n",
       "      <td>26</td>\n",
       "      <td>No internet service</td>\n",
       "      <td>No internet service</td>\n",
       "      <td>One year</td>\n",
       "      <td>19.80</td>\n",
       "      <td>457.30</td>\n",
       "    </tr>\n",
       "    <tr>\n",
       "      <th>8</th>\n",
       "      <td>71</td>\n",
       "      <td>Yes</td>\n",
       "      <td>Yes</td>\n",
       "      <td>Two year</td>\n",
       "      <td>77.35</td>\n",
       "      <td>5550.10</td>\n",
       "    </tr>\n",
       "    <tr>\n",
       "      <th>9</th>\n",
       "      <td>2</td>\n",
       "      <td>No</td>\n",
       "      <td>No</td>\n",
       "      <td>Month-to-month</td>\n",
       "      <td>94.00</td>\n",
       "      <td>181.70</td>\n",
       "    </tr>\n",
       "  </tbody>\n",
       "</table>\n",
       "</div>"
      ],
      "text/plain": [
       "   tenure       OnlineSecurity          TechSupport        Contract  \\\n",
       "0      22                  Yes                   No  Month-to-month   \n",
       "1      28                   No                   No  Month-to-month   \n",
       "2      31                   No                  Yes  Month-to-month   \n",
       "3      17                   No                   No  Month-to-month   \n",
       "4      55                  Yes                  Yes        One year   \n",
       "5       1                  Yes                  Yes  Month-to-month   \n",
       "6      42  No internet service  No internet service        Two year   \n",
       "7      26  No internet service  No internet service        One year   \n",
       "8      71                  Yes                  Yes        Two year   \n",
       "9       2                   No                   No  Month-to-month   \n",
       "\n",
       "   MonthlyCharges  TotalCharges  \n",
       "0           40.05        880.20  \n",
       "1          105.70       2979.50  \n",
       "2           54.35       1647.00  \n",
       "3           94.80       1563.90  \n",
       "4           66.05       3462.10  \n",
       "5           70.45         70.45  \n",
       "6           22.95       1014.25  \n",
       "7           19.80        457.30  \n",
       "8           77.35       5550.10  \n",
       "9           94.00        181.70  "
      ]
     },
     "execution_count": 106,
     "metadata": {},
     "output_type": "execute_result"
    }
   ],
   "source": [
    "data1"
   ]
  },
  {
   "cell_type": "code",
   "execution_count": null,
   "metadata": {},
   "outputs": [],
   "source": [
    "num_col = ['tenure','MonthlyCharges','TotalCharges']\n",
    "cat_col = ['OnlineSecurity','TechSupport','Contract']"
   ]
  },
  {
   "cell_type": "code",
   "execution_count": null,
   "metadata": {},
   "outputs": [],
   "source": [
    "data_inf_num = data_inf[num_col]\n",
    "data_inf_cat = data_inf[cat_col]"
   ]
  },
  {
   "cell_type": "markdown",
   "metadata": {},
   "source": [
    "# **11. KESIMPULAN**"
   ]
  },
  {
   "cell_type": "markdown",
   "metadata": {},
   "source": [
    "## EDA"
   ]
  },
  {
   "cell_type": "markdown",
   "metadata": {},
   "source": [
    "- kolom churn memiliki 2 value yaitu Yes dan No. Yes mengindikasikan bahwa pelanggang yang berhenti berlangganan, sedangakan No mengindikasikan bahwa pelanggan yang tidak berhenti berlangganan.\n",
    "\n",
    "- Persentase Churn dengan label `Yes` sebesar `26.5%` dan untuk label `No` sebesar `73.5%`. Hal ini mengartikan bahwa masih banyak pelanggan yang setia dibandingkan yang berhenti berlangganan.\n",
    "- gender tidaklah berpengaruh terhadap churn pelanggan.\n",
    "- Terjadinya churn pelanggan berdasarkan kolom SeniorCitizen di dominasil oleh label 0. Hal ini mengindikasikan bahwa kebanyakan pelanggan yang melakukan churn bukan merupakan warga senior.\n",
    "- bukan partner lebih banyak melakukan churn dibandikang yang merupaka partner. Sehingga dapat dikatakan bahwa Partner mempenagruhi Churn pelanggan\n",
    "- yang tidak memiliki tanggungan lebih dominan melakukan churn pelanggan dibandingkan dengan yang memiliki tanggungan\n",
    "- Phone service dengan label yes lebih cenderung melakukan churn dibandingkan label no\n",
    "- Multiplines dengan label No dan Yes cenderung melakukan churn dibandingkan dengan label lainnya\n",
    "- Internet sevice dengan label Fiber optic lebih cenderung melakukan churn dibandingkan dengan label lainnya\n",
    "- Online security dengan lavel No lebih cenderung melakukan churn dibandingkan dengan label lainnya\n",
    "- Online backup dengan label No lebih cenderung melakukan churn dibandingkan labebl lainnya\n",
    "- Device protection dengan label no lebih cenderung melakukan churn dibandingkan label lainnya\n",
    "- Tech support dengan label No lebih cenderung melakukan churn dibandingkan dengan label lainnya.\n",
    "- Streaming TV dengan label no lebih cenderung melakukan churn pelanggan dibandingkan dengan label lainnya\n",
    "- Streaming movies dengan label no lebih cenderung melakukan churn dibandingkan dengan label lainnya.\n",
    "- Terjadinya churn pelanggan dengan status kontrak month to month cenderung melakukan churn\n",
    "- Churn pelaggan dengan label yes cenderung dilakukan oleh tipe pelanggan yang melakukan penagihan dengan kertas.\n",
    "- Churn pelanggang dengan label yes dominan dilakukan oleh tipe pelanggan dengan metode pembayaran menggunakan electronic check"
   ]
  },
  {
   "cell_type": "markdown",
   "metadata": {},
   "source": [
    "## MODEL"
   ]
  },
  {
   "cell_type": "markdown",
   "metadata": {},
   "source": [
    "Berdasarkan informasi diberikan diatas, terlihat hasil prediksi label 0 paling banyak benar ialah `Leaky Relu menggunakan Glorot Normal`, sedangkan yang memprediksi label 1 paling panyak benar ialah `Elu menggunakan Glorot Uniform`. Berdasarkan kasus yang diberikan terkait Churn Pelanggan maka saya memilih model yang paling banyak memprediksi 1 dengan alasan bahwa saya lebih ingin mempertahankan pelanggan dibandingkan memperdulikan pelanggan yang tidak setia. Sehingga saya akan memakai model `Elu menggunakan Glorot Uniform` untuk proses deployment."
   ]
  },
  {
   "cell_type": "markdown",
   "metadata": {},
   "source": [
    "# SUMBER"
   ]
  },
  {
   "cell_type": "markdown",
   "metadata": {},
   "source": [
    "- https://keras.io/api/layers/initializers/\n",
    "- https://www.geeksforgeeks.org/activation-functions/?ref=lbp\n",
    "- https://www.youtube.com/watch?v=EvGS3VAsG4Y"
   ]
  }
 ],
 "metadata": {
  "kernelspec": {
   "display_name": "Python 3.9.7 ('base')",
   "language": "python",
   "name": "python3"
  },
  "language_info": {
   "codemirror_mode": {
    "name": "ipython",
    "version": 3
   },
   "file_extension": ".py",
   "mimetype": "text/x-python",
   "name": "python",
   "nbconvert_exporter": "python",
   "pygments_lexer": "ipython3",
   "version": "3.9.7"
  },
  "orig_nbformat": 4,
  "vscode": {
   "interpreter": {
    "hash": "a90aeebcf29d64a654773811cc170cb25061cb2498f10ac689db374c7bf325de"
   }
  }
 },
 "nbformat": 4,
 "nbformat_minor": 2
}
