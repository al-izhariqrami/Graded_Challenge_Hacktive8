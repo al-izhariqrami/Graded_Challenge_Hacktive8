{
 "cells": [
  {
   "cell_type": "markdown",
   "metadata": {},
   "source": [
    "# **I. PERKENALAN**\n",
    "    Nama    : Al Izhar Iqrami\n",
    "    Batch   : 011 Data Science Hacktive8"
   ]
  },
  {
   "cell_type": "markdown",
   "metadata": {},
   "source": [
    "# **II. IMPORT LIBRARY**"
   ]
  },
  {
   "cell_type": "code",
   "execution_count": 2,
   "metadata": {},
   "outputs": [],
   "source": [
    "import numpy as np\n",
    "import pandas as pd\n",
    "import scipy.stats as stats\n",
    "import seaborn as sns\n",
    "import matplotlib.pyplot as plt"
   ]
  },
  {
   "cell_type": "markdown",
   "metadata": {},
   "source": [
    "# **III. DATA LOADING**"
   ]
  },
  {
   "cell_type": "markdown",
   "metadata": {},
   "source": [
    "**Meload data dengan menggunakan library pandas**"
   ]
  },
  {
   "cell_type": "code",
   "execution_count": 3,
   "metadata": {},
   "outputs": [
    {
     "data": {
      "text/html": [
       "<div>\n",
       "<style scoped>\n",
       "    .dataframe tbody tr th:only-of-type {\n",
       "        vertical-align: middle;\n",
       "    }\n",
       "\n",
       "    .dataframe tbody tr th {\n",
       "        vertical-align: top;\n",
       "    }\n",
       "\n",
       "    .dataframe thead th {\n",
       "        text-align: right;\n",
       "    }\n",
       "</style>\n",
       "<table border=\"1\" class=\"dataframe\">\n",
       "  <thead>\n",
       "    <tr style=\"text-align: right;\">\n",
       "      <th></th>\n",
       "      <th>ID</th>\n",
       "      <th>name</th>\n",
       "      <th>category</th>\n",
       "      <th>main_category</th>\n",
       "      <th>currency</th>\n",
       "      <th>deadline</th>\n",
       "      <th>goal</th>\n",
       "      <th>launched</th>\n",
       "      <th>pledged</th>\n",
       "      <th>state</th>\n",
       "      <th>backers</th>\n",
       "      <th>country</th>\n",
       "      <th>usd pledged</th>\n",
       "      <th>usd_pledged_real</th>\n",
       "      <th>usd_goal_real</th>\n",
       "    </tr>\n",
       "  </thead>\n",
       "  <tbody>\n",
       "    <tr>\n",
       "      <th>0</th>\n",
       "      <td>1000002330</td>\n",
       "      <td>The Songs of Adelaide &amp; Abullah</td>\n",
       "      <td>Poetry</td>\n",
       "      <td>Publishing</td>\n",
       "      <td>GBP</td>\n",
       "      <td>2015-10-09</td>\n",
       "      <td>1000.0</td>\n",
       "      <td>2015-08-11 12:12:28</td>\n",
       "      <td>0.0</td>\n",
       "      <td>failed</td>\n",
       "      <td>0</td>\n",
       "      <td>GB</td>\n",
       "      <td>0.0</td>\n",
       "      <td>0.0</td>\n",
       "      <td>1533.95</td>\n",
       "    </tr>\n",
       "    <tr>\n",
       "      <th>1</th>\n",
       "      <td>1000003930</td>\n",
       "      <td>Greeting From Earth: ZGAC Arts Capsule For ET</td>\n",
       "      <td>Narrative Film</td>\n",
       "      <td>Film &amp; Video</td>\n",
       "      <td>USD</td>\n",
       "      <td>2017-11-01</td>\n",
       "      <td>30000.0</td>\n",
       "      <td>2017-09-02 04:43:57</td>\n",
       "      <td>2421.0</td>\n",
       "      <td>failed</td>\n",
       "      <td>15</td>\n",
       "      <td>US</td>\n",
       "      <td>100.0</td>\n",
       "      <td>2421.0</td>\n",
       "      <td>30000.00</td>\n",
       "    </tr>\n",
       "    <tr>\n",
       "      <th>2</th>\n",
       "      <td>1000004038</td>\n",
       "      <td>Where is Hank?</td>\n",
       "      <td>Narrative Film</td>\n",
       "      <td>Film &amp; Video</td>\n",
       "      <td>USD</td>\n",
       "      <td>2013-02-26</td>\n",
       "      <td>45000.0</td>\n",
       "      <td>2013-01-12 00:20:50</td>\n",
       "      <td>220.0</td>\n",
       "      <td>failed</td>\n",
       "      <td>3</td>\n",
       "      <td>US</td>\n",
       "      <td>220.0</td>\n",
       "      <td>220.0</td>\n",
       "      <td>45000.00</td>\n",
       "    </tr>\n",
       "    <tr>\n",
       "      <th>3</th>\n",
       "      <td>1000007540</td>\n",
       "      <td>ToshiCapital Rekordz Needs Help to Complete Album</td>\n",
       "      <td>Music</td>\n",
       "      <td>Music</td>\n",
       "      <td>USD</td>\n",
       "      <td>2012-04-16</td>\n",
       "      <td>5000.0</td>\n",
       "      <td>2012-03-17 03:24:11</td>\n",
       "      <td>1.0</td>\n",
       "      <td>failed</td>\n",
       "      <td>1</td>\n",
       "      <td>US</td>\n",
       "      <td>1.0</td>\n",
       "      <td>1.0</td>\n",
       "      <td>5000.00</td>\n",
       "    </tr>\n",
       "    <tr>\n",
       "      <th>4</th>\n",
       "      <td>1000011046</td>\n",
       "      <td>Community Film Project: The Art of Neighborhoo...</td>\n",
       "      <td>Film &amp; Video</td>\n",
       "      <td>Film &amp; Video</td>\n",
       "      <td>USD</td>\n",
       "      <td>2015-08-29</td>\n",
       "      <td>19500.0</td>\n",
       "      <td>2015-07-04 08:35:03</td>\n",
       "      <td>1283.0</td>\n",
       "      <td>canceled</td>\n",
       "      <td>14</td>\n",
       "      <td>US</td>\n",
       "      <td>1283.0</td>\n",
       "      <td>1283.0</td>\n",
       "      <td>19500.00</td>\n",
       "    </tr>\n",
       "  </tbody>\n",
       "</table>\n",
       "</div>"
      ],
      "text/plain": [
       "           ID                                               name  \\\n",
       "0  1000002330                    The Songs of Adelaide & Abullah   \n",
       "1  1000003930      Greeting From Earth: ZGAC Arts Capsule For ET   \n",
       "2  1000004038                                     Where is Hank?   \n",
       "3  1000007540  ToshiCapital Rekordz Needs Help to Complete Album   \n",
       "4  1000011046  Community Film Project: The Art of Neighborhoo...   \n",
       "\n",
       "         category main_category currency    deadline     goal  \\\n",
       "0          Poetry    Publishing      GBP  2015-10-09   1000.0   \n",
       "1  Narrative Film  Film & Video      USD  2017-11-01  30000.0   \n",
       "2  Narrative Film  Film & Video      USD  2013-02-26  45000.0   \n",
       "3           Music         Music      USD  2012-04-16   5000.0   \n",
       "4    Film & Video  Film & Video      USD  2015-08-29  19500.0   \n",
       "\n",
       "              launched  pledged     state  backers country  usd pledged  \\\n",
       "0  2015-08-11 12:12:28      0.0    failed        0      GB          0.0   \n",
       "1  2017-09-02 04:43:57   2421.0    failed       15      US        100.0   \n",
       "2  2013-01-12 00:20:50    220.0    failed        3      US        220.0   \n",
       "3  2012-03-17 03:24:11      1.0    failed        1      US          1.0   \n",
       "4  2015-07-04 08:35:03   1283.0  canceled       14      US       1283.0   \n",
       "\n",
       "   usd_pledged_real  usd_goal_real  \n",
       "0               0.0        1533.95  \n",
       "1            2421.0       30000.00  \n",
       "2             220.0       45000.00  \n",
       "3               1.0        5000.00  \n",
       "4            1283.0       19500.00  "
      ]
     },
     "execution_count": 3,
     "metadata": {},
     "output_type": "execute_result"
    }
   ],
   "source": [
    "data = pd.read_csv('ks-projects-201801.csv')\n",
    "data.head()"
   ]
  },
  {
   "cell_type": "markdown",
   "metadata": {},
   "source": [
    "# **IV. DATA CLEANING**"
   ]
  },
  {
   "cell_type": "markdown",
   "metadata": {},
   "source": [
    "**Menyalin data asli dengan nama df**"
   ]
  },
  {
   "cell_type": "code",
   "execution_count": 4,
   "metadata": {},
   "outputs": [
    {
     "data": {
      "text/html": [
       "<div>\n",
       "<style scoped>\n",
       "    .dataframe tbody tr th:only-of-type {\n",
       "        vertical-align: middle;\n",
       "    }\n",
       "\n",
       "    .dataframe tbody tr th {\n",
       "        vertical-align: top;\n",
       "    }\n",
       "\n",
       "    .dataframe thead th {\n",
       "        text-align: right;\n",
       "    }\n",
       "</style>\n",
       "<table border=\"1\" class=\"dataframe\">\n",
       "  <thead>\n",
       "    <tr style=\"text-align: right;\">\n",
       "      <th></th>\n",
       "      <th>ID</th>\n",
       "      <th>name</th>\n",
       "      <th>category</th>\n",
       "      <th>main_category</th>\n",
       "      <th>currency</th>\n",
       "      <th>deadline</th>\n",
       "      <th>goal</th>\n",
       "      <th>launched</th>\n",
       "      <th>pledged</th>\n",
       "      <th>state</th>\n",
       "      <th>backers</th>\n",
       "      <th>country</th>\n",
       "      <th>usd pledged</th>\n",
       "      <th>usd_pledged_real</th>\n",
       "      <th>usd_goal_real</th>\n",
       "    </tr>\n",
       "  </thead>\n",
       "  <tbody>\n",
       "    <tr>\n",
       "      <th>0</th>\n",
       "      <td>1000002330</td>\n",
       "      <td>The Songs of Adelaide &amp; Abullah</td>\n",
       "      <td>Poetry</td>\n",
       "      <td>Publishing</td>\n",
       "      <td>GBP</td>\n",
       "      <td>2015-10-09</td>\n",
       "      <td>1000.0</td>\n",
       "      <td>2015-08-11 12:12:28</td>\n",
       "      <td>0.0</td>\n",
       "      <td>failed</td>\n",
       "      <td>0</td>\n",
       "      <td>GB</td>\n",
       "      <td>0.0</td>\n",
       "      <td>0.0</td>\n",
       "      <td>1533.95</td>\n",
       "    </tr>\n",
       "    <tr>\n",
       "      <th>1</th>\n",
       "      <td>1000003930</td>\n",
       "      <td>Greeting From Earth: ZGAC Arts Capsule For ET</td>\n",
       "      <td>Narrative Film</td>\n",
       "      <td>Film &amp; Video</td>\n",
       "      <td>USD</td>\n",
       "      <td>2017-11-01</td>\n",
       "      <td>30000.0</td>\n",
       "      <td>2017-09-02 04:43:57</td>\n",
       "      <td>2421.0</td>\n",
       "      <td>failed</td>\n",
       "      <td>15</td>\n",
       "      <td>US</td>\n",
       "      <td>100.0</td>\n",
       "      <td>2421.0</td>\n",
       "      <td>30000.00</td>\n",
       "    </tr>\n",
       "    <tr>\n",
       "      <th>2</th>\n",
       "      <td>1000004038</td>\n",
       "      <td>Where is Hank?</td>\n",
       "      <td>Narrative Film</td>\n",
       "      <td>Film &amp; Video</td>\n",
       "      <td>USD</td>\n",
       "      <td>2013-02-26</td>\n",
       "      <td>45000.0</td>\n",
       "      <td>2013-01-12 00:20:50</td>\n",
       "      <td>220.0</td>\n",
       "      <td>failed</td>\n",
       "      <td>3</td>\n",
       "      <td>US</td>\n",
       "      <td>220.0</td>\n",
       "      <td>220.0</td>\n",
       "      <td>45000.00</td>\n",
       "    </tr>\n",
       "  </tbody>\n",
       "</table>\n",
       "</div>"
      ],
      "text/plain": [
       "           ID                                           name        category  \\\n",
       "0  1000002330                The Songs of Adelaide & Abullah          Poetry   \n",
       "1  1000003930  Greeting From Earth: ZGAC Arts Capsule For ET  Narrative Film   \n",
       "2  1000004038                                 Where is Hank?  Narrative Film   \n",
       "\n",
       "  main_category currency    deadline     goal             launched  pledged  \\\n",
       "0    Publishing      GBP  2015-10-09   1000.0  2015-08-11 12:12:28      0.0   \n",
       "1  Film & Video      USD  2017-11-01  30000.0  2017-09-02 04:43:57   2421.0   \n",
       "2  Film & Video      USD  2013-02-26  45000.0  2013-01-12 00:20:50    220.0   \n",
       "\n",
       "    state  backers country  usd pledged  usd_pledged_real  usd_goal_real  \n",
       "0  failed        0      GB          0.0               0.0        1533.95  \n",
       "1  failed       15      US        100.0            2421.0       30000.00  \n",
       "2  failed        3      US        220.0             220.0       45000.00  "
      ]
     },
     "execution_count": 4,
     "metadata": {},
     "output_type": "execute_result"
    }
   ],
   "source": [
    "df = data.copy()\n",
    "df.head(3)"
   ]
  },
  {
   "cell_type": "markdown",
   "metadata": {},
   "source": [
    "**Melihat Ukuran Data**"
   ]
  },
  {
   "cell_type": "code",
   "execution_count": 5,
   "metadata": {},
   "outputs": [
    {
     "data": {
      "text/plain": [
       "(378661, 15)"
      ]
     },
     "execution_count": 5,
     "metadata": {},
     "output_type": "execute_result"
    }
   ],
   "source": [
    "df.shape"
   ]
  },
  {
   "cell_type": "markdown",
   "metadata": {},
   "source": [
    "**Melihat Informasi Ringkas dari Data**"
   ]
  },
  {
   "cell_type": "code",
   "execution_count": 6,
   "metadata": {},
   "outputs": [
    {
     "name": "stdout",
     "output_type": "stream",
     "text": [
      "<class 'pandas.core.frame.DataFrame'>\n",
      "RangeIndex: 378661 entries, 0 to 378660\n",
      "Data columns (total 15 columns):\n",
      " #   Column            Non-Null Count   Dtype  \n",
      "---  ------            --------------   -----  \n",
      " 0   ID                378661 non-null  int64  \n",
      " 1   name              378657 non-null  object \n",
      " 2   category          378661 non-null  object \n",
      " 3   main_category     378661 non-null  object \n",
      " 4   currency          378661 non-null  object \n",
      " 5   deadline          378661 non-null  object \n",
      " 6   goal              378661 non-null  float64\n",
      " 7   launched          378661 non-null  object \n",
      " 8   pledged           378661 non-null  float64\n",
      " 9   state             378661 non-null  object \n",
      " 10  backers           378661 non-null  int64  \n",
      " 11  country           378661 non-null  object \n",
      " 12  usd pledged       374864 non-null  float64\n",
      " 13  usd_pledged_real  378661 non-null  float64\n",
      " 14  usd_goal_real     378661 non-null  float64\n",
      "dtypes: float64(5), int64(2), object(8)\n",
      "memory usage: 43.3+ MB\n"
     ]
    }
   ],
   "source": [
    "df.info()"
   ]
  },
  {
   "cell_type": "markdown",
   "metadata": {},
   "source": [
    "**Mengubah tipe data pada kolom launched menjadi data time**"
   ]
  },
  {
   "cell_type": "code",
   "execution_count": 7,
   "metadata": {},
   "outputs": [],
   "source": [
    "df['launched'] = pd.to_datetime(df['launched'])"
   ]
  },
  {
   "cell_type": "markdown",
   "metadata": {},
   "source": [
    "**Mengecek Jumlah Missing Value Pada Data Frame**"
   ]
  },
  {
   "cell_type": "code",
   "execution_count": 8,
   "metadata": {},
   "outputs": [
    {
     "name": "stdout",
     "output_type": "stream",
     "text": [
      "name  :  4\n",
      "usd pledged  :  3797\n"
     ]
    }
   ],
   "source": [
    "for col in df:\n",
    "  total_missing = df[col].isnull().sum()\n",
    "  if total_missing > 0:\n",
    "    print(col, ' : ', total_missing)"
   ]
  },
  {
   "cell_type": "markdown",
   "metadata": {},
   "source": [
    "Berdasarkan informasi yang diperoleh, terdapat missing value pada kolom name yang bertipe object dan kolom usd pledged yang bertipe float. Kolom yang bertipe object kami menghendling missing value dengan menghapus baris yang kosong, dan untuk kolom yang bertipe numerik/float kami menghendling missing value dengan nilai rata-rata"
   ]
  },
  {
   "cell_type": "code",
   "execution_count": 9,
   "metadata": {},
   "outputs": [],
   "source": [
    "df['usd pledged'] = df['usd pledged'].fillna(df['usd pledged'].median())\n",
    "row = df.dropna(inplace=True)"
   ]
  },
  {
   "cell_type": "markdown",
   "metadata": {},
   "source": [
    "**Melalukan Pengecekan Missing Value**"
   ]
  },
  {
   "cell_type": "code",
   "execution_count": 10,
   "metadata": {},
   "outputs": [
    {
     "data": {
      "text/html": [
       "<div>\n",
       "<style scoped>\n",
       "    .dataframe tbody tr th:only-of-type {\n",
       "        vertical-align: middle;\n",
       "    }\n",
       "\n",
       "    .dataframe tbody tr th {\n",
       "        vertical-align: top;\n",
       "    }\n",
       "\n",
       "    .dataframe thead th {\n",
       "        text-align: right;\n",
       "    }\n",
       "</style>\n",
       "<table border=\"1\" class=\"dataframe\">\n",
       "  <thead>\n",
       "    <tr style=\"text-align: right;\">\n",
       "      <th></th>\n",
       "      <th>Jumlah Missing Values</th>\n",
       "      <th>% Missing Values</th>\n",
       "    </tr>\n",
       "  </thead>\n",
       "  <tbody>\n",
       "    <tr>\n",
       "      <th>ID</th>\n",
       "      <td>0</td>\n",
       "      <td>0.0</td>\n",
       "    </tr>\n",
       "    <tr>\n",
       "      <th>name</th>\n",
       "      <td>0</td>\n",
       "      <td>0.0</td>\n",
       "    </tr>\n",
       "    <tr>\n",
       "      <th>category</th>\n",
       "      <td>0</td>\n",
       "      <td>0.0</td>\n",
       "    </tr>\n",
       "    <tr>\n",
       "      <th>main_category</th>\n",
       "      <td>0</td>\n",
       "      <td>0.0</td>\n",
       "    </tr>\n",
       "    <tr>\n",
       "      <th>currency</th>\n",
       "      <td>0</td>\n",
       "      <td>0.0</td>\n",
       "    </tr>\n",
       "    <tr>\n",
       "      <th>deadline</th>\n",
       "      <td>0</td>\n",
       "      <td>0.0</td>\n",
       "    </tr>\n",
       "    <tr>\n",
       "      <th>goal</th>\n",
       "      <td>0</td>\n",
       "      <td>0.0</td>\n",
       "    </tr>\n",
       "    <tr>\n",
       "      <th>launched</th>\n",
       "      <td>0</td>\n",
       "      <td>0.0</td>\n",
       "    </tr>\n",
       "    <tr>\n",
       "      <th>pledged</th>\n",
       "      <td>0</td>\n",
       "      <td>0.0</td>\n",
       "    </tr>\n",
       "    <tr>\n",
       "      <th>state</th>\n",
       "      <td>0</td>\n",
       "      <td>0.0</td>\n",
       "    </tr>\n",
       "    <tr>\n",
       "      <th>backers</th>\n",
       "      <td>0</td>\n",
       "      <td>0.0</td>\n",
       "    </tr>\n",
       "    <tr>\n",
       "      <th>country</th>\n",
       "      <td>0</td>\n",
       "      <td>0.0</td>\n",
       "    </tr>\n",
       "    <tr>\n",
       "      <th>usd pledged</th>\n",
       "      <td>0</td>\n",
       "      <td>0.0</td>\n",
       "    </tr>\n",
       "    <tr>\n",
       "      <th>usd_pledged_real</th>\n",
       "      <td>0</td>\n",
       "      <td>0.0</td>\n",
       "    </tr>\n",
       "    <tr>\n",
       "      <th>usd_goal_real</th>\n",
       "      <td>0</td>\n",
       "      <td>0.0</td>\n",
       "    </tr>\n",
       "  </tbody>\n",
       "</table>\n",
       "</div>"
      ],
      "text/plain": [
       "                  Jumlah Missing Values  % Missing Values\n",
       "ID                                    0               0.0\n",
       "name                                  0               0.0\n",
       "category                              0               0.0\n",
       "main_category                         0               0.0\n",
       "currency                              0               0.0\n",
       "deadline                              0               0.0\n",
       "goal                                  0               0.0\n",
       "launched                              0               0.0\n",
       "pledged                               0               0.0\n",
       "state                                 0               0.0\n",
       "backers                               0               0.0\n",
       "country                               0               0.0\n",
       "usd pledged                           0               0.0\n",
       "usd_pledged_real                      0               0.0\n",
       "usd_goal_real                         0               0.0"
      ]
     },
     "execution_count": 10,
     "metadata": {},
     "output_type": "execute_result"
    }
   ],
   "source": [
    "cek = pd.DataFrame(df.isnull().sum(), columns=['Jumlah Missing Values'])\n",
    "cek['% Missing Values'] = (cek/len(df)).round(2)*100\n",
    "cek"
   ]
  },
  {
   "cell_type": "code",
   "execution_count": 11,
   "metadata": {},
   "outputs": [
    {
     "data": {
      "text/plain": [
       "(378657, 15)"
      ]
     },
     "execution_count": 11,
     "metadata": {},
     "output_type": "execute_result"
    }
   ],
   "source": [
    "df.shape"
   ]
  },
  {
   "cell_type": "markdown",
   "metadata": {},
   "source": [
    "# **V. EKSPLORASI DATA**"
   ]
  },
  {
   "cell_type": "markdown",
   "metadata": {},
   "source": [
    "**Manipulasi kolom numerik kedalam data set baru dengan nama numeri_column**"
   ]
  },
  {
   "cell_type": "code",
   "execution_count": 12,
   "metadata": {},
   "outputs": [
    {
     "data": {
      "text/html": [
       "<div>\n",
       "<style scoped>\n",
       "    .dataframe tbody tr th:only-of-type {\n",
       "        vertical-align: middle;\n",
       "    }\n",
       "\n",
       "    .dataframe tbody tr th {\n",
       "        vertical-align: top;\n",
       "    }\n",
       "\n",
       "    .dataframe thead th {\n",
       "        text-align: right;\n",
       "    }\n",
       "</style>\n",
       "<table border=\"1\" class=\"dataframe\">\n",
       "  <thead>\n",
       "    <tr style=\"text-align: right;\">\n",
       "      <th></th>\n",
       "      <th>ID</th>\n",
       "      <th>goal</th>\n",
       "      <th>pledged</th>\n",
       "      <th>backers</th>\n",
       "      <th>usd pledged</th>\n",
       "      <th>usd_pledged_real</th>\n",
       "      <th>usd_goal_real</th>\n",
       "    </tr>\n",
       "  </thead>\n",
       "  <tbody>\n",
       "    <tr>\n",
       "      <th>0</th>\n",
       "      <td>1000002330</td>\n",
       "      <td>1000.0</td>\n",
       "      <td>0.0</td>\n",
       "      <td>0</td>\n",
       "      <td>0.0</td>\n",
       "      <td>0.0</td>\n",
       "      <td>1533.95</td>\n",
       "    </tr>\n",
       "    <tr>\n",
       "      <th>1</th>\n",
       "      <td>1000003930</td>\n",
       "      <td>30000.0</td>\n",
       "      <td>2421.0</td>\n",
       "      <td>15</td>\n",
       "      <td>100.0</td>\n",
       "      <td>2421.0</td>\n",
       "      <td>30000.00</td>\n",
       "    </tr>\n",
       "    <tr>\n",
       "      <th>2</th>\n",
       "      <td>1000004038</td>\n",
       "      <td>45000.0</td>\n",
       "      <td>220.0</td>\n",
       "      <td>3</td>\n",
       "      <td>220.0</td>\n",
       "      <td>220.0</td>\n",
       "      <td>45000.00</td>\n",
       "    </tr>\n",
       "    <tr>\n",
       "      <th>3</th>\n",
       "      <td>1000007540</td>\n",
       "      <td>5000.0</td>\n",
       "      <td>1.0</td>\n",
       "      <td>1</td>\n",
       "      <td>1.0</td>\n",
       "      <td>1.0</td>\n",
       "      <td>5000.00</td>\n",
       "    </tr>\n",
       "    <tr>\n",
       "      <th>4</th>\n",
       "      <td>1000011046</td>\n",
       "      <td>19500.0</td>\n",
       "      <td>1283.0</td>\n",
       "      <td>14</td>\n",
       "      <td>1283.0</td>\n",
       "      <td>1283.0</td>\n",
       "      <td>19500.00</td>\n",
       "    </tr>\n",
       "    <tr>\n",
       "      <th>...</th>\n",
       "      <td>...</td>\n",
       "      <td>...</td>\n",
       "      <td>...</td>\n",
       "      <td>...</td>\n",
       "      <td>...</td>\n",
       "      <td>...</td>\n",
       "      <td>...</td>\n",
       "    </tr>\n",
       "    <tr>\n",
       "      <th>378656</th>\n",
       "      <td>999976400</td>\n",
       "      <td>50000.0</td>\n",
       "      <td>25.0</td>\n",
       "      <td>1</td>\n",
       "      <td>25.0</td>\n",
       "      <td>25.0</td>\n",
       "      <td>50000.00</td>\n",
       "    </tr>\n",
       "    <tr>\n",
       "      <th>378657</th>\n",
       "      <td>999977640</td>\n",
       "      <td>1500.0</td>\n",
       "      <td>155.0</td>\n",
       "      <td>5</td>\n",
       "      <td>155.0</td>\n",
       "      <td>155.0</td>\n",
       "      <td>1500.00</td>\n",
       "    </tr>\n",
       "    <tr>\n",
       "      <th>378658</th>\n",
       "      <td>999986353</td>\n",
       "      <td>15000.0</td>\n",
       "      <td>20.0</td>\n",
       "      <td>1</td>\n",
       "      <td>20.0</td>\n",
       "      <td>20.0</td>\n",
       "      <td>15000.00</td>\n",
       "    </tr>\n",
       "    <tr>\n",
       "      <th>378659</th>\n",
       "      <td>999987933</td>\n",
       "      <td>15000.0</td>\n",
       "      <td>200.0</td>\n",
       "      <td>6</td>\n",
       "      <td>200.0</td>\n",
       "      <td>200.0</td>\n",
       "      <td>15000.00</td>\n",
       "    </tr>\n",
       "    <tr>\n",
       "      <th>378660</th>\n",
       "      <td>999988282</td>\n",
       "      <td>2000.0</td>\n",
       "      <td>524.0</td>\n",
       "      <td>17</td>\n",
       "      <td>524.0</td>\n",
       "      <td>524.0</td>\n",
       "      <td>2000.00</td>\n",
       "    </tr>\n",
       "  </tbody>\n",
       "</table>\n",
       "<p>378657 rows × 7 columns</p>\n",
       "</div>"
      ],
      "text/plain": [
       "                ID     goal  pledged  backers  usd pledged  usd_pledged_real  \\\n",
       "0       1000002330   1000.0      0.0        0          0.0               0.0   \n",
       "1       1000003930  30000.0   2421.0       15        100.0            2421.0   \n",
       "2       1000004038  45000.0    220.0        3        220.0             220.0   \n",
       "3       1000007540   5000.0      1.0        1          1.0               1.0   \n",
       "4       1000011046  19500.0   1283.0       14       1283.0            1283.0   \n",
       "...            ...      ...      ...      ...          ...               ...   \n",
       "378656   999976400  50000.0     25.0        1         25.0              25.0   \n",
       "378657   999977640   1500.0    155.0        5        155.0             155.0   \n",
       "378658   999986353  15000.0     20.0        1         20.0              20.0   \n",
       "378659   999987933  15000.0    200.0        6        200.0             200.0   \n",
       "378660   999988282   2000.0    524.0       17        524.0             524.0   \n",
       "\n",
       "        usd_goal_real  \n",
       "0             1533.95  \n",
       "1            30000.00  \n",
       "2            45000.00  \n",
       "3             5000.00  \n",
       "4            19500.00  \n",
       "...               ...  \n",
       "378656       50000.00  \n",
       "378657        1500.00  \n",
       "378658       15000.00  \n",
       "378659       15000.00  \n",
       "378660        2000.00  \n",
       "\n",
       "[378657 rows x 7 columns]"
      ]
     },
     "execution_count": 12,
     "metadata": {},
     "output_type": "execute_result"
    }
   ],
   "source": [
    "numeric_column = df.select_dtypes(include=np.number)\n",
    "numeric_column"
   ]
  },
  {
   "cell_type": "markdown",
   "metadata": {},
   "source": [
    "**Melihat Isi Kolom Category**"
   ]
  },
  {
   "cell_type": "code",
   "execution_count": 13,
   "metadata": {},
   "outputs": [
    {
     "data": {
      "text/plain": [
       "array(['Poetry', 'Narrative Film', 'Music', 'Film & Video', 'Restaurants',\n",
       "       'Food', 'Drinks', 'Product Design', 'Documentary', 'Nonfiction',\n",
       "       'Indie Rock', 'Crafts', 'Games', 'Tabletop Games', 'Design',\n",
       "       'Comic Books', 'Art Books', 'Fashion', 'Childrenswear', 'Theater',\n",
       "       'Comics', 'DIY', 'Webseries', 'Animation', 'Food Trucks',\n",
       "       'Public Art', 'Illustration', 'Photography', 'Pop', 'People',\n",
       "       'Art', 'Family', 'Fiction', 'Accessories', 'Rock', 'Hardware',\n",
       "       'Software', 'Weaving', 'Gadgets', 'Web', 'Jazz', 'Ready-to-wear',\n",
       "       'Festivals', 'Video Games', 'Anthologies', 'Publishing', 'Shorts',\n",
       "       'Electronic Music', 'Radio & Podcasts', 'Apps', 'Cookbooks',\n",
       "       'Apparel', 'Metal', 'Comedy', 'Hip-Hop', 'Periodicals', 'Dance',\n",
       "       'Technology', 'Painting', 'World Music', 'Photobooks', 'Drama',\n",
       "       'Architecture', 'Young Adult', 'Latin', 'Mobile Games', 'Flight',\n",
       "       'Fine Art', 'Action', 'Playing Cards', 'Makerspaces', 'Punk',\n",
       "       'Thrillers', \"Children's Books\", 'Audio', 'Performance Art',\n",
       "       'Ceramics', 'Vegan', 'Graphic Novels', 'Fabrication Tools',\n",
       "       'Performances', 'Sculpture', 'Sound', 'Stationery', 'Print',\n",
       "       \"Farmer's Markets\", 'Events', 'Classical Music', 'Graphic Design',\n",
       "       'Spaces', 'Country & Folk', 'Wearables', 'Mixed Media',\n",
       "       'Journalism', 'Movie Theaters', 'Animals', 'Digital Art', 'Horror',\n",
       "       'Knitting', 'Small Batch', 'Installations', 'Community Gardens',\n",
       "       'DIY Electronics', 'Embroidery', 'Camera Equipment', 'Jewelry',\n",
       "       'Farms', 'Conceptual Art', 'Fantasy', 'Webcomics', 'Experimental',\n",
       "       'Science Fiction', 'Puzzles', 'R&B', 'Music Videos', 'Calendars',\n",
       "       'Video', 'Plays', 'Blues', 'Bacon', 'Faith', 'Live Games',\n",
       "       'Woodworking', 'Places', 'Footwear', '3D Printing', 'Academic',\n",
       "       'Zines', 'Musical', 'Workshops', 'Photo', 'Immersive',\n",
       "       'Letterpress', 'Gaming Hardware', 'Candles', 'Television',\n",
       "       'Space Exploration', 'Couture', 'Nature', 'Robots', 'Typography',\n",
       "       'Crochet', 'Translations', 'Textiles', 'Pottery',\n",
       "       'Interactive Design', 'Video Art', 'Quilts', 'Glass',\n",
       "       'Pet Fashion', 'Printing', 'Romance', 'Civic Design', 'Kids',\n",
       "       'Literary Journals', 'Taxidermy', 'Literary Spaces', 'Chiptune',\n",
       "       'Residencies'], dtype=object)"
      ]
     },
     "execution_count": 13,
     "metadata": {},
     "output_type": "execute_result"
    }
   ],
   "source": [
    "df['category'].unique()"
   ]
  },
  {
   "cell_type": "markdown",
   "metadata": {},
   "source": [
    "**Melihat jumlah variable yang sama pada kolom category**"
   ]
  },
  {
   "cell_type": "code",
   "execution_count": 14,
   "metadata": {},
   "outputs": [
    {
     "data": {
      "text/plain": [
       "Product Design     22313\n",
       "Documentary        16139\n",
       "Music              15727\n",
       "Tabletop Games     14180\n",
       "Shorts             12357\n",
       "                   ...  \n",
       "Residencies           69\n",
       "Letterpress           49\n",
       "Chiptune              35\n",
       "Literary Spaces       27\n",
       "Taxidermy             13\n",
       "Name: category, Length: 159, dtype: int64"
      ]
     },
     "execution_count": 14,
     "metadata": {},
     "output_type": "execute_result"
    }
   ],
   "source": [
    "df['category'].value_counts()"
   ]
  },
  {
   "cell_type": "code",
   "execution_count": 15,
   "metadata": {},
   "outputs": [
    {
     "data": {
      "text/html": [
       "<div>\n",
       "<style scoped>\n",
       "    .dataframe tbody tr th:only-of-type {\n",
       "        vertical-align: middle;\n",
       "    }\n",
       "\n",
       "    .dataframe tbody tr th {\n",
       "        vertical-align: top;\n",
       "    }\n",
       "\n",
       "    .dataframe thead th {\n",
       "        text-align: right;\n",
       "    }\n",
       "</style>\n",
       "<table border=\"1\" class=\"dataframe\">\n",
       "  <thead>\n",
       "    <tr style=\"text-align: right;\">\n",
       "      <th></th>\n",
       "      <th>ID</th>\n",
       "      <th>name</th>\n",
       "      <th>category</th>\n",
       "      <th>main_category</th>\n",
       "      <th>currency</th>\n",
       "      <th>deadline</th>\n",
       "      <th>goal</th>\n",
       "      <th>launched</th>\n",
       "      <th>pledged</th>\n",
       "      <th>state</th>\n",
       "      <th>backers</th>\n",
       "      <th>country</th>\n",
       "      <th>usd pledged</th>\n",
       "      <th>usd_pledged_real</th>\n",
       "      <th>usd_goal_real</th>\n",
       "    </tr>\n",
       "  </thead>\n",
       "  <tbody>\n",
       "    <tr>\n",
       "      <th>0</th>\n",
       "      <td>1000002330</td>\n",
       "      <td>The Songs of Adelaide &amp; Abullah</td>\n",
       "      <td>Poetry</td>\n",
       "      <td>Publishing</td>\n",
       "      <td>GBP</td>\n",
       "      <td>2015-10-09</td>\n",
       "      <td>1000.0</td>\n",
       "      <td>2015-08-11 12:12:28</td>\n",
       "      <td>0.0</td>\n",
       "      <td>failed</td>\n",
       "      <td>0</td>\n",
       "      <td>GB</td>\n",
       "      <td>0.0</td>\n",
       "      <td>0.0</td>\n",
       "      <td>1533.95</td>\n",
       "    </tr>\n",
       "    <tr>\n",
       "      <th>1</th>\n",
       "      <td>1000003930</td>\n",
       "      <td>Greeting From Earth: ZGAC Arts Capsule For ET</td>\n",
       "      <td>Narrative Film</td>\n",
       "      <td>Film &amp; Video</td>\n",
       "      <td>USD</td>\n",
       "      <td>2017-11-01</td>\n",
       "      <td>30000.0</td>\n",
       "      <td>2017-09-02 04:43:57</td>\n",
       "      <td>2421.0</td>\n",
       "      <td>failed</td>\n",
       "      <td>15</td>\n",
       "      <td>US</td>\n",
       "      <td>100.0</td>\n",
       "      <td>2421.0</td>\n",
       "      <td>30000.00</td>\n",
       "    </tr>\n",
       "    <tr>\n",
       "      <th>2</th>\n",
       "      <td>1000004038</td>\n",
       "      <td>Where is Hank?</td>\n",
       "      <td>Narrative Film</td>\n",
       "      <td>Film &amp; Video</td>\n",
       "      <td>USD</td>\n",
       "      <td>2013-02-26</td>\n",
       "      <td>45000.0</td>\n",
       "      <td>2013-01-12 00:20:50</td>\n",
       "      <td>220.0</td>\n",
       "      <td>failed</td>\n",
       "      <td>3</td>\n",
       "      <td>US</td>\n",
       "      <td>220.0</td>\n",
       "      <td>220.0</td>\n",
       "      <td>45000.00</td>\n",
       "    </tr>\n",
       "  </tbody>\n",
       "</table>\n",
       "</div>"
      ],
      "text/plain": [
       "           ID                                           name        category  \\\n",
       "0  1000002330                The Songs of Adelaide & Abullah          Poetry   \n",
       "1  1000003930  Greeting From Earth: ZGAC Arts Capsule For ET  Narrative Film   \n",
       "2  1000004038                                 Where is Hank?  Narrative Film   \n",
       "\n",
       "  main_category currency    deadline     goal            launched  pledged  \\\n",
       "0    Publishing      GBP  2015-10-09   1000.0 2015-08-11 12:12:28      0.0   \n",
       "1  Film & Video      USD  2017-11-01  30000.0 2017-09-02 04:43:57   2421.0   \n",
       "2  Film & Video      USD  2013-02-26  45000.0 2013-01-12 00:20:50    220.0   \n",
       "\n",
       "    state  backers country  usd pledged  usd_pledged_real  usd_goal_real  \n",
       "0  failed        0      GB          0.0               0.0        1533.95  \n",
       "1  failed       15      US        100.0            2421.0       30000.00  \n",
       "2  failed        3      US        220.0             220.0       45000.00  "
      ]
     },
     "execution_count": 15,
     "metadata": {},
     "output_type": "execute_result"
    }
   ],
   "source": [
    "df.head(3)"
   ]
  },
  {
   "cell_type": "code",
   "execution_count": 16,
   "metadata": {},
   "outputs": [
    {
     "data": {
      "text/plain": [
       "array(['failed', 'canceled', 'successful', 'live', 'undefined',\n",
       "       'suspended'], dtype=object)"
      ]
     },
     "execution_count": 16,
     "metadata": {},
     "output_type": "execute_result"
    }
   ],
   "source": [
    "df.state.unique()"
   ]
  },
  {
   "cell_type": "code",
   "execution_count": 17,
   "metadata": {},
   "outputs": [
    {
     "data": {
      "text/html": [
       "<div>\n",
       "<style scoped>\n",
       "    .dataframe tbody tr th:only-of-type {\n",
       "        vertical-align: middle;\n",
       "    }\n",
       "\n",
       "    .dataframe tbody tr th {\n",
       "        vertical-align: top;\n",
       "    }\n",
       "\n",
       "    .dataframe thead th {\n",
       "        text-align: right;\n",
       "    }\n",
       "</style>\n",
       "<table border=\"1\" class=\"dataframe\">\n",
       "  <thead>\n",
       "    <tr style=\"text-align: right;\">\n",
       "      <th></th>\n",
       "      <th>ID</th>\n",
       "      <th>name</th>\n",
       "      <th>category</th>\n",
       "      <th>main_category</th>\n",
       "      <th>currency</th>\n",
       "      <th>deadline</th>\n",
       "      <th>goal</th>\n",
       "      <th>launched</th>\n",
       "      <th>pledged</th>\n",
       "      <th>state</th>\n",
       "      <th>backers</th>\n",
       "      <th>country</th>\n",
       "      <th>usd pledged</th>\n",
       "      <th>usd_pledged_real</th>\n",
       "      <th>usd_goal_real</th>\n",
       "    </tr>\n",
       "  </thead>\n",
       "  <tbody>\n",
       "    <tr>\n",
       "      <th>0</th>\n",
       "      <td>1867747509</td>\n",
       "      <td>100 Poems For 100 Days</td>\n",
       "      <td>Poetry</td>\n",
       "      <td>Publishing</td>\n",
       "      <td>USD</td>\n",
       "      <td>2010-01-21</td>\n",
       "      <td>3000.0</td>\n",
       "      <td>2009-11-16 20:05:02</td>\n",
       "      <td>3010.0</td>\n",
       "      <td>successful</td>\n",
       "      <td>29</td>\n",
       "      <td>US</td>\n",
       "      <td>3010.0</td>\n",
       "      <td>3010.0</td>\n",
       "      <td>3000.0</td>\n",
       "    </tr>\n",
       "    <tr>\n",
       "      <th>1</th>\n",
       "      <td>263468683</td>\n",
       "      <td>Poems + Prints: A Book Arts Project in the Wil...</td>\n",
       "      <td>Poetry</td>\n",
       "      <td>Publishing</td>\n",
       "      <td>USD</td>\n",
       "      <td>2010-04-01</td>\n",
       "      <td>1500.0</td>\n",
       "      <td>2010-02-25 05:39:21</td>\n",
       "      <td>2205.0</td>\n",
       "      <td>successful</td>\n",
       "      <td>68</td>\n",
       "      <td>US</td>\n",
       "      <td>2205.0</td>\n",
       "      <td>2205.0</td>\n",
       "      <td>1500.0</td>\n",
       "    </tr>\n",
       "    <tr>\n",
       "      <th>2</th>\n",
       "      <td>134715166</td>\n",
       "      <td>Let's make a SLAM poet~! Send K-Ruckus across ...</td>\n",
       "      <td>Poetry</td>\n",
       "      <td>Publishing</td>\n",
       "      <td>USD</td>\n",
       "      <td>2010-05-20</td>\n",
       "      <td>1200.0</td>\n",
       "      <td>2010-03-30 00:09:47</td>\n",
       "      <td>1205.0</td>\n",
       "      <td>successful</td>\n",
       "      <td>25</td>\n",
       "      <td>US</td>\n",
       "      <td>1205.0</td>\n",
       "      <td>1205.0</td>\n",
       "      <td>1200.0</td>\n",
       "    </tr>\n",
       "  </tbody>\n",
       "</table>\n",
       "</div>"
      ],
      "text/plain": [
       "           ID                                               name category  \\\n",
       "0  1867747509                             100 Poems For 100 Days   Poetry   \n",
       "1   263468683  Poems + Prints: A Book Arts Project in the Wil...   Poetry   \n",
       "2   134715166  Let's make a SLAM poet~! Send K-Ruckus across ...   Poetry   \n",
       "\n",
       "  main_category currency    deadline    goal            launched  pledged  \\\n",
       "0    Publishing      USD  2010-01-21  3000.0 2009-11-16 20:05:02   3010.0   \n",
       "1    Publishing      USD  2010-04-01  1500.0 2010-02-25 05:39:21   2205.0   \n",
       "2    Publishing      USD  2010-05-20  1200.0 2010-03-30 00:09:47   1205.0   \n",
       "\n",
       "        state  backers country  usd pledged  usd_pledged_real  usd_goal_real  \n",
       "0  successful       29      US       3010.0            3010.0         3000.0  \n",
       "1  successful       68      US       2205.0            2205.0         1500.0  \n",
       "2  successful       25      US       1205.0            1205.0         1200.0  "
      ]
     },
     "execution_count": 17,
     "metadata": {},
     "output_type": "execute_result"
    }
   ],
   "source": [
    "poetry_successful = df[(df['category']=='Poetry') & (df['state']=='successful')].sort_values(by='launched').reset_index(drop=True)\n",
    "poetry_successful.head(3)"
   ]
  },
  {
   "cell_type": "code",
   "execution_count": 18,
   "metadata": {},
   "outputs": [
    {
     "data": {
      "text/html": [
       "<div>\n",
       "<style scoped>\n",
       "    .dataframe tbody tr th:only-of-type {\n",
       "        vertical-align: middle;\n",
       "    }\n",
       "\n",
       "    .dataframe tbody tr th {\n",
       "        vertical-align: top;\n",
       "    }\n",
       "\n",
       "    .dataframe thead th {\n",
       "        text-align: right;\n",
       "    }\n",
       "</style>\n",
       "<table border=\"1\" class=\"dataframe\">\n",
       "  <thead>\n",
       "    <tr style=\"text-align: right;\">\n",
       "      <th></th>\n",
       "      <th>ID</th>\n",
       "      <th>name</th>\n",
       "      <th>category</th>\n",
       "      <th>main_category</th>\n",
       "      <th>currency</th>\n",
       "      <th>deadline</th>\n",
       "      <th>goal</th>\n",
       "      <th>launched</th>\n",
       "      <th>pledged</th>\n",
       "      <th>state</th>\n",
       "      <th>backers</th>\n",
       "      <th>country</th>\n",
       "      <th>usd pledged</th>\n",
       "      <th>usd_pledged_real</th>\n",
       "      <th>usd_goal_real</th>\n",
       "    </tr>\n",
       "  </thead>\n",
       "  <tbody>\n",
       "    <tr>\n",
       "      <th>0</th>\n",
       "      <td>1024509505</td>\n",
       "      <td>Produce a \"Mean\" Feature Film</td>\n",
       "      <td>Narrative Film</td>\n",
       "      <td>Film &amp; Video</td>\n",
       "      <td>USD</td>\n",
       "      <td>2009-07-25</td>\n",
       "      <td>6000.0</td>\n",
       "      <td>2009-07-15 21:14:49</td>\n",
       "      <td>9610.0</td>\n",
       "      <td>successful</td>\n",
       "      <td>10</td>\n",
       "      <td>US</td>\n",
       "      <td>9610.0</td>\n",
       "      <td>9610.0</td>\n",
       "      <td>6000.0</td>\n",
       "    </tr>\n",
       "    <tr>\n",
       "      <th>1</th>\n",
       "      <td>1731810209</td>\n",
       "      <td>I'M NOT ME - feature film</td>\n",
       "      <td>Narrative Film</td>\n",
       "      <td>Film &amp; Video</td>\n",
       "      <td>USD</td>\n",
       "      <td>2009-12-11</td>\n",
       "      <td>6000.0</td>\n",
       "      <td>2009-09-13 17:42:46</td>\n",
       "      <td>7305.0</td>\n",
       "      <td>successful</td>\n",
       "      <td>55</td>\n",
       "      <td>US</td>\n",
       "      <td>7305.0</td>\n",
       "      <td>7305.0</td>\n",
       "      <td>6000.0</td>\n",
       "    </tr>\n",
       "    <tr>\n",
       "      <th>2</th>\n",
       "      <td>1268508807</td>\n",
       "      <td>Stadium Status</td>\n",
       "      <td>Narrative Film</td>\n",
       "      <td>Film &amp; Video</td>\n",
       "      <td>USD</td>\n",
       "      <td>2009-11-07</td>\n",
       "      <td>3000.0</td>\n",
       "      <td>2009-10-07 21:28:25</td>\n",
       "      <td>3536.0</td>\n",
       "      <td>successful</td>\n",
       "      <td>51</td>\n",
       "      <td>US</td>\n",
       "      <td>3536.0</td>\n",
       "      <td>3536.0</td>\n",
       "      <td>3000.0</td>\n",
       "    </tr>\n",
       "  </tbody>\n",
       "</table>\n",
       "</div>"
      ],
      "text/plain": [
       "           ID                           name        category main_category  \\\n",
       "0  1024509505  Produce a \"Mean\" Feature Film  Narrative Film  Film & Video   \n",
       "1  1731810209      I'M NOT ME - feature film  Narrative Film  Film & Video   \n",
       "2  1268508807                 Stadium Status  Narrative Film  Film & Video   \n",
       "\n",
       "  currency    deadline    goal            launched  pledged       state  \\\n",
       "0      USD  2009-07-25  6000.0 2009-07-15 21:14:49   9610.0  successful   \n",
       "1      USD  2009-12-11  6000.0 2009-09-13 17:42:46   7305.0  successful   \n",
       "2      USD  2009-11-07  3000.0 2009-10-07 21:28:25   3536.0  successful   \n",
       "\n",
       "   backers country  usd pledged  usd_pledged_real  usd_goal_real  \n",
       "0       10      US       9610.0            9610.0         6000.0  \n",
       "1       55      US       7305.0            7305.0         6000.0  \n",
       "2       51      US       3536.0            3536.0         3000.0  "
      ]
     },
     "execution_count": 18,
     "metadata": {},
     "output_type": "execute_result"
    }
   ],
   "source": [
    "narrative_film_successful = df[(df['category']=='Narrative Film') & (df['state']=='successful')].sort_values(by='launched').reset_index(drop=True)\n",
    "narrative_film_successful.head(3)"
   ]
  },
  {
   "cell_type": "code",
   "execution_count": 19,
   "metadata": {},
   "outputs": [
    {
     "data": {
      "text/html": [
       "<div>\n",
       "<style scoped>\n",
       "    .dataframe tbody tr th:only-of-type {\n",
       "        vertical-align: middle;\n",
       "    }\n",
       "\n",
       "    .dataframe tbody tr th {\n",
       "        vertical-align: top;\n",
       "    }\n",
       "\n",
       "    .dataframe thead th {\n",
       "        text-align: right;\n",
       "    }\n",
       "</style>\n",
       "<table border=\"1\" class=\"dataframe\">\n",
       "  <thead>\n",
       "    <tr style=\"text-align: right;\">\n",
       "      <th></th>\n",
       "      <th>ID</th>\n",
       "      <th>name</th>\n",
       "      <th>category</th>\n",
       "      <th>main_category</th>\n",
       "      <th>currency</th>\n",
       "      <th>deadline</th>\n",
       "      <th>goal</th>\n",
       "      <th>launched</th>\n",
       "      <th>pledged</th>\n",
       "      <th>state</th>\n",
       "      <th>backers</th>\n",
       "      <th>country</th>\n",
       "      <th>usd pledged</th>\n",
       "      <th>usd_pledged_real</th>\n",
       "      <th>usd_goal_real</th>\n",
       "    </tr>\n",
       "  </thead>\n",
       "  <tbody>\n",
       "    <tr>\n",
       "      <th>0</th>\n",
       "      <td>469734648</td>\n",
       "      <td>kicey to iceland</td>\n",
       "      <td>Photography</td>\n",
       "      <td>Photography</td>\n",
       "      <td>USD</td>\n",
       "      <td>2009-06-17</td>\n",
       "      <td>350.0</td>\n",
       "      <td>2009-04-29 06:43:44</td>\n",
       "      <td>1630.0</td>\n",
       "      <td>successful</td>\n",
       "      <td>31</td>\n",
       "      <td>US</td>\n",
       "      <td>1630.0</td>\n",
       "      <td>1630.0</td>\n",
       "      <td>350.0</td>\n",
       "    </tr>\n",
       "    <tr>\n",
       "      <th>1</th>\n",
       "      <td>1711918245</td>\n",
       "      <td>An Alternate Life - A Photo Project</td>\n",
       "      <td>Photography</td>\n",
       "      <td>Photography</td>\n",
       "      <td>USD</td>\n",
       "      <td>2009-08-02</td>\n",
       "      <td>500.0</td>\n",
       "      <td>2009-05-24 21:10:24</td>\n",
       "      <td>510.0</td>\n",
       "      <td>successful</td>\n",
       "      <td>10</td>\n",
       "      <td>US</td>\n",
       "      <td>510.0</td>\n",
       "      <td>510.0</td>\n",
       "      <td>500.0</td>\n",
       "    </tr>\n",
       "    <tr>\n",
       "      <th>2</th>\n",
       "      <td>1971808443</td>\n",
       "      <td>Wedding Chapel</td>\n",
       "      <td>Photography</td>\n",
       "      <td>Photography</td>\n",
       "      <td>USD</td>\n",
       "      <td>2009-07-02</td>\n",
       "      <td>3000.0</td>\n",
       "      <td>2009-06-03 18:13:52</td>\n",
       "      <td>3094.0</td>\n",
       "      <td>successful</td>\n",
       "      <td>52</td>\n",
       "      <td>US</td>\n",
       "      <td>3094.0</td>\n",
       "      <td>3094.0</td>\n",
       "      <td>3000.0</td>\n",
       "    </tr>\n",
       "  </tbody>\n",
       "</table>\n",
       "</div>"
      ],
      "text/plain": [
       "           ID                                 name     category main_category  \\\n",
       "0   469734648                     kicey to iceland  Photography   Photography   \n",
       "1  1711918245  An Alternate Life - A Photo Project  Photography   Photography   \n",
       "2  1971808443                       Wedding Chapel  Photography   Photography   \n",
       "\n",
       "  currency    deadline    goal            launched  pledged       state  \\\n",
       "0      USD  2009-06-17   350.0 2009-04-29 06:43:44   1630.0  successful   \n",
       "1      USD  2009-08-02   500.0 2009-05-24 21:10:24    510.0  successful   \n",
       "2      USD  2009-07-02  3000.0 2009-06-03 18:13:52   3094.0  successful   \n",
       "\n",
       "   backers country  usd pledged  usd_pledged_real  usd_goal_real  \n",
       "0       31      US       1630.0            1630.0          350.0  \n",
       "1       10      US        510.0             510.0          500.0  \n",
       "2       52      US       3094.0            3094.0         3000.0  "
      ]
     },
     "execution_count": 19,
     "metadata": {},
     "output_type": "execute_result"
    }
   ],
   "source": [
    "photography_successful = df[(df['category']=='Photography') & (df['state']=='successful')].sort_values(by='launched').reset_index(drop=True)\n",
    "photography_successful.head(3)"
   ]
  },
  {
   "cell_type": "markdown",
   "metadata": {},
   "source": [
    "# **VI MEASURE OF CENTRAL TENDENCY**"
   ]
  },
  {
   "cell_type": "markdown",
   "metadata": {},
   "source": [
    "**Mean**"
   ]
  },
  {
   "cell_type": "code",
   "execution_count": 20,
   "metadata": {},
   "outputs": [
    {
     "name": "stdout",
     "output_type": "stream",
     "text": [
      "Mean Dari Kolom Numerik\n",
      " ID                  1.074732e+09\n",
      "goal                4.908068e+04\n",
      "pledged             9.683080e+03\n",
      "backers             1.056185e+02\n",
      "usd pledged         6.970198e+03\n",
      "usd_pledged_real    9.059018e+03\n",
      "usd_goal_real       4.545425e+04\n",
      "dtype: float64\n"
     ]
    }
   ],
   "source": [
    "print(f\"Mean Dari Kolom Numerik\\n {numeric_column.mean()}\")"
   ]
  },
  {
   "cell_type": "markdown",
   "metadata": {},
   "source": [
    "**Median**"
   ]
  },
  {
   "cell_type": "code",
   "execution_count": 21,
   "metadata": {},
   "outputs": [
    {
     "name": "stdout",
     "output_type": "stream",
     "text": [
      "Median Dari Kolom Numerik\n",
      " ID                  1.075276e+09\n",
      "goal                5.200000e+03\n",
      "pledged             6.200000e+02\n",
      "backers             1.200000e+01\n",
      "usd pledged         3.947200e+02\n",
      "usd_pledged_real    6.243800e+02\n",
      "usd_goal_real       5.500000e+03\n",
      "dtype: float64\n"
     ]
    }
   ],
   "source": [
    "print(f\"Median Dari Kolom Numerik\\n {numeric_column.median()}\")"
   ]
  },
  {
   "cell_type": "markdown",
   "metadata": {},
   "source": [
    "**Modus**"
   ]
  },
  {
   "cell_type": "code",
   "execution_count": 39,
   "metadata": {},
   "outputs": [
    {
     "name": "stdout",
     "output_type": "stream",
     "text": [
      "Modus Dari Kolom Goal\n",
      " 0    5000.0\n",
      "dtype: float64\n"
     ]
    }
   ],
   "source": [
    "print(f\"Modus Dari Kolom Goal\\n {numeric_column.goal.mode()}\")"
   ]
  },
  {
   "cell_type": "markdown",
   "metadata": {},
   "source": [
    "# **VII. MEASURE OF VARIANCE**"
   ]
  },
  {
   "cell_type": "markdown",
   "metadata": {},
   "source": [
    "**Range**"
   ]
  },
  {
   "cell_type": "code",
   "execution_count": 23,
   "metadata": {},
   "outputs": [
    {
     "name": "stdout",
     "output_type": "stream",
     "text": [
      "ID Range 2147470250\n",
      "goal Range 99999999.99\n",
      "pledged Range 20338986.27\n",
      "backers Range 219382\n",
      "usd pledged Range 20338986.27\n",
      "usd_pledged_real Range 20338986.27\n",
      "usd_goal_real Range 166361390.70000002\n"
     ]
    }
   ],
   "source": [
    "numcols = numeric_column\n",
    "for c in numcols:\n",
    "    print(f'{df[c].name} Range {str(df[c].max() - df[c].min())}')"
   ]
  },
  {
   "cell_type": "markdown",
   "metadata": {},
   "source": [
    "**Variance**"
   ]
  },
  {
   "cell_type": "code",
   "execution_count": 24,
   "metadata": {},
   "outputs": [
    {
     "name": "stdout",
     "output_type": "stream",
     "text": [
      "Variance Dari Kolom Numerik\n",
      "ID                  3.832690e+17\n",
      "goal                1.400430e+12\n",
      "pledged             9.146342e+09\n",
      "backers             8.229933e+05\n",
      "usd pledged         6.122700e+09\n",
      "usd_pledged_real    8.276236e+09\n",
      "usd_goal_real       1.329308e+12\n",
      "dtype: float64\n"
     ]
    }
   ],
   "source": [
    "print(f\"Variance Dari Kolom Numerik\\n{numeric_column.var()}\")"
   ]
  },
  {
   "cell_type": "markdown",
   "metadata": {},
   "source": [
    "**Standard Deviation**"
   ]
  },
  {
   "cell_type": "code",
   "execution_count": 25,
   "metadata": {},
   "outputs": [
    {
     "name": "stdout",
     "output_type": "stream",
     "text": [
      "Standar Deviasi Dari Kolom Numerik\n",
      "ID                  6.190872e+08\n",
      "goal                1.183397e+06\n",
      "pledged             9.563651e+04\n",
      "backers             9.071898e+02\n",
      "usd pledged         7.824768e+04\n",
      "usd_pledged_real    9.097382e+04\n",
      "usd_goal_real       1.152956e+06\n",
      "dtype: float64\n"
     ]
    }
   ],
   "source": [
    "print(f\"Standar Deviasi Dari Kolom Numerik\\n{numeric_column.std()}\")"
   ]
  },
  {
   "cell_type": "markdown",
   "metadata": {},
   "source": [
    "# **VIII. HYPHOTESIS TESTING**"
   ]
  },
  {
   "cell_type": "markdown",
   "metadata": {},
   "source": [
    "# ANOVA"
   ]
  },
  {
   "cell_type": "markdown",
   "metadata": {},
   "source": [
    "**Kami tertarik ingin memerikasa apakah rata-rata categori Poetry, narrative film dan photography dengan state succesful pada kolom usd_goal_real berbeda secara signifikan?**\n",
    "\n",
    "**Hypothesis:**\n",
    "- **H0: μ_Poetry successfull = μ_Narrative Film successfull = μ_Photography successfull** \n",
    "\n",
    "- **H1: μ_Poetry successfull != μ_Narrative Film successfull != μ_Photography successfull**\n",
    "\n",
    "*pada kasus ini kami menggunakan nilai Alpha = 0.05*"
   ]
  },
  {
   "cell_type": "markdown",
   "metadata": {},
   "source": [
    "**Melakukan slicing terhadap categori poetry yang memiliki keterangan state successfull dan menghitung rata-ratanya**"
   ]
  },
  {
   "cell_type": "code",
   "execution_count": 26,
   "metadata": {},
   "outputs": [
    {
     "data": {
      "text/plain": [
       "2417.5847843942506"
      ]
     },
     "execution_count": 26,
     "metadata": {},
     "output_type": "execute_result"
    }
   ],
   "source": [
    "poetry_successful1 = df[(df['category']=='Poetry') & (df['state']=='successful')].groupby('launched').sum()['usd_goal_real']\n",
    "poetry_successful1.mean()"
   ]
  },
  {
   "cell_type": "markdown",
   "metadata": {},
   "source": [
    "**Melakukan slicing terhadap categori narrative film yang memiliki keterangan state successfull dan menghitung rata-ratanya**"
   ]
  },
  {
   "cell_type": "code",
   "execution_count": 27,
   "metadata": {},
   "outputs": [
    {
     "data": {
      "text/plain": [
       "17593.962851465476"
      ]
     },
     "execution_count": 27,
     "metadata": {},
     "output_type": "execute_result"
    }
   ],
   "source": [
    "narrative_film_successful1 = df[(df['category']=='Narrative Film') & (df['state']=='successful')].groupby('launched').sum()['usd_goal_real']\n",
    "narrative_film_successful1.mean()"
   ]
  },
  {
   "cell_type": "markdown",
   "metadata": {},
   "source": [
    "**Melakukan slicing terhadap categori photography yang memiliki keterangan state successfull dan menghitung rata-ratanya**"
   ]
  },
  {
   "cell_type": "code",
   "execution_count": 28,
   "metadata": {},
   "outputs": [
    {
     "data": {
      "text/plain": [
       "5700.548923240942"
      ]
     },
     "execution_count": 28,
     "metadata": {},
     "output_type": "execute_result"
    }
   ],
   "source": [
    "photography_successful1 = df[(df['category']=='Photography') & (df['state']=='successful')].groupby('launched').sum()['usd_goal_real']\n",
    "photography_successful1.mean()"
   ]
  },
  {
   "cell_type": "markdown",
   "metadata": {},
   "source": [
    "**Melakukan Uji Anova**"
   ]
  },
  {
   "cell_type": "code",
   "execution_count": 29,
   "metadata": {},
   "outputs": [
    {
     "name": "stdout",
     "output_type": "stream",
     "text": [
      "P-value: 1.9544174486138117e-13\n"
     ]
    }
   ],
   "source": [
    "f_stat,p_value = stats.f_oneway(poetry_successful1, narrative_film_successful1, photography_successful1)\n",
    "print('P-value:',p_value)"
   ]
  },
  {
   "cell_type": "markdown",
   "metadata": {},
   "source": [
    "Karena **P-value di bawah 0.05** maka kami **tolak H0** yaitu rata-rata categori Poetry, narrative film dan photography dengan state successfull pada kolom usd_goal_real berbeda secara signifikan"
   ]
  },
  {
   "cell_type": "markdown",
   "metadata": {},
   "source": [
    "----"
   ]
  },
  {
   "cell_type": "markdown",
   "metadata": {},
   "source": [
    "## T-test 2 sample and 2 tailed"
   ]
  },
  {
   "cell_type": "markdown",
   "metadata": {},
   "source": [
    "**Melakukan gruping berdasarkan category dari column goal, usd_pledged_real dan usd_goal_real**"
   ]
  },
  {
   "cell_type": "code",
   "execution_count": 30,
   "metadata": {},
   "outputs": [
    {
     "data": {
      "text/html": [
       "<div>\n",
       "<style scoped>\n",
       "    .dataframe tbody tr th:only-of-type {\n",
       "        vertical-align: middle;\n",
       "    }\n",
       "\n",
       "    .dataframe tbody tr th {\n",
       "        vertical-align: top;\n",
       "    }\n",
       "\n",
       "    .dataframe thead th {\n",
       "        text-align: right;\n",
       "    }\n",
       "</style>\n",
       "<table border=\"1\" class=\"dataframe\">\n",
       "  <thead>\n",
       "    <tr style=\"text-align: right;\">\n",
       "      <th></th>\n",
       "      <th>goal</th>\n",
       "      <th>usd_pledged_real</th>\n",
       "      <th>usd_goal_real</th>\n",
       "    </tr>\n",
       "    <tr>\n",
       "      <th>category</th>\n",
       "      <th></th>\n",
       "      <th></th>\n",
       "      <th></th>\n",
       "    </tr>\n",
       "  </thead>\n",
       "  <tbody>\n",
       "    <tr>\n",
       "      <th>3D Printing</th>\n",
       "      <td>47804.436310</td>\n",
       "      <td>66323.861611</td>\n",
       "      <td>46619.814466</td>\n",
       "    </tr>\n",
       "    <tr>\n",
       "      <th>Academic</th>\n",
       "      <td>57203.094978</td>\n",
       "      <td>2891.013886</td>\n",
       "      <td>54531.559913</td>\n",
       "    </tr>\n",
       "    <tr>\n",
       "      <th>Accessories</th>\n",
       "      <td>18969.507425</td>\n",
       "      <td>6526.295185</td>\n",
       "      <td>14683.712872</td>\n",
       "    </tr>\n",
       "    <tr>\n",
       "      <th>Action</th>\n",
       "      <td>336436.035135</td>\n",
       "      <td>3699.426324</td>\n",
       "      <td>317156.682865</td>\n",
       "    </tr>\n",
       "    <tr>\n",
       "      <th>Animals</th>\n",
       "      <td>11618.592157</td>\n",
       "      <td>2994.210078</td>\n",
       "      <td>10586.491412</td>\n",
       "    </tr>\n",
       "    <tr>\n",
       "      <th>...</th>\n",
       "      <td>...</td>\n",
       "      <td>...</td>\n",
       "      <td>...</td>\n",
       "    </tr>\n",
       "    <tr>\n",
       "      <th>Woodworking</th>\n",
       "      <td>12630.807198</td>\n",
       "      <td>1599.734387</td>\n",
       "      <td>11597.605176</td>\n",
       "    </tr>\n",
       "    <tr>\n",
       "      <th>Workshops</th>\n",
       "      <td>13358.262195</td>\n",
       "      <td>1663.994085</td>\n",
       "      <td>9755.995183</td>\n",
       "    </tr>\n",
       "    <tr>\n",
       "      <th>World Music</th>\n",
       "      <td>32345.877022</td>\n",
       "      <td>4199.595918</td>\n",
       "      <td>30895.982331</td>\n",
       "    </tr>\n",
       "    <tr>\n",
       "      <th>Young Adult</th>\n",
       "      <td>147028.656516</td>\n",
       "      <td>1257.016248</td>\n",
       "      <td>39870.022205</td>\n",
       "    </tr>\n",
       "    <tr>\n",
       "      <th>Zines</th>\n",
       "      <td>10491.749361</td>\n",
       "      <td>2596.016394</td>\n",
       "      <td>10451.831228</td>\n",
       "    </tr>\n",
       "  </tbody>\n",
       "</table>\n",
       "<p>159 rows × 3 columns</p>\n",
       "</div>"
      ],
      "text/plain": [
       "                      goal  usd_pledged_real  usd_goal_real\n",
       "category                                                   \n",
       "3D Printing   47804.436310      66323.861611   46619.814466\n",
       "Academic      57203.094978       2891.013886   54531.559913\n",
       "Accessories   18969.507425       6526.295185   14683.712872\n",
       "Action       336436.035135       3699.426324  317156.682865\n",
       "Animals       11618.592157       2994.210078   10586.491412\n",
       "...                    ...               ...            ...\n",
       "Woodworking   12630.807198       1599.734387   11597.605176\n",
       "Workshops     13358.262195       1663.994085    9755.995183\n",
       "World Music   32345.877022       4199.595918   30895.982331\n",
       "Young Adult  147028.656516       1257.016248   39870.022205\n",
       "Zines         10491.749361       2596.016394   10451.831228\n",
       "\n",
       "[159 rows x 3 columns]"
      ]
     },
     "execution_count": 30,
     "metadata": {},
     "output_type": "execute_result"
    }
   ],
   "source": [
    "df.groupby('category')[['goal','usd_pledged_real','usd_goal_real']].mean()"
   ]
  },
  {
   "cell_type": "markdown",
   "metadata": {},
   "source": [
    "**Kami tertarik ingin melihat apakah rata-rata World Music sama dengan rata-rata Young Adult berdasarkan kolom usd_goal_real?. Adapun hypothesis testing yang kami gunakan ialah sebagai berikut**"
   ]
  },
  {
   "cell_type": "markdown",
   "metadata": {},
   "source": [
    "**Hypothesis Testing**\n",
    "- **H0 : μ_usd goal real World Music = μ_usd goal real Young**\n",
    "- **H1 : μ_usd goal real World Music != μ_usd goal real Young**"
   ]
  },
  {
   "cell_type": "markdown",
   "metadata": {},
   "source": [
    "**Melakukan slicing berdasarkan category World Musuc dan menghitung rata-ratanya**"
   ]
  },
  {
   "cell_type": "code",
   "execution_count": 31,
   "metadata": {},
   "outputs": [
    {
     "data": {
      "text/plain": [
       "30895.982331113228"
      ]
     },
     "execution_count": 31,
     "metadata": {},
     "output_type": "execute_result"
    }
   ],
   "source": [
    "World_Music2 = df[df['category']=='World Music']\n",
    "World_Music2['usd_goal_real'].mean()"
   ]
  },
  {
   "cell_type": "markdown",
   "metadata": {},
   "source": [
    "**Melakukan slicing berdasarkan category Young Adult dan menghitung rata-ratanya**"
   ]
  },
  {
   "cell_type": "code",
   "execution_count": 32,
   "metadata": {},
   "outputs": [
    {
     "data": {
      "text/plain": [
       "39870.02220462851"
      ]
     },
     "execution_count": 32,
     "metadata": {},
     "output_type": "execute_result"
    }
   ],
   "source": [
    "Young_Adult2 = df[df['category']=='Young Adult']\n",
    "Young_Adult2['usd_goal_real'].mean()"
   ]
  },
  {
   "cell_type": "code",
   "execution_count": 33,
   "metadata": {},
   "outputs": [
    {
     "name": "stdout",
     "output_type": "stream",
     "text": [
      "P-value: 0.6861508477507574\n",
      "t-statistics: 0.4041243737015745\n"
     ]
    }
   ],
   "source": [
    "# t-test 2 sample 2 tailed\n",
    "t_stat, p_val = stats.ttest_ind(Young_Adult2['usd_goal_real'], World_Music2['usd_goal_real'])\n",
    "\n",
    "# ttest_ind is 2-tailed, we dont need to divide by 2\n",
    "print('P-value:',p_val)\n",
    "print('t-statistics:',t_stat)"
   ]
  },
  {
   "cell_type": "code",
   "execution_count": 34,
   "metadata": {},
   "outputs": [
    {
     "name": "stderr",
     "output_type": "stream",
     "text": [
      "c:\\Users\\ASUS\\anaconda3\\lib\\site-packages\\seaborn\\distributions.py:2619: FutureWarning: `distplot` is a deprecated function and will be removed in a future version. Please adapt your code to use either `displot` (a figure-level function with similar flexibility) or `histplot` (an axes-level function for histograms).\n",
      "  warnings.warn(msg, FutureWarning)\n",
      "c:\\Users\\ASUS\\anaconda3\\lib\\site-packages\\seaborn\\distributions.py:2619: FutureWarning: `distplot` is a deprecated function and will be removed in a future version. Please adapt your code to use either `displot` (a figure-level function with similar flexibility) or `histplot` (an axes-level function for histograms).\n",
      "  warnings.warn(msg, FutureWarning)\n"
     ]
    },
    {
     "name": "stdout",
     "output_type": "stream",
     "text": [
      "-973826.1671507002\n"
     ]
    },
    {
     "data": {
      "image/png": "[encoded data removed]",
      "text/plain": [
       "<Figure size 1152x360 with 1 Axes>"
      ]
     },
     "metadata": {
      "needs_background": "light"
     },
     "output_type": "display_data"
    }
   ],
   "source": [
    "# simulation\n",
    "World_Music2_pop = np.random.normal(World_Music2['usd_goal_real'].mean(),World_Music2['usd_goal_real'].std(),10000)\n",
    "Young_Adult2_pop = np.random.normal(Young_Adult2['usd_goal_real'].mean(),Young_Adult2['usd_goal_real'].std(),10000)\n",
    "\n",
    "# confidence interval based on gen 4\n",
    "# used cv = 0.05 since 2 tailed, we use 0.95 as it is. \n",
    "ci = stats.norm.interval(0.95, World_Music2['usd_goal_real'].mean(), World_Music2['usd_goal_real'].std())\n",
    "\n",
    "plt.figure(figsize=(16,5))\n",
    "sns.distplot(World_Music2_pop, label='World Music usd_goal_real Stats *Pop',color='blue')\n",
    "sns.distplot(Young_Adult2_pop, label='Young Adult usd_goal_real Stats *Pop',color='red')\n",
    "\n",
    "# mean\n",
    "plt.axvline(World_Music2['usd_goal_real'].mean(), color='blue', linewidth=2, label='World Music usd_goal_real mean')\n",
    "plt.axvline(Young_Adult2['usd_goal_real'].mean(), color='red',  linewidth=2, label='Young Adult usd_goal_real mean')\n",
    "\n",
    "plt.axvline(ci[1], color='green', linestyle='dashed', linewidth=2, label='confidence threshold of 95%')\n",
    "plt.axvline(ci[0], color='green', linestyle='dashed', linewidth=2, label='confidence threshold of 95%')\n",
    "\n",
    "# alternative hypotesis\n",
    "plt.axvline(World_Music2_pop.mean()+t_stat*World_Music2_pop.std(), color='black', linestyle='dashed', linewidth=2, label = 'Alternative Hypothesis')\n",
    "plt.axvline(World_Music2_pop.mean()-t_stat*World_Music2_pop.std(), color='black', linestyle='dashed', linewidth=2)\n",
    "\n",
    "plt.legend()\n",
    "print(ci[0])"
   ]
  },
  {
   "cell_type": "markdown",
   "metadata": {},
   "source": [
    "Karena **P-value di atas 0.05** maka kami **terima H0** yaitu rata-rata usd goal real World dengan rata-rata usd goal real Young berdasarkan kolom usd_goal_real tidak berbeda secara signifikan"
   ]
  },
  {
   "cell_type": "markdown",
   "metadata": {},
   "source": [
    "# **IX. KESIMPULAN**"
   ]
  },
  {
   "cell_type": "markdown",
   "metadata": {},
   "source": [
    "**Measure Of Central Tendency :**"
   ]
  },
  {
   "cell_type": "code",
   "execution_count": null,
   "metadata": {},
   "outputs": [],
   "source": [
    "'''\n",
    "1) MEAN\n",
    "\n",
    "ID                  1.074732e+09\n",
    "goal                4.908068e+04\n",
    "pledged             9.683080e+03\n",
    "backers             1.056185e+02\n",
    "usd pledged         6.970198e+03\n",
    "usd_pledged_real    9.059018e+03\n",
    "usd_goal_real       4.545425e+04\n",
    "\n",
    "poetry_successful column usd_goal_real           2417.5847843942506\n",
    "narrative_film_successful column usd_goal_real   17593.962851465476\n",
    "photography_successful column usd_goal_real      5700.548923240942\n",
    "\n",
    "World_Music column usd_goal_real     30895.982331113228\n",
    "Young_Adult column usd_goal_real     39870.02220462851\n",
    "\n",
    "2) MEDIAN\n",
    "\n",
    "ID                  1.075276e+09\n",
    "goal                5.200000e+03\n",
    "pledged             6.200000e+02\n",
    "backers             1.200000e+01\n",
    "usd pledged         3.947200e+02\n",
    "usd_pledged_real    6.243800e+02\n",
    "usd_goal_real       5.500000e+03\n",
    "\n",
    "3) MODUS\n",
    "\n",
    "Modus Dari Kolom Goal   5000.0\n",
    "\n",
    "'''"
   ]
  },
  {
   "cell_type": "markdown",
   "metadata": {},
   "source": [
    "**Measure Of Variance**"
   ]
  },
  {
   "cell_type": "code",
   "execution_count": null,
   "metadata": {},
   "outputs": [],
   "source": [
    "'''\n",
    "1. Range\n",
    "\n",
    "ID Range                2147470250\n",
    "goal Range              99999999.99\n",
    "pledged Range           20338986.27\n",
    "backers Range           219382\n",
    "usd pledged Range       20338986.27\n",
    "usd_pledged_real Range  20338986.27\n",
    "usd_goal_real Range     166361390.70000002\n",
    "\n",
    "2. Variance Dari Kolom Numerik\n",
    "\n",
    "ID                  3.832690e+17\n",
    "goal                1.400430e+12\n",
    "pledged             9.146342e+09\n",
    "backers             8.229933e+05\n",
    "usd pledged         6.122700e+09\n",
    "usd_pledged_real    8.276236e+09\n",
    "usd_goal_real       1.329308e+12\n",
    "\n",
    "3. Standar Deviasi Dari Kolom Numerik\n",
    "\n",
    "ID                  6.190872e+08\n",
    "goal                1.183397e+06\n",
    "pledged             9.563651e+04\n",
    "backers             9.071898e+02\n",
    "usd pledged         7.824768e+04\n",
    "usd_pledged_real    9.097382e+04\n",
    "usd_goal_real       1.152956e+06\n",
    "'''"
   ]
  },
  {
   "cell_type": "markdown",
   "metadata": {},
   "source": [
    "**Hypotesis Testing**"
   ]
  },
  {
   "cell_type": "markdown",
   "metadata": {},
   "source": [
    "*Berdasarkan Uji Anova terkait categori Poetry, narrative film dan photography dengan state successfull pada kolom usd_goal_real kami peroleh P-value < Alpha sehingga dapat disimpulkan ketiga sampel tersebut berbeda secara signifikan*"
   ]
  },
  {
   "cell_type": "markdown",
   "metadata": {},
   "source": [
    "*Berdasarkan Uji T-test 2 sample terkait category World Musuc dan Young Adult pada kolom usd_goal_real, kami peroleh nilai P-value > Alpha sehingga dapat disimpulkan kedua sampel tersebut tidak berbeda secara signifikan*"
   ]
  }
 ],
 "metadata": {
  "interpreter": {
   "hash": "a90aeebcf29d64a654773811cc170cb25061cb2498f10ac689db374c7bf325de"
  },
  "kernelspec": {
   "display_name": "Python 3.9.7 ('base')",
   "language": "python",
   "name": "python3"
  },
  "language_info": {
   "codemirror_mode": {
    "name": "ipython",
    "version": 3
   },
   "file_extension": ".py",
   "mimetype": "text/x-python",
   "name": "python",
   "nbconvert_exporter": "python",
   "pygments_lexer": "ipython3",
   "version": "3.9.7"
  },
  "orig_nbformat": 4
 },
 "nbformat": 4,
 "nbformat_minor": 2
}
