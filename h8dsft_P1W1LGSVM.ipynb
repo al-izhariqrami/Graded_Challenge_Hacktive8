{
 "cells": [
  {
   "cell_type": "markdown",
   "metadata": {},
   "source": [
    "# **1. PERKENALAN**"
   ]
  },
  {
   "cell_type": "markdown",
   "metadata": {},
   "source": [
    "> Nama       : Al Izhar Iqrami\n",
    "\n",
    "> Batch      : 011 Data Science Hacktive8\n",
    "\n",
    "> Phase      : 1\n",
    "\n",
    "> Pembahasan : GC2\n",
    "\n",
    "> Query mendapatkan dataset pada google cloud : \n",
    "\n",
    ">>select age, workclass, education, education_num, marital_status, occupation, relationship, race, sex, capital_gain, capital_loss, hours_per_week, native_country, income_bracket\n",
    "\n",
    ">>from `bigquery-public-data.ml_datasets.census_adult_income` \n",
    "\n",
    ">>where not workclass like '%?' and hours_per_week < 100\n",
    "\n",
    ">>limit 21989"
   ]
  },
  {
   "cell_type": "markdown",
   "metadata": {},
   "source": [
    "# **2. IMPORT LIBRARY**"
   ]
  },
  {
   "cell_type": "code",
   "execution_count": 1,
   "metadata": {},
   "outputs": [],
   "source": [
    "import numpy as np\n",
    "import matplotlib.pyplot as plt\n",
    "import seaborn as sns\n",
    "import pandas as pd\n",
    "import pickle\n",
    "import ast\n",
    "\n",
    "\n",
    "from sklearn.model_selection import train_test_split\n",
    "from sklearn.linear_model import LogisticRegression\n",
    "from sklearn.svm import SVC\n",
    "from sklearn.metrics import mean_absolute_error, r2_score\n",
    "from feature_engine.outliers import Winsorizer\n",
    "from sklearn.preprocessing import LabelEncoder, OneHotEncoder\n",
    "from sklearn.metrics import accuracy_score,classification_report,ConfusionMatrixDisplay,confusion_matrix,recall_score"
   ]
  },
  {
   "cell_type": "markdown",
   "metadata": {},
   "source": [
    ">*Pada tahap ini kami melakuakn import library yang berguna untuk membatu memecahkan permasalahan yang diperolah pada saat melakuakan analisis data*"
   ]
  },
  {
   "cell_type": "markdown",
   "metadata": {},
   "source": [
    "# **3. DATA LOADING**"
   ]
  },
  {
   "cell_type": "code",
   "execution_count": 2,
   "metadata": {},
   "outputs": [
    {
     "data": {
      "text/html": [
       "<div>\n",
       "<style scoped>\n",
       "    .dataframe tbody tr th:only-of-type {\n",
       "        vertical-align: middle;\n",
       "    }\n",
       "\n",
       "    .dataframe tbody tr th {\n",
       "        vertical-align: top;\n",
       "    }\n",
       "\n",
       "    .dataframe thead th {\n",
       "        text-align: right;\n",
       "    }\n",
       "</style>\n",
       "<table border=\"1\" class=\"dataframe\">\n",
       "  <thead>\n",
       "    <tr style=\"text-align: right;\">\n",
       "      <th></th>\n",
       "      <th>age</th>\n",
       "      <th>workclass</th>\n",
       "      <th>education</th>\n",
       "      <th>education_num</th>\n",
       "      <th>marital_status</th>\n",
       "      <th>occupation</th>\n",
       "      <th>relationship</th>\n",
       "      <th>race</th>\n",
       "      <th>sex</th>\n",
       "      <th>capital_gain</th>\n",
       "      <th>capital_loss</th>\n",
       "      <th>hours_per_week</th>\n",
       "      <th>native_country</th>\n",
       "      <th>income_bracket</th>\n",
       "    </tr>\n",
       "  </thead>\n",
       "  <tbody>\n",
       "    <tr>\n",
       "      <th>0</th>\n",
       "      <td>39</td>\n",
       "      <td>Private</td>\n",
       "      <td>9th</td>\n",
       "      <td>5</td>\n",
       "      <td>Married-civ-spouse</td>\n",
       "      <td>Other-service</td>\n",
       "      <td>Wife</td>\n",
       "      <td>Black</td>\n",
       "      <td>Female</td>\n",
       "      <td>3411</td>\n",
       "      <td>0</td>\n",
       "      <td>34</td>\n",
       "      <td>United-States</td>\n",
       "      <td>&lt;=50K</td>\n",
       "    </tr>\n",
       "    <tr>\n",
       "      <th>1</th>\n",
       "      <td>72</td>\n",
       "      <td>Private</td>\n",
       "      <td>9th</td>\n",
       "      <td>5</td>\n",
       "      <td>Married-civ-spouse</td>\n",
       "      <td>Exec-managerial</td>\n",
       "      <td>Wife</td>\n",
       "      <td>Asian-Pac-Islander</td>\n",
       "      <td>Female</td>\n",
       "      <td>0</td>\n",
       "      <td>0</td>\n",
       "      <td>48</td>\n",
       "      <td>United-States</td>\n",
       "      <td>&gt;50K</td>\n",
       "    </tr>\n",
       "    <tr>\n",
       "      <th>2</th>\n",
       "      <td>45</td>\n",
       "      <td>Private</td>\n",
       "      <td>9th</td>\n",
       "      <td>5</td>\n",
       "      <td>Married-civ-spouse</td>\n",
       "      <td>Machine-op-inspct</td>\n",
       "      <td>Wife</td>\n",
       "      <td>White</td>\n",
       "      <td>Female</td>\n",
       "      <td>0</td>\n",
       "      <td>0</td>\n",
       "      <td>40</td>\n",
       "      <td>United-States</td>\n",
       "      <td>&gt;50K</td>\n",
       "    </tr>\n",
       "    <tr>\n",
       "      <th>3</th>\n",
       "      <td>31</td>\n",
       "      <td>Private</td>\n",
       "      <td>9th</td>\n",
       "      <td>5</td>\n",
       "      <td>Married-civ-spouse</td>\n",
       "      <td>Exec-managerial</td>\n",
       "      <td>Wife</td>\n",
       "      <td>White</td>\n",
       "      <td>Female</td>\n",
       "      <td>0</td>\n",
       "      <td>0</td>\n",
       "      <td>40</td>\n",
       "      <td>United-States</td>\n",
       "      <td>&lt;=50K</td>\n",
       "    </tr>\n",
       "    <tr>\n",
       "      <th>4</th>\n",
       "      <td>55</td>\n",
       "      <td>Private</td>\n",
       "      <td>9th</td>\n",
       "      <td>5</td>\n",
       "      <td>Married-civ-spouse</td>\n",
       "      <td>Tech-support</td>\n",
       "      <td>Wife</td>\n",
       "      <td>White</td>\n",
       "      <td>Female</td>\n",
       "      <td>0</td>\n",
       "      <td>0</td>\n",
       "      <td>23</td>\n",
       "      <td>United-States</td>\n",
       "      <td>&lt;=50K</td>\n",
       "    </tr>\n",
       "  </tbody>\n",
       "</table>\n",
       "</div>"
      ],
      "text/plain": [
       "   age workclass education  education_num       marital_status  \\\n",
       "0   39   Private       9th              5   Married-civ-spouse   \n",
       "1   72   Private       9th              5   Married-civ-spouse   \n",
       "2   45   Private       9th              5   Married-civ-spouse   \n",
       "3   31   Private       9th              5   Married-civ-spouse   \n",
       "4   55   Private       9th              5   Married-civ-spouse   \n",
       "\n",
       "           occupation relationship                 race      sex  \\\n",
       "0       Other-service         Wife                Black   Female   \n",
       "1     Exec-managerial         Wife   Asian-Pac-Islander   Female   \n",
       "2   Machine-op-inspct         Wife                White   Female   \n",
       "3     Exec-managerial         Wife                White   Female   \n",
       "4        Tech-support         Wife                White   Female   \n",
       "\n",
       "   capital_gain  capital_loss  hours_per_week  native_country income_bracket  \n",
       "0          3411             0              34   United-States          <=50K  \n",
       "1             0             0              48   United-States           >50K  \n",
       "2             0             0              40   United-States           >50K  \n",
       "3             0             0              40   United-States          <=50K  \n",
       "4             0             0              23   United-States          <=50K  "
      ]
     },
     "execution_count": 2,
     "metadata": {},
     "output_type": "execute_result"
    }
   ],
   "source": [
    "pd.options.display.max_columns = None\n",
    "df = pd.read_csv('dataset.csv')\n",
    "df.head()"
   ]
  },
  {
   "cell_type": "markdown",
   "metadata": {},
   "source": [
    ">*Melakukan load terhadap dataset serta menampilkan 5 baris pertama dan 5 baris terakhir sesuai instruksi soal*"
   ]
  },
  {
   "cell_type": "markdown",
   "metadata": {},
   "source": [
    "**Duplicate Dataset**"
   ]
  },
  {
   "cell_type": "code",
   "execution_count": 3,
   "metadata": {},
   "outputs": [
    {
     "data": {
      "text/plain": [
       "(21989, 14)"
      ]
     },
     "execution_count": 3,
     "metadata": {},
     "output_type": "execute_result"
    }
   ],
   "source": [
    "data = df.copy()\n",
    "data.shape"
   ]
  },
  {
   "cell_type": "markdown",
   "metadata": {},
   "source": [
    ">*Menduplicate data original agar supaya jika terdapat kesalahan pada proses pengolahan data kami dapat dengan mudah memperoleh data original.Terlihat bahwa kami memiliki 21989 baris dan 14 kolom*"
   ]
  },
  {
   "cell_type": "markdown",
   "metadata": {},
   "source": [
    "**Drop Duplicate**"
   ]
  },
  {
   "cell_type": "code",
   "execution_count": 4,
   "metadata": {},
   "outputs": [
    {
     "data": {
      "text/plain": [
       "(19356, 14)"
      ]
     },
     "execution_count": 4,
     "metadata": {},
     "output_type": "execute_result"
    }
   ],
   "source": [
    "data = data.drop_duplicates(keep= 'last')\n",
    "data.shape"
   ]
  },
  {
   "cell_type": "markdown",
   "metadata": {},
   "source": [
    ">*Menghapus baris data yang datanya terdapat kesamaan untuk seluruh elemenya ditiap kolom-nya, serta memperbaharui index-nya dengan bantuan keep. Terlihat bahwa jumlah baris data telah berkurang sebanyak 2633 baris.*"
   ]
  },
  {
   "cell_type": "markdown",
   "metadata": {},
   "source": [
    "**Check Dataset**"
   ]
  },
  {
   "cell_type": "code",
   "execution_count": 5,
   "metadata": {},
   "outputs": [
    {
     "name": "stdout",
     "output_type": "stream",
     "text": [
      "<class 'pandas.core.frame.DataFrame'>\n",
      "Int64Index: 19356 entries, 0 to 21988\n",
      "Data columns (total 14 columns):\n",
      " #   Column          Non-Null Count  Dtype \n",
      "---  ------          --------------  ----- \n",
      " 0   age             19356 non-null  int64 \n",
      " 1   workclass       19356 non-null  object\n",
      " 2   education       19356 non-null  object\n",
      " 3   education_num   19356 non-null  int64 \n",
      " 4   marital_status  19356 non-null  object\n",
      " 5   occupation      19356 non-null  object\n",
      " 6   relationship    19356 non-null  object\n",
      " 7   race            19356 non-null  object\n",
      " 8   sex             19356 non-null  object\n",
      " 9   capital_gain    19356 non-null  int64 \n",
      " 10  capital_loss    19356 non-null  int64 \n",
      " 11  hours_per_week  19356 non-null  int64 \n",
      " 12  native_country  19356 non-null  object\n",
      " 13  income_bracket  19356 non-null  object\n",
      "dtypes: int64(5), object(9)\n",
      "memory usage: 2.2+ MB\n"
     ]
    }
   ],
   "source": [
    "data.info()"
   ]
  },
  {
   "cell_type": "markdown",
   "metadata": {},
   "source": [
    ">*Terlihat bahwa terdapat 21989 baris dan jumlah kolom 14 kolom. Diantaranya ialah 5 kolom bertipe integer, dan 9 kolom kolom bertipe object.*"
   ]
  },
  {
   "cell_type": "markdown",
   "metadata": {},
   "source": [
    "**Cek Missing Value**"
   ]
  },
  {
   "cell_type": "code",
   "execution_count": 6,
   "metadata": {},
   "outputs": [
    {
     "data": {
      "text/html": [
       "<div>\n",
       "<style scoped>\n",
       "    .dataframe tbody tr th:only-of-type {\n",
       "        vertical-align: middle;\n",
       "    }\n",
       "\n",
       "    .dataframe tbody tr th {\n",
       "        vertical-align: top;\n",
       "    }\n",
       "\n",
       "    .dataframe thead th {\n",
       "        text-align: right;\n",
       "    }\n",
       "</style>\n",
       "<table border=\"1\" class=\"dataframe\">\n",
       "  <thead>\n",
       "    <tr style=\"text-align: right;\">\n",
       "      <th></th>\n",
       "      <th>Missing values</th>\n",
       "      <th>Persentase Missing Value</th>\n",
       "    </tr>\n",
       "  </thead>\n",
       "  <tbody>\n",
       "    <tr>\n",
       "      <th>age</th>\n",
       "      <td>0</td>\n",
       "      <td>0.0</td>\n",
       "    </tr>\n",
       "    <tr>\n",
       "      <th>workclass</th>\n",
       "      <td>0</td>\n",
       "      <td>0.0</td>\n",
       "    </tr>\n",
       "    <tr>\n",
       "      <th>education</th>\n",
       "      <td>0</td>\n",
       "      <td>0.0</td>\n",
       "    </tr>\n",
       "    <tr>\n",
       "      <th>education_num</th>\n",
       "      <td>0</td>\n",
       "      <td>0.0</td>\n",
       "    </tr>\n",
       "    <tr>\n",
       "      <th>marital_status</th>\n",
       "      <td>0</td>\n",
       "      <td>0.0</td>\n",
       "    </tr>\n",
       "    <tr>\n",
       "      <th>occupation</th>\n",
       "      <td>0</td>\n",
       "      <td>0.0</td>\n",
       "    </tr>\n",
       "    <tr>\n",
       "      <th>relationship</th>\n",
       "      <td>0</td>\n",
       "      <td>0.0</td>\n",
       "    </tr>\n",
       "    <tr>\n",
       "      <th>race</th>\n",
       "      <td>0</td>\n",
       "      <td>0.0</td>\n",
       "    </tr>\n",
       "    <tr>\n",
       "      <th>sex</th>\n",
       "      <td>0</td>\n",
       "      <td>0.0</td>\n",
       "    </tr>\n",
       "    <tr>\n",
       "      <th>capital_gain</th>\n",
       "      <td>0</td>\n",
       "      <td>0.0</td>\n",
       "    </tr>\n",
       "    <tr>\n",
       "      <th>capital_loss</th>\n",
       "      <td>0</td>\n",
       "      <td>0.0</td>\n",
       "    </tr>\n",
       "    <tr>\n",
       "      <th>hours_per_week</th>\n",
       "      <td>0</td>\n",
       "      <td>0.0</td>\n",
       "    </tr>\n",
       "    <tr>\n",
       "      <th>native_country</th>\n",
       "      <td>0</td>\n",
       "      <td>0.0</td>\n",
       "    </tr>\n",
       "    <tr>\n",
       "      <th>income_bracket</th>\n",
       "      <td>0</td>\n",
       "      <td>0.0</td>\n",
       "    </tr>\n",
       "  </tbody>\n",
       "</table>\n",
       "</div>"
      ],
      "text/plain": [
       "                Missing values  Persentase Missing Value\n",
       "age                          0                       0.0\n",
       "workclass                    0                       0.0\n",
       "education                    0                       0.0\n",
       "education_num                0                       0.0\n",
       "marital_status               0                       0.0\n",
       "occupation                   0                       0.0\n",
       "relationship                 0                       0.0\n",
       "race                         0                       0.0\n",
       "sex                          0                       0.0\n",
       "capital_gain                 0                       0.0\n",
       "capital_loss                 0                       0.0\n",
       "hours_per_week               0                       0.0\n",
       "native_country               0                       0.0\n",
       "income_bracket               0                       0.0"
      ]
     },
     "execution_count": 6,
     "metadata": {},
     "output_type": "execute_result"
    }
   ],
   "source": [
    "cek = pd.DataFrame(data.isnull().sum(), columns=['Missing values'])\n",
    "cek['Persentase Missing Value'] = (cek/len(data)).round(2)*100\n",
    "cek"
   ]
  },
  {
   "cell_type": "markdown",
   "metadata": {},
   "source": [
    ">*Setelah melakukan eksplorasi terhadap data, saya menemukan bahwa terdapat data kosong namun tidak dianggap missing value. Data kosong ini berisikan input `?` dan terletak pada kolom `occupation` sebanyak `6 data` dan kolom `native_country` sebanyak `388 data`. Saya lebih memilik untuk membiarkan kolom tersebut berisikan `?`. Karena jika dilakukan drop maka kita akan kehilangan banyak informasi, dan jika di isi dengan input `modus` maka kita telah mengubah informasi data tersebut. Misalnya `native_country` (negara asal) memiliki modus `United-States`. dan kita ubah `?` dengan nilai modus tersebut, maka secara tidak langsung kita telah mengubah informasi pada baris tersebut.*"
   ]
  },
  {
   "cell_type": "markdown",
   "metadata": {},
   "source": [
    "# **4. EXPLORATORY DATA ANALYSIS (EDA)**"
   ]
  },
  {
   "cell_type": "markdown",
   "metadata": {},
   "source": [
    ">**Visualisasi Target Income Bracket**"
   ]
  },
  {
   "cell_type": "code",
   "execution_count": 7,
   "metadata": {},
   "outputs": [
    {
     "data": {
      "text/plain": [
       "<AxesSubplot:>"
      ]
     },
     "execution_count": 7,
     "metadata": {},
     "output_type": "execute_result"
    },
    {
     "data": {
      "image/png": "[encoded data removed]",
      "text/plain": [
       "<Figure size 720x288 with 2 Axes>"
      ]
     },
     "metadata": {
      "needs_background": "light"
     },
     "output_type": "display_data"
    }
   ],
   "source": [
    "fig, axs = plt.subplots(ncols=2, figsize=(10,4))\n",
    "df['income_bracket'].value_counts().plot.pie(autopct='%1.1f%%', startangle = 90, ax=axs[0])\n",
    "df['income_bracket'].value_counts().plot(kind='bar', ax=axs[1])"
   ]
  },
  {
   "cell_type": "markdown",
   "metadata": {},
   "source": [
    ">> Terdapay imbalance yang cukup besar berdasarkan kolom `income_bracker`, terlihat bahwa golongan pendapatan kurang dari `50K` lebih banyak dibandingkan yang memiliki pendapatan lebih dari `50K`."
   ]
  },
  {
   "cell_type": "markdown",
   "metadata": {},
   "source": [
    "**Income Bracket vs Age**"
   ]
  },
  {
   "cell_type": "code",
   "execution_count": 8,
   "metadata": {},
   "outputs": [
    {
     "data": {
      "image/png": "[encoded data removed]",
      "text/plain": [
       "<Figure size 1224x576 with 1 Axes>"
      ]
     },
     "metadata": {
      "needs_background": "light"
     },
     "output_type": "display_data"
    }
   ],
   "source": [
    "pd.crosstab(data.age, data.income_bracket).plot(kind=\"bar\",figsize=(17,8),color=['#11A5AA','#AA1190'])\n",
    "plt.title('Hubungan Income Bracket dengan Age')\n",
    "plt.xlabel('Age')\n",
    "plt.xticks(rotation = 0)\n",
    "plt.ylabel('Frequency Income Bracket')\n",
    "plt.show()"
   ]
  },
  {
   "cell_type": "markdown",
   "metadata": {},
   "source": [
    "> Berdasatkan rentang usia terlihat bahwa : \n",
    "\n",
    "> - Seseorang yang mendapatkan `income bracket >50K terbanyak pada usia 46 tahun`\n",
    "> - Seseorang yang mendapatkan `income bracket <50K terbanyak terletak pada usia 23 tahun`\n",
    "> - Seseorang yang memiliki usia `21 tahun kebawah tidak memiliki income_bracket >50K`"
   ]
  },
  {
   "cell_type": "markdown",
   "metadata": {},
   "source": [
    "**Income Bracket vs Marital Status**"
   ]
  },
  {
   "cell_type": "code",
   "execution_count": 9,
   "metadata": {},
   "outputs": [
    {
     "data": {
      "image/png": "[encoded data removed]",
      "text/plain": [
       "<Figure size 864x360 with 1 Axes>"
      ]
     },
     "metadata": {
      "needs_background": "light"
     },
     "output_type": "display_data"
    }
   ],
   "source": [
    "pd.crosstab(data.marital_status, data.income_bracket).plot(kind=\"bar\",figsize=(12,5),color=[\"#F3AB60\",'#AA1190'])\n",
    "plt.title('Hubungan Income Bracket dengan Marital Status')\n",
    "plt.xlabel('Marital status')\n",
    "plt.xticks(rotation = 45)\n",
    "plt.ylabel('Frequency Income Bracket')\n",
    "plt.show()"
   ]
  },
  {
   "cell_type": "markdown",
   "metadata": {},
   "source": [
    "> Berdasarkan status pernikahan, terlihat yang memiliki status telah menikah lebih banyak memiliki `income bracket <=50K dan juga >50K` dibandingkan dengan status yang lain."
   ]
  },
  {
   "cell_type": "markdown",
   "metadata": {},
   "source": [
    "**Income Bracket vs Occupation**"
   ]
  },
  {
   "cell_type": "code",
   "execution_count": 10,
   "metadata": {},
   "outputs": [
    {
     "data": {
      "image/png": "[encoded data removed]",
      "text/plain": [
       "<Figure size 864x360 with 1 Axes>"
      ]
     },
     "metadata": {
      "needs_background": "light"
     },
     "output_type": "display_data"
    }
   ],
   "source": [
    "pd.crosstab(data.occupation, data.income_bracket).plot(kind=\"bar\",figsize=(12,5),color=['#11A5AA',\"#9E726F\"])\n",
    "plt.title('Hubungan Income Bracket dengan Occupation')\n",
    "plt.xlabel('Occupation')\n",
    "plt.xticks(rotation = 80)\n",
    "plt.ylabel('Frequency Income Bracket')\n",
    "plt.show()"
   ]
  },
  {
   "cell_type": "markdown",
   "metadata": {},
   "source": [
    "> Berdasarkan pekerjaan, terlihat bahwa `Armed_forces` adalah pekerjaan dengan proporsi paling rendah berdasarkan `income_bracket` dibandingkan dengan jenis pekerjaan yang lain."
   ]
  },
  {
   "cell_type": "markdown",
   "metadata": {},
   "source": [
    "**Income Bracket vs Relationship**"
   ]
  },
  {
   "cell_type": "code",
   "execution_count": 11,
   "metadata": {},
   "outputs": [
    {
     "data": {
      "image/png": "[encoded data removed]",
      "text/plain": [
       "<Figure size 864x360 with 1 Axes>"
      ]
     },
     "metadata": {
      "needs_background": "light"
     },
     "output_type": "display_data"
    }
   ],
   "source": [
    "pd.crosstab(data.relationship, data.income_bracket).plot(kind=\"bar\",figsize=(12,5),color=[\"#B9C0C9\",'#AA1190'])\n",
    "plt.title('Hubungan Inceme bracket dengan Relationship')\n",
    "plt.xlabel('relationship')\n",
    "plt.xticks(rotation = 80)\n",
    "plt.ylabel('Frequency Income Bracket')\n",
    "plt.show()"
   ]
  },
  {
   "cell_type": "markdown",
   "metadata": {},
   "source": [
    "> Berdasarkan relationship, terlihat bahwa `husband(suami)` memiliki pendapatan yang lebih banyak dibandingkan hubungan yang lian"
   ]
  },
  {
   "cell_type": "markdown",
   "metadata": {},
   "source": [
    "**Income Bracket vs Gender**"
   ]
  },
  {
   "cell_type": "code",
   "execution_count": 12,
   "metadata": {},
   "outputs": [
    {
     "data": {
      "image/png": "[encoded data removed]",
      "text/plain": [
       "<Figure size 864x360 with 1 Axes>"
      ]
     },
     "metadata": {
      "needs_background": "light"
     },
     "output_type": "display_data"
    }
   ],
   "source": [
    "pd.crosstab(data.sex, data.income_bracket).plot(kind=\"bar\",figsize=(12,5),color=[\"#D6B2B1\",'#AA1190'])\n",
    "plt.title('Hubungan Inceme bracket dengan Gender ')\n",
    "plt.xlabel('Gender')\n",
    "plt.xticks(rotation = 80)\n",
    "plt.ylabel('Frequency Income Bracket')\n",
    "plt.show()"
   ]
  },
  {
   "cell_type": "markdown",
   "metadata": {},
   "source": [
    "> Berdasarkan gender terlihat bahwa `pria` memiliki pendapatan lebih banyak pendapatan dibandingkan `wanita`. grafik ini mendukung pendapat kita sebelumnya dimana suami memiliki pendapatan yang lebih dibandingkan istri"
   ]
  },
  {
   "cell_type": "markdown",
   "metadata": {},
   "source": [
    "## **5. DATA PREPROCESSING**"
   ]
  },
  {
   "cell_type": "markdown",
   "metadata": {},
   "source": [
    "**DATA INFERENCE**"
   ]
  },
  {
   "cell_type": "code",
   "execution_count": 13,
   "metadata": {},
   "outputs": [],
   "source": [
    "data_inf = data.sample(10, random_state=5)"
   ]
  },
  {
   "cell_type": "markdown",
   "metadata": {},
   "source": [
    "**PISAHKAN DATA INFERENCE DARI DATA SET**"
   ]
  },
  {
   "cell_type": "code",
   "execution_count": 14,
   "metadata": {},
   "outputs": [],
   "source": [
    "data_train_test = data.drop(data_inf.index)"
   ]
  },
  {
   "cell_type": "markdown",
   "metadata": {},
   "source": [
    "**RESET INDEKS (Optional)**"
   ]
  },
  {
   "cell_type": "code",
   "execution_count": 15,
   "metadata": {},
   "outputs": [],
   "source": [
    "data_inf.reset_index(drop=True, inplace=True)\n",
    "data_train_test.reset_index(drop=True, inplace=True)"
   ]
  },
  {
   "cell_type": "markdown",
   "metadata": {},
   "source": [
    "**SPLIT DATASET**"
   ]
  },
  {
   "cell_type": "markdown",
   "metadata": {},
   "source": [
    "> Split `X` (features) dan `y` (target)"
   ]
  },
  {
   "cell_type": "code",
   "execution_count": 16,
   "metadata": {},
   "outputs": [],
   "source": [
    "X = data.drop('income_bracket', axis=1)\n",
    "y = data.income_bracket"
   ]
  },
  {
   "cell_type": "markdown",
   "metadata": {},
   "source": [
    "> Split `train-set` dan `test-set`"
   ]
  },
  {
   "cell_type": "code",
   "execution_count": 17,
   "metadata": {},
   "outputs": [
    {
     "name": "stdout",
     "output_type": "stream",
     "text": [
      "X_train shape: (15484, 13)\n",
      "X_test shape : (3872, 13)\n",
      "y_train shape: (15484,)\n",
      "y_test shape: (3872,)\n"
     ]
    }
   ],
   "source": [
    "X_train, X_test, y_train, y_test = train_test_split(X, y, test_size=0.2, random_state=17)   # (nilai random_state ini tidak memiliki hubungan dengan random_state di awal)\n",
    "\n",
    "print(\"X_train shape:\",X_train.shape)\n",
    "print(\"X_test shape :\",X_test.shape)\n",
    "print(\"y_train shape:\",y_train.shape)\n",
    "print(\"y_test shape:\",y_test.shape)\n"
   ]
  },
  {
   "cell_type": "markdown",
   "metadata": {},
   "source": [
    "**HANDLING OUTLIER**"
   ]
  },
  {
   "cell_type": "markdown",
   "metadata": {},
   "source": [
    ">X_train"
   ]
  },
  {
   "cell_type": "code",
   "execution_count": 18,
   "metadata": {},
   "outputs": [
    {
     "name": "stdout",
     "output_type": "stream",
     "text": [
      "Column age outliers = 0.49%\n",
      "Column education_num outliers = 1.58%\n",
      "Column capital_gain outliers = 100.00%\n",
      "Column capital_loss outliers = 100.00%\n",
      "Column hours_per_week outliers = 28.22%\n"
     ]
    }
   ],
   "source": [
    "num_train = X_train._get_numeric_data() \n",
    "for k, v in num_train.items():\n",
    "  q1 = v.quantile(0.25)\n",
    "  q3 = v.quantile(0.75)\n",
    "  irq = q3 - q1\n",
    "  v_col = v[(v <= q1 - 1.5 * irq) | (v >= q3 + 1.5 * irq)]\n",
    "  perc = np.shape(v_col)[0] * 100.0 / np.shape(num_train)[0]\n",
    "  print(\"Column %s outliers = %.2f%%\" % (k, perc))"
   ]
  },
  {
   "cell_type": "markdown",
   "metadata": {},
   "source": [
    ">*Cek Jenis Outlier*"
   ]
  },
  {
   "cell_type": "markdown",
   "metadata": {},
   "source": [
    ">> *Kolom yang memiliki outlier dibawah 5% akan saya handling dengan trimming, serta untuk kolom yang nilai outliernya lebih dari 5% maka akan dilakukan handling dengan cara capping (tentunya dengan pengecekan jenis outlier terlebih dahulu).*"
   ]
  },
  {
   "cell_type": "markdown",
   "metadata": {},
   "source": [
    "> Trimming"
   ]
  },
  {
   "cell_type": "code",
   "execution_count": 19,
   "metadata": {},
   "outputs": [],
   "source": [
    "# Function to find upper and lower boundaries for skewed distributed variables\n",
    "# Let's calculate the boundaries outside which sit the outliers for skewed distributions\n",
    "# Distance passed as an argument, gives us the option to estimate 1.5 times or 3 times the IQR to calculate the boundaries.\n",
    "\n",
    "def find_skewed_boundaries(df, variable, distance):\n",
    "    IQR = df[variable].quantile(0.75) - df[variable].quantile(0.25)\n",
    "\n",
    "    lower_boundary = df[variable].quantile(0.25) - (IQR * distance)\n",
    "    upper_boundary = df[variable].quantile(0.75) + (IQR * distance)\n",
    "\n",
    "    return upper_boundary, lower_boundary"
   ]
  },
  {
   "cell_type": "code",
   "execution_count": 20,
   "metadata": {},
   "outputs": [
    {
     "name": "stdout",
     "output_type": "stream",
     "text": [
      "age_upper_limit :  77.5\n",
      "age_lower_limit :  1.5 \n",
      "\n",
      "education_num_upper_limit :  16.5\n",
      "education_num_lower_limit :  4.5\n"
     ]
    }
   ],
   "source": [
    "# Limits for `Age`\n",
    "age_upper_limit, age_lower_limit = find_skewed_boundaries(X_test, 'age', 1.5)\n",
    "age_upper_limit, age_lower_limit\n",
    "\n",
    "print('age_upper_limit : ', age_upper_limit)\n",
    "print('age_lower_limit : ', age_lower_limit, '\\n')\n",
    "\n",
    "# Limits for `education_num`\n",
    "education_num_upper_limit, education_num_lower_limit = find_skewed_boundaries(X_test, 'education_num', 1.5)\n",
    "education_num_upper_limit, education_num_lower_limit\n",
    "\n",
    "print('education_num_upper_limit : ', education_num_upper_limit)\n",
    "print('education_num_lower_limit : ', education_num_lower_limit)"
   ]
  },
  {
   "cell_type": "code",
   "execution_count": 21,
   "metadata": {},
   "outputs": [
    {
     "data": {
      "text/plain": [
       "11"
      ]
     },
     "execution_count": 21,
     "metadata": {},
     "output_type": "execute_result"
    }
   ],
   "source": [
    "index_drop_test = X_test.index[X_test['age'] > age_upper_limit]\n",
    "index_drop_test.nunique()"
   ]
  },
  {
   "cell_type": "code",
   "execution_count": 22,
   "metadata": {},
   "outputs": [
    {
     "name": "stdout",
     "output_type": "stream",
     "text": [
      "(3861, 13)\n",
      "(3861,)\n"
     ]
    }
   ],
   "source": [
    "X_test = X_test.drop(index_drop_test.tolist())\n",
    "y_test = y_test.drop(index_drop_test.tolist())\n",
    "print(X_test.shape)\n",
    "print(y_test.shape)"
   ]
  },
  {
   "cell_type": "code",
   "execution_count": 23,
   "metadata": {},
   "outputs": [
    {
     "data": {
      "text/plain": [
       "0"
      ]
     },
     "execution_count": 23,
     "metadata": {},
     "output_type": "execute_result"
    }
   ],
   "source": [
    "index_drop_test = X_test.index[X_test['education_num'] > age_upper_limit]\n",
    "index_drop_test.nunique()"
   ]
  },
  {
   "cell_type": "code",
   "execution_count": 24,
   "metadata": {},
   "outputs": [
    {
     "name": "stdout",
     "output_type": "stream",
     "text": [
      "(3861, 13)\n",
      "(3861,)\n"
     ]
    }
   ],
   "source": [
    "X_test = X_test.drop(index_drop_test.tolist())\n",
    "y_test = y_test.drop(index_drop_test.tolist())\n",
    "print(X_test.shape)\n",
    "print(y_test.shape)"
   ]
  },
  {
   "cell_type": "markdown",
   "metadata": {},
   "source": [
    ">>Capping"
   ]
  },
  {
   "cell_type": "code",
   "execution_count": 25,
   "metadata": {},
   "outputs": [],
   "source": [
    "windsoriser = Winsorizer(capping_method='iqr', # choose iqr for IQR rule boundaries or gaussian for mean and std\n",
    "                          tail='both', # cap left, right or both tails \n",
    "                          fold=1.5,\n",
    "                          variables=['capital_gain','capital_loss','hours_per_week'])\n",
    "\n",
    "windsoriser.fit(X_test)\n",
    "\n",
    "X_test_t = windsoriser.transform(X_test)"
   ]
  },
  {
   "cell_type": "code",
   "execution_count": 26,
   "metadata": {},
   "outputs": [
    {
     "name": "stdout",
     "output_type": "stream",
     "text": [
      "Left Tail Caps  :  {'capital_gain': 0.0, 'capital_loss': 0.0, 'hours_per_week': 28.0}\n",
      "Right Tail Caps :  {'capital_gain': 0.0, 'capital_loss': 0.0, 'hours_per_week': 60.0}\n"
     ]
    }
   ],
   "source": [
    "# Inspect the minimum caps for each variable\n",
    "print('Left Tail Caps  : ', windsoriser.left_tail_caps_)\n",
    "\n",
    "# Iinspect the maximum caps for each variable\n",
    "print('Right Tail Caps : ', windsoriser.right_tail_caps_)"
   ]
  },
  {
   "cell_type": "code",
   "execution_count": 27,
   "metadata": {},
   "outputs": [
    {
     "name": "stdout",
     "output_type": "stream",
     "text": [
      "X_test Numerik Fitur Dataframe - Before Capping\n",
      "               age  education_num  capital_gain  capital_loss  hours_per_week\n",
      "count  3861.000000    3861.000000   3861.000000   3861.000000     3861.000000\n",
      "mean     39.431494      10.098161   1366.083398    108.505310       41.517483\n",
      "std      12.753493       2.629929   8417.796248    443.059735       12.768607\n",
      "min      17.000000       1.000000      0.000000      0.000000        1.000000\n",
      "25%      30.000000       9.000000      0.000000      0.000000       40.000000\n",
      "50%      39.000000      10.000000      0.000000      0.000000       40.000000\n",
      "75%      48.000000      12.000000      0.000000      0.000000       48.000000\n",
      "max      77.000000      16.000000  99999.000000   3900.000000       99.000000\n",
      "\n",
      "X_test Numerik Fitur Dataframe - After Capping\n",
      "               age  education_num  capital_gain  capital_loss  hours_per_week\n",
      "count  3861.000000    3861.000000        3861.0        3861.0     3861.000000\n",
      "mean     39.431494      10.098161           0.0           0.0       42.013727\n",
      "std      12.753493       2.629929           0.0           0.0        8.857161\n",
      "min      17.000000       1.000000           0.0           0.0       28.000000\n",
      "25%      30.000000       9.000000           0.0           0.0       40.000000\n",
      "50%      39.000000      10.000000           0.0           0.0       40.000000\n",
      "75%      48.000000      12.000000           0.0           0.0       48.000000\n",
      "max      77.000000      16.000000           0.0           0.0       60.000000\n"
     ]
    }
   ],
   "source": [
    "print('X_test Numerik Fitur Dataframe - Before Capping')\n",
    "print(X_test.describe())\n",
    "print('')\n",
    "print('X_test Numerik Fitur Dataframe - After Capping')\n",
    "print(X_test_t.describe())"
   ]
  },
  {
   "cell_type": "code",
   "execution_count": 28,
   "metadata": {},
   "outputs": [],
   "source": [
    "def diagnostic_plots(df, variable):\n",
    "    # Define figure size\n",
    "    plt.figure(figsize=(12, 4))\n",
    "\n",
    "    # Histogram\n",
    "    plt.subplot(1, 2, 1)\n",
    "    sns.histplot(df[variable], bins=30)\n",
    "    plt.title('Histogram')\n",
    "\n",
    "    # Boxplot\n",
    "    plt.subplot(1, 2, 2)\n",
    "    sns.boxplot(y=df[variable])\n",
    "    plt.title('Boxplot')\n",
    "\n",
    "    plt.show()"
   ]
  },
  {
   "cell_type": "code",
   "execution_count": 29,
   "metadata": {},
   "outputs": [
    {
     "name": "stdout",
     "output_type": "stream",
     "text": [
      "capital_gain - Before Capping\n"
     ]
    },
    {
     "data": {
      "image/png": "[encoded data removed]",
      "text/plain": [
       "<Figure size 864x288 with 2 Axes>"
      ]
     },
     "metadata": {
      "needs_background": "light"
     },
     "output_type": "display_data"
    },
    {
     "name": "stdout",
     "output_type": "stream",
     "text": [
      "\\capital_gain - After Capping\n"
     ]
    },
    {
     "data": {
      "image/png": "[encoded data removed]",
      "text/plain": [
       "<Figure size 864x288 with 2 Axes>"
      ]
     },
     "metadata": {
      "needs_background": "light"
     },
     "output_type": "display_data"
    },
    {
     "name": "stdout",
     "output_type": "stream",
     "text": [
      "capital_loss - Before Capping\n"
     ]
    },
    {
     "data": {
      "image/png": "[encoded data removed]",
      "text/plain": [
       "<Figure size 864x288 with 2 Axes>"
      ]
     },
     "metadata": {
      "needs_background": "light"
     },
     "output_type": "display_data"
    },
    {
     "name": "stdout",
     "output_type": "stream",
     "text": [
      "\\capital_loss - After Capping\n"
     ]
    },
    {
     "data": {
      "image/png": "[encoded data removed]",
      "text/plain": [
       "<Figure size 864x288 with 2 Axes>"
      ]
     },
     "metadata": {
      "needs_background": "light"
     },
     "output_type": "display_data"
    },
    {
     "name": "stdout",
     "output_type": "stream",
     "text": [
      "hours_per_week - Before Capping\n"
     ]
    },
    {
     "data": {
      "image/png": "[encoded data removed]",
      "text/plain": [
       "<Figure size 864x288 with 2 Axes>"
      ]
     },
     "metadata": {
      "needs_background": "light"
     },
     "output_type": "display_data"
    },
    {
     "name": "stdout",
     "output_type": "stream",
     "text": [
      "\\hours_per_week - After Capping\n"
     ]
    },
    {
     "data": {
      "image/png": "[encoded data removed]",
      "text/plain": [
       "<Figure size 864x288 with 2 Axes>"
      ]
     },
     "metadata": {
      "needs_background": "light"
     },
     "output_type": "display_data"
    }
   ],
   "source": [
    "print('capital_gain - Before Capping')\n",
    "diagnostic_plots(X_test, 'capital_gain')\n",
    "print('\\capital_gain - After Capping')\n",
    "diagnostic_plots(X_test_t, 'capital_gain')\n",
    "\n",
    "print('capital_loss - Before Capping')\n",
    "diagnostic_plots(X_test, 'capital_loss')\n",
    "print('\\capital_loss - After Capping')\n",
    "diagnostic_plots(X_test_t, 'capital_loss')\n",
    "\n",
    "print('hours_per_week - Before Capping')\n",
    "diagnostic_plots(X_test, 'hours_per_week')\n",
    "print('\\hours_per_week - After Capping')\n",
    "diagnostic_plots(X_test_t, 'hours_per_week')\n"
   ]
  },
  {
   "cell_type": "markdown",
   "metadata": {},
   "source": [
    "**HANDLING MISSING VALUE**"
   ]
  },
  {
   "cell_type": "markdown",
   "metadata": {},
   "source": [
    ">X_train"
   ]
  },
  {
   "cell_type": "code",
   "execution_count": 30,
   "metadata": {},
   "outputs": [
    {
     "data": {
      "text/html": [
       "<div>\n",
       "<style scoped>\n",
       "    .dataframe tbody tr th:only-of-type {\n",
       "        vertical-align: middle;\n",
       "    }\n",
       "\n",
       "    .dataframe tbody tr th {\n",
       "        vertical-align: top;\n",
       "    }\n",
       "\n",
       "    .dataframe thead th {\n",
       "        text-align: right;\n",
       "    }\n",
       "</style>\n",
       "<table border=\"1\" class=\"dataframe\">\n",
       "  <thead>\n",
       "    <tr style=\"text-align: right;\">\n",
       "      <th></th>\n",
       "      <th>No. of missing values</th>\n",
       "      <th>% missing_values</th>\n",
       "    </tr>\n",
       "  </thead>\n",
       "  <tbody>\n",
       "    <tr>\n",
       "      <th>age</th>\n",
       "      <td>0</td>\n",
       "      <td>0.0</td>\n",
       "    </tr>\n",
       "    <tr>\n",
       "      <th>workclass</th>\n",
       "      <td>0</td>\n",
       "      <td>0.0</td>\n",
       "    </tr>\n",
       "    <tr>\n",
       "      <th>education</th>\n",
       "      <td>0</td>\n",
       "      <td>0.0</td>\n",
       "    </tr>\n",
       "    <tr>\n",
       "      <th>education_num</th>\n",
       "      <td>0</td>\n",
       "      <td>0.0</td>\n",
       "    </tr>\n",
       "    <tr>\n",
       "      <th>marital_status</th>\n",
       "      <td>0</td>\n",
       "      <td>0.0</td>\n",
       "    </tr>\n",
       "    <tr>\n",
       "      <th>occupation</th>\n",
       "      <td>0</td>\n",
       "      <td>0.0</td>\n",
       "    </tr>\n",
       "    <tr>\n",
       "      <th>relationship</th>\n",
       "      <td>0</td>\n",
       "      <td>0.0</td>\n",
       "    </tr>\n",
       "    <tr>\n",
       "      <th>race</th>\n",
       "      <td>0</td>\n",
       "      <td>0.0</td>\n",
       "    </tr>\n",
       "    <tr>\n",
       "      <th>sex</th>\n",
       "      <td>0</td>\n",
       "      <td>0.0</td>\n",
       "    </tr>\n",
       "    <tr>\n",
       "      <th>capital_gain</th>\n",
       "      <td>0</td>\n",
       "      <td>0.0</td>\n",
       "    </tr>\n",
       "    <tr>\n",
       "      <th>capital_loss</th>\n",
       "      <td>0</td>\n",
       "      <td>0.0</td>\n",
       "    </tr>\n",
       "    <tr>\n",
       "      <th>hours_per_week</th>\n",
       "      <td>0</td>\n",
       "      <td>0.0</td>\n",
       "    </tr>\n",
       "    <tr>\n",
       "      <th>native_country</th>\n",
       "      <td>0</td>\n",
       "      <td>0.0</td>\n",
       "    </tr>\n",
       "  </tbody>\n",
       "</table>\n",
       "</div>"
      ],
      "text/plain": [
       "                No. of missing values  % missing_values\n",
       "age                                 0               0.0\n",
       "workclass                           0               0.0\n",
       "education                           0               0.0\n",
       "education_num                       0               0.0\n",
       "marital_status                      0               0.0\n",
       "occupation                          0               0.0\n",
       "relationship                        0               0.0\n",
       "race                                0               0.0\n",
       "sex                                 0               0.0\n",
       "capital_gain                        0               0.0\n",
       "capital_loss                        0               0.0\n",
       "hours_per_week                      0               0.0\n",
       "native_country                      0               0.0"
      ]
     },
     "execution_count": 30,
     "metadata": {},
     "output_type": "execute_result"
    }
   ],
   "source": [
    "mv_xtrain = pd.DataFrame(X_train.isnull().sum(), columns=['No. of missing values'])\n",
    "mv_xtrain['% missing_values'] = (mv_xtrain/len(X_train)).round(2)*100\n",
    "mv_xtrain"
   ]
  },
  {
   "cell_type": "markdown",
   "metadata": {},
   "source": [
    ">>Terlihat bahwa X_train telah bersih dari adanya missing value"
   ]
  },
  {
   "cell_type": "markdown",
   "metadata": {},
   "source": [
    ">X_Test"
   ]
  },
  {
   "cell_type": "code",
   "execution_count": 31,
   "metadata": {},
   "outputs": [
    {
     "data": {
      "text/html": [
       "<div>\n",
       "<style scoped>\n",
       "    .dataframe tbody tr th:only-of-type {\n",
       "        vertical-align: middle;\n",
       "    }\n",
       "\n",
       "    .dataframe tbody tr th {\n",
       "        vertical-align: top;\n",
       "    }\n",
       "\n",
       "    .dataframe thead th {\n",
       "        text-align: right;\n",
       "    }\n",
       "</style>\n",
       "<table border=\"1\" class=\"dataframe\">\n",
       "  <thead>\n",
       "    <tr style=\"text-align: right;\">\n",
       "      <th></th>\n",
       "      <th>No. of missing values</th>\n",
       "      <th>% missing_values</th>\n",
       "    </tr>\n",
       "  </thead>\n",
       "  <tbody>\n",
       "    <tr>\n",
       "      <th>age</th>\n",
       "      <td>0</td>\n",
       "      <td>0.0</td>\n",
       "    </tr>\n",
       "    <tr>\n",
       "      <th>workclass</th>\n",
       "      <td>0</td>\n",
       "      <td>0.0</td>\n",
       "    </tr>\n",
       "    <tr>\n",
       "      <th>education</th>\n",
       "      <td>0</td>\n",
       "      <td>0.0</td>\n",
       "    </tr>\n",
       "    <tr>\n",
       "      <th>education_num</th>\n",
       "      <td>0</td>\n",
       "      <td>0.0</td>\n",
       "    </tr>\n",
       "    <tr>\n",
       "      <th>marital_status</th>\n",
       "      <td>0</td>\n",
       "      <td>0.0</td>\n",
       "    </tr>\n",
       "    <tr>\n",
       "      <th>occupation</th>\n",
       "      <td>0</td>\n",
       "      <td>0.0</td>\n",
       "    </tr>\n",
       "    <tr>\n",
       "      <th>relationship</th>\n",
       "      <td>0</td>\n",
       "      <td>0.0</td>\n",
       "    </tr>\n",
       "    <tr>\n",
       "      <th>race</th>\n",
       "      <td>0</td>\n",
       "      <td>0.0</td>\n",
       "    </tr>\n",
       "    <tr>\n",
       "      <th>sex</th>\n",
       "      <td>0</td>\n",
       "      <td>0.0</td>\n",
       "    </tr>\n",
       "    <tr>\n",
       "      <th>capital_gain</th>\n",
       "      <td>0</td>\n",
       "      <td>0.0</td>\n",
       "    </tr>\n",
       "    <tr>\n",
       "      <th>capital_loss</th>\n",
       "      <td>0</td>\n",
       "      <td>0.0</td>\n",
       "    </tr>\n",
       "    <tr>\n",
       "      <th>hours_per_week</th>\n",
       "      <td>0</td>\n",
       "      <td>0.0</td>\n",
       "    </tr>\n",
       "    <tr>\n",
       "      <th>native_country</th>\n",
       "      <td>0</td>\n",
       "      <td>0.0</td>\n",
       "    </tr>\n",
       "  </tbody>\n",
       "</table>\n",
       "</div>"
      ],
      "text/plain": [
       "                No. of missing values  % missing_values\n",
       "age                                 0               0.0\n",
       "workclass                           0               0.0\n",
       "education                           0               0.0\n",
       "education_num                       0               0.0\n",
       "marital_status                      0               0.0\n",
       "occupation                          0               0.0\n",
       "relationship                        0               0.0\n",
       "race                                0               0.0\n",
       "sex                                 0               0.0\n",
       "capital_gain                        0               0.0\n",
       "capital_loss                        0               0.0\n",
       "hours_per_week                      0               0.0\n",
       "native_country                      0               0.0"
      ]
     },
     "execution_count": 31,
     "metadata": {},
     "output_type": "execute_result"
    }
   ],
   "source": [
    "mv_xtest = pd.DataFrame(X_test.isnull().sum(), columns=['No. of missing values'])\n",
    "mv_xtest['% missing_values'] = (mv_xtest/len(X_test)).round(2)*100\n",
    "mv_xtest"
   ]
  },
  {
   "cell_type": "markdown",
   "metadata": {},
   "source": [
    ">>Terlihat bahwa X_test telah bersih dari adanya missing value"
   ]
  },
  {
   "cell_type": "markdown",
   "metadata": {},
   "source": [
    "**FEATURE SELECTION**"
   ]
  },
  {
   "cell_type": "code",
   "execution_count": 32,
   "metadata": {},
   "outputs": [
    {
     "data": {
      "image/png": "[encoded data removed]",
      "text/plain": [
       "<Figure size 720x360 with 2 Axes>"
      ]
     },
     "metadata": {
      "needs_background": "light"
     },
     "output_type": "display_data"
    }
   ],
   "source": [
    "korelasi = data.corr()\n",
    "plt.figure(figsize=(10,5))\n",
    "sns.heatmap(korelasi, annot=True, vmin=0, vmax=1)\n",
    "plt.show()"
   ]
  },
  {
   "cell_type": "markdown",
   "metadata": {},
   "source": [
    "Setalah melakukan eksplorasi terhadap data, saya menemukan bahwa kolom `education` dan `education_num` tergolong sama, 9th selalu berpasangan dengan 5, 10th berpasangan dengan 6 dan seterusnya. Sehingga saya memutuskan untuk menghapus salah satu kolom yaitu kolom `education`"
   ]
  },
  {
   "cell_type": "code",
   "execution_count": 33,
   "metadata": {},
   "outputs": [],
   "source": [
    "X_train.drop('education', axis=1, inplace=True)\n",
    "X_test.drop('education', axis=1, inplace=True)"
   ]
  },
  {
   "cell_type": "markdown",
   "metadata": {},
   "source": [
    "> Split kolom numeric dan kolom kategorik berdasarkan X_train"
   ]
  },
  {
   "cell_type": "code",
   "execution_count": 34,
   "metadata": {},
   "outputs": [
    {
     "name": "stdout",
     "output_type": "stream",
     "text": [
      "Numerical Columns :  ['age', 'education_num', 'capital_gain', 'capital_loss', 'hours_per_week']\n",
      "Categorical Columns :  ['workclass', 'marital_status', 'occupation', 'relationship', 'race', 'sex', 'native_country']\n"
     ]
    }
   ],
   "source": [
    "num_columns = X_train.select_dtypes(include=np.number).columns.tolist()\n",
    "cat_columns = X_train.select_dtypes(include=['object']).columns.tolist()\n",
    "\n",
    "print('Numerical Columns : ', num_columns)\n",
    "print('Categorical Columns : ', cat_columns)"
   ]
  },
  {
   "cell_type": "markdown",
   "metadata": {},
   "source": [
    "**FEATURE SCALING**"
   ]
  },
  {
   "cell_type": "markdown",
   "metadata": {},
   "source": [
    ">**Cek Distribusi Data**"
   ]
  },
  {
   "cell_type": "code",
   "execution_count": 35,
   "metadata": {},
   "outputs": [
    {
     "name": "stderr",
     "output_type": "stream",
     "text": [
      "C:\\Users\\ASUS\\AppData\\Local\\Temp/ipykernel_39472/365950309.py:1: FutureWarning: Dropping of nuisance columns in DataFrame reductions (with 'numeric_only=None') is deprecated; in a future version this will raise TypeError.  Select only valid columns before calling the reduction.\n",
      "  X_train.skew()      # Cek distribusi data\n"
     ]
    },
    {
     "data": {
      "text/plain": [
       "age                0.434364\n",
       "education_num     -0.294120\n",
       "capital_gain      10.220377\n",
       "capital_loss       4.018110\n",
       "hours_per_week     0.338865\n",
       "dtype: float64"
      ]
     },
     "execution_count": 35,
     "metadata": {},
     "output_type": "execute_result"
    }
   ],
   "source": [
    "X_train.skew()      # Cek distribusi data"
   ]
  },
  {
   "cell_type": "markdown",
   "metadata": {},
   "source": [
    ">Split Train-set dan Test-set berdasarkan tipe kolom"
   ]
  },
  {
   "cell_type": "code",
   "execution_count": 36,
   "metadata": {},
   "outputs": [],
   "source": [
    "num_column_min_max = ['capital_gain', 'capital_loss']           # Data yang skew\n",
    "num_column_nor = ['age', 'education_num', 'hours_per_week']     # Data yang normal\n",
    "\n",
    "X_train_skiw = X_train[num_column_min_max]                      # X_train_skew ialah nilai X_train yang datanya skew\n",
    "X_test_skiw = X_test[num_column_min_max]                        # X__test_skew ialah nilai X_test yang datanya skew\n",
    "\n",
    "X_train_nor = X_train[num_column_nor]                           # X_train_nor ialah nilai X_train yang datanya normal\n",
    "X_test_nor = X_test[num_column_nor]                             # X_test_nor ialah nilai X_test yang datanya normal"
   ]
  },
  {
   "cell_type": "code",
   "execution_count": 37,
   "metadata": {},
   "outputs": [
    {
     "data": {
      "text/plain": [
       "capital_gain    10.220377\n",
       "capital_loss     4.018110\n",
       "dtype: float64"
      ]
     },
     "execution_count": 37,
     "metadata": {},
     "output_type": "execute_result"
    }
   ],
   "source": [
    "skew = X_train_skiw.skew()  # Memeriksa kembali apakah telah sesuai pembagian data skew ataukan belum\n",
    "skew"
   ]
  },
  {
   "cell_type": "code",
   "execution_count": 38,
   "metadata": {},
   "outputs": [
    {
     "data": {
      "text/plain": [
       "age               0.434364\n",
       "education_num    -0.294120\n",
       "hours_per_week    0.338865\n",
       "dtype: float64"
      ]
     },
     "execution_count": 38,
     "metadata": {},
     "output_type": "execute_result"
    }
   ],
   "source": [
    "skew2 = X_train_nor.skew()  # Memeriksa kembali apakah telah sesuai pembagian data normal ataukan belum\n",
    "skew2"
   ]
  },
  {
   "cell_type": "markdown",
   "metadata": {},
   "source": [
    "Terlihat bahwa :\n",
    "- kolom `age` berdistribusi `normal`\n",
    "- kolom `education_num` berdistribusi `normal`\n",
    "- kolom `capital_gain` berdistribusi `skew`\n",
    "- kolom `capital_loss` berdistribusi `skew`\n",
    "- kolom `hours_per_week` berdistribusi `normal`"
   ]
  },
  {
   "cell_type": "code",
   "execution_count": 39,
   "metadata": {},
   "outputs": [],
   "source": [
    "from sklearn.preprocessing import MinMaxScaler, StandardScaler  # ada 3 jenis (MinMaxScaler, StandarScaler,Robust)\n",
    "\n",
    "scaler = MinMaxScaler()          # Dipakai untuk data yang skew\n",
    "scaler2 = StandardScaler()       # Dipakai untuk data yang normal\n",
    "\n",
    "scaler.fit(X_train_skiw)         # .fit hanyalah milik X_train (matriks,vector)\n",
    "scaler2.fit(X_train_nor)         # .fit hanyalah milik X_train (matriks,vector)   \n",
    "\n",
    "\n",
    "X_train__num_Minmax = scaler.transform(X_train_skiw)    # Melakukan trasnfrom X_train_skiw\n",
    "X_test_num_Minmax = scaler.transform(X_test_skiw)       # Melakukan transfrom X_test_skew\n",
    "\n",
    "X_train_num_nor = scaler2.transform(X_train_nor)        # Melakukan transfrom X_train_nor\n",
    "X_test_num_nor = scaler2.transform(X_test_nor)          # Melakukan transfrom X_test_nor\n"
   ]
  },
  {
   "cell_type": "markdown",
   "metadata": {},
   "source": [
    "**FEATURE ENCODING**"
   ]
  },
  {
   "cell_type": "code",
   "execution_count": 40,
   "metadata": {},
   "outputs": [],
   "source": [
    "from sklearn.preprocessing import LabelEncoder\n",
    "\n",
    "encoder = LabelEncoder()\n",
    "\n",
    "encoder.fit(y_train)\n",
    "y_train_encod = encoder.transform(y_train)\n",
    "y_test_encod = encoder.transform(y_test)"
   ]
  },
  {
   "cell_type": "markdown",
   "metadata": {},
   "source": [
    ">> Melakukan labeling terhadap target (y_train)"
   ]
  },
  {
   "cell_type": "code",
   "execution_count": 41,
   "metadata": {},
   "outputs": [],
   "source": [
    "X_train_cat = X_train[cat_columns]      # Data X_train yang categorical\n",
    "X_test_cat = X_test[cat_columns]        # Data X_test yang categorical"
   ]
  },
  {
   "cell_type": "code",
   "execution_count": 42,
   "metadata": {},
   "outputs": [],
   "source": [
    "from sklearn.preprocessing import OrdinalEncoder\n",
    "\n",
    "encoder2 = OrdinalEncoder()\n",
    "\n",
    "encoder2.fit(X_train_cat)    # .fit hanyalah milik X_train\n",
    "\n",
    "X_train_cat_encoded = encoder2.transform(X_train_cat)       # Melakukan transfrom terhadap X_train_cat\n",
    "X_test_cat_encoded = encoder2.transform(X_test_cat)         # Melakukan transfrom terhdapa X_test_cat\n"
   ]
  },
  {
   "cell_type": "markdown",
   "metadata": {},
   "source": [
    "**MERGE**"
   ]
  },
  {
   "cell_type": "code",
   "execution_count": 43,
   "metadata": {},
   "outputs": [],
   "source": [
    "X_train_final = np.concatenate([X_train__num_Minmax, X_train_num_nor , X_train_cat_encoded], axis=1)\n",
    "\n",
    "X_test_final = np.concatenate([X_test_num_Minmax, X_test_num_nor, X_test_cat_encoded], axis=1)"
   ]
  },
  {
   "cell_type": "markdown",
   "metadata": {},
   "source": [
    "# **6. MODEL DEFINITION**"
   ]
  },
  {
   "cell_type": "markdown",
   "metadata": {},
   "source": [
    "## Logistic Regression"
   ]
  },
  {
   "cell_type": "code",
   "execution_count": 44,
   "metadata": {},
   "outputs": [],
   "source": [
    "log_reg = LogisticRegression()"
   ]
  },
  {
   "cell_type": "markdown",
   "metadata": {},
   "source": [
    "## SVM"
   ]
  },
  {
   "cell_type": "code",
   "execution_count": 45,
   "metadata": {},
   "outputs": [],
   "source": [
    "svm = SVC(kernel='linear', C=5)"
   ]
  },
  {
   "cell_type": "markdown",
   "metadata": {},
   "source": [
    "# **7. MODEL TRAINING**"
   ]
  },
  {
   "cell_type": "markdown",
   "metadata": {},
   "source": [
    "## Logistic Regression"
   ]
  },
  {
   "cell_type": "code",
   "execution_count": 46,
   "metadata": {},
   "outputs": [
    {
     "name": "stderr",
     "output_type": "stream",
     "text": [
      "c:\\Users\\ASUS\\anaconda3\\lib\\site-packages\\sklearn\\linear_model\\_logistic.py:814: ConvergenceWarning: lbfgs failed to converge (status=1):\n",
      "STOP: TOTAL NO. of ITERATIONS REACHED LIMIT.\n",
      "\n",
      "Increase the number of iterations (max_iter) or scale the data as shown in:\n",
      "    https://scikit-learn.org/stable/modules/preprocessing.html\n",
      "Please also refer to the documentation for alternative solver options:\n",
      "    https://scikit-learn.org/stable/modules/linear_model.html#logistic-regression\n",
      "  n_iter_i = _check_optimize_result(\n"
     ]
    },
    {
     "data": {
      "text/plain": [
       "LogisticRegression()"
      ]
     },
     "execution_count": 46,
     "metadata": {},
     "output_type": "execute_result"
    }
   ],
   "source": [
    "log_reg.fit(X_train_final, y_train_encod)"
   ]
  },
  {
   "cell_type": "markdown",
   "metadata": {},
   "source": [
    "## SVM"
   ]
  },
  {
   "cell_type": "code",
   "execution_count": 47,
   "metadata": {},
   "outputs": [
    {
     "data": {
      "text/plain": [
       "SVC(C=5, kernel='linear')"
      ]
     },
     "execution_count": 47,
     "metadata": {},
     "output_type": "execute_result"
    }
   ],
   "source": [
    "svm.fit(X_train_final, y_train_encod)"
   ]
  },
  {
   "cell_type": "markdown",
   "metadata": {},
   "source": [
    "# **8. MODEL EVALUATION**"
   ]
  },
  {
   "cell_type": "markdown",
   "metadata": {},
   "source": [
    "## Logistic Regression"
   ]
  },
  {
   "cell_type": "code",
   "execution_count": 48,
   "metadata": {},
   "outputs": [],
   "source": [
    "y_prediksi_log = log_reg.predict(X_test_final)"
   ]
  },
  {
   "cell_type": "code",
   "execution_count": 49,
   "metadata": {},
   "outputs": [
    {
     "name": "stdout",
     "output_type": "stream",
     "text": [
      "[[2351  577]\n",
      " [ 282  651]]\n"
     ]
    }
   ],
   "source": [
    "print(confusion_matrix(y_prediksi_log, y_test_encod))"
   ]
  },
  {
   "cell_type": "code",
   "execution_count": 50,
   "metadata": {},
   "outputs": [
    {
     "name": "stdout",
     "output_type": "stream",
     "text": [
      "              precision    recall  f1-score   support\n",
      "\n",
      "           0       0.80      0.89      0.85      2633\n",
      "           1       0.70      0.53      0.60      1228\n",
      "\n",
      "    accuracy                           0.78      3861\n",
      "   macro avg       0.75      0.71      0.72      3861\n",
      "weighted avg       0.77      0.78      0.77      3861\n",
      "\n"
     ]
    }
   ],
   "source": [
    "print(classification_report(y_test_encod, y_prediksi_log))"
   ]
  },
  {
   "cell_type": "markdown",
   "metadata": {},
   "source": [
    "Berdasarkan clasifikasi report diperoleh :\n",
    "- F1-score untuk kelas 0 (<=50) sebesar 85% untuk kelas 1 (>50) sebesar 60%\n",
    "- Recall untuk kelas 0 (<=50) sebesar 89% untuk kelas 1 (>50) sebesar 53%\n",
    "- Presisi untuk kelas 0 (<=50) sebesar 80% untuk kelas 1 (>50) sebesar 70%"
   ]
  },
  {
   "cell_type": "code",
   "execution_count": 51,
   "metadata": {},
   "outputs": [
    {
     "name": "stdout",
     "output_type": "stream",
     "text": [
      "0.7775187775187775\n",
      "0.6977491961414791\n"
     ]
    }
   ],
   "source": [
    "print(accuracy_score(y_prediksi_log, y_test_encod))\n",
    "print(recall_score(y_prediksi_log, y_test_encod))"
   ]
  },
  {
   "cell_type": "markdown",
   "metadata": {},
   "source": [
    "- Diperoleh akurasi model sebesar 77% dan recall sebesar 69%"
   ]
  },
  {
   "cell_type": "markdown",
   "metadata": {},
   "source": [
    "## SVM"
   ]
  },
  {
   "cell_type": "code",
   "execution_count": 52,
   "metadata": {},
   "outputs": [],
   "source": [
    "y_prediksi_svm = svm.predict(X_test_final)"
   ]
  },
  {
   "cell_type": "code",
   "execution_count": 53,
   "metadata": {},
   "outputs": [
    {
     "name": "stdout",
     "output_type": "stream",
     "text": [
      "[[2433  605]\n",
      " [ 200  623]]\n"
     ]
    }
   ],
   "source": [
    "print(confusion_matrix(y_prediksi_svm, y_test_encod))"
   ]
  },
  {
   "cell_type": "markdown",
   "metadata": {},
   "source": [
    "Berdasarkan convusion matrix diperoleh bahwa :\n",
    "- Kelas 0 (<=50) pada data set terprediksi benar sebanyak 2433 dan salah sebanyak 605\n",
    "- Kelas 1 (>50) pada data set terprediksi benar sebanyak 623 dan salah sebanyak 200"
   ]
  },
  {
   "cell_type": "code",
   "execution_count": 54,
   "metadata": {},
   "outputs": [
    {
     "name": "stdout",
     "output_type": "stream",
     "text": [
      "              precision    recall  f1-score   support\n",
      "\n",
      "           0       0.80      0.92      0.86      2633\n",
      "           1       0.76      0.51      0.61      1228\n",
      "\n",
      "    accuracy                           0.79      3861\n",
      "   macro avg       0.78      0.72      0.73      3861\n",
      "weighted avg       0.79      0.79      0.78      3861\n",
      "\n"
     ]
    }
   ],
   "source": [
    "print(classification_report(y_test_encod, y_prediksi_svm))"
   ]
  },
  {
   "cell_type": "markdown",
   "metadata": {},
   "source": [
    "Berdasarkan klasifikasi report diperoleh\n",
    "- Presisi kelas 0 ialah 80% dan kelas 1 ialah 76%\n",
    "- recall kelas 0 ialah 92% dan kelas 1 ialah 51%\n",
    "- f-1 score kelas 0 ialah 86% dan kelas 1 ialah 61%"
   ]
  },
  {
   "cell_type": "markdown",
   "metadata": {},
   "source": [
    "**MODEL SAVING**"
   ]
  },
  {
   "cell_type": "code",
   "execution_count": 55,
   "metadata": {},
   "outputs": [],
   "source": [
    "with open('model_MinMaxScaler.pkl', 'wb') as file_1:      # 'wb' = write binary\n",
    "    pickle.dump(scaler, file_1)\n",
    "\n",
    "with open('model_StandarScaler.pkl', 'wb') as file_2:\n",
    "    pickle.dump(scaler2, file_2)\n",
    "\n",
    "with open('label_encoder.pkl', 'wb') as file_3:\n",
    "    pickle.dump(encoder, file_3)\n",
    "\n",
    "with open('ordinal_encoder.pkl', 'wb') as file_4:\n",
    "    pickle.dump(encoder2, file_4)\n",
    "\n",
    "with open('log_reg.pkl', 'wb') as file_5:\n",
    "    pickle.dump(log_reg, file_5)\n",
    "\n",
    "with open('svm.pkl', 'wb') as file_6:\n",
    "    pickle.dump(svm, file_6)\n",
    "\n",
    "\n",
    "with open('list_num_columns.txt', 'w') as file_7:\n",
    "    file_7.write(str(num_columns))\n",
    "\n",
    "with open('list_cat_columns.txt', 'w') as file_8:\n",
    "    file_8.write(str(cat_columns))"
   ]
  },
  {
   "cell_type": "markdown",
   "metadata": {},
   "source": [
    "# **9. MODEL INFERENCE**"
   ]
  },
  {
   "cell_type": "markdown",
   "metadata": {},
   "source": [
    "**LOAD ALL MODEL**"
   ]
  },
  {
   "cell_type": "code",
   "execution_count": 56,
   "metadata": {},
   "outputs": [],
   "source": [
    "with open('model_MinMaxScaler.pkl', 'rb') as file_1:      # 'rb' = ride binary    \n",
    "    model_MinMax = pickle.load(file_1)\n",
    "\n",
    "with open('model_StandarScaler.pkl', 'rb') as file_2:\n",
    "    model_Stdscaler = pickle.load(file_2)\n",
    "\n",
    "with open('label_encoder.pkl', 'rb') as file_3:\n",
    "    model_Labencod = pickle.load(file_3)\n",
    "\n",
    "with open('ordinal_encoder.pkl', 'rb') as file_4:\n",
    "    model_Ordinalencoder = pickle.load(file_4)\n",
    "\n",
    "with open('log_reg.pkl', 'rb') as file_5:\n",
    "    model_logreg = pickle.load(file_5)\n",
    "\n",
    "with open('svm.pkl', 'rb') as file_6:\n",
    "    model_svm = pickle.load(file_6)\n",
    "\n",
    "\n",
    "    \n",
    "with open('list_num_columns.txt', 'r') as file_7:\n",
    "    list_num_columns = file_7.read()\n",
    "\n",
    "with open('list_cat_columns.txt', 'r') as file_8:\n",
    "    list_cat_columns = file_8.read()"
   ]
  },
  {
   "cell_type": "markdown",
   "metadata": {},
   "source": [
    "**Convert kolom numerik dan kategorik**"
   ]
  },
  {
   "cell_type": "code",
   "execution_count": 57,
   "metadata": {},
   "outputs": [],
   "source": [
    "list_num_columns = ast.literal_eval(list_num_columns)\n",
    "list_cat_columns = ast.literal_eval(list_cat_columns)"
   ]
  },
  {
   "cell_type": "code",
   "execution_count": 58,
   "metadata": {},
   "outputs": [],
   "source": [
    "num_skew = ['capital_gain', 'capital_loss']\n",
    "num_normal = ['age', 'education_num','hours_per_week']"
   ]
  },
  {
   "cell_type": "markdown",
   "metadata": {},
   "source": [
    "**Split Kolom Numerik dan Categorik**"
   ]
  },
  {
   "cell_type": "code",
   "execution_count": 59,
   "metadata": {},
   "outputs": [],
   "source": [
    "data_inf_num_nor = data_inf[num_normal]\n",
    "data_inf_num_skew = data_inf[num_skew]\n",
    "\n",
    "data_inf_cat = data_inf[list_cat_columns]\n"
   ]
  },
  {
   "cell_type": "markdown",
   "metadata": {},
   "source": [
    "**Feature Scaling dan Feature Encoding**"
   ]
  },
  {
   "cell_type": "code",
   "execution_count": 60,
   "metadata": {},
   "outputs": [],
   "source": [
    "data_inf_num_scaled = model_MinMax.transform(data_inf_num_skew)\n",
    "\n",
    "data_inf_cat_encoded = model_Stdscaler.transform(data_inf_num_nor)\n",
    "\n",
    "data_inf_Ordinalencoder = model_Ordinalencoder.transform(data_inf_cat)"
   ]
  },
  {
   "cell_type": "markdown",
   "metadata": {},
   "source": [
    "**Concate**"
   ]
  },
  {
   "cell_type": "code",
   "execution_count": 61,
   "metadata": {},
   "outputs": [
    {
     "data": {
      "text/plain": [
       "array([[ 0.        ,  0.        , -0.42221163, -0.42875294, -0.10352845,\n",
       "         3.        ,  2.        ,  1.        ,  0.        ,  4.        ,\n",
       "         1.        , 38.        ],\n",
       "       [ 0.        ,  0.44615385, -0.72917371,  1.08981755,  0.29412844,\n",
       "         3.        ,  2.        , 10.        ,  0.        ,  4.        ,\n",
       "         1.        , 38.        ],\n",
       "       [ 0.1502415 ,  0.        ,  0.34519357,  1.08981755,  1.08944223,\n",
       "         3.        ,  2.        , 14.        ,  0.        ,  4.        ,\n",
       "         1.        , 38.        ],\n",
       "       [ 0.        ,  0.        ,  0.26845305, -0.04911032, -0.10352845,\n",
       "         3.        ,  2.        ,  3.        ,  0.        ,  4.        ,\n",
       "         1.        , 38.        ],\n",
       "       [ 0.        ,  0.        , -1.34309787, -0.04911032, -2.48946979,\n",
       "         3.        ,  4.        , 10.        ,  2.        ,  4.        ,\n",
       "         0.        , 38.        ],\n",
       "       [ 0.        ,  0.        , -1.41983838, -0.04911032, -1.69415601,\n",
       "         3.        ,  4.        ,  1.        ,  2.        ,  4.        ,\n",
       "         1.        , 38.        ],\n",
       "       [ 0.        ,  0.        ,  0.49867461,  0.71017493, -1.13743636,\n",
       "         3.        ,  6.        , 10.        ,  3.        ,  4.        ,\n",
       "         0.        , 38.        ],\n",
       "       [ 0.        ,  0.48769231,  0.34519357,  1.08981755,  0.69178534,\n",
       "         3.        ,  2.        , 10.        ,  0.        ,  4.        ,\n",
       "         1.        , 38.        ],\n",
       "       [ 0.        ,  0.50692308,  1.03585824,  1.46946018,  1.08944223,\n",
       "         3.        ,  2.        ,  4.        ,  0.        ,  4.        ,\n",
       "         1.        , 38.        ],\n",
       "       [ 0.        ,  0.        ,  0.65215565,  1.08981755,  0.21459707,\n",
       "         3.        ,  0.        , 12.        ,  3.        ,  4.        ,\n",
       "         0.        , 38.        ]])"
      ]
     },
     "execution_count": 61,
     "metadata": {},
     "output_type": "execute_result"
    }
   ],
   "source": [
    "data_inf_final = np.concatenate([data_inf_num_scaled, data_inf_cat_encoded, data_inf_Ordinalencoder], axis=1)\n",
    "data_inf_final\n"
   ]
  },
  {
   "cell_type": "markdown",
   "metadata": {},
   "source": [
    "## **EVALUASI MODEL**"
   ]
  },
  {
   "cell_type": "markdown",
   "metadata": {},
   "source": [
    "## Logistic Regression"
   ]
  },
  {
   "cell_type": "code",
   "execution_count": 62,
   "metadata": {},
   "outputs": [
    {
     "data": {
      "text/plain": [
       "array([0, 1, 1, 0, 0, 0, 0, 1, 1, 1])"
      ]
     },
     "execution_count": 62,
     "metadata": {},
     "output_type": "execute_result"
    }
   ],
   "source": [
    "y_inf_pred = model_logreg.predict(data_inf_final)\n",
    "y_inf_pred"
   ]
  },
  {
   "cell_type": "code",
   "execution_count": 63,
   "metadata": {},
   "outputs": [
    {
     "data": {
      "text/html": [
       "<div>\n",
       "<style scoped>\n",
       "    .dataframe tbody tr th:only-of-type {\n",
       "        vertical-align: middle;\n",
       "    }\n",
       "\n",
       "    .dataframe tbody tr th {\n",
       "        vertical-align: top;\n",
       "    }\n",
       "\n",
       "    .dataframe thead th {\n",
       "        text-align: right;\n",
       "    }\n",
       "</style>\n",
       "<table border=\"1\" class=\"dataframe\">\n",
       "  <thead>\n",
       "    <tr style=\"text-align: right;\">\n",
       "      <th></th>\n",
       "      <th>income_bracket - Prediction</th>\n",
       "    </tr>\n",
       "  </thead>\n",
       "  <tbody>\n",
       "    <tr>\n",
       "      <th>0</th>\n",
       "      <td>0</td>\n",
       "    </tr>\n",
       "    <tr>\n",
       "      <th>1</th>\n",
       "      <td>1</td>\n",
       "    </tr>\n",
       "    <tr>\n",
       "      <th>2</th>\n",
       "      <td>1</td>\n",
       "    </tr>\n",
       "    <tr>\n",
       "      <th>3</th>\n",
       "      <td>0</td>\n",
       "    </tr>\n",
       "    <tr>\n",
       "      <th>4</th>\n",
       "      <td>0</td>\n",
       "    </tr>\n",
       "    <tr>\n",
       "      <th>5</th>\n",
       "      <td>0</td>\n",
       "    </tr>\n",
       "    <tr>\n",
       "      <th>6</th>\n",
       "      <td>0</td>\n",
       "    </tr>\n",
       "    <tr>\n",
       "      <th>7</th>\n",
       "      <td>1</td>\n",
       "    </tr>\n",
       "    <tr>\n",
       "      <th>8</th>\n",
       "      <td>1</td>\n",
       "    </tr>\n",
       "    <tr>\n",
       "      <th>9</th>\n",
       "      <td>1</td>\n",
       "    </tr>\n",
       "  </tbody>\n",
       "</table>\n",
       "</div>"
      ],
      "text/plain": [
       "   income_bracket - Prediction\n",
       "0                            0\n",
       "1                            1\n",
       "2                            1\n",
       "3                            0\n",
       "4                            0\n",
       "5                            0\n",
       "6                            0\n",
       "7                            1\n",
       "8                            1\n",
       "9                            1"
      ]
     },
     "execution_count": 63,
     "metadata": {},
     "output_type": "execute_result"
    }
   ],
   "source": [
    "y_pred_inf_df = pd.DataFrame(y_inf_pred, columns=['income_bracket - Prediction'])\n",
    "y_pred_inf_df"
   ]
  },
  {
   "cell_type": "markdown",
   "metadata": {},
   "source": [
    "**Merge**"
   ]
  },
  {
   "cell_type": "code",
   "execution_count": 64,
   "metadata": {},
   "outputs": [
    {
     "data": {
      "text/html": [
       "<div>\n",
       "<style scoped>\n",
       "    .dataframe tbody tr th:only-of-type {\n",
       "        vertical-align: middle;\n",
       "    }\n",
       "\n",
       "    .dataframe tbody tr th {\n",
       "        vertical-align: top;\n",
       "    }\n",
       "\n",
       "    .dataframe thead th {\n",
       "        text-align: right;\n",
       "    }\n",
       "</style>\n",
       "<table border=\"1\" class=\"dataframe\">\n",
       "  <thead>\n",
       "    <tr style=\"text-align: right;\">\n",
       "      <th></th>\n",
       "      <th>age</th>\n",
       "      <th>workclass</th>\n",
       "      <th>education</th>\n",
       "      <th>education_num</th>\n",
       "      <th>marital_status</th>\n",
       "      <th>occupation</th>\n",
       "      <th>relationship</th>\n",
       "      <th>race</th>\n",
       "      <th>sex</th>\n",
       "      <th>capital_gain</th>\n",
       "      <th>capital_loss</th>\n",
       "      <th>hours_per_week</th>\n",
       "      <th>native_country</th>\n",
       "      <th>income_bracket</th>\n",
       "      <th>income_bracket - Prediction</th>\n",
       "    </tr>\n",
       "  </thead>\n",
       "  <tbody>\n",
       "    <tr>\n",
       "      <th>0</th>\n",
       "      <td>34</td>\n",
       "      <td>Private</td>\n",
       "      <td>HS-grad</td>\n",
       "      <td>9</td>\n",
       "      <td>Married-civ-spouse</td>\n",
       "      <td>Adm-clerical</td>\n",
       "      <td>Husband</td>\n",
       "      <td>White</td>\n",
       "      <td>Male</td>\n",
       "      <td>0</td>\n",
       "      <td>0</td>\n",
       "      <td>40</td>\n",
       "      <td>United-States</td>\n",
       "      <td>&lt;=50K</td>\n",
       "      <td>0</td>\n",
       "    </tr>\n",
       "    <tr>\n",
       "      <th>1</th>\n",
       "      <td>30</td>\n",
       "      <td>Private</td>\n",
       "      <td>Bachelors</td>\n",
       "      <td>13</td>\n",
       "      <td>Married-civ-spouse</td>\n",
       "      <td>Prof-specialty</td>\n",
       "      <td>Husband</td>\n",
       "      <td>White</td>\n",
       "      <td>Male</td>\n",
       "      <td>0</td>\n",
       "      <td>1740</td>\n",
       "      <td>45</td>\n",
       "      <td>United-States</td>\n",
       "      <td>&lt;=50K</td>\n",
       "      <td>1</td>\n",
       "    </tr>\n",
       "    <tr>\n",
       "      <th>2</th>\n",
       "      <td>44</td>\n",
       "      <td>Private</td>\n",
       "      <td>Bachelors</td>\n",
       "      <td>13</td>\n",
       "      <td>Married-civ-spouse</td>\n",
       "      <td>Transport-moving</td>\n",
       "      <td>Husband</td>\n",
       "      <td>White</td>\n",
       "      <td>Male</td>\n",
       "      <td>15024</td>\n",
       "      <td>0</td>\n",
       "      <td>55</td>\n",
       "      <td>United-States</td>\n",
       "      <td>&gt;50K</td>\n",
       "      <td>1</td>\n",
       "    </tr>\n",
       "    <tr>\n",
       "      <th>3</th>\n",
       "      <td>43</td>\n",
       "      <td>Private</td>\n",
       "      <td>Some-college</td>\n",
       "      <td>10</td>\n",
       "      <td>Married-civ-spouse</td>\n",
       "      <td>Craft-repair</td>\n",
       "      <td>Husband</td>\n",
       "      <td>White</td>\n",
       "      <td>Male</td>\n",
       "      <td>0</td>\n",
       "      <td>0</td>\n",
       "      <td>40</td>\n",
       "      <td>United-States</td>\n",
       "      <td>&gt;50K</td>\n",
       "      <td>0</td>\n",
       "    </tr>\n",
       "    <tr>\n",
       "      <th>4</th>\n",
       "      <td>22</td>\n",
       "      <td>Private</td>\n",
       "      <td>Some-college</td>\n",
       "      <td>10</td>\n",
       "      <td>Never-married</td>\n",
       "      <td>Prof-specialty</td>\n",
       "      <td>Own-child</td>\n",
       "      <td>White</td>\n",
       "      <td>Female</td>\n",
       "      <td>0</td>\n",
       "      <td>0</td>\n",
       "      <td>10</td>\n",
       "      <td>United-States</td>\n",
       "      <td>&lt;=50K</td>\n",
       "      <td>0</td>\n",
       "    </tr>\n",
       "    <tr>\n",
       "      <th>5</th>\n",
       "      <td>21</td>\n",
       "      <td>Private</td>\n",
       "      <td>Some-college</td>\n",
       "      <td>10</td>\n",
       "      <td>Never-married</td>\n",
       "      <td>Adm-clerical</td>\n",
       "      <td>Own-child</td>\n",
       "      <td>White</td>\n",
       "      <td>Male</td>\n",
       "      <td>0</td>\n",
       "      <td>0</td>\n",
       "      <td>20</td>\n",
       "      <td>United-States</td>\n",
       "      <td>&lt;=50K</td>\n",
       "      <td>0</td>\n",
       "    </tr>\n",
       "    <tr>\n",
       "      <th>6</th>\n",
       "      <td>46</td>\n",
       "      <td>Private</td>\n",
       "      <td>Assoc-acdm</td>\n",
       "      <td>12</td>\n",
       "      <td>Widowed</td>\n",
       "      <td>Prof-specialty</td>\n",
       "      <td>Unmarried</td>\n",
       "      <td>White</td>\n",
       "      <td>Female</td>\n",
       "      <td>0</td>\n",
       "      <td>0</td>\n",
       "      <td>27</td>\n",
       "      <td>United-States</td>\n",
       "      <td>&lt;=50K</td>\n",
       "      <td>0</td>\n",
       "    </tr>\n",
       "    <tr>\n",
       "      <th>7</th>\n",
       "      <td>44</td>\n",
       "      <td>Private</td>\n",
       "      <td>Bachelors</td>\n",
       "      <td>13</td>\n",
       "      <td>Married-civ-spouse</td>\n",
       "      <td>Prof-specialty</td>\n",
       "      <td>Husband</td>\n",
       "      <td>White</td>\n",
       "      <td>Male</td>\n",
       "      <td>0</td>\n",
       "      <td>1902</td>\n",
       "      <td>50</td>\n",
       "      <td>United-States</td>\n",
       "      <td>&gt;50K</td>\n",
       "      <td>1</td>\n",
       "    </tr>\n",
       "    <tr>\n",
       "      <th>8</th>\n",
       "      <td>53</td>\n",
       "      <td>Private</td>\n",
       "      <td>Masters</td>\n",
       "      <td>14</td>\n",
       "      <td>Married-civ-spouse</td>\n",
       "      <td>Exec-managerial</td>\n",
       "      <td>Husband</td>\n",
       "      <td>White</td>\n",
       "      <td>Male</td>\n",
       "      <td>0</td>\n",
       "      <td>1977</td>\n",
       "      <td>55</td>\n",
       "      <td>United-States</td>\n",
       "      <td>&gt;50K</td>\n",
       "      <td>1</td>\n",
       "    </tr>\n",
       "    <tr>\n",
       "      <th>9</th>\n",
       "      <td>48</td>\n",
       "      <td>Private</td>\n",
       "      <td>Bachelors</td>\n",
       "      <td>13</td>\n",
       "      <td>Divorced</td>\n",
       "      <td>Sales</td>\n",
       "      <td>Unmarried</td>\n",
       "      <td>White</td>\n",
       "      <td>Female</td>\n",
       "      <td>0</td>\n",
       "      <td>0</td>\n",
       "      <td>44</td>\n",
       "      <td>United-States</td>\n",
       "      <td>&lt;=50K</td>\n",
       "      <td>1</td>\n",
       "    </tr>\n",
       "  </tbody>\n",
       "</table>\n",
       "</div>"
      ],
      "text/plain": [
       "   age workclass      education  education_num       marital_status  \\\n",
       "0   34   Private        HS-grad              9   Married-civ-spouse   \n",
       "1   30   Private      Bachelors             13   Married-civ-spouse   \n",
       "2   44   Private      Bachelors             13   Married-civ-spouse   \n",
       "3   43   Private   Some-college             10   Married-civ-spouse   \n",
       "4   22   Private   Some-college             10        Never-married   \n",
       "5   21   Private   Some-college             10        Never-married   \n",
       "6   46   Private     Assoc-acdm             12              Widowed   \n",
       "7   44   Private      Bachelors             13   Married-civ-spouse   \n",
       "8   53   Private        Masters             14   Married-civ-spouse   \n",
       "9   48   Private      Bachelors             13             Divorced   \n",
       "\n",
       "          occupation relationship    race      sex  capital_gain  \\\n",
       "0       Adm-clerical      Husband   White     Male             0   \n",
       "1     Prof-specialty      Husband   White     Male             0   \n",
       "2   Transport-moving      Husband   White     Male         15024   \n",
       "3       Craft-repair      Husband   White     Male             0   \n",
       "4     Prof-specialty    Own-child   White   Female             0   \n",
       "5       Adm-clerical    Own-child   White     Male             0   \n",
       "6     Prof-specialty    Unmarried   White   Female             0   \n",
       "7     Prof-specialty      Husband   White     Male             0   \n",
       "8    Exec-managerial      Husband   White     Male             0   \n",
       "9              Sales    Unmarried   White   Female             0   \n",
       "\n",
       "   capital_loss  hours_per_week  native_country income_bracket  \\\n",
       "0             0              40   United-States          <=50K   \n",
       "1          1740              45   United-States          <=50K   \n",
       "2             0              55   United-States           >50K   \n",
       "3             0              40   United-States           >50K   \n",
       "4             0              10   United-States          <=50K   \n",
       "5             0              20   United-States          <=50K   \n",
       "6             0              27   United-States          <=50K   \n",
       "7          1902              50   United-States           >50K   \n",
       "8          1977              55   United-States           >50K   \n",
       "9             0              44   United-States          <=50K   \n",
       "\n",
       "   income_bracket - Prediction  \n",
       "0                            0  \n",
       "1                            1  \n",
       "2                            1  \n",
       "3                            0  \n",
       "4                            0  \n",
       "5                            0  \n",
       "6                            0  \n",
       "7                            1  \n",
       "8                            1  \n",
       "9                            1  "
      ]
     },
     "execution_count": 64,
     "metadata": {},
     "output_type": "execute_result"
    }
   ],
   "source": [
    "pd.concat([data_inf, y_pred_inf_df], axis=1)"
   ]
  },
  {
   "cell_type": "code",
   "execution_count": 65,
   "metadata": {},
   "outputs": [
    {
     "name": "stdout",
     "output_type": "stream",
     "text": [
      "Intercept :  [-1.34389561]\n",
      "Slope :  [[ 9.06027975  3.45592115  0.50590352  0.91247222  0.2842742  -0.11247423\n",
      "  -0.22632576  0.00908004 -0.17545863  0.09658557  0.45384989  0.01246445]]\n"
     ]
    }
   ],
   "source": [
    "intercept = model_logreg.intercept_\n",
    "slope = model_logreg.coef_\n",
    "\n",
    "print('Intercept : ', intercept)\n",
    "print('Slope : ', slope)"
   ]
  },
  {
   "cell_type": "markdown",
   "metadata": {},
   "source": [
    "## SVM"
   ]
  },
  {
   "cell_type": "code",
   "execution_count": 66,
   "metadata": {},
   "outputs": [
    {
     "data": {
      "text/plain": [
       "array([0, 1, 1, 0, 0, 0, 0, 1, 1, 0])"
      ]
     },
     "execution_count": 66,
     "metadata": {},
     "output_type": "execute_result"
    }
   ],
   "source": [
    "y_inf_pred1 = model_svm.predict(data_inf_final)\n",
    "y_inf_pred1"
   ]
  },
  {
   "cell_type": "code",
   "execution_count": 67,
   "metadata": {},
   "outputs": [
    {
     "data": {
      "text/html": [
       "<div>\n",
       "<style scoped>\n",
       "    .dataframe tbody tr th:only-of-type {\n",
       "        vertical-align: middle;\n",
       "    }\n",
       "\n",
       "    .dataframe tbody tr th {\n",
       "        vertical-align: top;\n",
       "    }\n",
       "\n",
       "    .dataframe thead th {\n",
       "        text-align: right;\n",
       "    }\n",
       "</style>\n",
       "<table border=\"1\" class=\"dataframe\">\n",
       "  <thead>\n",
       "    <tr style=\"text-align: right;\">\n",
       "      <th></th>\n",
       "      <th>income_bracket - Prediction</th>\n",
       "    </tr>\n",
       "  </thead>\n",
       "  <tbody>\n",
       "    <tr>\n",
       "      <th>0</th>\n",
       "      <td>0</td>\n",
       "    </tr>\n",
       "    <tr>\n",
       "      <th>1</th>\n",
       "      <td>1</td>\n",
       "    </tr>\n",
       "    <tr>\n",
       "      <th>2</th>\n",
       "      <td>1</td>\n",
       "    </tr>\n",
       "    <tr>\n",
       "      <th>3</th>\n",
       "      <td>0</td>\n",
       "    </tr>\n",
       "    <tr>\n",
       "      <th>4</th>\n",
       "      <td>0</td>\n",
       "    </tr>\n",
       "    <tr>\n",
       "      <th>5</th>\n",
       "      <td>0</td>\n",
       "    </tr>\n",
       "    <tr>\n",
       "      <th>6</th>\n",
       "      <td>0</td>\n",
       "    </tr>\n",
       "    <tr>\n",
       "      <th>7</th>\n",
       "      <td>1</td>\n",
       "    </tr>\n",
       "    <tr>\n",
       "      <th>8</th>\n",
       "      <td>1</td>\n",
       "    </tr>\n",
       "    <tr>\n",
       "      <th>9</th>\n",
       "      <td>0</td>\n",
       "    </tr>\n",
       "  </tbody>\n",
       "</table>\n",
       "</div>"
      ],
      "text/plain": [
       "   income_bracket - Prediction\n",
       "0                            0\n",
       "1                            1\n",
       "2                            1\n",
       "3                            0\n",
       "4                            0\n",
       "5                            0\n",
       "6                            0\n",
       "7                            1\n",
       "8                            1\n",
       "9                            0"
      ]
     },
     "execution_count": 67,
     "metadata": {},
     "output_type": "execute_result"
    }
   ],
   "source": [
    "y_pred_inf_df2 = pd.DataFrame(y_inf_pred1, columns=['income_bracket - Prediction'])\n",
    "y_pred_inf_df2"
   ]
  },
  {
   "cell_type": "code",
   "execution_count": 68,
   "metadata": {},
   "outputs": [
    {
     "data": {
      "text/html": [
       "<div>\n",
       "<style scoped>\n",
       "    .dataframe tbody tr th:only-of-type {\n",
       "        vertical-align: middle;\n",
       "    }\n",
       "\n",
       "    .dataframe tbody tr th {\n",
       "        vertical-align: top;\n",
       "    }\n",
       "\n",
       "    .dataframe thead th {\n",
       "        text-align: right;\n",
       "    }\n",
       "</style>\n",
       "<table border=\"1\" class=\"dataframe\">\n",
       "  <thead>\n",
       "    <tr style=\"text-align: right;\">\n",
       "      <th></th>\n",
       "      <th>age</th>\n",
       "      <th>workclass</th>\n",
       "      <th>education</th>\n",
       "      <th>education_num</th>\n",
       "      <th>marital_status</th>\n",
       "      <th>occupation</th>\n",
       "      <th>relationship</th>\n",
       "      <th>race</th>\n",
       "      <th>sex</th>\n",
       "      <th>capital_gain</th>\n",
       "      <th>capital_loss</th>\n",
       "      <th>hours_per_week</th>\n",
       "      <th>native_country</th>\n",
       "      <th>income_bracket</th>\n",
       "      <th>income_bracket - Prediction</th>\n",
       "    </tr>\n",
       "  </thead>\n",
       "  <tbody>\n",
       "    <tr>\n",
       "      <th>0</th>\n",
       "      <td>34</td>\n",
       "      <td>Private</td>\n",
       "      <td>HS-grad</td>\n",
       "      <td>9</td>\n",
       "      <td>Married-civ-spouse</td>\n",
       "      <td>Adm-clerical</td>\n",
       "      <td>Husband</td>\n",
       "      <td>White</td>\n",
       "      <td>Male</td>\n",
       "      <td>0</td>\n",
       "      <td>0</td>\n",
       "      <td>40</td>\n",
       "      <td>United-States</td>\n",
       "      <td>&lt;=50K</td>\n",
       "      <td>0</td>\n",
       "    </tr>\n",
       "    <tr>\n",
       "      <th>1</th>\n",
       "      <td>30</td>\n",
       "      <td>Private</td>\n",
       "      <td>Bachelors</td>\n",
       "      <td>13</td>\n",
       "      <td>Married-civ-spouse</td>\n",
       "      <td>Prof-specialty</td>\n",
       "      <td>Husband</td>\n",
       "      <td>White</td>\n",
       "      <td>Male</td>\n",
       "      <td>0</td>\n",
       "      <td>1740</td>\n",
       "      <td>45</td>\n",
       "      <td>United-States</td>\n",
       "      <td>&lt;=50K</td>\n",
       "      <td>1</td>\n",
       "    </tr>\n",
       "    <tr>\n",
       "      <th>2</th>\n",
       "      <td>44</td>\n",
       "      <td>Private</td>\n",
       "      <td>Bachelors</td>\n",
       "      <td>13</td>\n",
       "      <td>Married-civ-spouse</td>\n",
       "      <td>Transport-moving</td>\n",
       "      <td>Husband</td>\n",
       "      <td>White</td>\n",
       "      <td>Male</td>\n",
       "      <td>15024</td>\n",
       "      <td>0</td>\n",
       "      <td>55</td>\n",
       "      <td>United-States</td>\n",
       "      <td>&gt;50K</td>\n",
       "      <td>1</td>\n",
       "    </tr>\n",
       "    <tr>\n",
       "      <th>3</th>\n",
       "      <td>43</td>\n",
       "      <td>Private</td>\n",
       "      <td>Some-college</td>\n",
       "      <td>10</td>\n",
       "      <td>Married-civ-spouse</td>\n",
       "      <td>Craft-repair</td>\n",
       "      <td>Husband</td>\n",
       "      <td>White</td>\n",
       "      <td>Male</td>\n",
       "      <td>0</td>\n",
       "      <td>0</td>\n",
       "      <td>40</td>\n",
       "      <td>United-States</td>\n",
       "      <td>&gt;50K</td>\n",
       "      <td>0</td>\n",
       "    </tr>\n",
       "    <tr>\n",
       "      <th>4</th>\n",
       "      <td>22</td>\n",
       "      <td>Private</td>\n",
       "      <td>Some-college</td>\n",
       "      <td>10</td>\n",
       "      <td>Never-married</td>\n",
       "      <td>Prof-specialty</td>\n",
       "      <td>Own-child</td>\n",
       "      <td>White</td>\n",
       "      <td>Female</td>\n",
       "      <td>0</td>\n",
       "      <td>0</td>\n",
       "      <td>10</td>\n",
       "      <td>United-States</td>\n",
       "      <td>&lt;=50K</td>\n",
       "      <td>0</td>\n",
       "    </tr>\n",
       "    <tr>\n",
       "      <th>5</th>\n",
       "      <td>21</td>\n",
       "      <td>Private</td>\n",
       "      <td>Some-college</td>\n",
       "      <td>10</td>\n",
       "      <td>Never-married</td>\n",
       "      <td>Adm-clerical</td>\n",
       "      <td>Own-child</td>\n",
       "      <td>White</td>\n",
       "      <td>Male</td>\n",
       "      <td>0</td>\n",
       "      <td>0</td>\n",
       "      <td>20</td>\n",
       "      <td>United-States</td>\n",
       "      <td>&lt;=50K</td>\n",
       "      <td>0</td>\n",
       "    </tr>\n",
       "    <tr>\n",
       "      <th>6</th>\n",
       "      <td>46</td>\n",
       "      <td>Private</td>\n",
       "      <td>Assoc-acdm</td>\n",
       "      <td>12</td>\n",
       "      <td>Widowed</td>\n",
       "      <td>Prof-specialty</td>\n",
       "      <td>Unmarried</td>\n",
       "      <td>White</td>\n",
       "      <td>Female</td>\n",
       "      <td>0</td>\n",
       "      <td>0</td>\n",
       "      <td>27</td>\n",
       "      <td>United-States</td>\n",
       "      <td>&lt;=50K</td>\n",
       "      <td>0</td>\n",
       "    </tr>\n",
       "    <tr>\n",
       "      <th>7</th>\n",
       "      <td>44</td>\n",
       "      <td>Private</td>\n",
       "      <td>Bachelors</td>\n",
       "      <td>13</td>\n",
       "      <td>Married-civ-spouse</td>\n",
       "      <td>Prof-specialty</td>\n",
       "      <td>Husband</td>\n",
       "      <td>White</td>\n",
       "      <td>Male</td>\n",
       "      <td>0</td>\n",
       "      <td>1902</td>\n",
       "      <td>50</td>\n",
       "      <td>United-States</td>\n",
       "      <td>&gt;50K</td>\n",
       "      <td>1</td>\n",
       "    </tr>\n",
       "    <tr>\n",
       "      <th>8</th>\n",
       "      <td>53</td>\n",
       "      <td>Private</td>\n",
       "      <td>Masters</td>\n",
       "      <td>14</td>\n",
       "      <td>Married-civ-spouse</td>\n",
       "      <td>Exec-managerial</td>\n",
       "      <td>Husband</td>\n",
       "      <td>White</td>\n",
       "      <td>Male</td>\n",
       "      <td>0</td>\n",
       "      <td>1977</td>\n",
       "      <td>55</td>\n",
       "      <td>United-States</td>\n",
       "      <td>&gt;50K</td>\n",
       "      <td>1</td>\n",
       "    </tr>\n",
       "    <tr>\n",
       "      <th>9</th>\n",
       "      <td>48</td>\n",
       "      <td>Private</td>\n",
       "      <td>Bachelors</td>\n",
       "      <td>13</td>\n",
       "      <td>Divorced</td>\n",
       "      <td>Sales</td>\n",
       "      <td>Unmarried</td>\n",
       "      <td>White</td>\n",
       "      <td>Female</td>\n",
       "      <td>0</td>\n",
       "      <td>0</td>\n",
       "      <td>44</td>\n",
       "      <td>United-States</td>\n",
       "      <td>&lt;=50K</td>\n",
       "      <td>0</td>\n",
       "    </tr>\n",
       "  </tbody>\n",
       "</table>\n",
       "</div>"
      ],
      "text/plain": [
       "   age workclass      education  education_num       marital_status  \\\n",
       "0   34   Private        HS-grad              9   Married-civ-spouse   \n",
       "1   30   Private      Bachelors             13   Married-civ-spouse   \n",
       "2   44   Private      Bachelors             13   Married-civ-spouse   \n",
       "3   43   Private   Some-college             10   Married-civ-spouse   \n",
       "4   22   Private   Some-college             10        Never-married   \n",
       "5   21   Private   Some-college             10        Never-married   \n",
       "6   46   Private     Assoc-acdm             12              Widowed   \n",
       "7   44   Private      Bachelors             13   Married-civ-spouse   \n",
       "8   53   Private        Masters             14   Married-civ-spouse   \n",
       "9   48   Private      Bachelors             13             Divorced   \n",
       "\n",
       "          occupation relationship    race      sex  capital_gain  \\\n",
       "0       Adm-clerical      Husband   White     Male             0   \n",
       "1     Prof-specialty      Husband   White     Male             0   \n",
       "2   Transport-moving      Husband   White     Male         15024   \n",
       "3       Craft-repair      Husband   White     Male             0   \n",
       "4     Prof-specialty    Own-child   White   Female             0   \n",
       "5       Adm-clerical    Own-child   White     Male             0   \n",
       "6     Prof-specialty    Unmarried   White   Female             0   \n",
       "7     Prof-specialty      Husband   White     Male             0   \n",
       "8    Exec-managerial      Husband   White     Male             0   \n",
       "9              Sales    Unmarried   White   Female             0   \n",
       "\n",
       "   capital_loss  hours_per_week  native_country income_bracket  \\\n",
       "0             0              40   United-States          <=50K   \n",
       "1          1740              45   United-States          <=50K   \n",
       "2             0              55   United-States           >50K   \n",
       "3             0              40   United-States           >50K   \n",
       "4             0              10   United-States          <=50K   \n",
       "5             0              20   United-States          <=50K   \n",
       "6             0              27   United-States          <=50K   \n",
       "7          1902              50   United-States           >50K   \n",
       "8          1977              55   United-States           >50K   \n",
       "9             0              44   United-States          <=50K   \n",
       "\n",
       "   income_bracket - Prediction  \n",
       "0                            0  \n",
       "1                            1  \n",
       "2                            1  \n",
       "3                            0  \n",
       "4                            0  \n",
       "5                            0  \n",
       "6                            0  \n",
       "7                            1  \n",
       "8                            1  \n",
       "9                            0  "
      ]
     },
     "execution_count": 68,
     "metadata": {},
     "output_type": "execute_result"
    }
   ],
   "source": [
    "pd.concat([data_inf, y_pred_inf_df2], axis=1)"
   ]
  },
  {
   "cell_type": "code",
   "execution_count": 69,
   "metadata": {},
   "outputs": [
    {
     "name": "stdout",
     "output_type": "stream",
     "text": [
      "Intercept :  [-0.85735813]\n",
      "Slope :  [[ 2.24698927e+01  2.45560334e+00  2.40230938e-01  6.78526054e-01\n",
      "   2.00664266e-01 -6.64507706e-02 -1.16123627e-01 -2.81839904e-03\n",
      "  -1.61994022e-01  5.36784624e-02  1.49764443e-01  5.06103941e-03]]\n"
     ]
    }
   ],
   "source": [
    "intercept = model_svm.intercept_\n",
    "slope = model_svm.coef_\n",
    "\n",
    "print('Intercept : ', intercept)\n",
    "print('Slope : ', slope)"
   ]
  },
  {
   "cell_type": "markdown",
   "metadata": {},
   "source": [
    "----"
   ]
  },
  {
   "cell_type": "markdown",
   "metadata": {},
   "source": [
    "# **10. KESIMPULAN**"
   ]
  },
  {
   "cell_type": "markdown",
   "metadata": {},
   "source": [
    "## **EXPLORATORY DATA ANALYSIS (EDA)**"
   ]
  },
  {
   "cell_type": "markdown",
   "metadata": {},
   "source": [
    "- Terdapay imbalance yang cukup besar berdasarkan kolom `income_bracker`, terlihat bahwa golongan pendapatan kurang dari `50K` lebih banyak dibandingkan yang memiliki pendapatan lebih dari `50K`.\n",
    "- Berdasatkan rentang usia terlihat bahwa : \n",
    "\n",
    "- Seseorang yang mendapatkan `income bracket >50K terbanyak pada usia 46 tahun`\n",
    "- Seseorang yang mendapatkan `income bracket <50K terbanyak terletak pada usia 23 tahun`\n",
    "- Seseorang yang memiliki usia `21 tahun kebawah tidak memiliki income_bracket >50K`\n",
    "\n",
    "- Berdasarkan status pernikahan, terlihat yang memiliki status telah menikah lebih banyak memiliki `income bracket <=50K dan juga >50K` dibandingkan dengan status yang lain.\n",
    "\n",
    "- Berdasarkan pekerjaan, terlihat bahwa `Armed_forces` adalah pekerjaan dengan proporsi paling rendah berdasarkan `income_bracket` dibandingkan dengan jenis pekerjaan yang lain.\n",
    "\n",
    "- Berdasarkan relationship, terlihat bahwa `husband(suami)` memiliki pendapatan yang lebih banyak dibandingkan hubungan yang lian\n",
    "\n",
    "- Berdasarkan gender terlihat bahwa `pria` memiliki pendapatan lebih banyak pendapatan dibandingkan `wanita`. grafik ini mendukung pendapat kita sebelumnya dimana suami memiliki pendapatan yang lebih dibandingkan istri"
   ]
  },
  {
   "cell_type": "markdown",
   "metadata": {},
   "source": [
    "----"
   ]
  },
  {
   "cell_type": "markdown",
   "metadata": {},
   "source": [
    "## **LOGISTIC REGRESSION**"
   ]
  },
  {
   "cell_type": "markdown",
   "metadata": {},
   "source": [
    "> Hasil confussion matrix"
   ]
  },
  {
   "cell_type": "markdown",
   "metadata": {},
   "source": [
    "> - Prediksi `<=50` pada data set terlihat terprediksi benar sebanyak 2356 dan terprediksi salah 277\n",
    "> - Prediksi `>50` pada data set terlihat terprediksi benar sebanyak 634 dan terprediksi salah 594"
   ]
  },
  {
   "cell_type": "markdown",
   "metadata": {},
   "source": [
    "> Evaluasi model regresi dihasilkan"
   ]
  },
  {
   "cell_type": "markdown",
   "metadata": {},
   "source": [
    "classificasi report diatas telah diperoleh :\n",
    ">- Hasil akurasi antara y_test_cat_encoded dengan y_pred_test ialah 0.77 atau 77%\n",
    "\n",
    ">- Hasil prediksi income_bracker <=50K bernilai benar ialah 0.84 atau 84%\n",
    "\n",
    ">- Hasil prediksi income_bracker >50K bernilai benar ialah 0.84 atau 84%"
   ]
  },
  {
   "cell_type": "markdown",
   "metadata": {},
   "source": [
    "Persamaan linear menggunakan logistik regressi"
   ]
  },
  {
   "cell_type": "markdown",
   "metadata": {},
   "source": [
    "`y` = -1.34389561 + 9.06027975 age +  3.45592115 workclass + 0.50590352 education_num + 0.91247222 marital_status +  0.2842742 occupation - 0.11247423 relationship - 0.22632576 race + 0.00908004 sex - 0.17545863 capital_gain +\n",
    "0.09658557 capital_lose + 0.45384989 hours_per_week + 0.01246445 native_country"
   ]
  },
  {
   "cell_type": "markdown",
   "metadata": {},
   "source": [
    "## **SVM**"
   ]
  },
  {
   "cell_type": "markdown",
   "metadata": {},
   "source": [
    "> Berdasarkan convusion matrix diperoleh bahwa :\n",
    "- Kelas 0 (<=50) pada data set terprediksi benar sebanyak 2433 dan salah sebanyak 605\n",
    "- Kelas 1 (>50) pada data set terprediksi benar sebanyak 623 dan salah sebanyak 200"
   ]
  },
  {
   "cell_type": "markdown",
   "metadata": {},
   "source": [
    "> Berdasarkan klasifikasi report diperoleh\n",
    "- Presisi kelas 0 ialah 80% dan kelas 1 ialah 76%\n",
    "- recall kelas 0 ialah 92% dan kelas 1 ialah 51%\n",
    "- f-1 score kelas 0 ialah 86% dan kelas 1 ialah 61%"
   ]
  },
  {
   "cell_type": "markdown",
   "metadata": {},
   "source": [
    "> Intercept :  [-0.85735813]\n",
    "\n",
    "> Slope :  [[ 2.24698927e+01  2.45560334e+00  2.40230938e-01  6.78526054e-01\n",
    "   2.00664266e-01 -6.64507706e-02 -1.16123627e-01 -2.81839904e-03\n",
    "  -1.61994022e-01  5.36784624e-02  1.49764443e-01  5.06103941e-03]]"
   ]
  },
  {
   "cell_type": "markdown",
   "metadata": {},
   "source": [
    "> Persamaan linear menggunakan SVM"
   ]
  },
  {
   "cell_type": "markdown",
   "metadata": {},
   "source": [
    "`y` =  -0.85735813 + 2.24698927e+01 age +  2.45560334e+00 workclass +  2.40230938e-01 education_num +  6.78526054e-01 marital_status + 2.00664266e-01 occupation - 6.64507706e-02 relationship - 1.16123627e-01 race - 2.81839904e-03 sex + 1.61994022e-01 capital_gain + 5.36784624e-02 capital_loss + 1.49764443e-01 hours_per_week + 5.06103941e-03 native_country"
   ]
  },
  {
   "cell_type": "markdown",
   "metadata": {},
   "source": [
    "----"
   ]
  },
  {
   "cell_type": "markdown",
   "metadata": {},
   "source": [
    "**CONCEPTUAL PROBLEM** "
   ]
  },
  {
   "cell_type": "markdown",
   "metadata": {},
   "source": [
    "Jawab pertanyaan berikut:\n",
    "1. Apakah yang dimaksud dengan coeficient pada logistic regression?\n",
    "2. Apakah yang dimaksud dengan Support Vector pada SVM?\n",
    "3. Apakah fungsi parameter kernel pada SVM? Jelaskan salah satu kernel yang kalian pahami!"
   ]
  },
  {
   "cell_type": "markdown",
   "metadata": {},
   "source": [
    "Answere"
   ]
  },
  {
   "cell_type": "markdown",
   "metadata": {},
   "source": [
    "1. Coeficient pada logistic regresi menyatakan hubungan searah atau berbalik arah antara variabel independent dan variabel dependent. Jika positif maka hubunganya searah dan jika negatif maka hubungannya berbalik arah\n",
    "\n",
    "2. Margin diperoleh berdasarkan jarak terdekat antara decission bundary (garis pemisah) dengan anggota class yang ingin dipisahkan. Setiap anggota class yang berperan untuk menentukan margin dikenal sebagai `support vector`\n",
    "\n",
    "3. Kernel berfungsi untuk memproyeksikan data ke dimensi yang lebih tinggi. Adapun jenis-jenis kernel ialah polinomial, sigmoid, Radial Bias Function (RBF) dll. Kernel RBF adalah kernel default yang digunakan dalam algoritme klasifikasi SVM serta memiliki kemiripan dengan distribusi Gaussian. Adapun fungsi kernel RBF untuk dua titik X1 dan X2 ialah menghitung kesamaan atau seberapa dekat keduanya. Kernel RBF memiliki nilai maksimum ialah 1 dan terjadi jika nilai X1 = X2.Adapun kernel RBF menggunakan kurva normal di sekitar titik data dan menjumlahkanya sehingga keputusanya ditentukan dari jenis topologi kurva.  "
   ]
  }
 ],
 "metadata": {
  "interpreter": {
   "hash": "a90aeebcf29d64a654773811cc170cb25061cb2498f10ac689db374c7bf325de"
  },
  "kernelspec": {
   "display_name": "Python 3.9.7 ('base')",
   "language": "python",
   "name": "python3"
  },
  "language_info": {
   "codemirror_mode": {
    "name": "ipython",
    "version": 3
   },
   "file_extension": ".py",
   "mimetype": "text/x-python",
   "name": "python",
   "nbconvert_exporter": "python",
   "pygments_lexer": "ipython3",
   "version": "3.9.7"
  },
  "orig_nbformat": 4
 },
 "nbformat": 4,
 "nbformat_minor": 2
}
